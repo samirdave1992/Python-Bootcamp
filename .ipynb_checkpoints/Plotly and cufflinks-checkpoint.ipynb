{
 "cells": [
  {
   "cell_type": "code",
   "execution_count": 1,
   "metadata": {},
   "outputs": [
    {
     "name": "stdout",
     "output_type": "stream",
     "text": [
      "Collecting plotly\n",
      "  Downloading plotly-4.14.3-py2.py3-none-any.whl (13.2 MB)\n",
      "\u001b[K     |████████████████████████████████| 13.2 MB 3.7 MB/s eta 0:00:01\n",
      "\u001b[?25hCollecting retrying>=1.3.3\n",
      "  Downloading retrying-1.3.3.tar.gz (10 kB)\n",
      "Requirement already satisfied: six in /Users/Samir/opt/anaconda3/lib/python3.8/site-packages (from plotly) (1.15.0)\n",
      "Building wheels for collected packages: retrying\n",
      "  Building wheel for retrying (setup.py) ... \u001b[?25ldone\n",
      "\u001b[?25h  Created wheel for retrying: filename=retrying-1.3.3-py3-none-any.whl size=11429 sha256=8c0134f0ecf4830a9429d6cd659e0c40dde4945195bcdb39dd5245680e6207fb\n",
      "  Stored in directory: /Users/Samir/Library/Caches/pip/wheels/c4/a7/48/0a434133f6d56e878ca511c0e6c38326907c0792f67b476e56\n",
      "Successfully built retrying\n",
      "Installing collected packages: retrying, plotly\n",
      "Successfully installed plotly-4.14.3 retrying-1.3.3\n"
     ]
    }
   ],
   "source": [
    "#! pip install plotly\n"
   ]
  },
  {
   "cell_type": "code",
   "execution_count": 2,
   "metadata": {},
   "outputs": [
    {
     "name": "stdout",
     "output_type": "stream",
     "text": [
      "Collecting cufflinks\n",
      "  Downloading cufflinks-0.17.3.tar.gz (81 kB)\n",
      "\u001b[K     |████████████████████████████████| 81 kB 8.3 MB/s eta 0:00:011\n",
      "\u001b[?25hRequirement already satisfied: numpy>=1.9.2 in /Users/Samir/opt/anaconda3/lib/python3.8/site-packages (from cufflinks) (1.19.2)\n",
      "Requirement already satisfied: pandas>=0.19.2 in /Users/Samir/opt/anaconda3/lib/python3.8/site-packages (from cufflinks) (1.1.3)\n",
      "Requirement already satisfied: plotly>=4.1.1 in /Users/Samir/opt/anaconda3/lib/python3.8/site-packages (from cufflinks) (4.14.3)\n",
      "Requirement already satisfied: six>=1.9.0 in /Users/Samir/opt/anaconda3/lib/python3.8/site-packages (from cufflinks) (1.15.0)\n",
      "Collecting colorlover>=0.2.1\n",
      "  Downloading colorlover-0.3.0-py3-none-any.whl (8.9 kB)\n",
      "Requirement already satisfied: setuptools>=34.4.1 in /Users/Samir/opt/anaconda3/lib/python3.8/site-packages (from cufflinks) (50.3.1.post20201107)\n",
      "Requirement already satisfied: ipython>=5.3.0 in /Users/Samir/opt/anaconda3/lib/python3.8/site-packages (from cufflinks) (7.21.0)\n",
      "Requirement already satisfied: ipywidgets>=7.0.0 in /Users/Samir/opt/anaconda3/lib/python3.8/site-packages (from cufflinks) (7.5.1)\n",
      "Requirement already satisfied: pickleshare in /Users/Samir/opt/anaconda3/lib/python3.8/site-packages (from ipython>=5.3.0->cufflinks) (0.7.5)\n",
      "Requirement already satisfied: decorator in /Users/Samir/opt/anaconda3/lib/python3.8/site-packages (from ipython>=5.3.0->cufflinks) (4.4.2)\n",
      "Requirement already satisfied: prompt-toolkit!=3.0.0,!=3.0.1,<3.1.0,>=2.0.0 in /Users/Samir/opt/anaconda3/lib/python3.8/site-packages (from ipython>=5.3.0->cufflinks) (3.0.8)\n",
      "Requirement already satisfied: appnope in /Users/Samir/opt/anaconda3/lib/python3.8/site-packages (from ipython>=5.3.0->cufflinks) (0.1.0)\n",
      "Requirement already satisfied: backcall in /Users/Samir/opt/anaconda3/lib/python3.8/site-packages (from ipython>=5.3.0->cufflinks) (0.2.0)\n",
      "Requirement already satisfied: jedi>=0.16 in /Users/Samir/opt/anaconda3/lib/python3.8/site-packages (from ipython>=5.3.0->cufflinks) (0.17.1)\n",
      "Requirement already satisfied: pexpect>4.3 in /Users/Samir/opt/anaconda3/lib/python3.8/site-packages (from ipython>=5.3.0->cufflinks) (4.8.0)\n",
      "Requirement already satisfied: pygments in /Users/Samir/opt/anaconda3/lib/python3.8/site-packages (from ipython>=5.3.0->cufflinks) (2.7.2)\n",
      "Requirement already satisfied: traitlets>=4.2 in /Users/Samir/opt/anaconda3/lib/python3.8/site-packages (from ipython>=5.3.0->cufflinks) (5.0.5)\n",
      "Requirement already satisfied: ipykernel>=4.5.1 in /Users/Samir/opt/anaconda3/lib/python3.8/site-packages (from ipywidgets>=7.0.0->cufflinks) (5.3.4)\n",
      "Requirement already satisfied: nbformat>=4.2.0 in /Users/Samir/opt/anaconda3/lib/python3.8/site-packages (from ipywidgets>=7.0.0->cufflinks) (5.0.8)\n",
      "Requirement already satisfied: widgetsnbextension~=3.5.0 in /Users/Samir/opt/anaconda3/lib/python3.8/site-packages (from ipywidgets>=7.0.0->cufflinks) (3.5.1)\n",
      "Requirement already satisfied: jupyter-client in /Users/Samir/opt/anaconda3/lib/python3.8/site-packages (from ipykernel>=4.5.1->ipywidgets>=7.0.0->cufflinks) (6.1.7)\n",
      "Requirement already satisfied: tornado>=4.2 in /Users/Samir/opt/anaconda3/lib/python3.8/site-packages (from ipykernel>=4.5.1->ipywidgets>=7.0.0->cufflinks) (6.0.4)\n",
      "Requirement already satisfied: parso<0.8.0,>=0.7.0 in /Users/Samir/opt/anaconda3/lib/python3.8/site-packages (from jedi>=0.16->ipython>=5.3.0->cufflinks) (0.7.0)\n",
      "Requirement already satisfied: jupyter-core in /Users/Samir/opt/anaconda3/lib/python3.8/site-packages (from nbformat>=4.2.0->ipywidgets>=7.0.0->cufflinks) (4.6.3)\n",
      "Requirement already satisfied: jsonschema!=2.5.0,>=2.4 in /Users/Samir/opt/anaconda3/lib/python3.8/site-packages (from nbformat>=4.2.0->ipywidgets>=7.0.0->cufflinks) (3.2.0)\n",
      "Requirement already satisfied: ipython-genutils in /Users/Samir/opt/anaconda3/lib/python3.8/site-packages (from nbformat>=4.2.0->ipywidgets>=7.0.0->cufflinks) (0.2.0)\n",
      "Requirement already satisfied: pyrsistent>=0.14.0 in /Users/Samir/opt/anaconda3/lib/python3.8/site-packages (from jsonschema!=2.5.0,>=2.4->nbformat>=4.2.0->ipywidgets>=7.0.0->cufflinks) (0.17.3)\n",
      "Requirement already satisfied: attrs>=17.4.0 in /Users/Samir/opt/anaconda3/lib/python3.8/site-packages (from jsonschema!=2.5.0,>=2.4->nbformat>=4.2.0->ipywidgets>=7.0.0->cufflinks) (20.3.0)\n",
      "Requirement already satisfied: pytz>=2017.2 in /Users/Samir/opt/anaconda3/lib/python3.8/site-packages (from pandas>=0.19.2->cufflinks) (2020.1)\n",
      "Requirement already satisfied: python-dateutil>=2.7.3 in /Users/Samir/opt/anaconda3/lib/python3.8/site-packages (from pandas>=0.19.2->cufflinks) (2.8.1)\n",
      "Requirement already satisfied: ptyprocess>=0.5 in /Users/Samir/opt/anaconda3/lib/python3.8/site-packages (from pexpect>4.3->ipython>=5.3.0->cufflinks) (0.6.0)\n",
      "Requirement already satisfied: retrying>=1.3.3 in /Users/Samir/opt/anaconda3/lib/python3.8/site-packages (from plotly>=4.1.1->cufflinks) (1.3.3)\n",
      "Requirement already satisfied: wcwidth in /Users/Samir/opt/anaconda3/lib/python3.8/site-packages (from prompt-toolkit!=3.0.0,!=3.0.1,<3.1.0,>=2.0.0->ipython>=5.3.0->cufflinks) (0.2.5)\n",
      "Requirement already satisfied: notebook>=4.4.1 in /Users/Samir/opt/anaconda3/lib/python3.8/site-packages (from widgetsnbextension~=3.5.0->ipywidgets>=7.0.0->cufflinks) (6.1.4)\n",
      "Requirement already satisfied: pyzmq>=17 in /Users/Samir/opt/anaconda3/lib/python3.8/site-packages (from notebook>=4.4.1->widgetsnbextension~=3.5.0->ipywidgets>=7.0.0->cufflinks) (19.0.2)\n",
      "Requirement already satisfied: terminado>=0.8.3 in /Users/Samir/opt/anaconda3/lib/python3.8/site-packages (from notebook>=4.4.1->widgetsnbextension~=3.5.0->ipywidgets>=7.0.0->cufflinks) (0.9.1)\n",
      "Requirement already satisfied: jinja2 in /Users/Samir/opt/anaconda3/lib/python3.8/site-packages (from notebook>=4.4.1->widgetsnbextension~=3.5.0->ipywidgets>=7.0.0->cufflinks) (2.11.2)\n",
      "Requirement already satisfied: Send2Trash in /Users/Samir/opt/anaconda3/lib/python3.8/site-packages (from notebook>=4.4.1->widgetsnbextension~=3.5.0->ipywidgets>=7.0.0->cufflinks) (1.5.0)\n",
      "Requirement already satisfied: nbconvert in /Users/Samir/opt/anaconda3/lib/python3.8/site-packages (from notebook>=4.4.1->widgetsnbextension~=3.5.0->ipywidgets>=7.0.0->cufflinks) (6.0.7)\n",
      "Requirement already satisfied: prometheus-client in /Users/Samir/opt/anaconda3/lib/python3.8/site-packages (from notebook>=4.4.1->widgetsnbextension~=3.5.0->ipywidgets>=7.0.0->cufflinks) (0.8.0)\n",
      "Requirement already satisfied: argon2-cffi in /Users/Samir/opt/anaconda3/lib/python3.8/site-packages (from notebook>=4.4.1->widgetsnbextension~=3.5.0->ipywidgets>=7.0.0->cufflinks) (20.1.0)\n",
      "Requirement already satisfied: cffi>=1.0.0 in /Users/Samir/opt/anaconda3/lib/python3.8/site-packages (from argon2-cffi->notebook>=4.4.1->widgetsnbextension~=3.5.0->ipywidgets>=7.0.0->cufflinks) (1.14.3)\n",
      "Requirement already satisfied: pycparser in /Users/Samir/opt/anaconda3/lib/python3.8/site-packages (from cffi>=1.0.0->argon2-cffi->notebook>=4.4.1->widgetsnbextension~=3.5.0->ipywidgets>=7.0.0->cufflinks) (2.20)\n",
      "Requirement already satisfied: MarkupSafe>=0.23 in /Users/Samir/opt/anaconda3/lib/python3.8/site-packages (from jinja2->notebook>=4.4.1->widgetsnbextension~=3.5.0->ipywidgets>=7.0.0->cufflinks) (1.1.1)\n",
      "Requirement already satisfied: bleach in /Users/Samir/opt/anaconda3/lib/python3.8/site-packages (from nbconvert->notebook>=4.4.1->widgetsnbextension~=3.5.0->ipywidgets>=7.0.0->cufflinks) (3.2.1)\n",
      "Requirement already satisfied: entrypoints>=0.2.2 in /Users/Samir/opt/anaconda3/lib/python3.8/site-packages (from nbconvert->notebook>=4.4.1->widgetsnbextension~=3.5.0->ipywidgets>=7.0.0->cufflinks) (0.3)\n",
      "Requirement already satisfied: pandocfilters>=1.4.1 in /Users/Samir/opt/anaconda3/lib/python3.8/site-packages (from nbconvert->notebook>=4.4.1->widgetsnbextension~=3.5.0->ipywidgets>=7.0.0->cufflinks) (1.4.3)\n",
      "Requirement already satisfied: nbclient<0.6.0,>=0.5.0 in /Users/Samir/opt/anaconda3/lib/python3.8/site-packages (from nbconvert->notebook>=4.4.1->widgetsnbextension~=3.5.0->ipywidgets>=7.0.0->cufflinks) (0.5.1)\n",
      "Requirement already satisfied: testpath in /Users/Samir/opt/anaconda3/lib/python3.8/site-packages (from nbconvert->notebook>=4.4.1->widgetsnbextension~=3.5.0->ipywidgets>=7.0.0->cufflinks) (0.4.4)\n",
      "Requirement already satisfied: defusedxml in /Users/Samir/opt/anaconda3/lib/python3.8/site-packages (from nbconvert->notebook>=4.4.1->widgetsnbextension~=3.5.0->ipywidgets>=7.0.0->cufflinks) (0.6.0)\n",
      "Requirement already satisfied: mistune<2,>=0.8.1 in /Users/Samir/opt/anaconda3/lib/python3.8/site-packages (from nbconvert->notebook>=4.4.1->widgetsnbextension~=3.5.0->ipywidgets>=7.0.0->cufflinks) (0.8.4)\n",
      "Requirement already satisfied: jupyterlab-pygments in /Users/Samir/opt/anaconda3/lib/python3.8/site-packages (from nbconvert->notebook>=4.4.1->widgetsnbextension~=3.5.0->ipywidgets>=7.0.0->cufflinks) (0.1.2)\n"
     ]
    },
    {
     "name": "stdout",
     "output_type": "stream",
     "text": [
      "Requirement already satisfied: async-generator in /Users/Samir/opt/anaconda3/lib/python3.8/site-packages (from nbclient<0.6.0,>=0.5.0->nbconvert->notebook>=4.4.1->widgetsnbextension~=3.5.0->ipywidgets>=7.0.0->cufflinks) (1.10)\n",
      "Requirement already satisfied: nest-asyncio in /Users/Samir/opt/anaconda3/lib/python3.8/site-packages (from nbclient<0.6.0,>=0.5.0->nbconvert->notebook>=4.4.1->widgetsnbextension~=3.5.0->ipywidgets>=7.0.0->cufflinks) (1.4.2)\n",
      "Requirement already satisfied: webencodings in /Users/Samir/opt/anaconda3/lib/python3.8/site-packages (from bleach->nbconvert->notebook>=4.4.1->widgetsnbextension~=3.5.0->ipywidgets>=7.0.0->cufflinks) (0.5.1)\n",
      "Requirement already satisfied: packaging in /Users/Samir/opt/anaconda3/lib/python3.8/site-packages (from bleach->nbconvert->notebook>=4.4.1->widgetsnbextension~=3.5.0->ipywidgets>=7.0.0->cufflinks) (20.4)\n",
      "Requirement already satisfied: pyparsing>=2.0.2 in /Users/Samir/opt/anaconda3/lib/python3.8/site-packages (from packaging->bleach->nbconvert->notebook>=4.4.1->widgetsnbextension~=3.5.0->ipywidgets>=7.0.0->cufflinks) (2.4.7)\n",
      "Building wheels for collected packages: cufflinks\n",
      "  Building wheel for cufflinks (setup.py) ... \u001b[?25ldone\n",
      "\u001b[?25h  Created wheel for cufflinks: filename=cufflinks-0.17.3-py3-none-any.whl size=67921 sha256=c87d26e3e2928714d7b426e7fed94712fa107d83e2b0242f95f6f1717016c7ed\n",
      "  Stored in directory: /Users/Samir/Library/Caches/pip/wheels/6b/76/62/6da97734911ffcbdd559fd1a3f28526321f0ae699182a23866\n",
      "Successfully built cufflinks\n",
      "Installing collected packages: colorlover, cufflinks\n",
      "Successfully installed colorlover-0.3.0 cufflinks-0.17.3\n"
     ]
    }
   ],
   "source": [
    "#! pip install cufflinks"
   ]
  },
  {
   "cell_type": "code",
   "execution_count": 18,
   "metadata": {},
   "outputs": [],
   "source": [
    "import pandas as pd\n",
    "import numpy as np\n",
    "%matplotlib inline"
   ]
  },
  {
   "cell_type": "code",
   "execution_count": 4,
   "metadata": {},
   "outputs": [],
   "source": [
    "from plotly import __version__"
   ]
  },
  {
   "cell_type": "code",
   "execution_count": 6,
   "metadata": {},
   "outputs": [],
   "source": [
    "import cufflinks as cf"
   ]
  },
  {
   "cell_type": "code",
   "execution_count": 8,
   "metadata": {},
   "outputs": [],
   "source": [
    "from plotly.offline import download_plotlyjs,init_notebook_mode,plot,iplot"
   ]
  },
  {
   "cell_type": "code",
   "execution_count": 9,
   "metadata": {},
   "outputs": [
    {
     "data": {
      "text/html": [
       "        <script type=\"text/javascript\">\n",
       "        window.PlotlyConfig = {MathJaxConfig: 'local'};\n",
       "        if (window.MathJax) {MathJax.Hub.Config({SVG: {font: \"STIX-Web\"}});}\n",
       "        if (typeof require !== 'undefined') {\n",
       "        require.undef(\"plotly\");\n",
       "        requirejs.config({\n",
       "            paths: {\n",
       "                'plotly': ['https://cdn.plot.ly/plotly-latest.min']\n",
       "            }\n",
       "        });\n",
       "        require(['plotly'], function(Plotly) {\n",
       "            window._Plotly = Plotly;\n",
       "        });\n",
       "        }\n",
       "        </script>\n",
       "        "
      ]
     },
     "metadata": {},
     "output_type": "display_data"
    }
   ],
   "source": [
    "init_notebook_mode(connected=True)"
   ]
  },
  {
   "cell_type": "code",
   "execution_count": 11,
   "metadata": {},
   "outputs": [
    {
     "data": {
      "text/html": [
       "        <script type=\"text/javascript\">\n",
       "        window.PlotlyConfig = {MathJaxConfig: 'local'};\n",
       "        if (window.MathJax) {MathJax.Hub.Config({SVG: {font: \"STIX-Web\"}});}\n",
       "        if (typeof require !== 'undefined') {\n",
       "        require.undef(\"plotly\");\n",
       "        requirejs.config({\n",
       "            paths: {\n",
       "                'plotly': ['https://cdn.plot.ly/plotly-latest.min']\n",
       "            }\n",
       "        });\n",
       "        require(['plotly'], function(Plotly) {\n",
       "            window._Plotly = Plotly;\n",
       "        });\n",
       "        }\n",
       "        </script>\n",
       "        "
      ]
     },
     "metadata": {},
     "output_type": "display_data"
    }
   ],
   "source": [
    "cf.go_offline()"
   ]
  },
  {
   "cell_type": "code",
   "execution_count": 12,
   "metadata": {},
   "outputs": [],
   "source": [
    "df=pd.DataFrame(np.random.randn(100,4),columns='A B C D'.split())"
   ]
  },
  {
   "cell_type": "code",
   "execution_count": 14,
   "metadata": {},
   "outputs": [],
   "source": [
    "df2=pd.DataFrame({'Category':['A','B','C'],'Values':[32,44,56]})"
   ]
  },
  {
   "cell_type": "code",
   "execution_count": 16,
   "metadata": {},
   "outputs": [
    {
     "data": {
      "text/html": [
       "<div>\n",
       "<style scoped>\n",
       "    .dataframe tbody tr th:only-of-type {\n",
       "        vertical-align: middle;\n",
       "    }\n",
       "\n",
       "    .dataframe tbody tr th {\n",
       "        vertical-align: top;\n",
       "    }\n",
       "\n",
       "    .dataframe thead th {\n",
       "        text-align: right;\n",
       "    }\n",
       "</style>\n",
       "<table border=\"1\" class=\"dataframe\">\n",
       "  <thead>\n",
       "    <tr style=\"text-align: right;\">\n",
       "      <th></th>\n",
       "      <th>Category</th>\n",
       "      <th>Values</th>\n",
       "    </tr>\n",
       "  </thead>\n",
       "  <tbody>\n",
       "    <tr>\n",
       "      <th>0</th>\n",
       "      <td>A</td>\n",
       "      <td>32</td>\n",
       "    </tr>\n",
       "    <tr>\n",
       "      <th>1</th>\n",
       "      <td>B</td>\n",
       "      <td>44</td>\n",
       "    </tr>\n",
       "    <tr>\n",
       "      <th>2</th>\n",
       "      <td>C</td>\n",
       "      <td>56</td>\n",
       "    </tr>\n",
       "  </tbody>\n",
       "</table>\n",
       "</div>"
      ],
      "text/plain": [
       "  Category  Values\n",
       "0        A      32\n",
       "1        B      44\n",
       "2        C      56"
      ]
     },
     "execution_count": 16,
     "metadata": {},
     "output_type": "execute_result"
    }
   ],
   "source": [
    "df2"
   ]
  },
  {
   "cell_type": "code",
   "execution_count": 20,
   "metadata": {},
   "outputs": [
    {
     "data": {
      "application/vnd.plotly.v1+json": {
       "config": {
        "linkText": "Export to plot.ly",
        "plotlyServerURL": "https://plot.ly",
        "showLink": true
       },
       "data": [
        {
         "line": {
          "color": "rgba(255, 153, 51, 1.0)",
          "dash": "solid",
          "shape": "linear",
          "width": 1.3
         },
         "mode": "lines",
         "name": "A",
         "text": "",
         "type": "scatter",
         "x": [
          0,
          1,
          2,
          3,
          4,
          5,
          6,
          7,
          8,
          9,
          10,
          11,
          12,
          13,
          14,
          15,
          16,
          17,
          18,
          19,
          20,
          21,
          22,
          23,
          24,
          25,
          26,
          27,
          28,
          29,
          30,
          31,
          32,
          33,
          34,
          35,
          36,
          37,
          38,
          39,
          40,
          41,
          42,
          43,
          44,
          45,
          46,
          47,
          48,
          49,
          50,
          51,
          52,
          53,
          54,
          55,
          56,
          57,
          58,
          59,
          60,
          61,
          62,
          63,
          64,
          65,
          66,
          67,
          68,
          69,
          70,
          71,
          72,
          73,
          74,
          75,
          76,
          77,
          78,
          79,
          80,
          81,
          82,
          83,
          84,
          85,
          86,
          87,
          88,
          89,
          90,
          91,
          92,
          93,
          94,
          95,
          96,
          97,
          98,
          99
         ],
         "y": [
          0.20504070623313753,
          0.6286778475688474,
          -1.1946960815376417,
          -1.3183627315384152,
          0.7287269751944572,
          0.8722269481098422,
          -0.13166269309223982,
          -1.9357840606631018,
          0.4145336921882121,
          -0.6069916193966661,
          0.390215883251644,
          -0.45734674356014016,
          1.193349051418664,
          1.235556532466609,
          1.6291582358653538,
          1.1395764553378547,
          -0.010775928268597778,
          1.206843095845801,
          -0.9600146154713587,
          -0.966140199254339,
          0.19169949104174405,
          -0.14918790595603876,
          0.5686543373940673,
          -0.24045778518832012,
          0.6366295721983622,
          1.1522381506685453,
          1.9336345364130645,
          2.006996624653642,
          -0.023025978960075136,
          0.18993942931543212,
          -1.4296539266874184,
          0.43382004511192135,
          -0.7306127696972191,
          -0.05578944403470869,
          -0.08472001405877864,
          -0.1149714121493137,
          0.7358612175856649,
          -0.6923771671588429,
          -0.25387934755682223,
          -2.0722680287624553,
          -0.5165814241979004,
          1.6736494345930495,
          -0.5336323351896277,
          1.4616808532371586,
          1.2048074779808589,
          -1.2840849645974888,
          -0.17814633696158727,
          1.0474906379523012,
          0.38688412823874413,
          0.5918234597806681,
          -1.3531856261517683,
          0.24341156761558463,
          -0.7017222749850373,
          0.6123500849073915,
          -0.8479136012893379,
          1.531831449493807,
          -0.08902284414868179,
          -1.8178227460471446,
          -0.5109149743900608,
          -0.019596110540417384,
          -0.6983446018771495,
          2.1094904333757407,
          -0.6311966451758331,
          -0.7047558807060837,
          0.14788823265526901,
          1.3716817074401486,
          0.014617163284772135,
          -0.8243567459465074,
          0.3123554784595387,
          0.006117282091226412,
          -0.44574685438333156,
          0.19146184772892774,
          -0.510564268279504,
          0.8130753024382118,
          2.3632960388245143,
          2.116807945200409,
          -0.7750854668514382,
          1.1030058690899103,
          -1.0730902732448744,
          -0.7826004688457083,
          -0.19255772560734755,
          -1.6458945809351144,
          -1.149219201933772,
          0.06545680442591104,
          1.2970608422251297,
          0.3995935105107383,
          1.0046285769041494,
          2.6049159767101853,
          0.2648980896996127,
          -1.5712641398967868,
          -0.7776854787695353,
          0.21347068389058088,
          0.20585723656867927,
          1.9571203104075063,
          -0.6410346456022266,
          -0.9414275827775105,
          1.2276831536344308,
          -0.007015283300855964,
          0.23646616205819243,
          -1.2406348171165948
         ]
        },
        {
         "line": {
          "color": "rgba(55, 128, 191, 1.0)",
          "dash": "solid",
          "shape": "linear",
          "width": 1.3
         },
         "mode": "lines",
         "name": "B",
         "text": "",
         "type": "scatter",
         "x": [
          0,
          1,
          2,
          3,
          4,
          5,
          6,
          7,
          8,
          9,
          10,
          11,
          12,
          13,
          14,
          15,
          16,
          17,
          18,
          19,
          20,
          21,
          22,
          23,
          24,
          25,
          26,
          27,
          28,
          29,
          30,
          31,
          32,
          33,
          34,
          35,
          36,
          37,
          38,
          39,
          40,
          41,
          42,
          43,
          44,
          45,
          46,
          47,
          48,
          49,
          50,
          51,
          52,
          53,
          54,
          55,
          56,
          57,
          58,
          59,
          60,
          61,
          62,
          63,
          64,
          65,
          66,
          67,
          68,
          69,
          70,
          71,
          72,
          73,
          74,
          75,
          76,
          77,
          78,
          79,
          80,
          81,
          82,
          83,
          84,
          85,
          86,
          87,
          88,
          89,
          90,
          91,
          92,
          93,
          94,
          95,
          96,
          97,
          98,
          99
         ],
         "y": [
          -0.5439617119205455,
          -0.5704148841714516,
          -1.07662655822544,
          -0.8474093020614032,
          -0.4040721263713018,
          -0.22032162653824705,
          0.984810825036386,
          0.6459982295599839,
          0.9625977558237383,
          0.32961616491736717,
          -0.6383325120225408,
          1.7682720359532031,
          -0.7006348852403254,
          -0.2562716741210957,
          -1.2177123975522377,
          -0.16734060804219206,
          0.43907261092386024,
          -0.18906110667888334,
          1.1993281288587738,
          -0.20811431926451315,
          -1.0049310034719965,
          -0.22976703532601245,
          -0.13894060084069174,
          1.2275994471410943,
          1.342734485378966,
          1.1665077733710503,
          -0.5434498879083448,
          -0.4092649210874944,
          0.33338528689970426,
          0.7670594173207315,
          0.7872973798422225,
          -0.1606048434279647,
          0.2843664711766602,
          0.571068693668149,
          -3.086080376151923,
          -0.4849501045316944,
          0.7980458181885236,
          0.5868466116667443,
          -0.9166483893763678,
          -0.1704246184052833,
          0.22117865067943315,
          -1.3201080068609135,
          0.7568133206374094,
          2.4676468487452357,
          -1.068703071956845,
          -0.6291258641268789,
          1.163415410221566,
          -0.12339604673539196,
          0.9367836611456651,
          -0.24948621721976244,
          -1.1576699893858196,
          1.5757959197628753,
          0.27451804126694296,
          -0.3405120090081654,
          0.5495521734370964,
          1.0455429042100273,
          -1.132207339071681,
          1.2103819750274107,
          -0.6528387602045533,
          0.06822891946103009,
          0.10930141977857291,
          -1.1210045578232524,
          -0.37174364013106725,
          0.8746799851128227,
          0.01530574132809894,
          -1.5607767191556627,
          0.3083227911857838,
          -1.8757128537357166,
          -0.05906016862387303,
          0.6244298300094971,
          0.03480897073112098,
          -0.8132032260998618,
          0.40371608126509506,
          -0.5250713115573913,
          -0.3599740532761306,
          0.6436866021813002,
          0.10040758411756084,
          1.106344944184813,
          -1.164546239406862,
          -0.6021822918337024,
          0.24359876936141814,
          -0.2115220974504064,
          0.9546210335566907,
          -0.7064555912566168,
          0.8642221033273032,
          0.876847424360984,
          1.6238480437140206,
          0.004990774537376512,
          -0.14310145325778864,
          0.4816044490155595,
          -0.46065909217859663,
          -0.30586794082918434,
          0.8313503097531753,
          0.6402120611320695,
          0.026544256531318044,
          0.04778410984681494,
          -0.39801425662921003,
          0.16233095530239772,
          1.0638768169666544,
          1.0008761898429492
         ]
        },
        {
         "line": {
          "color": "rgba(50, 171, 96, 1.0)",
          "dash": "solid",
          "shape": "linear",
          "width": 1.3
         },
         "mode": "lines",
         "name": "C",
         "text": "",
         "type": "scatter",
         "x": [
          0,
          1,
          2,
          3,
          4,
          5,
          6,
          7,
          8,
          9,
          10,
          11,
          12,
          13,
          14,
          15,
          16,
          17,
          18,
          19,
          20,
          21,
          22,
          23,
          24,
          25,
          26,
          27,
          28,
          29,
          30,
          31,
          32,
          33,
          34,
          35,
          36,
          37,
          38,
          39,
          40,
          41,
          42,
          43,
          44,
          45,
          46,
          47,
          48,
          49,
          50,
          51,
          52,
          53,
          54,
          55,
          56,
          57,
          58,
          59,
          60,
          61,
          62,
          63,
          64,
          65,
          66,
          67,
          68,
          69,
          70,
          71,
          72,
          73,
          74,
          75,
          76,
          77,
          78,
          79,
          80,
          81,
          82,
          83,
          84,
          85,
          86,
          87,
          88,
          89,
          90,
          91,
          92,
          93,
          94,
          95,
          96,
          97,
          98,
          99
         ],
         "y": [
          0.5094294545126851,
          0.40320328228473257,
          -1.0451455220014838,
          1.9383884793219393,
          -1.1195269397610115,
          0.007417765090974777,
          0.0588735676736962,
          1.4486831838718595,
          0.6033313242291225,
          0.2749585077448684,
          -0.3975965848616199,
          0.40541201204441385,
          -0.5847945348136395,
          0.38849113522084433,
          0.20767229072108584,
          -1.240562416080876,
          0.039246829653464245,
          0.05941618583021419,
          0.9176614790601991,
          -0.35483232024577305,
          0.5078628782915157,
          -1.011774105600354,
          -0.1293450085950983,
          -0.8864371882344126,
          1.2943503030919112,
          -1.7673069248291902,
          2.0831647828343014,
          -0.43477937286446927,
          0.28146523719576355,
          0.5578602649896739,
          -1.5223462483028096,
          0.16964987149178934,
          -0.5500685263793943,
          1.0823050503075229,
          -0.22916823192201077,
          -0.38720631890992024,
          1.2661048221662239,
          0.20356760909533797,
          1.1423280831376215,
          -0.10808753431465522,
          -0.12024122233150104,
          -0.944575975802936,
          -0.013307573927293813,
          1.6694692642302944,
          0.6112119874177188,
          -0.3309763442652584,
          0.9368716650440161,
          0.23094685359448738,
          -1.0888193741475867,
          0.8649949026507499,
          0.07248175704709951,
          -1.3911871480567173,
          -0.41413527856674165,
          -0.35613451014051517,
          -0.37769709607996543,
          -0.9822669872550984,
          0.23265688962331718,
          0.4355067814591196,
          0.37808281394776455,
          -0.1688005200796566,
          0.16687394542556236,
          -1.3344462629664737,
          -1.775767484056754,
          -0.9198368168608252,
          -0.5866416401409374,
          0.5244749909215155,
          -0.8994138871176848,
          -1.036763269847553,
          -1.0610017578895294,
          -0.8086138339601849,
          -0.8380710319350305,
          -0.3388386019672623,
          -0.7302582534654624,
          -0.43943545041860654,
          -1.5543587253904214,
          -0.06978371605542653,
          -0.7403279458242567,
          -0.5477329264089507,
          -1.610404914345042,
          0.9036656673695966,
          -1.5524492653440827,
          -0.9325989144303676,
          -0.52836395382083,
          -0.23539265838494322,
          1.5416965399965687,
          1.5150559132967094,
          2.5553518227156022,
          0.9790630596152051,
          -0.14307144844543698,
          -0.5722196595441038,
          1.9600896240619718,
          -0.7740683236724355,
          -0.10869666985505544,
          1.0662098641450146,
          -1.6464091275492188,
          0.416733138747755,
          0.6633543695896578,
          -0.6354714080392322,
          1.230985010227931,
          1.4409767652468544
         ]
        },
        {
         "line": {
          "color": "rgba(128, 0, 128, 1.0)",
          "dash": "solid",
          "shape": "linear",
          "width": 1.3
         },
         "mode": "lines",
         "name": "D",
         "text": "",
         "type": "scatter",
         "x": [
          0,
          1,
          2,
          3,
          4,
          5,
          6,
          7,
          8,
          9,
          10,
          11,
          12,
          13,
          14,
          15,
          16,
          17,
          18,
          19,
          20,
          21,
          22,
          23,
          24,
          25,
          26,
          27,
          28,
          29,
          30,
          31,
          32,
          33,
          34,
          35,
          36,
          37,
          38,
          39,
          40,
          41,
          42,
          43,
          44,
          45,
          46,
          47,
          48,
          49,
          50,
          51,
          52,
          53,
          54,
          55,
          56,
          57,
          58,
          59,
          60,
          61,
          62,
          63,
          64,
          65,
          66,
          67,
          68,
          69,
          70,
          71,
          72,
          73,
          74,
          75,
          76,
          77,
          78,
          79,
          80,
          81,
          82,
          83,
          84,
          85,
          86,
          87,
          88,
          89,
          90,
          91,
          92,
          93,
          94,
          95,
          96,
          97,
          98,
          99
         ],
         "y": [
          0.11067701414348054,
          1.8995322956998326,
          -0.2458432394320379,
          0.5377429220354326,
          0.20514092068761897,
          -0.4514663180793488,
          -0.6610065764537998,
          -0.5946763351837933,
          1.5876322949070458,
          -0.20862401058171826,
          0.10297891792163133,
          -0.25281160262026575,
          1.3249904488014876,
          -1.0303524275737623,
          0.05413589918587864,
          0.6514994639942188,
          0.1315770990395898,
          -1.7768578130784867,
          1.2519732468659475,
          2.107801720963238,
          0.6909674782691879,
          -1.0064250239305974,
          -1.9594991074877397,
          0.44156126672412044,
          1.1459098863063357,
          -1.5562322953726708,
          0.4622382708065796,
          -1.6076151437644994,
          0.023769686156858132,
          0.04733610495736649,
          -1.533445919972331,
          -0.8636934273154958,
          0.08484793871903562,
          -0.6801334318750999,
          0.7680009659696321,
          -0.16175210609800422,
          0.09195939858467177,
          -0.5517240236977996,
          -1.4050124530469743,
          0.41037660662342135,
          -1.0066194398330242,
          -0.16519075830470628,
          0.3455839201011954,
          -0.49648252813217847,
          0.9893381965952037,
          0.9202340449177022,
          -1.609088491013758,
          -1.1661792742014891,
          1.5009193644049066,
          -1.8421251199077862,
          0.846903260879262,
          1.3998383755050907,
          -1.5369592967746193,
          -1.156017381011761,
          -1.1948483504514387,
          1.2453651729889548,
          0.4901348950358889,
          -0.6864804088570704,
          -1.7547217593509994,
          1.46449983691902,
          -1.3709815046087923,
          0.4945937199231569,
          0.0038774672810933148,
          -0.7643456565843362,
          1.3711319057385063,
          2.075066204594895,
          -0.702239330904679,
          0.32041187038173796,
          0.19623915605715292,
          -1.2142958877036816,
          -0.4414355039880014,
          0.3580277034823271,
          0.6039910831803721,
          -0.47911249354579066,
          0.8971916936619772,
          2.503852279487358,
          1.4154279334783628,
          1.2899348808855755,
          0.8726548065933118,
          -0.6015714943498202,
          -0.7296042880756058,
          0.847591722445797,
          0.2452950717858223,
          0.3652032510685531,
          -0.989541015638144,
          -1.0671712267739,
          -1.6527190854808906,
          0.2626568109183234,
          0.34444372031564013,
          0.2280548616843117,
          0.40378538957093785,
          1.1827357707762025,
          1.4498233707993315,
          -0.36968230700697885,
          0.833747934653397,
          0.8522650270956144,
          -0.4270004960378985,
          1.6668665772393771,
          -0.2928581882164255,
          -0.026452986206500582
         ]
        }
       ],
       "layout": {
        "legend": {
         "bgcolor": "#F5F6F9",
         "font": {
          "color": "#4D5663"
         }
        },
        "paper_bgcolor": "#F5F6F9",
        "plot_bgcolor": "#F5F6F9",
        "template": {
         "data": {
          "bar": [
           {
            "error_x": {
             "color": "#2a3f5f"
            },
            "error_y": {
             "color": "#2a3f5f"
            },
            "marker": {
             "line": {
              "color": "#E5ECF6",
              "width": 0.5
             }
            },
            "type": "bar"
           }
          ],
          "barpolar": [
           {
            "marker": {
             "line": {
              "color": "#E5ECF6",
              "width": 0.5
             }
            },
            "type": "barpolar"
           }
          ],
          "carpet": [
           {
            "aaxis": {
             "endlinecolor": "#2a3f5f",
             "gridcolor": "white",
             "linecolor": "white",
             "minorgridcolor": "white",
             "startlinecolor": "#2a3f5f"
            },
            "baxis": {
             "endlinecolor": "#2a3f5f",
             "gridcolor": "white",
             "linecolor": "white",
             "minorgridcolor": "white",
             "startlinecolor": "#2a3f5f"
            },
            "type": "carpet"
           }
          ],
          "choropleth": [
           {
            "colorbar": {
             "outlinewidth": 0,
             "ticks": ""
            },
            "type": "choropleth"
           }
          ],
          "contour": [
           {
            "colorbar": {
             "outlinewidth": 0,
             "ticks": ""
            },
            "colorscale": [
             [
              0,
              "#0d0887"
             ],
             [
              0.1111111111111111,
              "#46039f"
             ],
             [
              0.2222222222222222,
              "#7201a8"
             ],
             [
              0.3333333333333333,
              "#9c179e"
             ],
             [
              0.4444444444444444,
              "#bd3786"
             ],
             [
              0.5555555555555556,
              "#d8576b"
             ],
             [
              0.6666666666666666,
              "#ed7953"
             ],
             [
              0.7777777777777778,
              "#fb9f3a"
             ],
             [
              0.8888888888888888,
              "#fdca26"
             ],
             [
              1,
              "#f0f921"
             ]
            ],
            "type": "contour"
           }
          ],
          "contourcarpet": [
           {
            "colorbar": {
             "outlinewidth": 0,
             "ticks": ""
            },
            "type": "contourcarpet"
           }
          ],
          "heatmap": [
           {
            "colorbar": {
             "outlinewidth": 0,
             "ticks": ""
            },
            "colorscale": [
             [
              0,
              "#0d0887"
             ],
             [
              0.1111111111111111,
              "#46039f"
             ],
             [
              0.2222222222222222,
              "#7201a8"
             ],
             [
              0.3333333333333333,
              "#9c179e"
             ],
             [
              0.4444444444444444,
              "#bd3786"
             ],
             [
              0.5555555555555556,
              "#d8576b"
             ],
             [
              0.6666666666666666,
              "#ed7953"
             ],
             [
              0.7777777777777778,
              "#fb9f3a"
             ],
             [
              0.8888888888888888,
              "#fdca26"
             ],
             [
              1,
              "#f0f921"
             ]
            ],
            "type": "heatmap"
           }
          ],
          "heatmapgl": [
           {
            "colorbar": {
             "outlinewidth": 0,
             "ticks": ""
            },
            "colorscale": [
             [
              0,
              "#0d0887"
             ],
             [
              0.1111111111111111,
              "#46039f"
             ],
             [
              0.2222222222222222,
              "#7201a8"
             ],
             [
              0.3333333333333333,
              "#9c179e"
             ],
             [
              0.4444444444444444,
              "#bd3786"
             ],
             [
              0.5555555555555556,
              "#d8576b"
             ],
             [
              0.6666666666666666,
              "#ed7953"
             ],
             [
              0.7777777777777778,
              "#fb9f3a"
             ],
             [
              0.8888888888888888,
              "#fdca26"
             ],
             [
              1,
              "#f0f921"
             ]
            ],
            "type": "heatmapgl"
           }
          ],
          "histogram": [
           {
            "marker": {
             "colorbar": {
              "outlinewidth": 0,
              "ticks": ""
             }
            },
            "type": "histogram"
           }
          ],
          "histogram2d": [
           {
            "colorbar": {
             "outlinewidth": 0,
             "ticks": ""
            },
            "colorscale": [
             [
              0,
              "#0d0887"
             ],
             [
              0.1111111111111111,
              "#46039f"
             ],
             [
              0.2222222222222222,
              "#7201a8"
             ],
             [
              0.3333333333333333,
              "#9c179e"
             ],
             [
              0.4444444444444444,
              "#bd3786"
             ],
             [
              0.5555555555555556,
              "#d8576b"
             ],
             [
              0.6666666666666666,
              "#ed7953"
             ],
             [
              0.7777777777777778,
              "#fb9f3a"
             ],
             [
              0.8888888888888888,
              "#fdca26"
             ],
             [
              1,
              "#f0f921"
             ]
            ],
            "type": "histogram2d"
           }
          ],
          "histogram2dcontour": [
           {
            "colorbar": {
             "outlinewidth": 0,
             "ticks": ""
            },
            "colorscale": [
             [
              0,
              "#0d0887"
             ],
             [
              0.1111111111111111,
              "#46039f"
             ],
             [
              0.2222222222222222,
              "#7201a8"
             ],
             [
              0.3333333333333333,
              "#9c179e"
             ],
             [
              0.4444444444444444,
              "#bd3786"
             ],
             [
              0.5555555555555556,
              "#d8576b"
             ],
             [
              0.6666666666666666,
              "#ed7953"
             ],
             [
              0.7777777777777778,
              "#fb9f3a"
             ],
             [
              0.8888888888888888,
              "#fdca26"
             ],
             [
              1,
              "#f0f921"
             ]
            ],
            "type": "histogram2dcontour"
           }
          ],
          "mesh3d": [
           {
            "colorbar": {
             "outlinewidth": 0,
             "ticks": ""
            },
            "type": "mesh3d"
           }
          ],
          "parcoords": [
           {
            "line": {
             "colorbar": {
              "outlinewidth": 0,
              "ticks": ""
             }
            },
            "type": "parcoords"
           }
          ],
          "pie": [
           {
            "automargin": true,
            "type": "pie"
           }
          ],
          "scatter": [
           {
            "marker": {
             "colorbar": {
              "outlinewidth": 0,
              "ticks": ""
             }
            },
            "type": "scatter"
           }
          ],
          "scatter3d": [
           {
            "line": {
             "colorbar": {
              "outlinewidth": 0,
              "ticks": ""
             }
            },
            "marker": {
             "colorbar": {
              "outlinewidth": 0,
              "ticks": ""
             }
            },
            "type": "scatter3d"
           }
          ],
          "scattercarpet": [
           {
            "marker": {
             "colorbar": {
              "outlinewidth": 0,
              "ticks": ""
             }
            },
            "type": "scattercarpet"
           }
          ],
          "scattergeo": [
           {
            "marker": {
             "colorbar": {
              "outlinewidth": 0,
              "ticks": ""
             }
            },
            "type": "scattergeo"
           }
          ],
          "scattergl": [
           {
            "marker": {
             "colorbar": {
              "outlinewidth": 0,
              "ticks": ""
             }
            },
            "type": "scattergl"
           }
          ],
          "scattermapbox": [
           {
            "marker": {
             "colorbar": {
              "outlinewidth": 0,
              "ticks": ""
             }
            },
            "type": "scattermapbox"
           }
          ],
          "scatterpolar": [
           {
            "marker": {
             "colorbar": {
              "outlinewidth": 0,
              "ticks": ""
             }
            },
            "type": "scatterpolar"
           }
          ],
          "scatterpolargl": [
           {
            "marker": {
             "colorbar": {
              "outlinewidth": 0,
              "ticks": ""
             }
            },
            "type": "scatterpolargl"
           }
          ],
          "scatterternary": [
           {
            "marker": {
             "colorbar": {
              "outlinewidth": 0,
              "ticks": ""
             }
            },
            "type": "scatterternary"
           }
          ],
          "surface": [
           {
            "colorbar": {
             "outlinewidth": 0,
             "ticks": ""
            },
            "colorscale": [
             [
              0,
              "#0d0887"
             ],
             [
              0.1111111111111111,
              "#46039f"
             ],
             [
              0.2222222222222222,
              "#7201a8"
             ],
             [
              0.3333333333333333,
              "#9c179e"
             ],
             [
              0.4444444444444444,
              "#bd3786"
             ],
             [
              0.5555555555555556,
              "#d8576b"
             ],
             [
              0.6666666666666666,
              "#ed7953"
             ],
             [
              0.7777777777777778,
              "#fb9f3a"
             ],
             [
              0.8888888888888888,
              "#fdca26"
             ],
             [
              1,
              "#f0f921"
             ]
            ],
            "type": "surface"
           }
          ],
          "table": [
           {
            "cells": {
             "fill": {
              "color": "#EBF0F8"
             },
             "line": {
              "color": "white"
             }
            },
            "header": {
             "fill": {
              "color": "#C8D4E3"
             },
             "line": {
              "color": "white"
             }
            },
            "type": "table"
           }
          ]
         },
         "layout": {
          "annotationdefaults": {
           "arrowcolor": "#2a3f5f",
           "arrowhead": 0,
           "arrowwidth": 1
          },
          "autotypenumbers": "strict",
          "coloraxis": {
           "colorbar": {
            "outlinewidth": 0,
            "ticks": ""
           }
          },
          "colorscale": {
           "diverging": [
            [
             0,
             "#8e0152"
            ],
            [
             0.1,
             "#c51b7d"
            ],
            [
             0.2,
             "#de77ae"
            ],
            [
             0.3,
             "#f1b6da"
            ],
            [
             0.4,
             "#fde0ef"
            ],
            [
             0.5,
             "#f7f7f7"
            ],
            [
             0.6,
             "#e6f5d0"
            ],
            [
             0.7,
             "#b8e186"
            ],
            [
             0.8,
             "#7fbc41"
            ],
            [
             0.9,
             "#4d9221"
            ],
            [
             1,
             "#276419"
            ]
           ],
           "sequential": [
            [
             0,
             "#0d0887"
            ],
            [
             0.1111111111111111,
             "#46039f"
            ],
            [
             0.2222222222222222,
             "#7201a8"
            ],
            [
             0.3333333333333333,
             "#9c179e"
            ],
            [
             0.4444444444444444,
             "#bd3786"
            ],
            [
             0.5555555555555556,
             "#d8576b"
            ],
            [
             0.6666666666666666,
             "#ed7953"
            ],
            [
             0.7777777777777778,
             "#fb9f3a"
            ],
            [
             0.8888888888888888,
             "#fdca26"
            ],
            [
             1,
             "#f0f921"
            ]
           ],
           "sequentialminus": [
            [
             0,
             "#0d0887"
            ],
            [
             0.1111111111111111,
             "#46039f"
            ],
            [
             0.2222222222222222,
             "#7201a8"
            ],
            [
             0.3333333333333333,
             "#9c179e"
            ],
            [
             0.4444444444444444,
             "#bd3786"
            ],
            [
             0.5555555555555556,
             "#d8576b"
            ],
            [
             0.6666666666666666,
             "#ed7953"
            ],
            [
             0.7777777777777778,
             "#fb9f3a"
            ],
            [
             0.8888888888888888,
             "#fdca26"
            ],
            [
             1,
             "#f0f921"
            ]
           ]
          },
          "colorway": [
           "#636efa",
           "#EF553B",
           "#00cc96",
           "#ab63fa",
           "#FFA15A",
           "#19d3f3",
           "#FF6692",
           "#B6E880",
           "#FF97FF",
           "#FECB52"
          ],
          "font": {
           "color": "#2a3f5f"
          },
          "geo": {
           "bgcolor": "white",
           "lakecolor": "white",
           "landcolor": "#E5ECF6",
           "showlakes": true,
           "showland": true,
           "subunitcolor": "white"
          },
          "hoverlabel": {
           "align": "left"
          },
          "hovermode": "closest",
          "mapbox": {
           "style": "light"
          },
          "paper_bgcolor": "white",
          "plot_bgcolor": "#E5ECF6",
          "polar": {
           "angularaxis": {
            "gridcolor": "white",
            "linecolor": "white",
            "ticks": ""
           },
           "bgcolor": "#E5ECF6",
           "radialaxis": {
            "gridcolor": "white",
            "linecolor": "white",
            "ticks": ""
           }
          },
          "scene": {
           "xaxis": {
            "backgroundcolor": "#E5ECF6",
            "gridcolor": "white",
            "gridwidth": 2,
            "linecolor": "white",
            "showbackground": true,
            "ticks": "",
            "zerolinecolor": "white"
           },
           "yaxis": {
            "backgroundcolor": "#E5ECF6",
            "gridcolor": "white",
            "gridwidth": 2,
            "linecolor": "white",
            "showbackground": true,
            "ticks": "",
            "zerolinecolor": "white"
           },
           "zaxis": {
            "backgroundcolor": "#E5ECF6",
            "gridcolor": "white",
            "gridwidth": 2,
            "linecolor": "white",
            "showbackground": true,
            "ticks": "",
            "zerolinecolor": "white"
           }
          },
          "shapedefaults": {
           "line": {
            "color": "#2a3f5f"
           }
          },
          "ternary": {
           "aaxis": {
            "gridcolor": "white",
            "linecolor": "white",
            "ticks": ""
           },
           "baxis": {
            "gridcolor": "white",
            "linecolor": "white",
            "ticks": ""
           },
           "bgcolor": "#E5ECF6",
           "caxis": {
            "gridcolor": "white",
            "linecolor": "white",
            "ticks": ""
           }
          },
          "title": {
           "x": 0.05
          },
          "xaxis": {
           "automargin": true,
           "gridcolor": "white",
           "linecolor": "white",
           "ticks": "",
           "title": {
            "standoff": 15
           },
           "zerolinecolor": "white",
           "zerolinewidth": 2
          },
          "yaxis": {
           "automargin": true,
           "gridcolor": "white",
           "linecolor": "white",
           "ticks": "",
           "title": {
            "standoff": 15
           },
           "zerolinecolor": "white",
           "zerolinewidth": 2
          }
         }
        },
        "title": {
         "font": {
          "color": "#4D5663"
         }
        },
        "xaxis": {
         "gridcolor": "#E1E5ED",
         "showgrid": true,
         "tickfont": {
          "color": "#4D5663"
         },
         "title": {
          "font": {
           "color": "#4D5663"
          },
          "text": ""
         },
         "zerolinecolor": "#E1E5ED"
        },
        "yaxis": {
         "gridcolor": "#E1E5ED",
         "showgrid": true,
         "tickfont": {
          "color": "#4D5663"
         },
         "title": {
          "font": {
           "color": "#4D5663"
          },
          "text": ""
         },
         "zerolinecolor": "#E1E5ED"
        }
       }
      },
      "text/html": [
       "<div>                            <div id=\"9a183e1a-21e9-45ce-ac13-ad88c6b3cdb3\" class=\"plotly-graph-div\" style=\"height:525px; width:100%;\"></div>            <script type=\"text/javascript\">                require([\"plotly\"], function(Plotly) {                    window.PLOTLYENV=window.PLOTLYENV || {};\n",
       "                    window.PLOTLYENV.BASE_URL='https://plot.ly';                                    if (document.getElementById(\"9a183e1a-21e9-45ce-ac13-ad88c6b3cdb3\")) {                    Plotly.newPlot(                        \"9a183e1a-21e9-45ce-ac13-ad88c6b3cdb3\",                        [{\"line\": {\"color\": \"rgba(255, 153, 51, 1.0)\", \"dash\": \"solid\", \"shape\": \"linear\", \"width\": 1.3}, \"mode\": \"lines\", \"name\": \"A\", \"text\": \"\", \"type\": \"scatter\", \"x\": [0, 1, 2, 3, 4, 5, 6, 7, 8, 9, 10, 11, 12, 13, 14, 15, 16, 17, 18, 19, 20, 21, 22, 23, 24, 25, 26, 27, 28, 29, 30, 31, 32, 33, 34, 35, 36, 37, 38, 39, 40, 41, 42, 43, 44, 45, 46, 47, 48, 49, 50, 51, 52, 53, 54, 55, 56, 57, 58, 59, 60, 61, 62, 63, 64, 65, 66, 67, 68, 69, 70, 71, 72, 73, 74, 75, 76, 77, 78, 79, 80, 81, 82, 83, 84, 85, 86, 87, 88, 89, 90, 91, 92, 93, 94, 95, 96, 97, 98, 99], \"y\": [0.20504070623313753, 0.6286778475688474, -1.1946960815376417, -1.3183627315384152, 0.7287269751944572, 0.8722269481098422, -0.13166269309223982, -1.9357840606631018, 0.4145336921882121, -0.6069916193966661, 0.390215883251644, -0.45734674356014016, 1.193349051418664, 1.235556532466609, 1.6291582358653538, 1.1395764553378547, -0.010775928268597778, 1.206843095845801, -0.9600146154713587, -0.966140199254339, 0.19169949104174405, -0.14918790595603876, 0.5686543373940673, -0.24045778518832012, 0.6366295721983622, 1.1522381506685453, 1.9336345364130645, 2.006996624653642, -0.023025978960075136, 0.18993942931543212, -1.4296539266874184, 0.43382004511192135, -0.7306127696972191, -0.05578944403470869, -0.08472001405877864, -0.1149714121493137, 0.7358612175856649, -0.6923771671588429, -0.25387934755682223, -2.0722680287624553, -0.5165814241979004, 1.6736494345930495, -0.5336323351896277, 1.4616808532371586, 1.2048074779808589, -1.2840849645974888, -0.17814633696158727, 1.0474906379523012, 0.38688412823874413, 0.5918234597806681, -1.3531856261517683, 0.24341156761558463, -0.7017222749850373, 0.6123500849073915, -0.8479136012893379, 1.531831449493807, -0.08902284414868179, -1.8178227460471446, -0.5109149743900608, -0.019596110540417384, -0.6983446018771495, 2.1094904333757407, -0.6311966451758331, -0.7047558807060837, 0.14788823265526901, 1.3716817074401486, 0.014617163284772135, -0.8243567459465074, 0.3123554784595387, 0.006117282091226412, -0.44574685438333156, 0.19146184772892774, -0.510564268279504, 0.8130753024382118, 2.3632960388245143, 2.116807945200409, -0.7750854668514382, 1.1030058690899103, -1.0730902732448744, -0.7826004688457083, -0.19255772560734755, -1.6458945809351144, -1.149219201933772, 0.06545680442591104, 1.2970608422251297, 0.3995935105107383, 1.0046285769041494, 2.6049159767101853, 0.2648980896996127, -1.5712641398967868, -0.7776854787695353, 0.21347068389058088, 0.20585723656867927, 1.9571203104075063, -0.6410346456022266, -0.9414275827775105, 1.2276831536344308, -0.007015283300855964, 0.23646616205819243, -1.2406348171165948]}, {\"line\": {\"color\": \"rgba(55, 128, 191, 1.0)\", \"dash\": \"solid\", \"shape\": \"linear\", \"width\": 1.3}, \"mode\": \"lines\", \"name\": \"B\", \"text\": \"\", \"type\": \"scatter\", \"x\": [0, 1, 2, 3, 4, 5, 6, 7, 8, 9, 10, 11, 12, 13, 14, 15, 16, 17, 18, 19, 20, 21, 22, 23, 24, 25, 26, 27, 28, 29, 30, 31, 32, 33, 34, 35, 36, 37, 38, 39, 40, 41, 42, 43, 44, 45, 46, 47, 48, 49, 50, 51, 52, 53, 54, 55, 56, 57, 58, 59, 60, 61, 62, 63, 64, 65, 66, 67, 68, 69, 70, 71, 72, 73, 74, 75, 76, 77, 78, 79, 80, 81, 82, 83, 84, 85, 86, 87, 88, 89, 90, 91, 92, 93, 94, 95, 96, 97, 98, 99], \"y\": [-0.5439617119205455, -0.5704148841714516, -1.07662655822544, -0.8474093020614032, -0.4040721263713018, -0.22032162653824705, 0.984810825036386, 0.6459982295599839, 0.9625977558237383, 0.32961616491736717, -0.6383325120225408, 1.7682720359532031, -0.7006348852403254, -0.2562716741210957, -1.2177123975522377, -0.16734060804219206, 0.43907261092386024, -0.18906110667888334, 1.1993281288587738, -0.20811431926451315, -1.0049310034719965, -0.22976703532601245, -0.13894060084069174, 1.2275994471410943, 1.342734485378966, 1.1665077733710503, -0.5434498879083448, -0.4092649210874944, 0.33338528689970426, 0.7670594173207315, 0.7872973798422225, -0.1606048434279647, 0.2843664711766602, 0.571068693668149, -3.086080376151923, -0.4849501045316944, 0.7980458181885236, 0.5868466116667443, -0.9166483893763678, -0.1704246184052833, 0.22117865067943315, -1.3201080068609135, 0.7568133206374094, 2.4676468487452357, -1.068703071956845, -0.6291258641268789, 1.163415410221566, -0.12339604673539196, 0.9367836611456651, -0.24948621721976244, -1.1576699893858196, 1.5757959197628753, 0.27451804126694296, -0.3405120090081654, 0.5495521734370964, 1.0455429042100273, -1.132207339071681, 1.2103819750274107, -0.6528387602045533, 0.06822891946103009, 0.10930141977857291, -1.1210045578232524, -0.37174364013106725, 0.8746799851128227, 0.01530574132809894, -1.5607767191556627, 0.3083227911857838, -1.8757128537357166, -0.05906016862387303, 0.6244298300094971, 0.03480897073112098, -0.8132032260998618, 0.40371608126509506, -0.5250713115573913, -0.3599740532761306, 0.6436866021813002, 0.10040758411756084, 1.106344944184813, -1.164546239406862, -0.6021822918337024, 0.24359876936141814, -0.2115220974504064, 0.9546210335566907, -0.7064555912566168, 0.8642221033273032, 0.876847424360984, 1.6238480437140206, 0.004990774537376512, -0.14310145325778864, 0.4816044490155595, -0.46065909217859663, -0.30586794082918434, 0.8313503097531753, 0.6402120611320695, 0.026544256531318044, 0.04778410984681494, -0.39801425662921003, 0.16233095530239772, 1.0638768169666544, 1.0008761898429492]}, {\"line\": {\"color\": \"rgba(50, 171, 96, 1.0)\", \"dash\": \"solid\", \"shape\": \"linear\", \"width\": 1.3}, \"mode\": \"lines\", \"name\": \"C\", \"text\": \"\", \"type\": \"scatter\", \"x\": [0, 1, 2, 3, 4, 5, 6, 7, 8, 9, 10, 11, 12, 13, 14, 15, 16, 17, 18, 19, 20, 21, 22, 23, 24, 25, 26, 27, 28, 29, 30, 31, 32, 33, 34, 35, 36, 37, 38, 39, 40, 41, 42, 43, 44, 45, 46, 47, 48, 49, 50, 51, 52, 53, 54, 55, 56, 57, 58, 59, 60, 61, 62, 63, 64, 65, 66, 67, 68, 69, 70, 71, 72, 73, 74, 75, 76, 77, 78, 79, 80, 81, 82, 83, 84, 85, 86, 87, 88, 89, 90, 91, 92, 93, 94, 95, 96, 97, 98, 99], \"y\": [0.5094294545126851, 0.40320328228473257, -1.0451455220014838, 1.9383884793219393, -1.1195269397610115, 0.007417765090974777, 0.0588735676736962, 1.4486831838718595, 0.6033313242291225, 0.2749585077448684, -0.3975965848616199, 0.40541201204441385, -0.5847945348136395, 0.38849113522084433, 0.20767229072108584, -1.240562416080876, 0.039246829653464245, 0.05941618583021419, 0.9176614790601991, -0.35483232024577305, 0.5078628782915157, -1.011774105600354, -0.1293450085950983, -0.8864371882344126, 1.2943503030919112, -1.7673069248291902, 2.0831647828343014, -0.43477937286446927, 0.28146523719576355, 0.5578602649896739, -1.5223462483028096, 0.16964987149178934, -0.5500685263793943, 1.0823050503075229, -0.22916823192201077, -0.38720631890992024, 1.2661048221662239, 0.20356760909533797, 1.1423280831376215, -0.10808753431465522, -0.12024122233150104, -0.944575975802936, -0.013307573927293813, 1.6694692642302944, 0.6112119874177188, -0.3309763442652584, 0.9368716650440161, 0.23094685359448738, -1.0888193741475867, 0.8649949026507499, 0.07248175704709951, -1.3911871480567173, -0.41413527856674165, -0.35613451014051517, -0.37769709607996543, -0.9822669872550984, 0.23265688962331718, 0.4355067814591196, 0.37808281394776455, -0.1688005200796566, 0.16687394542556236, -1.3344462629664737, -1.775767484056754, -0.9198368168608252, -0.5866416401409374, 0.5244749909215155, -0.8994138871176848, -1.036763269847553, -1.0610017578895294, -0.8086138339601849, -0.8380710319350305, -0.3388386019672623, -0.7302582534654624, -0.43943545041860654, -1.5543587253904214, -0.06978371605542653, -0.7403279458242567, -0.5477329264089507, -1.610404914345042, 0.9036656673695966, -1.5524492653440827, -0.9325989144303676, -0.52836395382083, -0.23539265838494322, 1.5416965399965687, 1.5150559132967094, 2.5553518227156022, 0.9790630596152051, -0.14307144844543698, -0.5722196595441038, 1.9600896240619718, -0.7740683236724355, -0.10869666985505544, 1.0662098641450146, -1.6464091275492188, 0.416733138747755, 0.6633543695896578, -0.6354714080392322, 1.230985010227931, 1.4409767652468544]}, {\"line\": {\"color\": \"rgba(128, 0, 128, 1.0)\", \"dash\": \"solid\", \"shape\": \"linear\", \"width\": 1.3}, \"mode\": \"lines\", \"name\": \"D\", \"text\": \"\", \"type\": \"scatter\", \"x\": [0, 1, 2, 3, 4, 5, 6, 7, 8, 9, 10, 11, 12, 13, 14, 15, 16, 17, 18, 19, 20, 21, 22, 23, 24, 25, 26, 27, 28, 29, 30, 31, 32, 33, 34, 35, 36, 37, 38, 39, 40, 41, 42, 43, 44, 45, 46, 47, 48, 49, 50, 51, 52, 53, 54, 55, 56, 57, 58, 59, 60, 61, 62, 63, 64, 65, 66, 67, 68, 69, 70, 71, 72, 73, 74, 75, 76, 77, 78, 79, 80, 81, 82, 83, 84, 85, 86, 87, 88, 89, 90, 91, 92, 93, 94, 95, 96, 97, 98, 99], \"y\": [0.11067701414348054, 1.8995322956998326, -0.2458432394320379, 0.5377429220354326, 0.20514092068761897, -0.4514663180793488, -0.6610065764537998, -0.5946763351837933, 1.5876322949070458, -0.20862401058171826, 0.10297891792163133, -0.25281160262026575, 1.3249904488014876, -1.0303524275737623, 0.05413589918587864, 0.6514994639942188, 0.1315770990395898, -1.7768578130784867, 1.2519732468659475, 2.107801720963238, 0.6909674782691879, -1.0064250239305974, -1.9594991074877397, 0.44156126672412044, 1.1459098863063357, -1.5562322953726708, 0.4622382708065796, -1.6076151437644994, 0.023769686156858132, 0.04733610495736649, -1.533445919972331, -0.8636934273154958, 0.08484793871903562, -0.6801334318750999, 0.7680009659696321, -0.16175210609800422, 0.09195939858467177, -0.5517240236977996, -1.4050124530469743, 0.41037660662342135, -1.0066194398330242, -0.16519075830470628, 0.3455839201011954, -0.49648252813217847, 0.9893381965952037, 0.9202340449177022, -1.609088491013758, -1.1661792742014891, 1.5009193644049066, -1.8421251199077862, 0.846903260879262, 1.3998383755050907, -1.5369592967746193, -1.156017381011761, -1.1948483504514387, 1.2453651729889548, 0.4901348950358889, -0.6864804088570704, -1.7547217593509994, 1.46449983691902, -1.3709815046087923, 0.4945937199231569, 0.0038774672810933148, -0.7643456565843362, 1.3711319057385063, 2.075066204594895, -0.702239330904679, 0.32041187038173796, 0.19623915605715292, -1.2142958877036816, -0.4414355039880014, 0.3580277034823271, 0.6039910831803721, -0.47911249354579066, 0.8971916936619772, 2.503852279487358, 1.4154279334783628, 1.2899348808855755, 0.8726548065933118, -0.6015714943498202, -0.7296042880756058, 0.847591722445797, 0.2452950717858223, 0.3652032510685531, -0.989541015638144, -1.0671712267739, -1.6527190854808906, 0.2626568109183234, 0.34444372031564013, 0.2280548616843117, 0.40378538957093785, 1.1827357707762025, 1.4498233707993315, -0.36968230700697885, 0.833747934653397, 0.8522650270956144, -0.4270004960378985, 1.6668665772393771, -0.2928581882164255, -0.026452986206500582]}],                        {\"legend\": {\"bgcolor\": \"#F5F6F9\", \"font\": {\"color\": \"#4D5663\"}}, \"paper_bgcolor\": \"#F5F6F9\", \"plot_bgcolor\": \"#F5F6F9\", \"template\": {\"data\": {\"bar\": [{\"error_x\": {\"color\": \"#2a3f5f\"}, \"error_y\": {\"color\": \"#2a3f5f\"}, \"marker\": {\"line\": {\"color\": \"#E5ECF6\", \"width\": 0.5}}, \"type\": \"bar\"}], \"barpolar\": [{\"marker\": {\"line\": {\"color\": \"#E5ECF6\", \"width\": 0.5}}, \"type\": \"barpolar\"}], \"carpet\": [{\"aaxis\": {\"endlinecolor\": \"#2a3f5f\", \"gridcolor\": \"white\", \"linecolor\": \"white\", \"minorgridcolor\": \"white\", \"startlinecolor\": \"#2a3f5f\"}, \"baxis\": {\"endlinecolor\": \"#2a3f5f\", \"gridcolor\": \"white\", \"linecolor\": \"white\", \"minorgridcolor\": \"white\", \"startlinecolor\": \"#2a3f5f\"}, \"type\": \"carpet\"}], \"choropleth\": [{\"colorbar\": {\"outlinewidth\": 0, \"ticks\": \"\"}, \"type\": \"choropleth\"}], \"contour\": [{\"colorbar\": {\"outlinewidth\": 0, \"ticks\": \"\"}, \"colorscale\": [[0.0, \"#0d0887\"], [0.1111111111111111, \"#46039f\"], [0.2222222222222222, \"#7201a8\"], [0.3333333333333333, \"#9c179e\"], [0.4444444444444444, \"#bd3786\"], [0.5555555555555556, \"#d8576b\"], [0.6666666666666666, \"#ed7953\"], [0.7777777777777778, \"#fb9f3a\"], [0.8888888888888888, \"#fdca26\"], [1.0, \"#f0f921\"]], \"type\": \"contour\"}], \"contourcarpet\": [{\"colorbar\": {\"outlinewidth\": 0, \"ticks\": \"\"}, \"type\": \"contourcarpet\"}], \"heatmap\": [{\"colorbar\": {\"outlinewidth\": 0, \"ticks\": \"\"}, \"colorscale\": [[0.0, \"#0d0887\"], [0.1111111111111111, \"#46039f\"], [0.2222222222222222, \"#7201a8\"], [0.3333333333333333, \"#9c179e\"], [0.4444444444444444, \"#bd3786\"], [0.5555555555555556, \"#d8576b\"], [0.6666666666666666, \"#ed7953\"], [0.7777777777777778, \"#fb9f3a\"], [0.8888888888888888, \"#fdca26\"], [1.0, \"#f0f921\"]], \"type\": \"heatmap\"}], \"heatmapgl\": [{\"colorbar\": {\"outlinewidth\": 0, \"ticks\": \"\"}, \"colorscale\": [[0.0, \"#0d0887\"], [0.1111111111111111, \"#46039f\"], [0.2222222222222222, \"#7201a8\"], [0.3333333333333333, \"#9c179e\"], [0.4444444444444444, \"#bd3786\"], [0.5555555555555556, \"#d8576b\"], [0.6666666666666666, \"#ed7953\"], [0.7777777777777778, \"#fb9f3a\"], [0.8888888888888888, \"#fdca26\"], [1.0, \"#f0f921\"]], \"type\": \"heatmapgl\"}], \"histogram\": [{\"marker\": {\"colorbar\": {\"outlinewidth\": 0, \"ticks\": \"\"}}, \"type\": \"histogram\"}], \"histogram2d\": [{\"colorbar\": {\"outlinewidth\": 0, \"ticks\": \"\"}, \"colorscale\": [[0.0, \"#0d0887\"], [0.1111111111111111, \"#46039f\"], [0.2222222222222222, \"#7201a8\"], [0.3333333333333333, \"#9c179e\"], [0.4444444444444444, \"#bd3786\"], [0.5555555555555556, \"#d8576b\"], [0.6666666666666666, \"#ed7953\"], [0.7777777777777778, \"#fb9f3a\"], [0.8888888888888888, \"#fdca26\"], [1.0, \"#f0f921\"]], \"type\": \"histogram2d\"}], \"histogram2dcontour\": [{\"colorbar\": {\"outlinewidth\": 0, \"ticks\": \"\"}, \"colorscale\": [[0.0, \"#0d0887\"], [0.1111111111111111, \"#46039f\"], [0.2222222222222222, \"#7201a8\"], [0.3333333333333333, \"#9c179e\"], [0.4444444444444444, \"#bd3786\"], [0.5555555555555556, \"#d8576b\"], [0.6666666666666666, \"#ed7953\"], [0.7777777777777778, \"#fb9f3a\"], [0.8888888888888888, \"#fdca26\"], [1.0, \"#f0f921\"]], \"type\": \"histogram2dcontour\"}], \"mesh3d\": [{\"colorbar\": {\"outlinewidth\": 0, \"ticks\": \"\"}, \"type\": \"mesh3d\"}], \"parcoords\": [{\"line\": {\"colorbar\": {\"outlinewidth\": 0, \"ticks\": \"\"}}, \"type\": \"parcoords\"}], \"pie\": [{\"automargin\": true, \"type\": \"pie\"}], \"scatter\": [{\"marker\": {\"colorbar\": {\"outlinewidth\": 0, \"ticks\": \"\"}}, \"type\": \"scatter\"}], \"scatter3d\": [{\"line\": {\"colorbar\": {\"outlinewidth\": 0, \"ticks\": \"\"}}, \"marker\": {\"colorbar\": {\"outlinewidth\": 0, \"ticks\": \"\"}}, \"type\": \"scatter3d\"}], \"scattercarpet\": [{\"marker\": {\"colorbar\": {\"outlinewidth\": 0, \"ticks\": \"\"}}, \"type\": \"scattercarpet\"}], \"scattergeo\": [{\"marker\": {\"colorbar\": {\"outlinewidth\": 0, \"ticks\": \"\"}}, \"type\": \"scattergeo\"}], \"scattergl\": [{\"marker\": {\"colorbar\": {\"outlinewidth\": 0, \"ticks\": \"\"}}, \"type\": \"scattergl\"}], \"scattermapbox\": [{\"marker\": {\"colorbar\": {\"outlinewidth\": 0, \"ticks\": \"\"}}, \"type\": \"scattermapbox\"}], \"scatterpolar\": [{\"marker\": {\"colorbar\": {\"outlinewidth\": 0, \"ticks\": \"\"}}, \"type\": \"scatterpolar\"}], \"scatterpolargl\": [{\"marker\": {\"colorbar\": {\"outlinewidth\": 0, \"ticks\": \"\"}}, \"type\": \"scatterpolargl\"}], \"scatterternary\": [{\"marker\": {\"colorbar\": {\"outlinewidth\": 0, \"ticks\": \"\"}}, \"type\": \"scatterternary\"}], \"surface\": [{\"colorbar\": {\"outlinewidth\": 0, \"ticks\": \"\"}, \"colorscale\": [[0.0, \"#0d0887\"], [0.1111111111111111, \"#46039f\"], [0.2222222222222222, \"#7201a8\"], [0.3333333333333333, \"#9c179e\"], [0.4444444444444444, \"#bd3786\"], [0.5555555555555556, \"#d8576b\"], [0.6666666666666666, \"#ed7953\"], [0.7777777777777778, \"#fb9f3a\"], [0.8888888888888888, \"#fdca26\"], [1.0, \"#f0f921\"]], \"type\": \"surface\"}], \"table\": [{\"cells\": {\"fill\": {\"color\": \"#EBF0F8\"}, \"line\": {\"color\": \"white\"}}, \"header\": {\"fill\": {\"color\": \"#C8D4E3\"}, \"line\": {\"color\": \"white\"}}, \"type\": \"table\"}]}, \"layout\": {\"annotationdefaults\": {\"arrowcolor\": \"#2a3f5f\", \"arrowhead\": 0, \"arrowwidth\": 1}, \"autotypenumbers\": \"strict\", \"coloraxis\": {\"colorbar\": {\"outlinewidth\": 0, \"ticks\": \"\"}}, \"colorscale\": {\"diverging\": [[0, \"#8e0152\"], [0.1, \"#c51b7d\"], [0.2, \"#de77ae\"], [0.3, \"#f1b6da\"], [0.4, \"#fde0ef\"], [0.5, \"#f7f7f7\"], [0.6, \"#e6f5d0\"], [0.7, \"#b8e186\"], [0.8, \"#7fbc41\"], [0.9, \"#4d9221\"], [1, \"#276419\"]], \"sequential\": [[0.0, \"#0d0887\"], [0.1111111111111111, \"#46039f\"], [0.2222222222222222, \"#7201a8\"], [0.3333333333333333, \"#9c179e\"], [0.4444444444444444, \"#bd3786\"], [0.5555555555555556, \"#d8576b\"], [0.6666666666666666, \"#ed7953\"], [0.7777777777777778, \"#fb9f3a\"], [0.8888888888888888, \"#fdca26\"], [1.0, \"#f0f921\"]], \"sequentialminus\": [[0.0, \"#0d0887\"], [0.1111111111111111, \"#46039f\"], [0.2222222222222222, \"#7201a8\"], [0.3333333333333333, \"#9c179e\"], [0.4444444444444444, \"#bd3786\"], [0.5555555555555556, \"#d8576b\"], [0.6666666666666666, \"#ed7953\"], [0.7777777777777778, \"#fb9f3a\"], [0.8888888888888888, \"#fdca26\"], [1.0, \"#f0f921\"]]}, \"colorway\": [\"#636efa\", \"#EF553B\", \"#00cc96\", \"#ab63fa\", \"#FFA15A\", \"#19d3f3\", \"#FF6692\", \"#B6E880\", \"#FF97FF\", \"#FECB52\"], \"font\": {\"color\": \"#2a3f5f\"}, \"geo\": {\"bgcolor\": \"white\", \"lakecolor\": \"white\", \"landcolor\": \"#E5ECF6\", \"showlakes\": true, \"showland\": true, \"subunitcolor\": \"white\"}, \"hoverlabel\": {\"align\": \"left\"}, \"hovermode\": \"closest\", \"mapbox\": {\"style\": \"light\"}, \"paper_bgcolor\": \"white\", \"plot_bgcolor\": \"#E5ECF6\", \"polar\": {\"angularaxis\": {\"gridcolor\": \"white\", \"linecolor\": \"white\", \"ticks\": \"\"}, \"bgcolor\": \"#E5ECF6\", \"radialaxis\": {\"gridcolor\": \"white\", \"linecolor\": \"white\", \"ticks\": \"\"}}, \"scene\": {\"xaxis\": {\"backgroundcolor\": \"#E5ECF6\", \"gridcolor\": \"white\", \"gridwidth\": 2, \"linecolor\": \"white\", \"showbackground\": true, \"ticks\": \"\", \"zerolinecolor\": \"white\"}, \"yaxis\": {\"backgroundcolor\": \"#E5ECF6\", \"gridcolor\": \"white\", \"gridwidth\": 2, \"linecolor\": \"white\", \"showbackground\": true, \"ticks\": \"\", \"zerolinecolor\": \"white\"}, \"zaxis\": {\"backgroundcolor\": \"#E5ECF6\", \"gridcolor\": \"white\", \"gridwidth\": 2, \"linecolor\": \"white\", \"showbackground\": true, \"ticks\": \"\", \"zerolinecolor\": \"white\"}}, \"shapedefaults\": {\"line\": {\"color\": \"#2a3f5f\"}}, \"ternary\": {\"aaxis\": {\"gridcolor\": \"white\", \"linecolor\": \"white\", \"ticks\": \"\"}, \"baxis\": {\"gridcolor\": \"white\", \"linecolor\": \"white\", \"ticks\": \"\"}, \"bgcolor\": \"#E5ECF6\", \"caxis\": {\"gridcolor\": \"white\", \"linecolor\": \"white\", \"ticks\": \"\"}}, \"title\": {\"x\": 0.05}, \"xaxis\": {\"automargin\": true, \"gridcolor\": \"white\", \"linecolor\": \"white\", \"ticks\": \"\", \"title\": {\"standoff\": 15}, \"zerolinecolor\": \"white\", \"zerolinewidth\": 2}, \"yaxis\": {\"automargin\": true, \"gridcolor\": \"white\", \"linecolor\": \"white\", \"ticks\": \"\", \"title\": {\"standoff\": 15}, \"zerolinecolor\": \"white\", \"zerolinewidth\": 2}}}, \"title\": {\"font\": {\"color\": \"#4D5663\"}}, \"xaxis\": {\"gridcolor\": \"#E1E5ED\", \"showgrid\": true, \"tickfont\": {\"color\": \"#4D5663\"}, \"title\": {\"font\": {\"color\": \"#4D5663\"}, \"text\": \"\"}, \"zerolinecolor\": \"#E1E5ED\"}, \"yaxis\": {\"gridcolor\": \"#E1E5ED\", \"showgrid\": true, \"tickfont\": {\"color\": \"#4D5663\"}, \"title\": {\"font\": {\"color\": \"#4D5663\"}, \"text\": \"\"}, \"zerolinecolor\": \"#E1E5ED\"}},                        {\"showLink\": true, \"linkText\": \"Export to plot.ly\", \"plotlyServerURL\": \"https://plot.ly\", \"responsive\": true}                    ).then(function(){\n",
       "                            \n",
       "var gd = document.getElementById('9a183e1a-21e9-45ce-ac13-ad88c6b3cdb3');\n",
       "var x = new MutationObserver(function (mutations, observer) {{\n",
       "        var display = window.getComputedStyle(gd).display;\n",
       "        if (!display || display === 'none') {{\n",
       "            console.log([gd, 'removed!']);\n",
       "            Plotly.purge(gd);\n",
       "            observer.disconnect();\n",
       "        }}\n",
       "}});\n",
       "\n",
       "// Listen for the removal of the full notebook cells\n",
       "var notebookContainer = gd.closest('#notebook-container');\n",
       "if (notebookContainer) {{\n",
       "    x.observe(notebookContainer, {childList: true});\n",
       "}}\n",
       "\n",
       "// Listen for the clearing of the current output cell\n",
       "var outputEl = gd.closest('.output');\n",
       "if (outputEl) {{\n",
       "    x.observe(outputEl, {childList: true});\n",
       "}}\n",
       "\n",
       "                        })                };                });            </script>        </div>"
      ]
     },
     "metadata": {},
     "output_type": "display_data"
    }
   ],
   "source": [
    "\n",
    "df.iplot()"
   ]
  },
  {
   "cell_type": "code",
   "execution_count": 24,
   "metadata": {},
   "outputs": [
    {
     "data": {
      "application/vnd.plotly.v1+json": {
       "config": {
        "linkText": "Export to plot.ly",
        "plotlyServerURL": "https://plot.ly",
        "showLink": true
       },
       "data": [
        {
         "line": {
          "color": "rgba(255, 153, 51, 1.0)",
          "dash": "solid",
          "shape": "linear",
          "width": 1.3
         },
         "marker": {
          "size": 20,
          "symbol": "circle"
         },
         "mode": "markers",
         "name": "B",
         "text": "",
         "type": "scatter",
         "x": [
          0.20504070623313753,
          0.6286778475688474,
          -1.1946960815376417,
          -1.3183627315384152,
          0.7287269751944572,
          0.8722269481098422,
          -0.13166269309223982,
          -1.9357840606631018,
          0.4145336921882121,
          -0.6069916193966661,
          0.390215883251644,
          -0.45734674356014016,
          1.193349051418664,
          1.235556532466609,
          1.6291582358653538,
          1.1395764553378547,
          -0.010775928268597778,
          1.206843095845801,
          -0.9600146154713587,
          -0.966140199254339,
          0.19169949104174405,
          -0.14918790595603876,
          0.5686543373940673,
          -0.24045778518832012,
          0.6366295721983622,
          1.1522381506685453,
          1.9336345364130645,
          2.006996624653642,
          -0.023025978960075136,
          0.18993942931543212,
          -1.4296539266874184,
          0.43382004511192135,
          -0.7306127696972191,
          -0.05578944403470869,
          -0.08472001405877864,
          -0.1149714121493137,
          0.7358612175856649,
          -0.6923771671588429,
          -0.25387934755682223,
          -2.0722680287624553,
          -0.5165814241979004,
          1.6736494345930495,
          -0.5336323351896277,
          1.4616808532371586,
          1.2048074779808589,
          -1.2840849645974888,
          -0.17814633696158727,
          1.0474906379523012,
          0.38688412823874413,
          0.5918234597806681,
          -1.3531856261517683,
          0.24341156761558463,
          -0.7017222749850373,
          0.6123500849073915,
          -0.8479136012893379,
          1.531831449493807,
          -0.08902284414868179,
          -1.8178227460471446,
          -0.5109149743900608,
          -0.019596110540417384,
          -0.6983446018771495,
          2.1094904333757407,
          -0.6311966451758331,
          -0.7047558807060837,
          0.14788823265526901,
          1.3716817074401486,
          0.014617163284772135,
          -0.8243567459465074,
          0.3123554784595387,
          0.006117282091226412,
          -0.44574685438333156,
          0.19146184772892774,
          -0.510564268279504,
          0.8130753024382118,
          2.3632960388245143,
          2.116807945200409,
          -0.7750854668514382,
          1.1030058690899103,
          -1.0730902732448744,
          -0.7826004688457083,
          -0.19255772560734755,
          -1.6458945809351144,
          -1.149219201933772,
          0.06545680442591104,
          1.2970608422251297,
          0.3995935105107383,
          1.0046285769041494,
          2.6049159767101853,
          0.2648980896996127,
          -1.5712641398967868,
          -0.7776854787695353,
          0.21347068389058088,
          0.20585723656867927,
          1.9571203104075063,
          -0.6410346456022266,
          -0.9414275827775105,
          1.2276831536344308,
          -0.007015283300855964,
          0.23646616205819243,
          -1.2406348171165948
         ],
         "y": [
          -0.5439617119205455,
          -0.5704148841714516,
          -1.07662655822544,
          -0.8474093020614032,
          -0.4040721263713018,
          -0.22032162653824705,
          0.984810825036386,
          0.6459982295599839,
          0.9625977558237383,
          0.32961616491736717,
          -0.6383325120225408,
          1.7682720359532031,
          -0.7006348852403254,
          -0.2562716741210957,
          -1.2177123975522377,
          -0.16734060804219206,
          0.43907261092386024,
          -0.18906110667888334,
          1.1993281288587738,
          -0.20811431926451315,
          -1.0049310034719965,
          -0.22976703532601245,
          -0.13894060084069174,
          1.2275994471410943,
          1.342734485378966,
          1.1665077733710503,
          -0.5434498879083448,
          -0.4092649210874944,
          0.33338528689970426,
          0.7670594173207315,
          0.7872973798422225,
          -0.1606048434279647,
          0.2843664711766602,
          0.571068693668149,
          -3.086080376151923,
          -0.4849501045316944,
          0.7980458181885236,
          0.5868466116667443,
          -0.9166483893763678,
          -0.1704246184052833,
          0.22117865067943315,
          -1.3201080068609135,
          0.7568133206374094,
          2.4676468487452357,
          -1.068703071956845,
          -0.6291258641268789,
          1.163415410221566,
          -0.12339604673539196,
          0.9367836611456651,
          -0.24948621721976244,
          -1.1576699893858196,
          1.5757959197628753,
          0.27451804126694296,
          -0.3405120090081654,
          0.5495521734370964,
          1.0455429042100273,
          -1.132207339071681,
          1.2103819750274107,
          -0.6528387602045533,
          0.06822891946103009,
          0.10930141977857291,
          -1.1210045578232524,
          -0.37174364013106725,
          0.8746799851128227,
          0.01530574132809894,
          -1.5607767191556627,
          0.3083227911857838,
          -1.8757128537357166,
          -0.05906016862387303,
          0.6244298300094971,
          0.03480897073112098,
          -0.8132032260998618,
          0.40371608126509506,
          -0.5250713115573913,
          -0.3599740532761306,
          0.6436866021813002,
          0.10040758411756084,
          1.106344944184813,
          -1.164546239406862,
          -0.6021822918337024,
          0.24359876936141814,
          -0.2115220974504064,
          0.9546210335566907,
          -0.7064555912566168,
          0.8642221033273032,
          0.876847424360984,
          1.6238480437140206,
          0.004990774537376512,
          -0.14310145325778864,
          0.4816044490155595,
          -0.46065909217859663,
          -0.30586794082918434,
          0.8313503097531753,
          0.6402120611320695,
          0.026544256531318044,
          0.04778410984681494,
          -0.39801425662921003,
          0.16233095530239772,
          1.0638768169666544,
          1.0008761898429492
         ]
        }
       ],
       "layout": {
        "legend": {
         "bgcolor": "#F5F6F9",
         "font": {
          "color": "#4D5663"
         }
        },
        "paper_bgcolor": "#F5F6F9",
        "plot_bgcolor": "#F5F6F9",
        "template": {
         "data": {
          "bar": [
           {
            "error_x": {
             "color": "#2a3f5f"
            },
            "error_y": {
             "color": "#2a3f5f"
            },
            "marker": {
             "line": {
              "color": "#E5ECF6",
              "width": 0.5
             }
            },
            "type": "bar"
           }
          ],
          "barpolar": [
           {
            "marker": {
             "line": {
              "color": "#E5ECF6",
              "width": 0.5
             }
            },
            "type": "barpolar"
           }
          ],
          "carpet": [
           {
            "aaxis": {
             "endlinecolor": "#2a3f5f",
             "gridcolor": "white",
             "linecolor": "white",
             "minorgridcolor": "white",
             "startlinecolor": "#2a3f5f"
            },
            "baxis": {
             "endlinecolor": "#2a3f5f",
             "gridcolor": "white",
             "linecolor": "white",
             "minorgridcolor": "white",
             "startlinecolor": "#2a3f5f"
            },
            "type": "carpet"
           }
          ],
          "choropleth": [
           {
            "colorbar": {
             "outlinewidth": 0,
             "ticks": ""
            },
            "type": "choropleth"
           }
          ],
          "contour": [
           {
            "colorbar": {
             "outlinewidth": 0,
             "ticks": ""
            },
            "colorscale": [
             [
              0,
              "#0d0887"
             ],
             [
              0.1111111111111111,
              "#46039f"
             ],
             [
              0.2222222222222222,
              "#7201a8"
             ],
             [
              0.3333333333333333,
              "#9c179e"
             ],
             [
              0.4444444444444444,
              "#bd3786"
             ],
             [
              0.5555555555555556,
              "#d8576b"
             ],
             [
              0.6666666666666666,
              "#ed7953"
             ],
             [
              0.7777777777777778,
              "#fb9f3a"
             ],
             [
              0.8888888888888888,
              "#fdca26"
             ],
             [
              1,
              "#f0f921"
             ]
            ],
            "type": "contour"
           }
          ],
          "contourcarpet": [
           {
            "colorbar": {
             "outlinewidth": 0,
             "ticks": ""
            },
            "type": "contourcarpet"
           }
          ],
          "heatmap": [
           {
            "colorbar": {
             "outlinewidth": 0,
             "ticks": ""
            },
            "colorscale": [
             [
              0,
              "#0d0887"
             ],
             [
              0.1111111111111111,
              "#46039f"
             ],
             [
              0.2222222222222222,
              "#7201a8"
             ],
             [
              0.3333333333333333,
              "#9c179e"
             ],
             [
              0.4444444444444444,
              "#bd3786"
             ],
             [
              0.5555555555555556,
              "#d8576b"
             ],
             [
              0.6666666666666666,
              "#ed7953"
             ],
             [
              0.7777777777777778,
              "#fb9f3a"
             ],
             [
              0.8888888888888888,
              "#fdca26"
             ],
             [
              1,
              "#f0f921"
             ]
            ],
            "type": "heatmap"
           }
          ],
          "heatmapgl": [
           {
            "colorbar": {
             "outlinewidth": 0,
             "ticks": ""
            },
            "colorscale": [
             [
              0,
              "#0d0887"
             ],
             [
              0.1111111111111111,
              "#46039f"
             ],
             [
              0.2222222222222222,
              "#7201a8"
             ],
             [
              0.3333333333333333,
              "#9c179e"
             ],
             [
              0.4444444444444444,
              "#bd3786"
             ],
             [
              0.5555555555555556,
              "#d8576b"
             ],
             [
              0.6666666666666666,
              "#ed7953"
             ],
             [
              0.7777777777777778,
              "#fb9f3a"
             ],
             [
              0.8888888888888888,
              "#fdca26"
             ],
             [
              1,
              "#f0f921"
             ]
            ],
            "type": "heatmapgl"
           }
          ],
          "histogram": [
           {
            "marker": {
             "colorbar": {
              "outlinewidth": 0,
              "ticks": ""
             }
            },
            "type": "histogram"
           }
          ],
          "histogram2d": [
           {
            "colorbar": {
             "outlinewidth": 0,
             "ticks": ""
            },
            "colorscale": [
             [
              0,
              "#0d0887"
             ],
             [
              0.1111111111111111,
              "#46039f"
             ],
             [
              0.2222222222222222,
              "#7201a8"
             ],
             [
              0.3333333333333333,
              "#9c179e"
             ],
             [
              0.4444444444444444,
              "#bd3786"
             ],
             [
              0.5555555555555556,
              "#d8576b"
             ],
             [
              0.6666666666666666,
              "#ed7953"
             ],
             [
              0.7777777777777778,
              "#fb9f3a"
             ],
             [
              0.8888888888888888,
              "#fdca26"
             ],
             [
              1,
              "#f0f921"
             ]
            ],
            "type": "histogram2d"
           }
          ],
          "histogram2dcontour": [
           {
            "colorbar": {
             "outlinewidth": 0,
             "ticks": ""
            },
            "colorscale": [
             [
              0,
              "#0d0887"
             ],
             [
              0.1111111111111111,
              "#46039f"
             ],
             [
              0.2222222222222222,
              "#7201a8"
             ],
             [
              0.3333333333333333,
              "#9c179e"
             ],
             [
              0.4444444444444444,
              "#bd3786"
             ],
             [
              0.5555555555555556,
              "#d8576b"
             ],
             [
              0.6666666666666666,
              "#ed7953"
             ],
             [
              0.7777777777777778,
              "#fb9f3a"
             ],
             [
              0.8888888888888888,
              "#fdca26"
             ],
             [
              1,
              "#f0f921"
             ]
            ],
            "type": "histogram2dcontour"
           }
          ],
          "mesh3d": [
           {
            "colorbar": {
             "outlinewidth": 0,
             "ticks": ""
            },
            "type": "mesh3d"
           }
          ],
          "parcoords": [
           {
            "line": {
             "colorbar": {
              "outlinewidth": 0,
              "ticks": ""
             }
            },
            "type": "parcoords"
           }
          ],
          "pie": [
           {
            "automargin": true,
            "type": "pie"
           }
          ],
          "scatter": [
           {
            "marker": {
             "colorbar": {
              "outlinewidth": 0,
              "ticks": ""
             }
            },
            "type": "scatter"
           }
          ],
          "scatter3d": [
           {
            "line": {
             "colorbar": {
              "outlinewidth": 0,
              "ticks": ""
             }
            },
            "marker": {
             "colorbar": {
              "outlinewidth": 0,
              "ticks": ""
             }
            },
            "type": "scatter3d"
           }
          ],
          "scattercarpet": [
           {
            "marker": {
             "colorbar": {
              "outlinewidth": 0,
              "ticks": ""
             }
            },
            "type": "scattercarpet"
           }
          ],
          "scattergeo": [
           {
            "marker": {
             "colorbar": {
              "outlinewidth": 0,
              "ticks": ""
             }
            },
            "type": "scattergeo"
           }
          ],
          "scattergl": [
           {
            "marker": {
             "colorbar": {
              "outlinewidth": 0,
              "ticks": ""
             }
            },
            "type": "scattergl"
           }
          ],
          "scattermapbox": [
           {
            "marker": {
             "colorbar": {
              "outlinewidth": 0,
              "ticks": ""
             }
            },
            "type": "scattermapbox"
           }
          ],
          "scatterpolar": [
           {
            "marker": {
             "colorbar": {
              "outlinewidth": 0,
              "ticks": ""
             }
            },
            "type": "scatterpolar"
           }
          ],
          "scatterpolargl": [
           {
            "marker": {
             "colorbar": {
              "outlinewidth": 0,
              "ticks": ""
             }
            },
            "type": "scatterpolargl"
           }
          ],
          "scatterternary": [
           {
            "marker": {
             "colorbar": {
              "outlinewidth": 0,
              "ticks": ""
             }
            },
            "type": "scatterternary"
           }
          ],
          "surface": [
           {
            "colorbar": {
             "outlinewidth": 0,
             "ticks": ""
            },
            "colorscale": [
             [
              0,
              "#0d0887"
             ],
             [
              0.1111111111111111,
              "#46039f"
             ],
             [
              0.2222222222222222,
              "#7201a8"
             ],
             [
              0.3333333333333333,
              "#9c179e"
             ],
             [
              0.4444444444444444,
              "#bd3786"
             ],
             [
              0.5555555555555556,
              "#d8576b"
             ],
             [
              0.6666666666666666,
              "#ed7953"
             ],
             [
              0.7777777777777778,
              "#fb9f3a"
             ],
             [
              0.8888888888888888,
              "#fdca26"
             ],
             [
              1,
              "#f0f921"
             ]
            ],
            "type": "surface"
           }
          ],
          "table": [
           {
            "cells": {
             "fill": {
              "color": "#EBF0F8"
             },
             "line": {
              "color": "white"
             }
            },
            "header": {
             "fill": {
              "color": "#C8D4E3"
             },
             "line": {
              "color": "white"
             }
            },
            "type": "table"
           }
          ]
         },
         "layout": {
          "annotationdefaults": {
           "arrowcolor": "#2a3f5f",
           "arrowhead": 0,
           "arrowwidth": 1
          },
          "autotypenumbers": "strict",
          "coloraxis": {
           "colorbar": {
            "outlinewidth": 0,
            "ticks": ""
           }
          },
          "colorscale": {
           "diverging": [
            [
             0,
             "#8e0152"
            ],
            [
             0.1,
             "#c51b7d"
            ],
            [
             0.2,
             "#de77ae"
            ],
            [
             0.3,
             "#f1b6da"
            ],
            [
             0.4,
             "#fde0ef"
            ],
            [
             0.5,
             "#f7f7f7"
            ],
            [
             0.6,
             "#e6f5d0"
            ],
            [
             0.7,
             "#b8e186"
            ],
            [
             0.8,
             "#7fbc41"
            ],
            [
             0.9,
             "#4d9221"
            ],
            [
             1,
             "#276419"
            ]
           ],
           "sequential": [
            [
             0,
             "#0d0887"
            ],
            [
             0.1111111111111111,
             "#46039f"
            ],
            [
             0.2222222222222222,
             "#7201a8"
            ],
            [
             0.3333333333333333,
             "#9c179e"
            ],
            [
             0.4444444444444444,
             "#bd3786"
            ],
            [
             0.5555555555555556,
             "#d8576b"
            ],
            [
             0.6666666666666666,
             "#ed7953"
            ],
            [
             0.7777777777777778,
             "#fb9f3a"
            ],
            [
             0.8888888888888888,
             "#fdca26"
            ],
            [
             1,
             "#f0f921"
            ]
           ],
           "sequentialminus": [
            [
             0,
             "#0d0887"
            ],
            [
             0.1111111111111111,
             "#46039f"
            ],
            [
             0.2222222222222222,
             "#7201a8"
            ],
            [
             0.3333333333333333,
             "#9c179e"
            ],
            [
             0.4444444444444444,
             "#bd3786"
            ],
            [
             0.5555555555555556,
             "#d8576b"
            ],
            [
             0.6666666666666666,
             "#ed7953"
            ],
            [
             0.7777777777777778,
             "#fb9f3a"
            ],
            [
             0.8888888888888888,
             "#fdca26"
            ],
            [
             1,
             "#f0f921"
            ]
           ]
          },
          "colorway": [
           "#636efa",
           "#EF553B",
           "#00cc96",
           "#ab63fa",
           "#FFA15A",
           "#19d3f3",
           "#FF6692",
           "#B6E880",
           "#FF97FF",
           "#FECB52"
          ],
          "font": {
           "color": "#2a3f5f"
          },
          "geo": {
           "bgcolor": "white",
           "lakecolor": "white",
           "landcolor": "#E5ECF6",
           "showlakes": true,
           "showland": true,
           "subunitcolor": "white"
          },
          "hoverlabel": {
           "align": "left"
          },
          "hovermode": "closest",
          "mapbox": {
           "style": "light"
          },
          "paper_bgcolor": "white",
          "plot_bgcolor": "#E5ECF6",
          "polar": {
           "angularaxis": {
            "gridcolor": "white",
            "linecolor": "white",
            "ticks": ""
           },
           "bgcolor": "#E5ECF6",
           "radialaxis": {
            "gridcolor": "white",
            "linecolor": "white",
            "ticks": ""
           }
          },
          "scene": {
           "xaxis": {
            "backgroundcolor": "#E5ECF6",
            "gridcolor": "white",
            "gridwidth": 2,
            "linecolor": "white",
            "showbackground": true,
            "ticks": "",
            "zerolinecolor": "white"
           },
           "yaxis": {
            "backgroundcolor": "#E5ECF6",
            "gridcolor": "white",
            "gridwidth": 2,
            "linecolor": "white",
            "showbackground": true,
            "ticks": "",
            "zerolinecolor": "white"
           },
           "zaxis": {
            "backgroundcolor": "#E5ECF6",
            "gridcolor": "white",
            "gridwidth": 2,
            "linecolor": "white",
            "showbackground": true,
            "ticks": "",
            "zerolinecolor": "white"
           }
          },
          "shapedefaults": {
           "line": {
            "color": "#2a3f5f"
           }
          },
          "ternary": {
           "aaxis": {
            "gridcolor": "white",
            "linecolor": "white",
            "ticks": ""
           },
           "baxis": {
            "gridcolor": "white",
            "linecolor": "white",
            "ticks": ""
           },
           "bgcolor": "#E5ECF6",
           "caxis": {
            "gridcolor": "white",
            "linecolor": "white",
            "ticks": ""
           }
          },
          "title": {
           "x": 0.05
          },
          "xaxis": {
           "automargin": true,
           "gridcolor": "white",
           "linecolor": "white",
           "ticks": "",
           "title": {
            "standoff": 15
           },
           "zerolinecolor": "white",
           "zerolinewidth": 2
          },
          "yaxis": {
           "automargin": true,
           "gridcolor": "white",
           "linecolor": "white",
           "ticks": "",
           "title": {
            "standoff": 15
           },
           "zerolinecolor": "white",
           "zerolinewidth": 2
          }
         }
        },
        "title": {
         "font": {
          "color": "#4D5663"
         }
        },
        "xaxis": {
         "gridcolor": "#E1E5ED",
         "showgrid": true,
         "tickfont": {
          "color": "#4D5663"
         },
         "title": {
          "font": {
           "color": "#4D5663"
          },
          "text": ""
         },
         "zerolinecolor": "#E1E5ED"
        },
        "yaxis": {
         "gridcolor": "#E1E5ED",
         "showgrid": true,
         "tickfont": {
          "color": "#4D5663"
         },
         "title": {
          "font": {
           "color": "#4D5663"
          },
          "text": ""
         },
         "zerolinecolor": "#E1E5ED"
        }
       }
      },
      "text/html": [
       "<div>                            <div id=\"45d5f766-807e-46d6-ac2a-2edcec671e78\" class=\"plotly-graph-div\" style=\"height:525px; width:100%;\"></div>            <script type=\"text/javascript\">                require([\"plotly\"], function(Plotly) {                    window.PLOTLYENV=window.PLOTLYENV || {};\n",
       "                    window.PLOTLYENV.BASE_URL='https://plot.ly';                                    if (document.getElementById(\"45d5f766-807e-46d6-ac2a-2edcec671e78\")) {                    Plotly.newPlot(                        \"45d5f766-807e-46d6-ac2a-2edcec671e78\",                        [{\"line\": {\"color\": \"rgba(255, 153, 51, 1.0)\", \"dash\": \"solid\", \"shape\": \"linear\", \"width\": 1.3}, \"marker\": {\"size\": 20, \"symbol\": \"circle\"}, \"mode\": \"markers\", \"name\": \"B\", \"text\": \"\", \"type\": \"scatter\", \"x\": [0.20504070623313753, 0.6286778475688474, -1.1946960815376417, -1.3183627315384152, 0.7287269751944572, 0.8722269481098422, -0.13166269309223982, -1.9357840606631018, 0.4145336921882121, -0.6069916193966661, 0.390215883251644, -0.45734674356014016, 1.193349051418664, 1.235556532466609, 1.6291582358653538, 1.1395764553378547, -0.010775928268597778, 1.206843095845801, -0.9600146154713587, -0.966140199254339, 0.19169949104174405, -0.14918790595603876, 0.5686543373940673, -0.24045778518832012, 0.6366295721983622, 1.1522381506685453, 1.9336345364130645, 2.006996624653642, -0.023025978960075136, 0.18993942931543212, -1.4296539266874184, 0.43382004511192135, -0.7306127696972191, -0.05578944403470869, -0.08472001405877864, -0.1149714121493137, 0.7358612175856649, -0.6923771671588429, -0.25387934755682223, -2.0722680287624553, -0.5165814241979004, 1.6736494345930495, -0.5336323351896277, 1.4616808532371586, 1.2048074779808589, -1.2840849645974888, -0.17814633696158727, 1.0474906379523012, 0.38688412823874413, 0.5918234597806681, -1.3531856261517683, 0.24341156761558463, -0.7017222749850373, 0.6123500849073915, -0.8479136012893379, 1.531831449493807, -0.08902284414868179, -1.8178227460471446, -0.5109149743900608, -0.019596110540417384, -0.6983446018771495, 2.1094904333757407, -0.6311966451758331, -0.7047558807060837, 0.14788823265526901, 1.3716817074401486, 0.014617163284772135, -0.8243567459465074, 0.3123554784595387, 0.006117282091226412, -0.44574685438333156, 0.19146184772892774, -0.510564268279504, 0.8130753024382118, 2.3632960388245143, 2.116807945200409, -0.7750854668514382, 1.1030058690899103, -1.0730902732448744, -0.7826004688457083, -0.19255772560734755, -1.6458945809351144, -1.149219201933772, 0.06545680442591104, 1.2970608422251297, 0.3995935105107383, 1.0046285769041494, 2.6049159767101853, 0.2648980896996127, -1.5712641398967868, -0.7776854787695353, 0.21347068389058088, 0.20585723656867927, 1.9571203104075063, -0.6410346456022266, -0.9414275827775105, 1.2276831536344308, -0.007015283300855964, 0.23646616205819243, -1.2406348171165948], \"y\": [-0.5439617119205455, -0.5704148841714516, -1.07662655822544, -0.8474093020614032, -0.4040721263713018, -0.22032162653824705, 0.984810825036386, 0.6459982295599839, 0.9625977558237383, 0.32961616491736717, -0.6383325120225408, 1.7682720359532031, -0.7006348852403254, -0.2562716741210957, -1.2177123975522377, -0.16734060804219206, 0.43907261092386024, -0.18906110667888334, 1.1993281288587738, -0.20811431926451315, -1.0049310034719965, -0.22976703532601245, -0.13894060084069174, 1.2275994471410943, 1.342734485378966, 1.1665077733710503, -0.5434498879083448, -0.4092649210874944, 0.33338528689970426, 0.7670594173207315, 0.7872973798422225, -0.1606048434279647, 0.2843664711766602, 0.571068693668149, -3.086080376151923, -0.4849501045316944, 0.7980458181885236, 0.5868466116667443, -0.9166483893763678, -0.1704246184052833, 0.22117865067943315, -1.3201080068609135, 0.7568133206374094, 2.4676468487452357, -1.068703071956845, -0.6291258641268789, 1.163415410221566, -0.12339604673539196, 0.9367836611456651, -0.24948621721976244, -1.1576699893858196, 1.5757959197628753, 0.27451804126694296, -0.3405120090081654, 0.5495521734370964, 1.0455429042100273, -1.132207339071681, 1.2103819750274107, -0.6528387602045533, 0.06822891946103009, 0.10930141977857291, -1.1210045578232524, -0.37174364013106725, 0.8746799851128227, 0.01530574132809894, -1.5607767191556627, 0.3083227911857838, -1.8757128537357166, -0.05906016862387303, 0.6244298300094971, 0.03480897073112098, -0.8132032260998618, 0.40371608126509506, -0.5250713115573913, -0.3599740532761306, 0.6436866021813002, 0.10040758411756084, 1.106344944184813, -1.164546239406862, -0.6021822918337024, 0.24359876936141814, -0.2115220974504064, 0.9546210335566907, -0.7064555912566168, 0.8642221033273032, 0.876847424360984, 1.6238480437140206, 0.004990774537376512, -0.14310145325778864, 0.4816044490155595, -0.46065909217859663, -0.30586794082918434, 0.8313503097531753, 0.6402120611320695, 0.026544256531318044, 0.04778410984681494, -0.39801425662921003, 0.16233095530239772, 1.0638768169666544, 1.0008761898429492]}],                        {\"legend\": {\"bgcolor\": \"#F5F6F9\", \"font\": {\"color\": \"#4D5663\"}}, \"paper_bgcolor\": \"#F5F6F9\", \"plot_bgcolor\": \"#F5F6F9\", \"template\": {\"data\": {\"bar\": [{\"error_x\": {\"color\": \"#2a3f5f\"}, \"error_y\": {\"color\": \"#2a3f5f\"}, \"marker\": {\"line\": {\"color\": \"#E5ECF6\", \"width\": 0.5}}, \"type\": \"bar\"}], \"barpolar\": [{\"marker\": {\"line\": {\"color\": \"#E5ECF6\", \"width\": 0.5}}, \"type\": \"barpolar\"}], \"carpet\": [{\"aaxis\": {\"endlinecolor\": \"#2a3f5f\", \"gridcolor\": \"white\", \"linecolor\": \"white\", \"minorgridcolor\": \"white\", \"startlinecolor\": \"#2a3f5f\"}, \"baxis\": {\"endlinecolor\": \"#2a3f5f\", \"gridcolor\": \"white\", \"linecolor\": \"white\", \"minorgridcolor\": \"white\", \"startlinecolor\": \"#2a3f5f\"}, \"type\": \"carpet\"}], \"choropleth\": [{\"colorbar\": {\"outlinewidth\": 0, \"ticks\": \"\"}, \"type\": \"choropleth\"}], \"contour\": [{\"colorbar\": {\"outlinewidth\": 0, \"ticks\": \"\"}, \"colorscale\": [[0.0, \"#0d0887\"], [0.1111111111111111, \"#46039f\"], [0.2222222222222222, \"#7201a8\"], [0.3333333333333333, \"#9c179e\"], [0.4444444444444444, \"#bd3786\"], [0.5555555555555556, \"#d8576b\"], [0.6666666666666666, \"#ed7953\"], [0.7777777777777778, \"#fb9f3a\"], [0.8888888888888888, \"#fdca26\"], [1.0, \"#f0f921\"]], \"type\": \"contour\"}], \"contourcarpet\": [{\"colorbar\": {\"outlinewidth\": 0, \"ticks\": \"\"}, \"type\": \"contourcarpet\"}], \"heatmap\": [{\"colorbar\": {\"outlinewidth\": 0, \"ticks\": \"\"}, \"colorscale\": [[0.0, \"#0d0887\"], [0.1111111111111111, \"#46039f\"], [0.2222222222222222, \"#7201a8\"], [0.3333333333333333, \"#9c179e\"], [0.4444444444444444, \"#bd3786\"], [0.5555555555555556, \"#d8576b\"], [0.6666666666666666, \"#ed7953\"], [0.7777777777777778, \"#fb9f3a\"], [0.8888888888888888, \"#fdca26\"], [1.0, \"#f0f921\"]], \"type\": \"heatmap\"}], \"heatmapgl\": [{\"colorbar\": {\"outlinewidth\": 0, \"ticks\": \"\"}, \"colorscale\": [[0.0, \"#0d0887\"], [0.1111111111111111, \"#46039f\"], [0.2222222222222222, \"#7201a8\"], [0.3333333333333333, \"#9c179e\"], [0.4444444444444444, \"#bd3786\"], [0.5555555555555556, \"#d8576b\"], [0.6666666666666666, \"#ed7953\"], [0.7777777777777778, \"#fb9f3a\"], [0.8888888888888888, \"#fdca26\"], [1.0, \"#f0f921\"]], \"type\": \"heatmapgl\"}], \"histogram\": [{\"marker\": {\"colorbar\": {\"outlinewidth\": 0, \"ticks\": \"\"}}, \"type\": \"histogram\"}], \"histogram2d\": [{\"colorbar\": {\"outlinewidth\": 0, \"ticks\": \"\"}, \"colorscale\": [[0.0, \"#0d0887\"], [0.1111111111111111, \"#46039f\"], [0.2222222222222222, \"#7201a8\"], [0.3333333333333333, \"#9c179e\"], [0.4444444444444444, \"#bd3786\"], [0.5555555555555556, \"#d8576b\"], [0.6666666666666666, \"#ed7953\"], [0.7777777777777778, \"#fb9f3a\"], [0.8888888888888888, \"#fdca26\"], [1.0, \"#f0f921\"]], \"type\": \"histogram2d\"}], \"histogram2dcontour\": [{\"colorbar\": {\"outlinewidth\": 0, \"ticks\": \"\"}, \"colorscale\": [[0.0, \"#0d0887\"], [0.1111111111111111, \"#46039f\"], [0.2222222222222222, \"#7201a8\"], [0.3333333333333333, \"#9c179e\"], [0.4444444444444444, \"#bd3786\"], [0.5555555555555556, \"#d8576b\"], [0.6666666666666666, \"#ed7953\"], [0.7777777777777778, \"#fb9f3a\"], [0.8888888888888888, \"#fdca26\"], [1.0, \"#f0f921\"]], \"type\": \"histogram2dcontour\"}], \"mesh3d\": [{\"colorbar\": {\"outlinewidth\": 0, \"ticks\": \"\"}, \"type\": \"mesh3d\"}], \"parcoords\": [{\"line\": {\"colorbar\": {\"outlinewidth\": 0, \"ticks\": \"\"}}, \"type\": \"parcoords\"}], \"pie\": [{\"automargin\": true, \"type\": \"pie\"}], \"scatter\": [{\"marker\": {\"colorbar\": {\"outlinewidth\": 0, \"ticks\": \"\"}}, \"type\": \"scatter\"}], \"scatter3d\": [{\"line\": {\"colorbar\": {\"outlinewidth\": 0, \"ticks\": \"\"}}, \"marker\": {\"colorbar\": {\"outlinewidth\": 0, \"ticks\": \"\"}}, \"type\": \"scatter3d\"}], \"scattercarpet\": [{\"marker\": {\"colorbar\": {\"outlinewidth\": 0, \"ticks\": \"\"}}, \"type\": \"scattercarpet\"}], \"scattergeo\": [{\"marker\": {\"colorbar\": {\"outlinewidth\": 0, \"ticks\": \"\"}}, \"type\": \"scattergeo\"}], \"scattergl\": [{\"marker\": {\"colorbar\": {\"outlinewidth\": 0, \"ticks\": \"\"}}, \"type\": \"scattergl\"}], \"scattermapbox\": [{\"marker\": {\"colorbar\": {\"outlinewidth\": 0, \"ticks\": \"\"}}, \"type\": \"scattermapbox\"}], \"scatterpolar\": [{\"marker\": {\"colorbar\": {\"outlinewidth\": 0, \"ticks\": \"\"}}, \"type\": \"scatterpolar\"}], \"scatterpolargl\": [{\"marker\": {\"colorbar\": {\"outlinewidth\": 0, \"ticks\": \"\"}}, \"type\": \"scatterpolargl\"}], \"scatterternary\": [{\"marker\": {\"colorbar\": {\"outlinewidth\": 0, \"ticks\": \"\"}}, \"type\": \"scatterternary\"}], \"surface\": [{\"colorbar\": {\"outlinewidth\": 0, \"ticks\": \"\"}, \"colorscale\": [[0.0, \"#0d0887\"], [0.1111111111111111, \"#46039f\"], [0.2222222222222222, \"#7201a8\"], [0.3333333333333333, \"#9c179e\"], [0.4444444444444444, \"#bd3786\"], [0.5555555555555556, \"#d8576b\"], [0.6666666666666666, \"#ed7953\"], [0.7777777777777778, \"#fb9f3a\"], [0.8888888888888888, \"#fdca26\"], [1.0, \"#f0f921\"]], \"type\": \"surface\"}], \"table\": [{\"cells\": {\"fill\": {\"color\": \"#EBF0F8\"}, \"line\": {\"color\": \"white\"}}, \"header\": {\"fill\": {\"color\": \"#C8D4E3\"}, \"line\": {\"color\": \"white\"}}, \"type\": \"table\"}]}, \"layout\": {\"annotationdefaults\": {\"arrowcolor\": \"#2a3f5f\", \"arrowhead\": 0, \"arrowwidth\": 1}, \"autotypenumbers\": \"strict\", \"coloraxis\": {\"colorbar\": {\"outlinewidth\": 0, \"ticks\": \"\"}}, \"colorscale\": {\"diverging\": [[0, \"#8e0152\"], [0.1, \"#c51b7d\"], [0.2, \"#de77ae\"], [0.3, \"#f1b6da\"], [0.4, \"#fde0ef\"], [0.5, \"#f7f7f7\"], [0.6, \"#e6f5d0\"], [0.7, \"#b8e186\"], [0.8, \"#7fbc41\"], [0.9, \"#4d9221\"], [1, \"#276419\"]], \"sequential\": [[0.0, \"#0d0887\"], [0.1111111111111111, \"#46039f\"], [0.2222222222222222, \"#7201a8\"], [0.3333333333333333, \"#9c179e\"], [0.4444444444444444, \"#bd3786\"], [0.5555555555555556, \"#d8576b\"], [0.6666666666666666, \"#ed7953\"], [0.7777777777777778, \"#fb9f3a\"], [0.8888888888888888, \"#fdca26\"], [1.0, \"#f0f921\"]], \"sequentialminus\": [[0.0, \"#0d0887\"], [0.1111111111111111, \"#46039f\"], [0.2222222222222222, \"#7201a8\"], [0.3333333333333333, \"#9c179e\"], [0.4444444444444444, \"#bd3786\"], [0.5555555555555556, \"#d8576b\"], [0.6666666666666666, \"#ed7953\"], [0.7777777777777778, \"#fb9f3a\"], [0.8888888888888888, \"#fdca26\"], [1.0, \"#f0f921\"]]}, \"colorway\": [\"#636efa\", \"#EF553B\", \"#00cc96\", \"#ab63fa\", \"#FFA15A\", \"#19d3f3\", \"#FF6692\", \"#B6E880\", \"#FF97FF\", \"#FECB52\"], \"font\": {\"color\": \"#2a3f5f\"}, \"geo\": {\"bgcolor\": \"white\", \"lakecolor\": \"white\", \"landcolor\": \"#E5ECF6\", \"showlakes\": true, \"showland\": true, \"subunitcolor\": \"white\"}, \"hoverlabel\": {\"align\": \"left\"}, \"hovermode\": \"closest\", \"mapbox\": {\"style\": \"light\"}, \"paper_bgcolor\": \"white\", \"plot_bgcolor\": \"#E5ECF6\", \"polar\": {\"angularaxis\": {\"gridcolor\": \"white\", \"linecolor\": \"white\", \"ticks\": \"\"}, \"bgcolor\": \"#E5ECF6\", \"radialaxis\": {\"gridcolor\": \"white\", \"linecolor\": \"white\", \"ticks\": \"\"}}, \"scene\": {\"xaxis\": {\"backgroundcolor\": \"#E5ECF6\", \"gridcolor\": \"white\", \"gridwidth\": 2, \"linecolor\": \"white\", \"showbackground\": true, \"ticks\": \"\", \"zerolinecolor\": \"white\"}, \"yaxis\": {\"backgroundcolor\": \"#E5ECF6\", \"gridcolor\": \"white\", \"gridwidth\": 2, \"linecolor\": \"white\", \"showbackground\": true, \"ticks\": \"\", \"zerolinecolor\": \"white\"}, \"zaxis\": {\"backgroundcolor\": \"#E5ECF6\", \"gridcolor\": \"white\", \"gridwidth\": 2, \"linecolor\": \"white\", \"showbackground\": true, \"ticks\": \"\", \"zerolinecolor\": \"white\"}}, \"shapedefaults\": {\"line\": {\"color\": \"#2a3f5f\"}}, \"ternary\": {\"aaxis\": {\"gridcolor\": \"white\", \"linecolor\": \"white\", \"ticks\": \"\"}, \"baxis\": {\"gridcolor\": \"white\", \"linecolor\": \"white\", \"ticks\": \"\"}, \"bgcolor\": \"#E5ECF6\", \"caxis\": {\"gridcolor\": \"white\", \"linecolor\": \"white\", \"ticks\": \"\"}}, \"title\": {\"x\": 0.05}, \"xaxis\": {\"automargin\": true, \"gridcolor\": \"white\", \"linecolor\": \"white\", \"ticks\": \"\", \"title\": {\"standoff\": 15}, \"zerolinecolor\": \"white\", \"zerolinewidth\": 2}, \"yaxis\": {\"automargin\": true, \"gridcolor\": \"white\", \"linecolor\": \"white\", \"ticks\": \"\", \"title\": {\"standoff\": 15}, \"zerolinecolor\": \"white\", \"zerolinewidth\": 2}}}, \"title\": {\"font\": {\"color\": \"#4D5663\"}}, \"xaxis\": {\"gridcolor\": \"#E1E5ED\", \"showgrid\": true, \"tickfont\": {\"color\": \"#4D5663\"}, \"title\": {\"font\": {\"color\": \"#4D5663\"}, \"text\": \"\"}, \"zerolinecolor\": \"#E1E5ED\"}, \"yaxis\": {\"gridcolor\": \"#E1E5ED\", \"showgrid\": true, \"tickfont\": {\"color\": \"#4D5663\"}, \"title\": {\"font\": {\"color\": \"#4D5663\"}, \"text\": \"\"}, \"zerolinecolor\": \"#E1E5ED\"}},                        {\"showLink\": true, \"linkText\": \"Export to plot.ly\", \"plotlyServerURL\": \"https://plot.ly\", \"responsive\": true}                    ).then(function(){\n",
       "                            \n",
       "var gd = document.getElementById('45d5f766-807e-46d6-ac2a-2edcec671e78');\n",
       "var x = new MutationObserver(function (mutations, observer) {{\n",
       "        var display = window.getComputedStyle(gd).display;\n",
       "        if (!display || display === 'none') {{\n",
       "            console.log([gd, 'removed!']);\n",
       "            Plotly.purge(gd);\n",
       "            observer.disconnect();\n",
       "        }}\n",
       "}});\n",
       "\n",
       "// Listen for the removal of the full notebook cells\n",
       "var notebookContainer = gd.closest('#notebook-container');\n",
       "if (notebookContainer) {{\n",
       "    x.observe(notebookContainer, {childList: true});\n",
       "}}\n",
       "\n",
       "// Listen for the clearing of the current output cell\n",
       "var outputEl = gd.closest('.output');\n",
       "if (outputEl) {{\n",
       "    x.observe(outputEl, {childList: true});\n",
       "}}\n",
       "\n",
       "                        })                };                });            </script>        </div>"
      ]
     },
     "metadata": {},
     "output_type": "display_data"
    }
   ],
   "source": [
    "df.iplot(kind='scatter',x='A',y='B',mode='markers',size=20)"
   ]
  },
  {
   "cell_type": "code",
   "execution_count": 27,
   "metadata": {},
   "outputs": [
    {
     "data": {
      "application/vnd.plotly.v1+json": {
       "config": {
        "linkText": "Export to plot.ly",
        "plotlyServerURL": "https://plot.ly",
        "showLink": true
       },
       "data": [
        {
         "marker": {
          "color": "rgba(255, 153, 51, 0.6)",
          "line": {
           "color": "rgba(255, 153, 51, 1.0)",
           "width": 1
          }
         },
         "name": "Values",
         "orientation": "v",
         "text": "",
         "type": "bar",
         "x": [
          "A",
          "B",
          "C"
         ],
         "y": [
          32,
          44,
          56
         ]
        }
       ],
       "layout": {
        "legend": {
         "bgcolor": "#F5F6F9",
         "font": {
          "color": "#4D5663"
         }
        },
        "paper_bgcolor": "#F5F6F9",
        "plot_bgcolor": "#F5F6F9",
        "template": {
         "data": {
          "bar": [
           {
            "error_x": {
             "color": "#2a3f5f"
            },
            "error_y": {
             "color": "#2a3f5f"
            },
            "marker": {
             "line": {
              "color": "#E5ECF6",
              "width": 0.5
             }
            },
            "type": "bar"
           }
          ],
          "barpolar": [
           {
            "marker": {
             "line": {
              "color": "#E5ECF6",
              "width": 0.5
             }
            },
            "type": "barpolar"
           }
          ],
          "carpet": [
           {
            "aaxis": {
             "endlinecolor": "#2a3f5f",
             "gridcolor": "white",
             "linecolor": "white",
             "minorgridcolor": "white",
             "startlinecolor": "#2a3f5f"
            },
            "baxis": {
             "endlinecolor": "#2a3f5f",
             "gridcolor": "white",
             "linecolor": "white",
             "minorgridcolor": "white",
             "startlinecolor": "#2a3f5f"
            },
            "type": "carpet"
           }
          ],
          "choropleth": [
           {
            "colorbar": {
             "outlinewidth": 0,
             "ticks": ""
            },
            "type": "choropleth"
           }
          ],
          "contour": [
           {
            "colorbar": {
             "outlinewidth": 0,
             "ticks": ""
            },
            "colorscale": [
             [
              0,
              "#0d0887"
             ],
             [
              0.1111111111111111,
              "#46039f"
             ],
             [
              0.2222222222222222,
              "#7201a8"
             ],
             [
              0.3333333333333333,
              "#9c179e"
             ],
             [
              0.4444444444444444,
              "#bd3786"
             ],
             [
              0.5555555555555556,
              "#d8576b"
             ],
             [
              0.6666666666666666,
              "#ed7953"
             ],
             [
              0.7777777777777778,
              "#fb9f3a"
             ],
             [
              0.8888888888888888,
              "#fdca26"
             ],
             [
              1,
              "#f0f921"
             ]
            ],
            "type": "contour"
           }
          ],
          "contourcarpet": [
           {
            "colorbar": {
             "outlinewidth": 0,
             "ticks": ""
            },
            "type": "contourcarpet"
           }
          ],
          "heatmap": [
           {
            "colorbar": {
             "outlinewidth": 0,
             "ticks": ""
            },
            "colorscale": [
             [
              0,
              "#0d0887"
             ],
             [
              0.1111111111111111,
              "#46039f"
             ],
             [
              0.2222222222222222,
              "#7201a8"
             ],
             [
              0.3333333333333333,
              "#9c179e"
             ],
             [
              0.4444444444444444,
              "#bd3786"
             ],
             [
              0.5555555555555556,
              "#d8576b"
             ],
             [
              0.6666666666666666,
              "#ed7953"
             ],
             [
              0.7777777777777778,
              "#fb9f3a"
             ],
             [
              0.8888888888888888,
              "#fdca26"
             ],
             [
              1,
              "#f0f921"
             ]
            ],
            "type": "heatmap"
           }
          ],
          "heatmapgl": [
           {
            "colorbar": {
             "outlinewidth": 0,
             "ticks": ""
            },
            "colorscale": [
             [
              0,
              "#0d0887"
             ],
             [
              0.1111111111111111,
              "#46039f"
             ],
             [
              0.2222222222222222,
              "#7201a8"
             ],
             [
              0.3333333333333333,
              "#9c179e"
             ],
             [
              0.4444444444444444,
              "#bd3786"
             ],
             [
              0.5555555555555556,
              "#d8576b"
             ],
             [
              0.6666666666666666,
              "#ed7953"
             ],
             [
              0.7777777777777778,
              "#fb9f3a"
             ],
             [
              0.8888888888888888,
              "#fdca26"
             ],
             [
              1,
              "#f0f921"
             ]
            ],
            "type": "heatmapgl"
           }
          ],
          "histogram": [
           {
            "marker": {
             "colorbar": {
              "outlinewidth": 0,
              "ticks": ""
             }
            },
            "type": "histogram"
           }
          ],
          "histogram2d": [
           {
            "colorbar": {
             "outlinewidth": 0,
             "ticks": ""
            },
            "colorscale": [
             [
              0,
              "#0d0887"
             ],
             [
              0.1111111111111111,
              "#46039f"
             ],
             [
              0.2222222222222222,
              "#7201a8"
             ],
             [
              0.3333333333333333,
              "#9c179e"
             ],
             [
              0.4444444444444444,
              "#bd3786"
             ],
             [
              0.5555555555555556,
              "#d8576b"
             ],
             [
              0.6666666666666666,
              "#ed7953"
             ],
             [
              0.7777777777777778,
              "#fb9f3a"
             ],
             [
              0.8888888888888888,
              "#fdca26"
             ],
             [
              1,
              "#f0f921"
             ]
            ],
            "type": "histogram2d"
           }
          ],
          "histogram2dcontour": [
           {
            "colorbar": {
             "outlinewidth": 0,
             "ticks": ""
            },
            "colorscale": [
             [
              0,
              "#0d0887"
             ],
             [
              0.1111111111111111,
              "#46039f"
             ],
             [
              0.2222222222222222,
              "#7201a8"
             ],
             [
              0.3333333333333333,
              "#9c179e"
             ],
             [
              0.4444444444444444,
              "#bd3786"
             ],
             [
              0.5555555555555556,
              "#d8576b"
             ],
             [
              0.6666666666666666,
              "#ed7953"
             ],
             [
              0.7777777777777778,
              "#fb9f3a"
             ],
             [
              0.8888888888888888,
              "#fdca26"
             ],
             [
              1,
              "#f0f921"
             ]
            ],
            "type": "histogram2dcontour"
           }
          ],
          "mesh3d": [
           {
            "colorbar": {
             "outlinewidth": 0,
             "ticks": ""
            },
            "type": "mesh3d"
           }
          ],
          "parcoords": [
           {
            "line": {
             "colorbar": {
              "outlinewidth": 0,
              "ticks": ""
             }
            },
            "type": "parcoords"
           }
          ],
          "pie": [
           {
            "automargin": true,
            "type": "pie"
           }
          ],
          "scatter": [
           {
            "marker": {
             "colorbar": {
              "outlinewidth": 0,
              "ticks": ""
             }
            },
            "type": "scatter"
           }
          ],
          "scatter3d": [
           {
            "line": {
             "colorbar": {
              "outlinewidth": 0,
              "ticks": ""
             }
            },
            "marker": {
             "colorbar": {
              "outlinewidth": 0,
              "ticks": ""
             }
            },
            "type": "scatter3d"
           }
          ],
          "scattercarpet": [
           {
            "marker": {
             "colorbar": {
              "outlinewidth": 0,
              "ticks": ""
             }
            },
            "type": "scattercarpet"
           }
          ],
          "scattergeo": [
           {
            "marker": {
             "colorbar": {
              "outlinewidth": 0,
              "ticks": ""
             }
            },
            "type": "scattergeo"
           }
          ],
          "scattergl": [
           {
            "marker": {
             "colorbar": {
              "outlinewidth": 0,
              "ticks": ""
             }
            },
            "type": "scattergl"
           }
          ],
          "scattermapbox": [
           {
            "marker": {
             "colorbar": {
              "outlinewidth": 0,
              "ticks": ""
             }
            },
            "type": "scattermapbox"
           }
          ],
          "scatterpolar": [
           {
            "marker": {
             "colorbar": {
              "outlinewidth": 0,
              "ticks": ""
             }
            },
            "type": "scatterpolar"
           }
          ],
          "scatterpolargl": [
           {
            "marker": {
             "colorbar": {
              "outlinewidth": 0,
              "ticks": ""
             }
            },
            "type": "scatterpolargl"
           }
          ],
          "scatterternary": [
           {
            "marker": {
             "colorbar": {
              "outlinewidth": 0,
              "ticks": ""
             }
            },
            "type": "scatterternary"
           }
          ],
          "surface": [
           {
            "colorbar": {
             "outlinewidth": 0,
             "ticks": ""
            },
            "colorscale": [
             [
              0,
              "#0d0887"
             ],
             [
              0.1111111111111111,
              "#46039f"
             ],
             [
              0.2222222222222222,
              "#7201a8"
             ],
             [
              0.3333333333333333,
              "#9c179e"
             ],
             [
              0.4444444444444444,
              "#bd3786"
             ],
             [
              0.5555555555555556,
              "#d8576b"
             ],
             [
              0.6666666666666666,
              "#ed7953"
             ],
             [
              0.7777777777777778,
              "#fb9f3a"
             ],
             [
              0.8888888888888888,
              "#fdca26"
             ],
             [
              1,
              "#f0f921"
             ]
            ],
            "type": "surface"
           }
          ],
          "table": [
           {
            "cells": {
             "fill": {
              "color": "#EBF0F8"
             },
             "line": {
              "color": "white"
             }
            },
            "header": {
             "fill": {
              "color": "#C8D4E3"
             },
             "line": {
              "color": "white"
             }
            },
            "type": "table"
           }
          ]
         },
         "layout": {
          "annotationdefaults": {
           "arrowcolor": "#2a3f5f",
           "arrowhead": 0,
           "arrowwidth": 1
          },
          "autotypenumbers": "strict",
          "coloraxis": {
           "colorbar": {
            "outlinewidth": 0,
            "ticks": ""
           }
          },
          "colorscale": {
           "diverging": [
            [
             0,
             "#8e0152"
            ],
            [
             0.1,
             "#c51b7d"
            ],
            [
             0.2,
             "#de77ae"
            ],
            [
             0.3,
             "#f1b6da"
            ],
            [
             0.4,
             "#fde0ef"
            ],
            [
             0.5,
             "#f7f7f7"
            ],
            [
             0.6,
             "#e6f5d0"
            ],
            [
             0.7,
             "#b8e186"
            ],
            [
             0.8,
             "#7fbc41"
            ],
            [
             0.9,
             "#4d9221"
            ],
            [
             1,
             "#276419"
            ]
           ],
           "sequential": [
            [
             0,
             "#0d0887"
            ],
            [
             0.1111111111111111,
             "#46039f"
            ],
            [
             0.2222222222222222,
             "#7201a8"
            ],
            [
             0.3333333333333333,
             "#9c179e"
            ],
            [
             0.4444444444444444,
             "#bd3786"
            ],
            [
             0.5555555555555556,
             "#d8576b"
            ],
            [
             0.6666666666666666,
             "#ed7953"
            ],
            [
             0.7777777777777778,
             "#fb9f3a"
            ],
            [
             0.8888888888888888,
             "#fdca26"
            ],
            [
             1,
             "#f0f921"
            ]
           ],
           "sequentialminus": [
            [
             0,
             "#0d0887"
            ],
            [
             0.1111111111111111,
             "#46039f"
            ],
            [
             0.2222222222222222,
             "#7201a8"
            ],
            [
             0.3333333333333333,
             "#9c179e"
            ],
            [
             0.4444444444444444,
             "#bd3786"
            ],
            [
             0.5555555555555556,
             "#d8576b"
            ],
            [
             0.6666666666666666,
             "#ed7953"
            ],
            [
             0.7777777777777778,
             "#fb9f3a"
            ],
            [
             0.8888888888888888,
             "#fdca26"
            ],
            [
             1,
             "#f0f921"
            ]
           ]
          },
          "colorway": [
           "#636efa",
           "#EF553B",
           "#00cc96",
           "#ab63fa",
           "#FFA15A",
           "#19d3f3",
           "#FF6692",
           "#B6E880",
           "#FF97FF",
           "#FECB52"
          ],
          "font": {
           "color": "#2a3f5f"
          },
          "geo": {
           "bgcolor": "white",
           "lakecolor": "white",
           "landcolor": "#E5ECF6",
           "showlakes": true,
           "showland": true,
           "subunitcolor": "white"
          },
          "hoverlabel": {
           "align": "left"
          },
          "hovermode": "closest",
          "mapbox": {
           "style": "light"
          },
          "paper_bgcolor": "white",
          "plot_bgcolor": "#E5ECF6",
          "polar": {
           "angularaxis": {
            "gridcolor": "white",
            "linecolor": "white",
            "ticks": ""
           },
           "bgcolor": "#E5ECF6",
           "radialaxis": {
            "gridcolor": "white",
            "linecolor": "white",
            "ticks": ""
           }
          },
          "scene": {
           "xaxis": {
            "backgroundcolor": "#E5ECF6",
            "gridcolor": "white",
            "gridwidth": 2,
            "linecolor": "white",
            "showbackground": true,
            "ticks": "",
            "zerolinecolor": "white"
           },
           "yaxis": {
            "backgroundcolor": "#E5ECF6",
            "gridcolor": "white",
            "gridwidth": 2,
            "linecolor": "white",
            "showbackground": true,
            "ticks": "",
            "zerolinecolor": "white"
           },
           "zaxis": {
            "backgroundcolor": "#E5ECF6",
            "gridcolor": "white",
            "gridwidth": 2,
            "linecolor": "white",
            "showbackground": true,
            "ticks": "",
            "zerolinecolor": "white"
           }
          },
          "shapedefaults": {
           "line": {
            "color": "#2a3f5f"
           }
          },
          "ternary": {
           "aaxis": {
            "gridcolor": "white",
            "linecolor": "white",
            "ticks": ""
           },
           "baxis": {
            "gridcolor": "white",
            "linecolor": "white",
            "ticks": ""
           },
           "bgcolor": "#E5ECF6",
           "caxis": {
            "gridcolor": "white",
            "linecolor": "white",
            "ticks": ""
           }
          },
          "title": {
           "x": 0.05
          },
          "xaxis": {
           "automargin": true,
           "gridcolor": "white",
           "linecolor": "white",
           "ticks": "",
           "title": {
            "standoff": 15
           },
           "zerolinecolor": "white",
           "zerolinewidth": 2
          },
          "yaxis": {
           "automargin": true,
           "gridcolor": "white",
           "linecolor": "white",
           "ticks": "",
           "title": {
            "standoff": 15
           },
           "zerolinecolor": "white",
           "zerolinewidth": 2
          }
         }
        },
        "title": {
         "font": {
          "color": "#4D5663"
         }
        },
        "xaxis": {
         "gridcolor": "#E1E5ED",
         "showgrid": true,
         "tickfont": {
          "color": "#4D5663"
         },
         "title": {
          "font": {
           "color": "#4D5663"
          },
          "text": ""
         },
         "zerolinecolor": "#E1E5ED"
        },
        "yaxis": {
         "gridcolor": "#E1E5ED",
         "showgrid": true,
         "tickfont": {
          "color": "#4D5663"
         },
         "title": {
          "font": {
           "color": "#4D5663"
          },
          "text": ""
         },
         "zerolinecolor": "#E1E5ED"
        }
       }
      },
      "text/html": [
       "<div>                            <div id=\"8dbba09c-c649-48fb-a9f0-05bfdf161733\" class=\"plotly-graph-div\" style=\"height:525px; width:100%;\"></div>            <script type=\"text/javascript\">                require([\"plotly\"], function(Plotly) {                    window.PLOTLYENV=window.PLOTLYENV || {};\n",
       "                    window.PLOTLYENV.BASE_URL='https://plot.ly';                                    if (document.getElementById(\"8dbba09c-c649-48fb-a9f0-05bfdf161733\")) {                    Plotly.newPlot(                        \"8dbba09c-c649-48fb-a9f0-05bfdf161733\",                        [{\"marker\": {\"color\": \"rgba(255, 153, 51, 0.6)\", \"line\": {\"color\": \"rgba(255, 153, 51, 1.0)\", \"width\": 1}}, \"name\": \"Values\", \"orientation\": \"v\", \"text\": \"\", \"type\": \"bar\", \"x\": [\"A\", \"B\", \"C\"], \"y\": [32, 44, 56]}],                        {\"legend\": {\"bgcolor\": \"#F5F6F9\", \"font\": {\"color\": \"#4D5663\"}}, \"paper_bgcolor\": \"#F5F6F9\", \"plot_bgcolor\": \"#F5F6F9\", \"template\": {\"data\": {\"bar\": [{\"error_x\": {\"color\": \"#2a3f5f\"}, \"error_y\": {\"color\": \"#2a3f5f\"}, \"marker\": {\"line\": {\"color\": \"#E5ECF6\", \"width\": 0.5}}, \"type\": \"bar\"}], \"barpolar\": [{\"marker\": {\"line\": {\"color\": \"#E5ECF6\", \"width\": 0.5}}, \"type\": \"barpolar\"}], \"carpet\": [{\"aaxis\": {\"endlinecolor\": \"#2a3f5f\", \"gridcolor\": \"white\", \"linecolor\": \"white\", \"minorgridcolor\": \"white\", \"startlinecolor\": \"#2a3f5f\"}, \"baxis\": {\"endlinecolor\": \"#2a3f5f\", \"gridcolor\": \"white\", \"linecolor\": \"white\", \"minorgridcolor\": \"white\", \"startlinecolor\": \"#2a3f5f\"}, \"type\": \"carpet\"}], \"choropleth\": [{\"colorbar\": {\"outlinewidth\": 0, \"ticks\": \"\"}, \"type\": \"choropleth\"}], \"contour\": [{\"colorbar\": {\"outlinewidth\": 0, \"ticks\": \"\"}, \"colorscale\": [[0.0, \"#0d0887\"], [0.1111111111111111, \"#46039f\"], [0.2222222222222222, \"#7201a8\"], [0.3333333333333333, \"#9c179e\"], [0.4444444444444444, \"#bd3786\"], [0.5555555555555556, \"#d8576b\"], [0.6666666666666666, \"#ed7953\"], [0.7777777777777778, \"#fb9f3a\"], [0.8888888888888888, \"#fdca26\"], [1.0, \"#f0f921\"]], \"type\": \"contour\"}], \"contourcarpet\": [{\"colorbar\": {\"outlinewidth\": 0, \"ticks\": \"\"}, \"type\": \"contourcarpet\"}], \"heatmap\": [{\"colorbar\": {\"outlinewidth\": 0, \"ticks\": \"\"}, \"colorscale\": [[0.0, \"#0d0887\"], [0.1111111111111111, \"#46039f\"], [0.2222222222222222, \"#7201a8\"], [0.3333333333333333, \"#9c179e\"], [0.4444444444444444, \"#bd3786\"], [0.5555555555555556, \"#d8576b\"], [0.6666666666666666, \"#ed7953\"], [0.7777777777777778, \"#fb9f3a\"], [0.8888888888888888, \"#fdca26\"], [1.0, \"#f0f921\"]], \"type\": \"heatmap\"}], \"heatmapgl\": [{\"colorbar\": {\"outlinewidth\": 0, \"ticks\": \"\"}, \"colorscale\": [[0.0, \"#0d0887\"], [0.1111111111111111, \"#46039f\"], [0.2222222222222222, \"#7201a8\"], [0.3333333333333333, \"#9c179e\"], [0.4444444444444444, \"#bd3786\"], [0.5555555555555556, \"#d8576b\"], [0.6666666666666666, \"#ed7953\"], [0.7777777777777778, \"#fb9f3a\"], [0.8888888888888888, \"#fdca26\"], [1.0, \"#f0f921\"]], \"type\": \"heatmapgl\"}], \"histogram\": [{\"marker\": {\"colorbar\": {\"outlinewidth\": 0, \"ticks\": \"\"}}, \"type\": \"histogram\"}], \"histogram2d\": [{\"colorbar\": {\"outlinewidth\": 0, \"ticks\": \"\"}, \"colorscale\": [[0.0, \"#0d0887\"], [0.1111111111111111, \"#46039f\"], [0.2222222222222222, \"#7201a8\"], [0.3333333333333333, \"#9c179e\"], [0.4444444444444444, \"#bd3786\"], [0.5555555555555556, \"#d8576b\"], [0.6666666666666666, \"#ed7953\"], [0.7777777777777778, \"#fb9f3a\"], [0.8888888888888888, \"#fdca26\"], [1.0, \"#f0f921\"]], \"type\": \"histogram2d\"}], \"histogram2dcontour\": [{\"colorbar\": {\"outlinewidth\": 0, \"ticks\": \"\"}, \"colorscale\": [[0.0, \"#0d0887\"], [0.1111111111111111, \"#46039f\"], [0.2222222222222222, \"#7201a8\"], [0.3333333333333333, \"#9c179e\"], [0.4444444444444444, \"#bd3786\"], [0.5555555555555556, \"#d8576b\"], [0.6666666666666666, \"#ed7953\"], [0.7777777777777778, \"#fb9f3a\"], [0.8888888888888888, \"#fdca26\"], [1.0, \"#f0f921\"]], \"type\": \"histogram2dcontour\"}], \"mesh3d\": [{\"colorbar\": {\"outlinewidth\": 0, \"ticks\": \"\"}, \"type\": \"mesh3d\"}], \"parcoords\": [{\"line\": {\"colorbar\": {\"outlinewidth\": 0, \"ticks\": \"\"}}, \"type\": \"parcoords\"}], \"pie\": [{\"automargin\": true, \"type\": \"pie\"}], \"scatter\": [{\"marker\": {\"colorbar\": {\"outlinewidth\": 0, \"ticks\": \"\"}}, \"type\": \"scatter\"}], \"scatter3d\": [{\"line\": {\"colorbar\": {\"outlinewidth\": 0, \"ticks\": \"\"}}, \"marker\": {\"colorbar\": {\"outlinewidth\": 0, \"ticks\": \"\"}}, \"type\": \"scatter3d\"}], \"scattercarpet\": [{\"marker\": {\"colorbar\": {\"outlinewidth\": 0, \"ticks\": \"\"}}, \"type\": \"scattercarpet\"}], \"scattergeo\": [{\"marker\": {\"colorbar\": {\"outlinewidth\": 0, \"ticks\": \"\"}}, \"type\": \"scattergeo\"}], \"scattergl\": [{\"marker\": {\"colorbar\": {\"outlinewidth\": 0, \"ticks\": \"\"}}, \"type\": \"scattergl\"}], \"scattermapbox\": [{\"marker\": {\"colorbar\": {\"outlinewidth\": 0, \"ticks\": \"\"}}, \"type\": \"scattermapbox\"}], \"scatterpolar\": [{\"marker\": {\"colorbar\": {\"outlinewidth\": 0, \"ticks\": \"\"}}, \"type\": \"scatterpolar\"}], \"scatterpolargl\": [{\"marker\": {\"colorbar\": {\"outlinewidth\": 0, \"ticks\": \"\"}}, \"type\": \"scatterpolargl\"}], \"scatterternary\": [{\"marker\": {\"colorbar\": {\"outlinewidth\": 0, \"ticks\": \"\"}}, \"type\": \"scatterternary\"}], \"surface\": [{\"colorbar\": {\"outlinewidth\": 0, \"ticks\": \"\"}, \"colorscale\": [[0.0, \"#0d0887\"], [0.1111111111111111, \"#46039f\"], [0.2222222222222222, \"#7201a8\"], [0.3333333333333333, \"#9c179e\"], [0.4444444444444444, \"#bd3786\"], [0.5555555555555556, \"#d8576b\"], [0.6666666666666666, \"#ed7953\"], [0.7777777777777778, \"#fb9f3a\"], [0.8888888888888888, \"#fdca26\"], [1.0, \"#f0f921\"]], \"type\": \"surface\"}], \"table\": [{\"cells\": {\"fill\": {\"color\": \"#EBF0F8\"}, \"line\": {\"color\": \"white\"}}, \"header\": {\"fill\": {\"color\": \"#C8D4E3\"}, \"line\": {\"color\": \"white\"}}, \"type\": \"table\"}]}, \"layout\": {\"annotationdefaults\": {\"arrowcolor\": \"#2a3f5f\", \"arrowhead\": 0, \"arrowwidth\": 1}, \"autotypenumbers\": \"strict\", \"coloraxis\": {\"colorbar\": {\"outlinewidth\": 0, \"ticks\": \"\"}}, \"colorscale\": {\"diverging\": [[0, \"#8e0152\"], [0.1, \"#c51b7d\"], [0.2, \"#de77ae\"], [0.3, \"#f1b6da\"], [0.4, \"#fde0ef\"], [0.5, \"#f7f7f7\"], [0.6, \"#e6f5d0\"], [0.7, \"#b8e186\"], [0.8, \"#7fbc41\"], [0.9, \"#4d9221\"], [1, \"#276419\"]], \"sequential\": [[0.0, \"#0d0887\"], [0.1111111111111111, \"#46039f\"], [0.2222222222222222, \"#7201a8\"], [0.3333333333333333, \"#9c179e\"], [0.4444444444444444, \"#bd3786\"], [0.5555555555555556, \"#d8576b\"], [0.6666666666666666, \"#ed7953\"], [0.7777777777777778, \"#fb9f3a\"], [0.8888888888888888, \"#fdca26\"], [1.0, \"#f0f921\"]], \"sequentialminus\": [[0.0, \"#0d0887\"], [0.1111111111111111, \"#46039f\"], [0.2222222222222222, \"#7201a8\"], [0.3333333333333333, \"#9c179e\"], [0.4444444444444444, \"#bd3786\"], [0.5555555555555556, \"#d8576b\"], [0.6666666666666666, \"#ed7953\"], [0.7777777777777778, \"#fb9f3a\"], [0.8888888888888888, \"#fdca26\"], [1.0, \"#f0f921\"]]}, \"colorway\": [\"#636efa\", \"#EF553B\", \"#00cc96\", \"#ab63fa\", \"#FFA15A\", \"#19d3f3\", \"#FF6692\", \"#B6E880\", \"#FF97FF\", \"#FECB52\"], \"font\": {\"color\": \"#2a3f5f\"}, \"geo\": {\"bgcolor\": \"white\", \"lakecolor\": \"white\", \"landcolor\": \"#E5ECF6\", \"showlakes\": true, \"showland\": true, \"subunitcolor\": \"white\"}, \"hoverlabel\": {\"align\": \"left\"}, \"hovermode\": \"closest\", \"mapbox\": {\"style\": \"light\"}, \"paper_bgcolor\": \"white\", \"plot_bgcolor\": \"#E5ECF6\", \"polar\": {\"angularaxis\": {\"gridcolor\": \"white\", \"linecolor\": \"white\", \"ticks\": \"\"}, \"bgcolor\": \"#E5ECF6\", \"radialaxis\": {\"gridcolor\": \"white\", \"linecolor\": \"white\", \"ticks\": \"\"}}, \"scene\": {\"xaxis\": {\"backgroundcolor\": \"#E5ECF6\", \"gridcolor\": \"white\", \"gridwidth\": 2, \"linecolor\": \"white\", \"showbackground\": true, \"ticks\": \"\", \"zerolinecolor\": \"white\"}, \"yaxis\": {\"backgroundcolor\": \"#E5ECF6\", \"gridcolor\": \"white\", \"gridwidth\": 2, \"linecolor\": \"white\", \"showbackground\": true, \"ticks\": \"\", \"zerolinecolor\": \"white\"}, \"zaxis\": {\"backgroundcolor\": \"#E5ECF6\", \"gridcolor\": \"white\", \"gridwidth\": 2, \"linecolor\": \"white\", \"showbackground\": true, \"ticks\": \"\", \"zerolinecolor\": \"white\"}}, \"shapedefaults\": {\"line\": {\"color\": \"#2a3f5f\"}}, \"ternary\": {\"aaxis\": {\"gridcolor\": \"white\", \"linecolor\": \"white\", \"ticks\": \"\"}, \"baxis\": {\"gridcolor\": \"white\", \"linecolor\": \"white\", \"ticks\": \"\"}, \"bgcolor\": \"#E5ECF6\", \"caxis\": {\"gridcolor\": \"white\", \"linecolor\": \"white\", \"ticks\": \"\"}}, \"title\": {\"x\": 0.05}, \"xaxis\": {\"automargin\": true, \"gridcolor\": \"white\", \"linecolor\": \"white\", \"ticks\": \"\", \"title\": {\"standoff\": 15}, \"zerolinecolor\": \"white\", \"zerolinewidth\": 2}, \"yaxis\": {\"automargin\": true, \"gridcolor\": \"white\", \"linecolor\": \"white\", \"ticks\": \"\", \"title\": {\"standoff\": 15}, \"zerolinecolor\": \"white\", \"zerolinewidth\": 2}}}, \"title\": {\"font\": {\"color\": \"#4D5663\"}}, \"xaxis\": {\"gridcolor\": \"#E1E5ED\", \"showgrid\": true, \"tickfont\": {\"color\": \"#4D5663\"}, \"title\": {\"font\": {\"color\": \"#4D5663\"}, \"text\": \"\"}, \"zerolinecolor\": \"#E1E5ED\"}, \"yaxis\": {\"gridcolor\": \"#E1E5ED\", \"showgrid\": true, \"tickfont\": {\"color\": \"#4D5663\"}, \"title\": {\"font\": {\"color\": \"#4D5663\"}, \"text\": \"\"}, \"zerolinecolor\": \"#E1E5ED\"}},                        {\"showLink\": true, \"linkText\": \"Export to plot.ly\", \"plotlyServerURL\": \"https://plot.ly\", \"responsive\": true}                    ).then(function(){\n",
       "                            \n",
       "var gd = document.getElementById('8dbba09c-c649-48fb-a9f0-05bfdf161733');\n",
       "var x = new MutationObserver(function (mutations, observer) {{\n",
       "        var display = window.getComputedStyle(gd).display;\n",
       "        if (!display || display === 'none') {{\n",
       "            console.log([gd, 'removed!']);\n",
       "            Plotly.purge(gd);\n",
       "            observer.disconnect();\n",
       "        }}\n",
       "}});\n",
       "\n",
       "// Listen for the removal of the full notebook cells\n",
       "var notebookContainer = gd.closest('#notebook-container');\n",
       "if (notebookContainer) {{\n",
       "    x.observe(notebookContainer, {childList: true});\n",
       "}}\n",
       "\n",
       "// Listen for the clearing of the current output cell\n",
       "var outputEl = gd.closest('.output');\n",
       "if (outputEl) {{\n",
       "    x.observe(outputEl, {childList: true});\n",
       "}}\n",
       "\n",
       "                        })                };                });            </script>        </div>"
      ]
     },
     "metadata": {},
     "output_type": "display_data"
    }
   ],
   "source": [
    "df2.iplot(kind='bar',x='Category',y='Values')"
   ]
  },
  {
   "cell_type": "code",
   "execution_count": 32,
   "metadata": {},
   "outputs": [
    {
     "data": {
      "application/vnd.plotly.v1+json": {
       "config": {
        "linkText": "Export to plot.ly",
        "plotlyServerURL": "https://plot.ly",
        "showLink": true
       },
       "data": [
        {
         "marker": {
          "color": "rgba(255, 153, 51, 0.6)",
          "line": {
           "color": "rgba(255, 153, 51, 1.0)",
           "width": 1
          }
         },
         "name": "None",
         "orientation": "v",
         "text": "",
         "type": "bar",
         "x": [
          "A",
          "B",
          "C",
          "D"
         ],
         "y": [
          10.380440216544493,
          5.969897916911964,
          -4.129959729869826,
          4.129441599284272
         ]
        }
       ],
       "layout": {
        "legend": {
         "bgcolor": "#F5F6F9",
         "font": {
          "color": "#4D5663"
         }
        },
        "paper_bgcolor": "#F5F6F9",
        "plot_bgcolor": "#F5F6F9",
        "template": {
         "data": {
          "bar": [
           {
            "error_x": {
             "color": "#2a3f5f"
            },
            "error_y": {
             "color": "#2a3f5f"
            },
            "marker": {
             "line": {
              "color": "#E5ECF6",
              "width": 0.5
             }
            },
            "type": "bar"
           }
          ],
          "barpolar": [
           {
            "marker": {
             "line": {
              "color": "#E5ECF6",
              "width": 0.5
             }
            },
            "type": "barpolar"
           }
          ],
          "carpet": [
           {
            "aaxis": {
             "endlinecolor": "#2a3f5f",
             "gridcolor": "white",
             "linecolor": "white",
             "minorgridcolor": "white",
             "startlinecolor": "#2a3f5f"
            },
            "baxis": {
             "endlinecolor": "#2a3f5f",
             "gridcolor": "white",
             "linecolor": "white",
             "minorgridcolor": "white",
             "startlinecolor": "#2a3f5f"
            },
            "type": "carpet"
           }
          ],
          "choropleth": [
           {
            "colorbar": {
             "outlinewidth": 0,
             "ticks": ""
            },
            "type": "choropleth"
           }
          ],
          "contour": [
           {
            "colorbar": {
             "outlinewidth": 0,
             "ticks": ""
            },
            "colorscale": [
             [
              0,
              "#0d0887"
             ],
             [
              0.1111111111111111,
              "#46039f"
             ],
             [
              0.2222222222222222,
              "#7201a8"
             ],
             [
              0.3333333333333333,
              "#9c179e"
             ],
             [
              0.4444444444444444,
              "#bd3786"
             ],
             [
              0.5555555555555556,
              "#d8576b"
             ],
             [
              0.6666666666666666,
              "#ed7953"
             ],
             [
              0.7777777777777778,
              "#fb9f3a"
             ],
             [
              0.8888888888888888,
              "#fdca26"
             ],
             [
              1,
              "#f0f921"
             ]
            ],
            "type": "contour"
           }
          ],
          "contourcarpet": [
           {
            "colorbar": {
             "outlinewidth": 0,
             "ticks": ""
            },
            "type": "contourcarpet"
           }
          ],
          "heatmap": [
           {
            "colorbar": {
             "outlinewidth": 0,
             "ticks": ""
            },
            "colorscale": [
             [
              0,
              "#0d0887"
             ],
             [
              0.1111111111111111,
              "#46039f"
             ],
             [
              0.2222222222222222,
              "#7201a8"
             ],
             [
              0.3333333333333333,
              "#9c179e"
             ],
             [
              0.4444444444444444,
              "#bd3786"
             ],
             [
              0.5555555555555556,
              "#d8576b"
             ],
             [
              0.6666666666666666,
              "#ed7953"
             ],
             [
              0.7777777777777778,
              "#fb9f3a"
             ],
             [
              0.8888888888888888,
              "#fdca26"
             ],
             [
              1,
              "#f0f921"
             ]
            ],
            "type": "heatmap"
           }
          ],
          "heatmapgl": [
           {
            "colorbar": {
             "outlinewidth": 0,
             "ticks": ""
            },
            "colorscale": [
             [
              0,
              "#0d0887"
             ],
             [
              0.1111111111111111,
              "#46039f"
             ],
             [
              0.2222222222222222,
              "#7201a8"
             ],
             [
              0.3333333333333333,
              "#9c179e"
             ],
             [
              0.4444444444444444,
              "#bd3786"
             ],
             [
              0.5555555555555556,
              "#d8576b"
             ],
             [
              0.6666666666666666,
              "#ed7953"
             ],
             [
              0.7777777777777778,
              "#fb9f3a"
             ],
             [
              0.8888888888888888,
              "#fdca26"
             ],
             [
              1,
              "#f0f921"
             ]
            ],
            "type": "heatmapgl"
           }
          ],
          "histogram": [
           {
            "marker": {
             "colorbar": {
              "outlinewidth": 0,
              "ticks": ""
             }
            },
            "type": "histogram"
           }
          ],
          "histogram2d": [
           {
            "colorbar": {
             "outlinewidth": 0,
             "ticks": ""
            },
            "colorscale": [
             [
              0,
              "#0d0887"
             ],
             [
              0.1111111111111111,
              "#46039f"
             ],
             [
              0.2222222222222222,
              "#7201a8"
             ],
             [
              0.3333333333333333,
              "#9c179e"
             ],
             [
              0.4444444444444444,
              "#bd3786"
             ],
             [
              0.5555555555555556,
              "#d8576b"
             ],
             [
              0.6666666666666666,
              "#ed7953"
             ],
             [
              0.7777777777777778,
              "#fb9f3a"
             ],
             [
              0.8888888888888888,
              "#fdca26"
             ],
             [
              1,
              "#f0f921"
             ]
            ],
            "type": "histogram2d"
           }
          ],
          "histogram2dcontour": [
           {
            "colorbar": {
             "outlinewidth": 0,
             "ticks": ""
            },
            "colorscale": [
             [
              0,
              "#0d0887"
             ],
             [
              0.1111111111111111,
              "#46039f"
             ],
             [
              0.2222222222222222,
              "#7201a8"
             ],
             [
              0.3333333333333333,
              "#9c179e"
             ],
             [
              0.4444444444444444,
              "#bd3786"
             ],
             [
              0.5555555555555556,
              "#d8576b"
             ],
             [
              0.6666666666666666,
              "#ed7953"
             ],
             [
              0.7777777777777778,
              "#fb9f3a"
             ],
             [
              0.8888888888888888,
              "#fdca26"
             ],
             [
              1,
              "#f0f921"
             ]
            ],
            "type": "histogram2dcontour"
           }
          ],
          "mesh3d": [
           {
            "colorbar": {
             "outlinewidth": 0,
             "ticks": ""
            },
            "type": "mesh3d"
           }
          ],
          "parcoords": [
           {
            "line": {
             "colorbar": {
              "outlinewidth": 0,
              "ticks": ""
             }
            },
            "type": "parcoords"
           }
          ],
          "pie": [
           {
            "automargin": true,
            "type": "pie"
           }
          ],
          "scatter": [
           {
            "marker": {
             "colorbar": {
              "outlinewidth": 0,
              "ticks": ""
             }
            },
            "type": "scatter"
           }
          ],
          "scatter3d": [
           {
            "line": {
             "colorbar": {
              "outlinewidth": 0,
              "ticks": ""
             }
            },
            "marker": {
             "colorbar": {
              "outlinewidth": 0,
              "ticks": ""
             }
            },
            "type": "scatter3d"
           }
          ],
          "scattercarpet": [
           {
            "marker": {
             "colorbar": {
              "outlinewidth": 0,
              "ticks": ""
             }
            },
            "type": "scattercarpet"
           }
          ],
          "scattergeo": [
           {
            "marker": {
             "colorbar": {
              "outlinewidth": 0,
              "ticks": ""
             }
            },
            "type": "scattergeo"
           }
          ],
          "scattergl": [
           {
            "marker": {
             "colorbar": {
              "outlinewidth": 0,
              "ticks": ""
             }
            },
            "type": "scattergl"
           }
          ],
          "scattermapbox": [
           {
            "marker": {
             "colorbar": {
              "outlinewidth": 0,
              "ticks": ""
             }
            },
            "type": "scattermapbox"
           }
          ],
          "scatterpolar": [
           {
            "marker": {
             "colorbar": {
              "outlinewidth": 0,
              "ticks": ""
             }
            },
            "type": "scatterpolar"
           }
          ],
          "scatterpolargl": [
           {
            "marker": {
             "colorbar": {
              "outlinewidth": 0,
              "ticks": ""
             }
            },
            "type": "scatterpolargl"
           }
          ],
          "scatterternary": [
           {
            "marker": {
             "colorbar": {
              "outlinewidth": 0,
              "ticks": ""
             }
            },
            "type": "scatterternary"
           }
          ],
          "surface": [
           {
            "colorbar": {
             "outlinewidth": 0,
             "ticks": ""
            },
            "colorscale": [
             [
              0,
              "#0d0887"
             ],
             [
              0.1111111111111111,
              "#46039f"
             ],
             [
              0.2222222222222222,
              "#7201a8"
             ],
             [
              0.3333333333333333,
              "#9c179e"
             ],
             [
              0.4444444444444444,
              "#bd3786"
             ],
             [
              0.5555555555555556,
              "#d8576b"
             ],
             [
              0.6666666666666666,
              "#ed7953"
             ],
             [
              0.7777777777777778,
              "#fb9f3a"
             ],
             [
              0.8888888888888888,
              "#fdca26"
             ],
             [
              1,
              "#f0f921"
             ]
            ],
            "type": "surface"
           }
          ],
          "table": [
           {
            "cells": {
             "fill": {
              "color": "#EBF0F8"
             },
             "line": {
              "color": "white"
             }
            },
            "header": {
             "fill": {
              "color": "#C8D4E3"
             },
             "line": {
              "color": "white"
             }
            },
            "type": "table"
           }
          ]
         },
         "layout": {
          "annotationdefaults": {
           "arrowcolor": "#2a3f5f",
           "arrowhead": 0,
           "arrowwidth": 1
          },
          "autotypenumbers": "strict",
          "coloraxis": {
           "colorbar": {
            "outlinewidth": 0,
            "ticks": ""
           }
          },
          "colorscale": {
           "diverging": [
            [
             0,
             "#8e0152"
            ],
            [
             0.1,
             "#c51b7d"
            ],
            [
             0.2,
             "#de77ae"
            ],
            [
             0.3,
             "#f1b6da"
            ],
            [
             0.4,
             "#fde0ef"
            ],
            [
             0.5,
             "#f7f7f7"
            ],
            [
             0.6,
             "#e6f5d0"
            ],
            [
             0.7,
             "#b8e186"
            ],
            [
             0.8,
             "#7fbc41"
            ],
            [
             0.9,
             "#4d9221"
            ],
            [
             1,
             "#276419"
            ]
           ],
           "sequential": [
            [
             0,
             "#0d0887"
            ],
            [
             0.1111111111111111,
             "#46039f"
            ],
            [
             0.2222222222222222,
             "#7201a8"
            ],
            [
             0.3333333333333333,
             "#9c179e"
            ],
            [
             0.4444444444444444,
             "#bd3786"
            ],
            [
             0.5555555555555556,
             "#d8576b"
            ],
            [
             0.6666666666666666,
             "#ed7953"
            ],
            [
             0.7777777777777778,
             "#fb9f3a"
            ],
            [
             0.8888888888888888,
             "#fdca26"
            ],
            [
             1,
             "#f0f921"
            ]
           ],
           "sequentialminus": [
            [
             0,
             "#0d0887"
            ],
            [
             0.1111111111111111,
             "#46039f"
            ],
            [
             0.2222222222222222,
             "#7201a8"
            ],
            [
             0.3333333333333333,
             "#9c179e"
            ],
            [
             0.4444444444444444,
             "#bd3786"
            ],
            [
             0.5555555555555556,
             "#d8576b"
            ],
            [
             0.6666666666666666,
             "#ed7953"
            ],
            [
             0.7777777777777778,
             "#fb9f3a"
            ],
            [
             0.8888888888888888,
             "#fdca26"
            ],
            [
             1,
             "#f0f921"
            ]
           ]
          },
          "colorway": [
           "#636efa",
           "#EF553B",
           "#00cc96",
           "#ab63fa",
           "#FFA15A",
           "#19d3f3",
           "#FF6692",
           "#B6E880",
           "#FF97FF",
           "#FECB52"
          ],
          "font": {
           "color": "#2a3f5f"
          },
          "geo": {
           "bgcolor": "white",
           "lakecolor": "white",
           "landcolor": "#E5ECF6",
           "showlakes": true,
           "showland": true,
           "subunitcolor": "white"
          },
          "hoverlabel": {
           "align": "left"
          },
          "hovermode": "closest",
          "mapbox": {
           "style": "light"
          },
          "paper_bgcolor": "white",
          "plot_bgcolor": "#E5ECF6",
          "polar": {
           "angularaxis": {
            "gridcolor": "white",
            "linecolor": "white",
            "ticks": ""
           },
           "bgcolor": "#E5ECF6",
           "radialaxis": {
            "gridcolor": "white",
            "linecolor": "white",
            "ticks": ""
           }
          },
          "scene": {
           "xaxis": {
            "backgroundcolor": "#E5ECF6",
            "gridcolor": "white",
            "gridwidth": 2,
            "linecolor": "white",
            "showbackground": true,
            "ticks": "",
            "zerolinecolor": "white"
           },
           "yaxis": {
            "backgroundcolor": "#E5ECF6",
            "gridcolor": "white",
            "gridwidth": 2,
            "linecolor": "white",
            "showbackground": true,
            "ticks": "",
            "zerolinecolor": "white"
           },
           "zaxis": {
            "backgroundcolor": "#E5ECF6",
            "gridcolor": "white",
            "gridwidth": 2,
            "linecolor": "white",
            "showbackground": true,
            "ticks": "",
            "zerolinecolor": "white"
           }
          },
          "shapedefaults": {
           "line": {
            "color": "#2a3f5f"
           }
          },
          "ternary": {
           "aaxis": {
            "gridcolor": "white",
            "linecolor": "white",
            "ticks": ""
           },
           "baxis": {
            "gridcolor": "white",
            "linecolor": "white",
            "ticks": ""
           },
           "bgcolor": "#E5ECF6",
           "caxis": {
            "gridcolor": "white",
            "linecolor": "white",
            "ticks": ""
           }
          },
          "title": {
           "x": 0.05
          },
          "xaxis": {
           "automargin": true,
           "gridcolor": "white",
           "linecolor": "white",
           "ticks": "",
           "title": {
            "standoff": 15
           },
           "zerolinecolor": "white",
           "zerolinewidth": 2
          },
          "yaxis": {
           "automargin": true,
           "gridcolor": "white",
           "linecolor": "white",
           "ticks": "",
           "title": {
            "standoff": 15
           },
           "zerolinecolor": "white",
           "zerolinewidth": 2
          }
         }
        },
        "title": {
         "font": {
          "color": "#4D5663"
         }
        },
        "xaxis": {
         "gridcolor": "#E1E5ED",
         "showgrid": true,
         "tickfont": {
          "color": "#4D5663"
         },
         "title": {
          "font": {
           "color": "#4D5663"
          },
          "text": ""
         },
         "zerolinecolor": "#E1E5ED"
        },
        "yaxis": {
         "gridcolor": "#E1E5ED",
         "showgrid": true,
         "tickfont": {
          "color": "#4D5663"
         },
         "title": {
          "font": {
           "color": "#4D5663"
          },
          "text": ""
         },
         "zerolinecolor": "#E1E5ED"
        }
       }
      },
      "text/html": [
       "<div>                            <div id=\"899f1a6e-5e58-4abf-8219-72343b75545c\" class=\"plotly-graph-div\" style=\"height:525px; width:100%;\"></div>            <script type=\"text/javascript\">                require([\"plotly\"], function(Plotly) {                    window.PLOTLYENV=window.PLOTLYENV || {};\n",
       "                    window.PLOTLYENV.BASE_URL='https://plot.ly';                                    if (document.getElementById(\"899f1a6e-5e58-4abf-8219-72343b75545c\")) {                    Plotly.newPlot(                        \"899f1a6e-5e58-4abf-8219-72343b75545c\",                        [{\"marker\": {\"color\": \"rgba(255, 153, 51, 0.6)\", \"line\": {\"color\": \"rgba(255, 153, 51, 1.0)\", \"width\": 1}}, \"name\": \"None\", \"orientation\": \"v\", \"text\": \"\", \"type\": \"bar\", \"x\": [\"A\", \"B\", \"C\", \"D\"], \"y\": [10.380440216544493, 5.969897916911964, -4.129959729869826, 4.129441599284272]}],                        {\"legend\": {\"bgcolor\": \"#F5F6F9\", \"font\": {\"color\": \"#4D5663\"}}, \"paper_bgcolor\": \"#F5F6F9\", \"plot_bgcolor\": \"#F5F6F9\", \"template\": {\"data\": {\"bar\": [{\"error_x\": {\"color\": \"#2a3f5f\"}, \"error_y\": {\"color\": \"#2a3f5f\"}, \"marker\": {\"line\": {\"color\": \"#E5ECF6\", \"width\": 0.5}}, \"type\": \"bar\"}], \"barpolar\": [{\"marker\": {\"line\": {\"color\": \"#E5ECF6\", \"width\": 0.5}}, \"type\": \"barpolar\"}], \"carpet\": [{\"aaxis\": {\"endlinecolor\": \"#2a3f5f\", \"gridcolor\": \"white\", \"linecolor\": \"white\", \"minorgridcolor\": \"white\", \"startlinecolor\": \"#2a3f5f\"}, \"baxis\": {\"endlinecolor\": \"#2a3f5f\", \"gridcolor\": \"white\", \"linecolor\": \"white\", \"minorgridcolor\": \"white\", \"startlinecolor\": \"#2a3f5f\"}, \"type\": \"carpet\"}], \"choropleth\": [{\"colorbar\": {\"outlinewidth\": 0, \"ticks\": \"\"}, \"type\": \"choropleth\"}], \"contour\": [{\"colorbar\": {\"outlinewidth\": 0, \"ticks\": \"\"}, \"colorscale\": [[0.0, \"#0d0887\"], [0.1111111111111111, \"#46039f\"], [0.2222222222222222, \"#7201a8\"], [0.3333333333333333, \"#9c179e\"], [0.4444444444444444, \"#bd3786\"], [0.5555555555555556, \"#d8576b\"], [0.6666666666666666, \"#ed7953\"], [0.7777777777777778, \"#fb9f3a\"], [0.8888888888888888, \"#fdca26\"], [1.0, \"#f0f921\"]], \"type\": \"contour\"}], \"contourcarpet\": [{\"colorbar\": {\"outlinewidth\": 0, \"ticks\": \"\"}, \"type\": \"contourcarpet\"}], \"heatmap\": [{\"colorbar\": {\"outlinewidth\": 0, \"ticks\": \"\"}, \"colorscale\": [[0.0, \"#0d0887\"], [0.1111111111111111, \"#46039f\"], [0.2222222222222222, \"#7201a8\"], [0.3333333333333333, \"#9c179e\"], [0.4444444444444444, \"#bd3786\"], [0.5555555555555556, \"#d8576b\"], [0.6666666666666666, \"#ed7953\"], [0.7777777777777778, \"#fb9f3a\"], [0.8888888888888888, \"#fdca26\"], [1.0, \"#f0f921\"]], \"type\": \"heatmap\"}], \"heatmapgl\": [{\"colorbar\": {\"outlinewidth\": 0, \"ticks\": \"\"}, \"colorscale\": [[0.0, \"#0d0887\"], [0.1111111111111111, \"#46039f\"], [0.2222222222222222, \"#7201a8\"], [0.3333333333333333, \"#9c179e\"], [0.4444444444444444, \"#bd3786\"], [0.5555555555555556, \"#d8576b\"], [0.6666666666666666, \"#ed7953\"], [0.7777777777777778, \"#fb9f3a\"], [0.8888888888888888, \"#fdca26\"], [1.0, \"#f0f921\"]], \"type\": \"heatmapgl\"}], \"histogram\": [{\"marker\": {\"colorbar\": {\"outlinewidth\": 0, \"ticks\": \"\"}}, \"type\": \"histogram\"}], \"histogram2d\": [{\"colorbar\": {\"outlinewidth\": 0, \"ticks\": \"\"}, \"colorscale\": [[0.0, \"#0d0887\"], [0.1111111111111111, \"#46039f\"], [0.2222222222222222, \"#7201a8\"], [0.3333333333333333, \"#9c179e\"], [0.4444444444444444, \"#bd3786\"], [0.5555555555555556, \"#d8576b\"], [0.6666666666666666, \"#ed7953\"], [0.7777777777777778, \"#fb9f3a\"], [0.8888888888888888, \"#fdca26\"], [1.0, \"#f0f921\"]], \"type\": \"histogram2d\"}], \"histogram2dcontour\": [{\"colorbar\": {\"outlinewidth\": 0, \"ticks\": \"\"}, \"colorscale\": [[0.0, \"#0d0887\"], [0.1111111111111111, \"#46039f\"], [0.2222222222222222, \"#7201a8\"], [0.3333333333333333, \"#9c179e\"], [0.4444444444444444, \"#bd3786\"], [0.5555555555555556, \"#d8576b\"], [0.6666666666666666, \"#ed7953\"], [0.7777777777777778, \"#fb9f3a\"], [0.8888888888888888, \"#fdca26\"], [1.0, \"#f0f921\"]], \"type\": \"histogram2dcontour\"}], \"mesh3d\": [{\"colorbar\": {\"outlinewidth\": 0, \"ticks\": \"\"}, \"type\": \"mesh3d\"}], \"parcoords\": [{\"line\": {\"colorbar\": {\"outlinewidth\": 0, \"ticks\": \"\"}}, \"type\": \"parcoords\"}], \"pie\": [{\"automargin\": true, \"type\": \"pie\"}], \"scatter\": [{\"marker\": {\"colorbar\": {\"outlinewidth\": 0, \"ticks\": \"\"}}, \"type\": \"scatter\"}], \"scatter3d\": [{\"line\": {\"colorbar\": {\"outlinewidth\": 0, \"ticks\": \"\"}}, \"marker\": {\"colorbar\": {\"outlinewidth\": 0, \"ticks\": \"\"}}, \"type\": \"scatter3d\"}], \"scattercarpet\": [{\"marker\": {\"colorbar\": {\"outlinewidth\": 0, \"ticks\": \"\"}}, \"type\": \"scattercarpet\"}], \"scattergeo\": [{\"marker\": {\"colorbar\": {\"outlinewidth\": 0, \"ticks\": \"\"}}, \"type\": \"scattergeo\"}], \"scattergl\": [{\"marker\": {\"colorbar\": {\"outlinewidth\": 0, \"ticks\": \"\"}}, \"type\": \"scattergl\"}], \"scattermapbox\": [{\"marker\": {\"colorbar\": {\"outlinewidth\": 0, \"ticks\": \"\"}}, \"type\": \"scattermapbox\"}], \"scatterpolar\": [{\"marker\": {\"colorbar\": {\"outlinewidth\": 0, \"ticks\": \"\"}}, \"type\": \"scatterpolar\"}], \"scatterpolargl\": [{\"marker\": {\"colorbar\": {\"outlinewidth\": 0, \"ticks\": \"\"}}, \"type\": \"scatterpolargl\"}], \"scatterternary\": [{\"marker\": {\"colorbar\": {\"outlinewidth\": 0, \"ticks\": \"\"}}, \"type\": \"scatterternary\"}], \"surface\": [{\"colorbar\": {\"outlinewidth\": 0, \"ticks\": \"\"}, \"colorscale\": [[0.0, \"#0d0887\"], [0.1111111111111111, \"#46039f\"], [0.2222222222222222, \"#7201a8\"], [0.3333333333333333, \"#9c179e\"], [0.4444444444444444, \"#bd3786\"], [0.5555555555555556, \"#d8576b\"], [0.6666666666666666, \"#ed7953\"], [0.7777777777777778, \"#fb9f3a\"], [0.8888888888888888, \"#fdca26\"], [1.0, \"#f0f921\"]], \"type\": \"surface\"}], \"table\": [{\"cells\": {\"fill\": {\"color\": \"#EBF0F8\"}, \"line\": {\"color\": \"white\"}}, \"header\": {\"fill\": {\"color\": \"#C8D4E3\"}, \"line\": {\"color\": \"white\"}}, \"type\": \"table\"}]}, \"layout\": {\"annotationdefaults\": {\"arrowcolor\": \"#2a3f5f\", \"arrowhead\": 0, \"arrowwidth\": 1}, \"autotypenumbers\": \"strict\", \"coloraxis\": {\"colorbar\": {\"outlinewidth\": 0, \"ticks\": \"\"}}, \"colorscale\": {\"diverging\": [[0, \"#8e0152\"], [0.1, \"#c51b7d\"], [0.2, \"#de77ae\"], [0.3, \"#f1b6da\"], [0.4, \"#fde0ef\"], [0.5, \"#f7f7f7\"], [0.6, \"#e6f5d0\"], [0.7, \"#b8e186\"], [0.8, \"#7fbc41\"], [0.9, \"#4d9221\"], [1, \"#276419\"]], \"sequential\": [[0.0, \"#0d0887\"], [0.1111111111111111, \"#46039f\"], [0.2222222222222222, \"#7201a8\"], [0.3333333333333333, \"#9c179e\"], [0.4444444444444444, \"#bd3786\"], [0.5555555555555556, \"#d8576b\"], [0.6666666666666666, \"#ed7953\"], [0.7777777777777778, \"#fb9f3a\"], [0.8888888888888888, \"#fdca26\"], [1.0, \"#f0f921\"]], \"sequentialminus\": [[0.0, \"#0d0887\"], [0.1111111111111111, \"#46039f\"], [0.2222222222222222, \"#7201a8\"], [0.3333333333333333, \"#9c179e\"], [0.4444444444444444, \"#bd3786\"], [0.5555555555555556, \"#d8576b\"], [0.6666666666666666, \"#ed7953\"], [0.7777777777777778, \"#fb9f3a\"], [0.8888888888888888, \"#fdca26\"], [1.0, \"#f0f921\"]]}, \"colorway\": [\"#636efa\", \"#EF553B\", \"#00cc96\", \"#ab63fa\", \"#FFA15A\", \"#19d3f3\", \"#FF6692\", \"#B6E880\", \"#FF97FF\", \"#FECB52\"], \"font\": {\"color\": \"#2a3f5f\"}, \"geo\": {\"bgcolor\": \"white\", \"lakecolor\": \"white\", \"landcolor\": \"#E5ECF6\", \"showlakes\": true, \"showland\": true, \"subunitcolor\": \"white\"}, \"hoverlabel\": {\"align\": \"left\"}, \"hovermode\": \"closest\", \"mapbox\": {\"style\": \"light\"}, \"paper_bgcolor\": \"white\", \"plot_bgcolor\": \"#E5ECF6\", \"polar\": {\"angularaxis\": {\"gridcolor\": \"white\", \"linecolor\": \"white\", \"ticks\": \"\"}, \"bgcolor\": \"#E5ECF6\", \"radialaxis\": {\"gridcolor\": \"white\", \"linecolor\": \"white\", \"ticks\": \"\"}}, \"scene\": {\"xaxis\": {\"backgroundcolor\": \"#E5ECF6\", \"gridcolor\": \"white\", \"gridwidth\": 2, \"linecolor\": \"white\", \"showbackground\": true, \"ticks\": \"\", \"zerolinecolor\": \"white\"}, \"yaxis\": {\"backgroundcolor\": \"#E5ECF6\", \"gridcolor\": \"white\", \"gridwidth\": 2, \"linecolor\": \"white\", \"showbackground\": true, \"ticks\": \"\", \"zerolinecolor\": \"white\"}, \"zaxis\": {\"backgroundcolor\": \"#E5ECF6\", \"gridcolor\": \"white\", \"gridwidth\": 2, \"linecolor\": \"white\", \"showbackground\": true, \"ticks\": \"\", \"zerolinecolor\": \"white\"}}, \"shapedefaults\": {\"line\": {\"color\": \"#2a3f5f\"}}, \"ternary\": {\"aaxis\": {\"gridcolor\": \"white\", \"linecolor\": \"white\", \"ticks\": \"\"}, \"baxis\": {\"gridcolor\": \"white\", \"linecolor\": \"white\", \"ticks\": \"\"}, \"bgcolor\": \"#E5ECF6\", \"caxis\": {\"gridcolor\": \"white\", \"linecolor\": \"white\", \"ticks\": \"\"}}, \"title\": {\"x\": 0.05}, \"xaxis\": {\"automargin\": true, \"gridcolor\": \"white\", \"linecolor\": \"white\", \"ticks\": \"\", \"title\": {\"standoff\": 15}, \"zerolinecolor\": \"white\", \"zerolinewidth\": 2}, \"yaxis\": {\"automargin\": true, \"gridcolor\": \"white\", \"linecolor\": \"white\", \"ticks\": \"\", \"title\": {\"standoff\": 15}, \"zerolinecolor\": \"white\", \"zerolinewidth\": 2}}}, \"title\": {\"font\": {\"color\": \"#4D5663\"}}, \"xaxis\": {\"gridcolor\": \"#E1E5ED\", \"showgrid\": true, \"tickfont\": {\"color\": \"#4D5663\"}, \"title\": {\"font\": {\"color\": \"#4D5663\"}, \"text\": \"\"}, \"zerolinecolor\": \"#E1E5ED\"}, \"yaxis\": {\"gridcolor\": \"#E1E5ED\", \"showgrid\": true, \"tickfont\": {\"color\": \"#4D5663\"}, \"title\": {\"font\": {\"color\": \"#4D5663\"}, \"text\": \"\"}, \"zerolinecolor\": \"#E1E5ED\"}},                        {\"showLink\": true, \"linkText\": \"Export to plot.ly\", \"plotlyServerURL\": \"https://plot.ly\", \"responsive\": true}                    ).then(function(){\n",
       "                            \n",
       "var gd = document.getElementById('899f1a6e-5e58-4abf-8219-72343b75545c');\n",
       "var x = new MutationObserver(function (mutations, observer) {{\n",
       "        var display = window.getComputedStyle(gd).display;\n",
       "        if (!display || display === 'none') {{\n",
       "            console.log([gd, 'removed!']);\n",
       "            Plotly.purge(gd);\n",
       "            observer.disconnect();\n",
       "        }}\n",
       "}});\n",
       "\n",
       "// Listen for the removal of the full notebook cells\n",
       "var notebookContainer = gd.closest('#notebook-container');\n",
       "if (notebookContainer) {{\n",
       "    x.observe(notebookContainer, {childList: true});\n",
       "}}\n",
       "\n",
       "// Listen for the clearing of the current output cell\n",
       "var outputEl = gd.closest('.output');\n",
       "if (outputEl) {{\n",
       "    x.observe(outputEl, {childList: true});\n",
       "}}\n",
       "\n",
       "                        })                };                });            </script>        </div>"
      ]
     },
     "metadata": {},
     "output_type": "display_data"
    }
   ],
   "source": [
    "df.sum().iplot(kind='bar')"
   ]
  },
  {
   "cell_type": "code",
   "execution_count": 34,
   "metadata": {},
   "outputs": [
    {
     "data": {
      "application/vnd.plotly.v1+json": {
       "config": {
        "linkText": "Export to plot.ly",
        "plotlyServerURL": "https://plot.ly",
        "showLink": true
       },
       "data": [
        {
         "boxpoints": false,
         "line": {
          "width": 1.3
         },
         "marker": {
          "color": "rgba(255, 153, 51, 1.0)"
         },
         "name": "A",
         "orientation": "v",
         "type": "box",
         "y": [
          0.20504070623313753,
          0.6286778475688474,
          -1.1946960815376417,
          -1.3183627315384152,
          0.7287269751944572,
          0.8722269481098422,
          -0.13166269309223982,
          -1.9357840606631018,
          0.4145336921882121,
          -0.6069916193966661,
          0.390215883251644,
          -0.45734674356014016,
          1.193349051418664,
          1.235556532466609,
          1.6291582358653538,
          1.1395764553378547,
          -0.010775928268597778,
          1.206843095845801,
          -0.9600146154713587,
          -0.966140199254339,
          0.19169949104174405,
          -0.14918790595603876,
          0.5686543373940673,
          -0.24045778518832012,
          0.6366295721983622,
          1.1522381506685453,
          1.9336345364130645,
          2.006996624653642,
          -0.023025978960075136,
          0.18993942931543212,
          -1.4296539266874184,
          0.43382004511192135,
          -0.7306127696972191,
          -0.05578944403470869,
          -0.08472001405877864,
          -0.1149714121493137,
          0.7358612175856649,
          -0.6923771671588429,
          -0.25387934755682223,
          -2.0722680287624553,
          -0.5165814241979004,
          1.6736494345930495,
          -0.5336323351896277,
          1.4616808532371586,
          1.2048074779808589,
          -1.2840849645974888,
          -0.17814633696158727,
          1.0474906379523012,
          0.38688412823874413,
          0.5918234597806681,
          -1.3531856261517683,
          0.24341156761558463,
          -0.7017222749850373,
          0.6123500849073915,
          -0.8479136012893379,
          1.531831449493807,
          -0.08902284414868179,
          -1.8178227460471446,
          -0.5109149743900608,
          -0.019596110540417384,
          -0.6983446018771495,
          2.1094904333757407,
          -0.6311966451758331,
          -0.7047558807060837,
          0.14788823265526901,
          1.3716817074401486,
          0.014617163284772135,
          -0.8243567459465074,
          0.3123554784595387,
          0.006117282091226412,
          -0.44574685438333156,
          0.19146184772892774,
          -0.510564268279504,
          0.8130753024382118,
          2.3632960388245143,
          2.116807945200409,
          -0.7750854668514382,
          1.1030058690899103,
          -1.0730902732448744,
          -0.7826004688457083,
          -0.19255772560734755,
          -1.6458945809351144,
          -1.149219201933772,
          0.06545680442591104,
          1.2970608422251297,
          0.3995935105107383,
          1.0046285769041494,
          2.6049159767101853,
          0.2648980896996127,
          -1.5712641398967868,
          -0.7776854787695353,
          0.21347068389058088,
          0.20585723656867927,
          1.9571203104075063,
          -0.6410346456022266,
          -0.9414275827775105,
          1.2276831536344308,
          -0.007015283300855964,
          0.23646616205819243,
          -1.2406348171165948
         ]
        },
        {
         "boxpoints": false,
         "line": {
          "width": 1.3
         },
         "marker": {
          "color": "rgba(55, 128, 191, 1.0)"
         },
         "name": "B",
         "orientation": "v",
         "type": "box",
         "y": [
          -0.5439617119205455,
          -0.5704148841714516,
          -1.07662655822544,
          -0.8474093020614032,
          -0.4040721263713018,
          -0.22032162653824705,
          0.984810825036386,
          0.6459982295599839,
          0.9625977558237383,
          0.32961616491736717,
          -0.6383325120225408,
          1.7682720359532031,
          -0.7006348852403254,
          -0.2562716741210957,
          -1.2177123975522377,
          -0.16734060804219206,
          0.43907261092386024,
          -0.18906110667888334,
          1.1993281288587738,
          -0.20811431926451315,
          -1.0049310034719965,
          -0.22976703532601245,
          -0.13894060084069174,
          1.2275994471410943,
          1.342734485378966,
          1.1665077733710503,
          -0.5434498879083448,
          -0.4092649210874944,
          0.33338528689970426,
          0.7670594173207315,
          0.7872973798422225,
          -0.1606048434279647,
          0.2843664711766602,
          0.571068693668149,
          -3.086080376151923,
          -0.4849501045316944,
          0.7980458181885236,
          0.5868466116667443,
          -0.9166483893763678,
          -0.1704246184052833,
          0.22117865067943315,
          -1.3201080068609135,
          0.7568133206374094,
          2.4676468487452357,
          -1.068703071956845,
          -0.6291258641268789,
          1.163415410221566,
          -0.12339604673539196,
          0.9367836611456651,
          -0.24948621721976244,
          -1.1576699893858196,
          1.5757959197628753,
          0.27451804126694296,
          -0.3405120090081654,
          0.5495521734370964,
          1.0455429042100273,
          -1.132207339071681,
          1.2103819750274107,
          -0.6528387602045533,
          0.06822891946103009,
          0.10930141977857291,
          -1.1210045578232524,
          -0.37174364013106725,
          0.8746799851128227,
          0.01530574132809894,
          -1.5607767191556627,
          0.3083227911857838,
          -1.8757128537357166,
          -0.05906016862387303,
          0.6244298300094971,
          0.03480897073112098,
          -0.8132032260998618,
          0.40371608126509506,
          -0.5250713115573913,
          -0.3599740532761306,
          0.6436866021813002,
          0.10040758411756084,
          1.106344944184813,
          -1.164546239406862,
          -0.6021822918337024,
          0.24359876936141814,
          -0.2115220974504064,
          0.9546210335566907,
          -0.7064555912566168,
          0.8642221033273032,
          0.876847424360984,
          1.6238480437140206,
          0.004990774537376512,
          -0.14310145325778864,
          0.4816044490155595,
          -0.46065909217859663,
          -0.30586794082918434,
          0.8313503097531753,
          0.6402120611320695,
          0.026544256531318044,
          0.04778410984681494,
          -0.39801425662921003,
          0.16233095530239772,
          1.0638768169666544,
          1.0008761898429492
         ]
        },
        {
         "boxpoints": false,
         "line": {
          "width": 1.3
         },
         "marker": {
          "color": "rgba(50, 171, 96, 1.0)"
         },
         "name": "C",
         "orientation": "v",
         "type": "box",
         "y": [
          0.5094294545126851,
          0.40320328228473257,
          -1.0451455220014838,
          1.9383884793219393,
          -1.1195269397610115,
          0.007417765090974777,
          0.0588735676736962,
          1.4486831838718595,
          0.6033313242291225,
          0.2749585077448684,
          -0.3975965848616199,
          0.40541201204441385,
          -0.5847945348136395,
          0.38849113522084433,
          0.20767229072108584,
          -1.240562416080876,
          0.039246829653464245,
          0.05941618583021419,
          0.9176614790601991,
          -0.35483232024577305,
          0.5078628782915157,
          -1.011774105600354,
          -0.1293450085950983,
          -0.8864371882344126,
          1.2943503030919112,
          -1.7673069248291902,
          2.0831647828343014,
          -0.43477937286446927,
          0.28146523719576355,
          0.5578602649896739,
          -1.5223462483028096,
          0.16964987149178934,
          -0.5500685263793943,
          1.0823050503075229,
          -0.22916823192201077,
          -0.38720631890992024,
          1.2661048221662239,
          0.20356760909533797,
          1.1423280831376215,
          -0.10808753431465522,
          -0.12024122233150104,
          -0.944575975802936,
          -0.013307573927293813,
          1.6694692642302944,
          0.6112119874177188,
          -0.3309763442652584,
          0.9368716650440161,
          0.23094685359448738,
          -1.0888193741475867,
          0.8649949026507499,
          0.07248175704709951,
          -1.3911871480567173,
          -0.41413527856674165,
          -0.35613451014051517,
          -0.37769709607996543,
          -0.9822669872550984,
          0.23265688962331718,
          0.4355067814591196,
          0.37808281394776455,
          -0.1688005200796566,
          0.16687394542556236,
          -1.3344462629664737,
          -1.775767484056754,
          -0.9198368168608252,
          -0.5866416401409374,
          0.5244749909215155,
          -0.8994138871176848,
          -1.036763269847553,
          -1.0610017578895294,
          -0.8086138339601849,
          -0.8380710319350305,
          -0.3388386019672623,
          -0.7302582534654624,
          -0.43943545041860654,
          -1.5543587253904214,
          -0.06978371605542653,
          -0.7403279458242567,
          -0.5477329264089507,
          -1.610404914345042,
          0.9036656673695966,
          -1.5524492653440827,
          -0.9325989144303676,
          -0.52836395382083,
          -0.23539265838494322,
          1.5416965399965687,
          1.5150559132967094,
          2.5553518227156022,
          0.9790630596152051,
          -0.14307144844543698,
          -0.5722196595441038,
          1.9600896240619718,
          -0.7740683236724355,
          -0.10869666985505544,
          1.0662098641450146,
          -1.6464091275492188,
          0.416733138747755,
          0.6633543695896578,
          -0.6354714080392322,
          1.230985010227931,
          1.4409767652468544
         ]
        },
        {
         "boxpoints": false,
         "line": {
          "width": 1.3
         },
         "marker": {
          "color": "rgba(128, 0, 128, 1.0)"
         },
         "name": "D",
         "orientation": "v",
         "type": "box",
         "y": [
          0.11067701414348054,
          1.8995322956998326,
          -0.2458432394320379,
          0.5377429220354326,
          0.20514092068761897,
          -0.4514663180793488,
          -0.6610065764537998,
          -0.5946763351837933,
          1.5876322949070458,
          -0.20862401058171826,
          0.10297891792163133,
          -0.25281160262026575,
          1.3249904488014876,
          -1.0303524275737623,
          0.05413589918587864,
          0.6514994639942188,
          0.1315770990395898,
          -1.7768578130784867,
          1.2519732468659475,
          2.107801720963238,
          0.6909674782691879,
          -1.0064250239305974,
          -1.9594991074877397,
          0.44156126672412044,
          1.1459098863063357,
          -1.5562322953726708,
          0.4622382708065796,
          -1.6076151437644994,
          0.023769686156858132,
          0.04733610495736649,
          -1.533445919972331,
          -0.8636934273154958,
          0.08484793871903562,
          -0.6801334318750999,
          0.7680009659696321,
          -0.16175210609800422,
          0.09195939858467177,
          -0.5517240236977996,
          -1.4050124530469743,
          0.41037660662342135,
          -1.0066194398330242,
          -0.16519075830470628,
          0.3455839201011954,
          -0.49648252813217847,
          0.9893381965952037,
          0.9202340449177022,
          -1.609088491013758,
          -1.1661792742014891,
          1.5009193644049066,
          -1.8421251199077862,
          0.846903260879262,
          1.3998383755050907,
          -1.5369592967746193,
          -1.156017381011761,
          -1.1948483504514387,
          1.2453651729889548,
          0.4901348950358889,
          -0.6864804088570704,
          -1.7547217593509994,
          1.46449983691902,
          -1.3709815046087923,
          0.4945937199231569,
          0.0038774672810933148,
          -0.7643456565843362,
          1.3711319057385063,
          2.075066204594895,
          -0.702239330904679,
          0.32041187038173796,
          0.19623915605715292,
          -1.2142958877036816,
          -0.4414355039880014,
          0.3580277034823271,
          0.6039910831803721,
          -0.47911249354579066,
          0.8971916936619772,
          2.503852279487358,
          1.4154279334783628,
          1.2899348808855755,
          0.8726548065933118,
          -0.6015714943498202,
          -0.7296042880756058,
          0.847591722445797,
          0.2452950717858223,
          0.3652032510685531,
          -0.989541015638144,
          -1.0671712267739,
          -1.6527190854808906,
          0.2626568109183234,
          0.34444372031564013,
          0.2280548616843117,
          0.40378538957093785,
          1.1827357707762025,
          1.4498233707993315,
          -0.36968230700697885,
          0.833747934653397,
          0.8522650270956144,
          -0.4270004960378985,
          1.6668665772393771,
          -0.2928581882164255,
          -0.026452986206500582
         ]
        }
       ],
       "layout": {
        "legend": {
         "bgcolor": "#F5F6F9",
         "font": {
          "color": "#4D5663"
         }
        },
        "paper_bgcolor": "#F5F6F9",
        "plot_bgcolor": "#F5F6F9",
        "template": {
         "data": {
          "bar": [
           {
            "error_x": {
             "color": "#2a3f5f"
            },
            "error_y": {
             "color": "#2a3f5f"
            },
            "marker": {
             "line": {
              "color": "#E5ECF6",
              "width": 0.5
             }
            },
            "type": "bar"
           }
          ],
          "barpolar": [
           {
            "marker": {
             "line": {
              "color": "#E5ECF6",
              "width": 0.5
             }
            },
            "type": "barpolar"
           }
          ],
          "carpet": [
           {
            "aaxis": {
             "endlinecolor": "#2a3f5f",
             "gridcolor": "white",
             "linecolor": "white",
             "minorgridcolor": "white",
             "startlinecolor": "#2a3f5f"
            },
            "baxis": {
             "endlinecolor": "#2a3f5f",
             "gridcolor": "white",
             "linecolor": "white",
             "minorgridcolor": "white",
             "startlinecolor": "#2a3f5f"
            },
            "type": "carpet"
           }
          ],
          "choropleth": [
           {
            "colorbar": {
             "outlinewidth": 0,
             "ticks": ""
            },
            "type": "choropleth"
           }
          ],
          "contour": [
           {
            "colorbar": {
             "outlinewidth": 0,
             "ticks": ""
            },
            "colorscale": [
             [
              0,
              "#0d0887"
             ],
             [
              0.1111111111111111,
              "#46039f"
             ],
             [
              0.2222222222222222,
              "#7201a8"
             ],
             [
              0.3333333333333333,
              "#9c179e"
             ],
             [
              0.4444444444444444,
              "#bd3786"
             ],
             [
              0.5555555555555556,
              "#d8576b"
             ],
             [
              0.6666666666666666,
              "#ed7953"
             ],
             [
              0.7777777777777778,
              "#fb9f3a"
             ],
             [
              0.8888888888888888,
              "#fdca26"
             ],
             [
              1,
              "#f0f921"
             ]
            ],
            "type": "contour"
           }
          ],
          "contourcarpet": [
           {
            "colorbar": {
             "outlinewidth": 0,
             "ticks": ""
            },
            "type": "contourcarpet"
           }
          ],
          "heatmap": [
           {
            "colorbar": {
             "outlinewidth": 0,
             "ticks": ""
            },
            "colorscale": [
             [
              0,
              "#0d0887"
             ],
             [
              0.1111111111111111,
              "#46039f"
             ],
             [
              0.2222222222222222,
              "#7201a8"
             ],
             [
              0.3333333333333333,
              "#9c179e"
             ],
             [
              0.4444444444444444,
              "#bd3786"
             ],
             [
              0.5555555555555556,
              "#d8576b"
             ],
             [
              0.6666666666666666,
              "#ed7953"
             ],
             [
              0.7777777777777778,
              "#fb9f3a"
             ],
             [
              0.8888888888888888,
              "#fdca26"
             ],
             [
              1,
              "#f0f921"
             ]
            ],
            "type": "heatmap"
           }
          ],
          "heatmapgl": [
           {
            "colorbar": {
             "outlinewidth": 0,
             "ticks": ""
            },
            "colorscale": [
             [
              0,
              "#0d0887"
             ],
             [
              0.1111111111111111,
              "#46039f"
             ],
             [
              0.2222222222222222,
              "#7201a8"
             ],
             [
              0.3333333333333333,
              "#9c179e"
             ],
             [
              0.4444444444444444,
              "#bd3786"
             ],
             [
              0.5555555555555556,
              "#d8576b"
             ],
             [
              0.6666666666666666,
              "#ed7953"
             ],
             [
              0.7777777777777778,
              "#fb9f3a"
             ],
             [
              0.8888888888888888,
              "#fdca26"
             ],
             [
              1,
              "#f0f921"
             ]
            ],
            "type": "heatmapgl"
           }
          ],
          "histogram": [
           {
            "marker": {
             "colorbar": {
              "outlinewidth": 0,
              "ticks": ""
             }
            },
            "type": "histogram"
           }
          ],
          "histogram2d": [
           {
            "colorbar": {
             "outlinewidth": 0,
             "ticks": ""
            },
            "colorscale": [
             [
              0,
              "#0d0887"
             ],
             [
              0.1111111111111111,
              "#46039f"
             ],
             [
              0.2222222222222222,
              "#7201a8"
             ],
             [
              0.3333333333333333,
              "#9c179e"
             ],
             [
              0.4444444444444444,
              "#bd3786"
             ],
             [
              0.5555555555555556,
              "#d8576b"
             ],
             [
              0.6666666666666666,
              "#ed7953"
             ],
             [
              0.7777777777777778,
              "#fb9f3a"
             ],
             [
              0.8888888888888888,
              "#fdca26"
             ],
             [
              1,
              "#f0f921"
             ]
            ],
            "type": "histogram2d"
           }
          ],
          "histogram2dcontour": [
           {
            "colorbar": {
             "outlinewidth": 0,
             "ticks": ""
            },
            "colorscale": [
             [
              0,
              "#0d0887"
             ],
             [
              0.1111111111111111,
              "#46039f"
             ],
             [
              0.2222222222222222,
              "#7201a8"
             ],
             [
              0.3333333333333333,
              "#9c179e"
             ],
             [
              0.4444444444444444,
              "#bd3786"
             ],
             [
              0.5555555555555556,
              "#d8576b"
             ],
             [
              0.6666666666666666,
              "#ed7953"
             ],
             [
              0.7777777777777778,
              "#fb9f3a"
             ],
             [
              0.8888888888888888,
              "#fdca26"
             ],
             [
              1,
              "#f0f921"
             ]
            ],
            "type": "histogram2dcontour"
           }
          ],
          "mesh3d": [
           {
            "colorbar": {
             "outlinewidth": 0,
             "ticks": ""
            },
            "type": "mesh3d"
           }
          ],
          "parcoords": [
           {
            "line": {
             "colorbar": {
              "outlinewidth": 0,
              "ticks": ""
             }
            },
            "type": "parcoords"
           }
          ],
          "pie": [
           {
            "automargin": true,
            "type": "pie"
           }
          ],
          "scatter": [
           {
            "marker": {
             "colorbar": {
              "outlinewidth": 0,
              "ticks": ""
             }
            },
            "type": "scatter"
           }
          ],
          "scatter3d": [
           {
            "line": {
             "colorbar": {
              "outlinewidth": 0,
              "ticks": ""
             }
            },
            "marker": {
             "colorbar": {
              "outlinewidth": 0,
              "ticks": ""
             }
            },
            "type": "scatter3d"
           }
          ],
          "scattercarpet": [
           {
            "marker": {
             "colorbar": {
              "outlinewidth": 0,
              "ticks": ""
             }
            },
            "type": "scattercarpet"
           }
          ],
          "scattergeo": [
           {
            "marker": {
             "colorbar": {
              "outlinewidth": 0,
              "ticks": ""
             }
            },
            "type": "scattergeo"
           }
          ],
          "scattergl": [
           {
            "marker": {
             "colorbar": {
              "outlinewidth": 0,
              "ticks": ""
             }
            },
            "type": "scattergl"
           }
          ],
          "scattermapbox": [
           {
            "marker": {
             "colorbar": {
              "outlinewidth": 0,
              "ticks": ""
             }
            },
            "type": "scattermapbox"
           }
          ],
          "scatterpolar": [
           {
            "marker": {
             "colorbar": {
              "outlinewidth": 0,
              "ticks": ""
             }
            },
            "type": "scatterpolar"
           }
          ],
          "scatterpolargl": [
           {
            "marker": {
             "colorbar": {
              "outlinewidth": 0,
              "ticks": ""
             }
            },
            "type": "scatterpolargl"
           }
          ],
          "scatterternary": [
           {
            "marker": {
             "colorbar": {
              "outlinewidth": 0,
              "ticks": ""
             }
            },
            "type": "scatterternary"
           }
          ],
          "surface": [
           {
            "colorbar": {
             "outlinewidth": 0,
             "ticks": ""
            },
            "colorscale": [
             [
              0,
              "#0d0887"
             ],
             [
              0.1111111111111111,
              "#46039f"
             ],
             [
              0.2222222222222222,
              "#7201a8"
             ],
             [
              0.3333333333333333,
              "#9c179e"
             ],
             [
              0.4444444444444444,
              "#bd3786"
             ],
             [
              0.5555555555555556,
              "#d8576b"
             ],
             [
              0.6666666666666666,
              "#ed7953"
             ],
             [
              0.7777777777777778,
              "#fb9f3a"
             ],
             [
              0.8888888888888888,
              "#fdca26"
             ],
             [
              1,
              "#f0f921"
             ]
            ],
            "type": "surface"
           }
          ],
          "table": [
           {
            "cells": {
             "fill": {
              "color": "#EBF0F8"
             },
             "line": {
              "color": "white"
             }
            },
            "header": {
             "fill": {
              "color": "#C8D4E3"
             },
             "line": {
              "color": "white"
             }
            },
            "type": "table"
           }
          ]
         },
         "layout": {
          "annotationdefaults": {
           "arrowcolor": "#2a3f5f",
           "arrowhead": 0,
           "arrowwidth": 1
          },
          "autotypenumbers": "strict",
          "coloraxis": {
           "colorbar": {
            "outlinewidth": 0,
            "ticks": ""
           }
          },
          "colorscale": {
           "diverging": [
            [
             0,
             "#8e0152"
            ],
            [
             0.1,
             "#c51b7d"
            ],
            [
             0.2,
             "#de77ae"
            ],
            [
             0.3,
             "#f1b6da"
            ],
            [
             0.4,
             "#fde0ef"
            ],
            [
             0.5,
             "#f7f7f7"
            ],
            [
             0.6,
             "#e6f5d0"
            ],
            [
             0.7,
             "#b8e186"
            ],
            [
             0.8,
             "#7fbc41"
            ],
            [
             0.9,
             "#4d9221"
            ],
            [
             1,
             "#276419"
            ]
           ],
           "sequential": [
            [
             0,
             "#0d0887"
            ],
            [
             0.1111111111111111,
             "#46039f"
            ],
            [
             0.2222222222222222,
             "#7201a8"
            ],
            [
             0.3333333333333333,
             "#9c179e"
            ],
            [
             0.4444444444444444,
             "#bd3786"
            ],
            [
             0.5555555555555556,
             "#d8576b"
            ],
            [
             0.6666666666666666,
             "#ed7953"
            ],
            [
             0.7777777777777778,
             "#fb9f3a"
            ],
            [
             0.8888888888888888,
             "#fdca26"
            ],
            [
             1,
             "#f0f921"
            ]
           ],
           "sequentialminus": [
            [
             0,
             "#0d0887"
            ],
            [
             0.1111111111111111,
             "#46039f"
            ],
            [
             0.2222222222222222,
             "#7201a8"
            ],
            [
             0.3333333333333333,
             "#9c179e"
            ],
            [
             0.4444444444444444,
             "#bd3786"
            ],
            [
             0.5555555555555556,
             "#d8576b"
            ],
            [
             0.6666666666666666,
             "#ed7953"
            ],
            [
             0.7777777777777778,
             "#fb9f3a"
            ],
            [
             0.8888888888888888,
             "#fdca26"
            ],
            [
             1,
             "#f0f921"
            ]
           ]
          },
          "colorway": [
           "#636efa",
           "#EF553B",
           "#00cc96",
           "#ab63fa",
           "#FFA15A",
           "#19d3f3",
           "#FF6692",
           "#B6E880",
           "#FF97FF",
           "#FECB52"
          ],
          "font": {
           "color": "#2a3f5f"
          },
          "geo": {
           "bgcolor": "white",
           "lakecolor": "white",
           "landcolor": "#E5ECF6",
           "showlakes": true,
           "showland": true,
           "subunitcolor": "white"
          },
          "hoverlabel": {
           "align": "left"
          },
          "hovermode": "closest",
          "mapbox": {
           "style": "light"
          },
          "paper_bgcolor": "white",
          "plot_bgcolor": "#E5ECF6",
          "polar": {
           "angularaxis": {
            "gridcolor": "white",
            "linecolor": "white",
            "ticks": ""
           },
           "bgcolor": "#E5ECF6",
           "radialaxis": {
            "gridcolor": "white",
            "linecolor": "white",
            "ticks": ""
           }
          },
          "scene": {
           "xaxis": {
            "backgroundcolor": "#E5ECF6",
            "gridcolor": "white",
            "gridwidth": 2,
            "linecolor": "white",
            "showbackground": true,
            "ticks": "",
            "zerolinecolor": "white"
           },
           "yaxis": {
            "backgroundcolor": "#E5ECF6",
            "gridcolor": "white",
            "gridwidth": 2,
            "linecolor": "white",
            "showbackground": true,
            "ticks": "",
            "zerolinecolor": "white"
           },
           "zaxis": {
            "backgroundcolor": "#E5ECF6",
            "gridcolor": "white",
            "gridwidth": 2,
            "linecolor": "white",
            "showbackground": true,
            "ticks": "",
            "zerolinecolor": "white"
           }
          },
          "shapedefaults": {
           "line": {
            "color": "#2a3f5f"
           }
          },
          "ternary": {
           "aaxis": {
            "gridcolor": "white",
            "linecolor": "white",
            "ticks": ""
           },
           "baxis": {
            "gridcolor": "white",
            "linecolor": "white",
            "ticks": ""
           },
           "bgcolor": "#E5ECF6",
           "caxis": {
            "gridcolor": "white",
            "linecolor": "white",
            "ticks": ""
           }
          },
          "title": {
           "x": 0.05
          },
          "xaxis": {
           "automargin": true,
           "gridcolor": "white",
           "linecolor": "white",
           "ticks": "",
           "title": {
            "standoff": 15
           },
           "zerolinecolor": "white",
           "zerolinewidth": 2
          },
          "yaxis": {
           "automargin": true,
           "gridcolor": "white",
           "linecolor": "white",
           "ticks": "",
           "title": {
            "standoff": 15
           },
           "zerolinecolor": "white",
           "zerolinewidth": 2
          }
         }
        },
        "title": {
         "font": {
          "color": "#4D5663"
         }
        },
        "xaxis": {
         "gridcolor": "#E1E5ED",
         "showgrid": true,
         "tickfont": {
          "color": "#4D5663"
         },
         "title": {
          "font": {
           "color": "#4D5663"
          },
          "text": ""
         },
         "zerolinecolor": "#E1E5ED"
        },
        "yaxis": {
         "gridcolor": "#E1E5ED",
         "showgrid": true,
         "tickfont": {
          "color": "#4D5663"
         },
         "title": {
          "font": {
           "color": "#4D5663"
          },
          "text": ""
         },
         "zerolinecolor": "#E1E5ED"
        }
       }
      },
      "text/html": [
       "<div>                            <div id=\"eef85d8b-4c8a-4341-84b5-bfcf8607a23e\" class=\"plotly-graph-div\" style=\"height:525px; width:100%;\"></div>            <script type=\"text/javascript\">                require([\"plotly\"], function(Plotly) {                    window.PLOTLYENV=window.PLOTLYENV || {};\n",
       "                    window.PLOTLYENV.BASE_URL='https://plot.ly';                                    if (document.getElementById(\"eef85d8b-4c8a-4341-84b5-bfcf8607a23e\")) {                    Plotly.newPlot(                        \"eef85d8b-4c8a-4341-84b5-bfcf8607a23e\",                        [{\"boxpoints\": false, \"line\": {\"width\": 1.3}, \"marker\": {\"color\": \"rgba(255, 153, 51, 1.0)\"}, \"name\": \"A\", \"orientation\": \"v\", \"type\": \"box\", \"y\": [0.20504070623313753, 0.6286778475688474, -1.1946960815376417, -1.3183627315384152, 0.7287269751944572, 0.8722269481098422, -0.13166269309223982, -1.9357840606631018, 0.4145336921882121, -0.6069916193966661, 0.390215883251644, -0.45734674356014016, 1.193349051418664, 1.235556532466609, 1.6291582358653538, 1.1395764553378547, -0.010775928268597778, 1.206843095845801, -0.9600146154713587, -0.966140199254339, 0.19169949104174405, -0.14918790595603876, 0.5686543373940673, -0.24045778518832012, 0.6366295721983622, 1.1522381506685453, 1.9336345364130645, 2.006996624653642, -0.023025978960075136, 0.18993942931543212, -1.4296539266874184, 0.43382004511192135, -0.7306127696972191, -0.05578944403470869, -0.08472001405877864, -0.1149714121493137, 0.7358612175856649, -0.6923771671588429, -0.25387934755682223, -2.0722680287624553, -0.5165814241979004, 1.6736494345930495, -0.5336323351896277, 1.4616808532371586, 1.2048074779808589, -1.2840849645974888, -0.17814633696158727, 1.0474906379523012, 0.38688412823874413, 0.5918234597806681, -1.3531856261517683, 0.24341156761558463, -0.7017222749850373, 0.6123500849073915, -0.8479136012893379, 1.531831449493807, -0.08902284414868179, -1.8178227460471446, -0.5109149743900608, -0.019596110540417384, -0.6983446018771495, 2.1094904333757407, -0.6311966451758331, -0.7047558807060837, 0.14788823265526901, 1.3716817074401486, 0.014617163284772135, -0.8243567459465074, 0.3123554784595387, 0.006117282091226412, -0.44574685438333156, 0.19146184772892774, -0.510564268279504, 0.8130753024382118, 2.3632960388245143, 2.116807945200409, -0.7750854668514382, 1.1030058690899103, -1.0730902732448744, -0.7826004688457083, -0.19255772560734755, -1.6458945809351144, -1.149219201933772, 0.06545680442591104, 1.2970608422251297, 0.3995935105107383, 1.0046285769041494, 2.6049159767101853, 0.2648980896996127, -1.5712641398967868, -0.7776854787695353, 0.21347068389058088, 0.20585723656867927, 1.9571203104075063, -0.6410346456022266, -0.9414275827775105, 1.2276831536344308, -0.007015283300855964, 0.23646616205819243, -1.2406348171165948]}, {\"boxpoints\": false, \"line\": {\"width\": 1.3}, \"marker\": {\"color\": \"rgba(55, 128, 191, 1.0)\"}, \"name\": \"B\", \"orientation\": \"v\", \"type\": \"box\", \"y\": [-0.5439617119205455, -0.5704148841714516, -1.07662655822544, -0.8474093020614032, -0.4040721263713018, -0.22032162653824705, 0.984810825036386, 0.6459982295599839, 0.9625977558237383, 0.32961616491736717, -0.6383325120225408, 1.7682720359532031, -0.7006348852403254, -0.2562716741210957, -1.2177123975522377, -0.16734060804219206, 0.43907261092386024, -0.18906110667888334, 1.1993281288587738, -0.20811431926451315, -1.0049310034719965, -0.22976703532601245, -0.13894060084069174, 1.2275994471410943, 1.342734485378966, 1.1665077733710503, -0.5434498879083448, -0.4092649210874944, 0.33338528689970426, 0.7670594173207315, 0.7872973798422225, -0.1606048434279647, 0.2843664711766602, 0.571068693668149, -3.086080376151923, -0.4849501045316944, 0.7980458181885236, 0.5868466116667443, -0.9166483893763678, -0.1704246184052833, 0.22117865067943315, -1.3201080068609135, 0.7568133206374094, 2.4676468487452357, -1.068703071956845, -0.6291258641268789, 1.163415410221566, -0.12339604673539196, 0.9367836611456651, -0.24948621721976244, -1.1576699893858196, 1.5757959197628753, 0.27451804126694296, -0.3405120090081654, 0.5495521734370964, 1.0455429042100273, -1.132207339071681, 1.2103819750274107, -0.6528387602045533, 0.06822891946103009, 0.10930141977857291, -1.1210045578232524, -0.37174364013106725, 0.8746799851128227, 0.01530574132809894, -1.5607767191556627, 0.3083227911857838, -1.8757128537357166, -0.05906016862387303, 0.6244298300094971, 0.03480897073112098, -0.8132032260998618, 0.40371608126509506, -0.5250713115573913, -0.3599740532761306, 0.6436866021813002, 0.10040758411756084, 1.106344944184813, -1.164546239406862, -0.6021822918337024, 0.24359876936141814, -0.2115220974504064, 0.9546210335566907, -0.7064555912566168, 0.8642221033273032, 0.876847424360984, 1.6238480437140206, 0.004990774537376512, -0.14310145325778864, 0.4816044490155595, -0.46065909217859663, -0.30586794082918434, 0.8313503097531753, 0.6402120611320695, 0.026544256531318044, 0.04778410984681494, -0.39801425662921003, 0.16233095530239772, 1.0638768169666544, 1.0008761898429492]}, {\"boxpoints\": false, \"line\": {\"width\": 1.3}, \"marker\": {\"color\": \"rgba(50, 171, 96, 1.0)\"}, \"name\": \"C\", \"orientation\": \"v\", \"type\": \"box\", \"y\": [0.5094294545126851, 0.40320328228473257, -1.0451455220014838, 1.9383884793219393, -1.1195269397610115, 0.007417765090974777, 0.0588735676736962, 1.4486831838718595, 0.6033313242291225, 0.2749585077448684, -0.3975965848616199, 0.40541201204441385, -0.5847945348136395, 0.38849113522084433, 0.20767229072108584, -1.240562416080876, 0.039246829653464245, 0.05941618583021419, 0.9176614790601991, -0.35483232024577305, 0.5078628782915157, -1.011774105600354, -0.1293450085950983, -0.8864371882344126, 1.2943503030919112, -1.7673069248291902, 2.0831647828343014, -0.43477937286446927, 0.28146523719576355, 0.5578602649896739, -1.5223462483028096, 0.16964987149178934, -0.5500685263793943, 1.0823050503075229, -0.22916823192201077, -0.38720631890992024, 1.2661048221662239, 0.20356760909533797, 1.1423280831376215, -0.10808753431465522, -0.12024122233150104, -0.944575975802936, -0.013307573927293813, 1.6694692642302944, 0.6112119874177188, -0.3309763442652584, 0.9368716650440161, 0.23094685359448738, -1.0888193741475867, 0.8649949026507499, 0.07248175704709951, -1.3911871480567173, -0.41413527856674165, -0.35613451014051517, -0.37769709607996543, -0.9822669872550984, 0.23265688962331718, 0.4355067814591196, 0.37808281394776455, -0.1688005200796566, 0.16687394542556236, -1.3344462629664737, -1.775767484056754, -0.9198368168608252, -0.5866416401409374, 0.5244749909215155, -0.8994138871176848, -1.036763269847553, -1.0610017578895294, -0.8086138339601849, -0.8380710319350305, -0.3388386019672623, -0.7302582534654624, -0.43943545041860654, -1.5543587253904214, -0.06978371605542653, -0.7403279458242567, -0.5477329264089507, -1.610404914345042, 0.9036656673695966, -1.5524492653440827, -0.9325989144303676, -0.52836395382083, -0.23539265838494322, 1.5416965399965687, 1.5150559132967094, 2.5553518227156022, 0.9790630596152051, -0.14307144844543698, -0.5722196595441038, 1.9600896240619718, -0.7740683236724355, -0.10869666985505544, 1.0662098641450146, -1.6464091275492188, 0.416733138747755, 0.6633543695896578, -0.6354714080392322, 1.230985010227931, 1.4409767652468544]}, {\"boxpoints\": false, \"line\": {\"width\": 1.3}, \"marker\": {\"color\": \"rgba(128, 0, 128, 1.0)\"}, \"name\": \"D\", \"orientation\": \"v\", \"type\": \"box\", \"y\": [0.11067701414348054, 1.8995322956998326, -0.2458432394320379, 0.5377429220354326, 0.20514092068761897, -0.4514663180793488, -0.6610065764537998, -0.5946763351837933, 1.5876322949070458, -0.20862401058171826, 0.10297891792163133, -0.25281160262026575, 1.3249904488014876, -1.0303524275737623, 0.05413589918587864, 0.6514994639942188, 0.1315770990395898, -1.7768578130784867, 1.2519732468659475, 2.107801720963238, 0.6909674782691879, -1.0064250239305974, -1.9594991074877397, 0.44156126672412044, 1.1459098863063357, -1.5562322953726708, 0.4622382708065796, -1.6076151437644994, 0.023769686156858132, 0.04733610495736649, -1.533445919972331, -0.8636934273154958, 0.08484793871903562, -0.6801334318750999, 0.7680009659696321, -0.16175210609800422, 0.09195939858467177, -0.5517240236977996, -1.4050124530469743, 0.41037660662342135, -1.0066194398330242, -0.16519075830470628, 0.3455839201011954, -0.49648252813217847, 0.9893381965952037, 0.9202340449177022, -1.609088491013758, -1.1661792742014891, 1.5009193644049066, -1.8421251199077862, 0.846903260879262, 1.3998383755050907, -1.5369592967746193, -1.156017381011761, -1.1948483504514387, 1.2453651729889548, 0.4901348950358889, -0.6864804088570704, -1.7547217593509994, 1.46449983691902, -1.3709815046087923, 0.4945937199231569, 0.0038774672810933148, -0.7643456565843362, 1.3711319057385063, 2.075066204594895, -0.702239330904679, 0.32041187038173796, 0.19623915605715292, -1.2142958877036816, -0.4414355039880014, 0.3580277034823271, 0.6039910831803721, -0.47911249354579066, 0.8971916936619772, 2.503852279487358, 1.4154279334783628, 1.2899348808855755, 0.8726548065933118, -0.6015714943498202, -0.7296042880756058, 0.847591722445797, 0.2452950717858223, 0.3652032510685531, -0.989541015638144, -1.0671712267739, -1.6527190854808906, 0.2626568109183234, 0.34444372031564013, 0.2280548616843117, 0.40378538957093785, 1.1827357707762025, 1.4498233707993315, -0.36968230700697885, 0.833747934653397, 0.8522650270956144, -0.4270004960378985, 1.6668665772393771, -0.2928581882164255, -0.026452986206500582]}],                        {\"legend\": {\"bgcolor\": \"#F5F6F9\", \"font\": {\"color\": \"#4D5663\"}}, \"paper_bgcolor\": \"#F5F6F9\", \"plot_bgcolor\": \"#F5F6F9\", \"template\": {\"data\": {\"bar\": [{\"error_x\": {\"color\": \"#2a3f5f\"}, \"error_y\": {\"color\": \"#2a3f5f\"}, \"marker\": {\"line\": {\"color\": \"#E5ECF6\", \"width\": 0.5}}, \"type\": \"bar\"}], \"barpolar\": [{\"marker\": {\"line\": {\"color\": \"#E5ECF6\", \"width\": 0.5}}, \"type\": \"barpolar\"}], \"carpet\": [{\"aaxis\": {\"endlinecolor\": \"#2a3f5f\", \"gridcolor\": \"white\", \"linecolor\": \"white\", \"minorgridcolor\": \"white\", \"startlinecolor\": \"#2a3f5f\"}, \"baxis\": {\"endlinecolor\": \"#2a3f5f\", \"gridcolor\": \"white\", \"linecolor\": \"white\", \"minorgridcolor\": \"white\", \"startlinecolor\": \"#2a3f5f\"}, \"type\": \"carpet\"}], \"choropleth\": [{\"colorbar\": {\"outlinewidth\": 0, \"ticks\": \"\"}, \"type\": \"choropleth\"}], \"contour\": [{\"colorbar\": {\"outlinewidth\": 0, \"ticks\": \"\"}, \"colorscale\": [[0.0, \"#0d0887\"], [0.1111111111111111, \"#46039f\"], [0.2222222222222222, \"#7201a8\"], [0.3333333333333333, \"#9c179e\"], [0.4444444444444444, \"#bd3786\"], [0.5555555555555556, \"#d8576b\"], [0.6666666666666666, \"#ed7953\"], [0.7777777777777778, \"#fb9f3a\"], [0.8888888888888888, \"#fdca26\"], [1.0, \"#f0f921\"]], \"type\": \"contour\"}], \"contourcarpet\": [{\"colorbar\": {\"outlinewidth\": 0, \"ticks\": \"\"}, \"type\": \"contourcarpet\"}], \"heatmap\": [{\"colorbar\": {\"outlinewidth\": 0, \"ticks\": \"\"}, \"colorscale\": [[0.0, \"#0d0887\"], [0.1111111111111111, \"#46039f\"], [0.2222222222222222, \"#7201a8\"], [0.3333333333333333, \"#9c179e\"], [0.4444444444444444, \"#bd3786\"], [0.5555555555555556, \"#d8576b\"], [0.6666666666666666, \"#ed7953\"], [0.7777777777777778, \"#fb9f3a\"], [0.8888888888888888, \"#fdca26\"], [1.0, \"#f0f921\"]], \"type\": \"heatmap\"}], \"heatmapgl\": [{\"colorbar\": {\"outlinewidth\": 0, \"ticks\": \"\"}, \"colorscale\": [[0.0, \"#0d0887\"], [0.1111111111111111, \"#46039f\"], [0.2222222222222222, \"#7201a8\"], [0.3333333333333333, \"#9c179e\"], [0.4444444444444444, \"#bd3786\"], [0.5555555555555556, \"#d8576b\"], [0.6666666666666666, \"#ed7953\"], [0.7777777777777778, \"#fb9f3a\"], [0.8888888888888888, \"#fdca26\"], [1.0, \"#f0f921\"]], \"type\": \"heatmapgl\"}], \"histogram\": [{\"marker\": {\"colorbar\": {\"outlinewidth\": 0, \"ticks\": \"\"}}, \"type\": \"histogram\"}], \"histogram2d\": [{\"colorbar\": {\"outlinewidth\": 0, \"ticks\": \"\"}, \"colorscale\": [[0.0, \"#0d0887\"], [0.1111111111111111, \"#46039f\"], [0.2222222222222222, \"#7201a8\"], [0.3333333333333333, \"#9c179e\"], [0.4444444444444444, \"#bd3786\"], [0.5555555555555556, \"#d8576b\"], [0.6666666666666666, \"#ed7953\"], [0.7777777777777778, \"#fb9f3a\"], [0.8888888888888888, \"#fdca26\"], [1.0, \"#f0f921\"]], \"type\": \"histogram2d\"}], \"histogram2dcontour\": [{\"colorbar\": {\"outlinewidth\": 0, \"ticks\": \"\"}, \"colorscale\": [[0.0, \"#0d0887\"], [0.1111111111111111, \"#46039f\"], [0.2222222222222222, \"#7201a8\"], [0.3333333333333333, \"#9c179e\"], [0.4444444444444444, \"#bd3786\"], [0.5555555555555556, \"#d8576b\"], [0.6666666666666666, \"#ed7953\"], [0.7777777777777778, \"#fb9f3a\"], [0.8888888888888888, \"#fdca26\"], [1.0, \"#f0f921\"]], \"type\": \"histogram2dcontour\"}], \"mesh3d\": [{\"colorbar\": {\"outlinewidth\": 0, \"ticks\": \"\"}, \"type\": \"mesh3d\"}], \"parcoords\": [{\"line\": {\"colorbar\": {\"outlinewidth\": 0, \"ticks\": \"\"}}, \"type\": \"parcoords\"}], \"pie\": [{\"automargin\": true, \"type\": \"pie\"}], \"scatter\": [{\"marker\": {\"colorbar\": {\"outlinewidth\": 0, \"ticks\": \"\"}}, \"type\": \"scatter\"}], \"scatter3d\": [{\"line\": {\"colorbar\": {\"outlinewidth\": 0, \"ticks\": \"\"}}, \"marker\": {\"colorbar\": {\"outlinewidth\": 0, \"ticks\": \"\"}}, \"type\": \"scatter3d\"}], \"scattercarpet\": [{\"marker\": {\"colorbar\": {\"outlinewidth\": 0, \"ticks\": \"\"}}, \"type\": \"scattercarpet\"}], \"scattergeo\": [{\"marker\": {\"colorbar\": {\"outlinewidth\": 0, \"ticks\": \"\"}}, \"type\": \"scattergeo\"}], \"scattergl\": [{\"marker\": {\"colorbar\": {\"outlinewidth\": 0, \"ticks\": \"\"}}, \"type\": \"scattergl\"}], \"scattermapbox\": [{\"marker\": {\"colorbar\": {\"outlinewidth\": 0, \"ticks\": \"\"}}, \"type\": \"scattermapbox\"}], \"scatterpolar\": [{\"marker\": {\"colorbar\": {\"outlinewidth\": 0, \"ticks\": \"\"}}, \"type\": \"scatterpolar\"}], \"scatterpolargl\": [{\"marker\": {\"colorbar\": {\"outlinewidth\": 0, \"ticks\": \"\"}}, \"type\": \"scatterpolargl\"}], \"scatterternary\": [{\"marker\": {\"colorbar\": {\"outlinewidth\": 0, \"ticks\": \"\"}}, \"type\": \"scatterternary\"}], \"surface\": [{\"colorbar\": {\"outlinewidth\": 0, \"ticks\": \"\"}, \"colorscale\": [[0.0, \"#0d0887\"], [0.1111111111111111, \"#46039f\"], [0.2222222222222222, \"#7201a8\"], [0.3333333333333333, \"#9c179e\"], [0.4444444444444444, \"#bd3786\"], [0.5555555555555556, \"#d8576b\"], [0.6666666666666666, \"#ed7953\"], [0.7777777777777778, \"#fb9f3a\"], [0.8888888888888888, \"#fdca26\"], [1.0, \"#f0f921\"]], \"type\": \"surface\"}], \"table\": [{\"cells\": {\"fill\": {\"color\": \"#EBF0F8\"}, \"line\": {\"color\": \"white\"}}, \"header\": {\"fill\": {\"color\": \"#C8D4E3\"}, \"line\": {\"color\": \"white\"}}, \"type\": \"table\"}]}, \"layout\": {\"annotationdefaults\": {\"arrowcolor\": \"#2a3f5f\", \"arrowhead\": 0, \"arrowwidth\": 1}, \"autotypenumbers\": \"strict\", \"coloraxis\": {\"colorbar\": {\"outlinewidth\": 0, \"ticks\": \"\"}}, \"colorscale\": {\"diverging\": [[0, \"#8e0152\"], [0.1, \"#c51b7d\"], [0.2, \"#de77ae\"], [0.3, \"#f1b6da\"], [0.4, \"#fde0ef\"], [0.5, \"#f7f7f7\"], [0.6, \"#e6f5d0\"], [0.7, \"#b8e186\"], [0.8, \"#7fbc41\"], [0.9, \"#4d9221\"], [1, \"#276419\"]], \"sequential\": [[0.0, \"#0d0887\"], [0.1111111111111111, \"#46039f\"], [0.2222222222222222, \"#7201a8\"], [0.3333333333333333, \"#9c179e\"], [0.4444444444444444, \"#bd3786\"], [0.5555555555555556, \"#d8576b\"], [0.6666666666666666, \"#ed7953\"], [0.7777777777777778, \"#fb9f3a\"], [0.8888888888888888, \"#fdca26\"], [1.0, \"#f0f921\"]], \"sequentialminus\": [[0.0, \"#0d0887\"], [0.1111111111111111, \"#46039f\"], [0.2222222222222222, \"#7201a8\"], [0.3333333333333333, \"#9c179e\"], [0.4444444444444444, \"#bd3786\"], [0.5555555555555556, \"#d8576b\"], [0.6666666666666666, \"#ed7953\"], [0.7777777777777778, \"#fb9f3a\"], [0.8888888888888888, \"#fdca26\"], [1.0, \"#f0f921\"]]}, \"colorway\": [\"#636efa\", \"#EF553B\", \"#00cc96\", \"#ab63fa\", \"#FFA15A\", \"#19d3f3\", \"#FF6692\", \"#B6E880\", \"#FF97FF\", \"#FECB52\"], \"font\": {\"color\": \"#2a3f5f\"}, \"geo\": {\"bgcolor\": \"white\", \"lakecolor\": \"white\", \"landcolor\": \"#E5ECF6\", \"showlakes\": true, \"showland\": true, \"subunitcolor\": \"white\"}, \"hoverlabel\": {\"align\": \"left\"}, \"hovermode\": \"closest\", \"mapbox\": {\"style\": \"light\"}, \"paper_bgcolor\": \"white\", \"plot_bgcolor\": \"#E5ECF6\", \"polar\": {\"angularaxis\": {\"gridcolor\": \"white\", \"linecolor\": \"white\", \"ticks\": \"\"}, \"bgcolor\": \"#E5ECF6\", \"radialaxis\": {\"gridcolor\": \"white\", \"linecolor\": \"white\", \"ticks\": \"\"}}, \"scene\": {\"xaxis\": {\"backgroundcolor\": \"#E5ECF6\", \"gridcolor\": \"white\", \"gridwidth\": 2, \"linecolor\": \"white\", \"showbackground\": true, \"ticks\": \"\", \"zerolinecolor\": \"white\"}, \"yaxis\": {\"backgroundcolor\": \"#E5ECF6\", \"gridcolor\": \"white\", \"gridwidth\": 2, \"linecolor\": \"white\", \"showbackground\": true, \"ticks\": \"\", \"zerolinecolor\": \"white\"}, \"zaxis\": {\"backgroundcolor\": \"#E5ECF6\", \"gridcolor\": \"white\", \"gridwidth\": 2, \"linecolor\": \"white\", \"showbackground\": true, \"ticks\": \"\", \"zerolinecolor\": \"white\"}}, \"shapedefaults\": {\"line\": {\"color\": \"#2a3f5f\"}}, \"ternary\": {\"aaxis\": {\"gridcolor\": \"white\", \"linecolor\": \"white\", \"ticks\": \"\"}, \"baxis\": {\"gridcolor\": \"white\", \"linecolor\": \"white\", \"ticks\": \"\"}, \"bgcolor\": \"#E5ECF6\", \"caxis\": {\"gridcolor\": \"white\", \"linecolor\": \"white\", \"ticks\": \"\"}}, \"title\": {\"x\": 0.05}, \"xaxis\": {\"automargin\": true, \"gridcolor\": \"white\", \"linecolor\": \"white\", \"ticks\": \"\", \"title\": {\"standoff\": 15}, \"zerolinecolor\": \"white\", \"zerolinewidth\": 2}, \"yaxis\": {\"automargin\": true, \"gridcolor\": \"white\", \"linecolor\": \"white\", \"ticks\": \"\", \"title\": {\"standoff\": 15}, \"zerolinecolor\": \"white\", \"zerolinewidth\": 2}}}, \"title\": {\"font\": {\"color\": \"#4D5663\"}}, \"xaxis\": {\"gridcolor\": \"#E1E5ED\", \"showgrid\": true, \"tickfont\": {\"color\": \"#4D5663\"}, \"title\": {\"font\": {\"color\": \"#4D5663\"}, \"text\": \"\"}, \"zerolinecolor\": \"#E1E5ED\"}, \"yaxis\": {\"gridcolor\": \"#E1E5ED\", \"showgrid\": true, \"tickfont\": {\"color\": \"#4D5663\"}, \"title\": {\"font\": {\"color\": \"#4D5663\"}, \"text\": \"\"}, \"zerolinecolor\": \"#E1E5ED\"}},                        {\"showLink\": true, \"linkText\": \"Export to plot.ly\", \"plotlyServerURL\": \"https://plot.ly\", \"responsive\": true}                    ).then(function(){\n",
       "                            \n",
       "var gd = document.getElementById('eef85d8b-4c8a-4341-84b5-bfcf8607a23e');\n",
       "var x = new MutationObserver(function (mutations, observer) {{\n",
       "        var display = window.getComputedStyle(gd).display;\n",
       "        if (!display || display === 'none') {{\n",
       "            console.log([gd, 'removed!']);\n",
       "            Plotly.purge(gd);\n",
       "            observer.disconnect();\n",
       "        }}\n",
       "}});\n",
       "\n",
       "// Listen for the removal of the full notebook cells\n",
       "var notebookContainer = gd.closest('#notebook-container');\n",
       "if (notebookContainer) {{\n",
       "    x.observe(notebookContainer, {childList: true});\n",
       "}}\n",
       "\n",
       "// Listen for the clearing of the current output cell\n",
       "var outputEl = gd.closest('.output');\n",
       "if (outputEl) {{\n",
       "    x.observe(outputEl, {childList: true});\n",
       "}}\n",
       "\n",
       "                        })                };                });            </script>        </div>"
      ]
     },
     "metadata": {},
     "output_type": "display_data"
    }
   ],
   "source": [
    "df.iplot(kind='box')"
   ]
  },
  {
   "cell_type": "code",
   "execution_count": 38,
   "metadata": {},
   "outputs": [],
   "source": [
    "df3=pd.DataFrame({'x':[1,2,3,4,5],'y':[10,20,30,20,10],'z':[5,4,3,2,1]})"
   ]
  },
  {
   "cell_type": "code",
   "execution_count": 40,
   "metadata": {},
   "outputs": [
    {
     "data": {
      "application/vnd.plotly.v1+json": {
       "config": {
        "linkText": "Export to plot.ly",
        "plotlyServerURL": "https://plot.ly",
        "showLink": true
       },
       "data": [
        {
         "colorscale": [
          [
           0,
           "rgb(165,0,38)"
          ],
          [
           0.1,
           "rgb(215,48,39)"
          ],
          [
           0.2,
           "rgb(244,109,67)"
          ],
          [
           0.3,
           "rgb(253,174,97)"
          ],
          [
           0.4,
           "rgb(254,224,144)"
          ],
          [
           0.5,
           "rgb(255,255,191)"
          ],
          [
           0.6,
           "rgb(224,243,248)"
          ],
          [
           0.7,
           "rgb(171,217,233)"
          ],
          [
           0.8,
           "rgb(116,173,209)"
          ],
          [
           0.9,
           "rgb(69,117,180)"
          ],
          [
           1,
           "rgb(49,54,149)"
          ]
         ],
         "type": "surface",
         "x": [
          0,
          1,
          2,
          3,
          4
         ],
         "y": [
          "x",
          "y",
          "z"
         ],
         "z": [
          [
           1,
           2,
           3,
           4,
           5
          ],
          [
           10,
           20,
           30,
           20,
           10
          ],
          [
           5,
           4,
           3,
           2,
           1
          ]
         ]
        }
       ],
       "layout": {
        "legend": {
         "bgcolor": "#F5F6F9",
         "font": {
          "color": "#4D5663"
         }
        },
        "paper_bgcolor": "#F5F6F9",
        "plot_bgcolor": "#F5F6F9",
        "template": {
         "data": {
          "bar": [
           {
            "error_x": {
             "color": "#2a3f5f"
            },
            "error_y": {
             "color": "#2a3f5f"
            },
            "marker": {
             "line": {
              "color": "#E5ECF6",
              "width": 0.5
             }
            },
            "type": "bar"
           }
          ],
          "barpolar": [
           {
            "marker": {
             "line": {
              "color": "#E5ECF6",
              "width": 0.5
             }
            },
            "type": "barpolar"
           }
          ],
          "carpet": [
           {
            "aaxis": {
             "endlinecolor": "#2a3f5f",
             "gridcolor": "white",
             "linecolor": "white",
             "minorgridcolor": "white",
             "startlinecolor": "#2a3f5f"
            },
            "baxis": {
             "endlinecolor": "#2a3f5f",
             "gridcolor": "white",
             "linecolor": "white",
             "minorgridcolor": "white",
             "startlinecolor": "#2a3f5f"
            },
            "type": "carpet"
           }
          ],
          "choropleth": [
           {
            "colorbar": {
             "outlinewidth": 0,
             "ticks": ""
            },
            "type": "choropleth"
           }
          ],
          "contour": [
           {
            "colorbar": {
             "outlinewidth": 0,
             "ticks": ""
            },
            "colorscale": [
             [
              0,
              "#0d0887"
             ],
             [
              0.1111111111111111,
              "#46039f"
             ],
             [
              0.2222222222222222,
              "#7201a8"
             ],
             [
              0.3333333333333333,
              "#9c179e"
             ],
             [
              0.4444444444444444,
              "#bd3786"
             ],
             [
              0.5555555555555556,
              "#d8576b"
             ],
             [
              0.6666666666666666,
              "#ed7953"
             ],
             [
              0.7777777777777778,
              "#fb9f3a"
             ],
             [
              0.8888888888888888,
              "#fdca26"
             ],
             [
              1,
              "#f0f921"
             ]
            ],
            "type": "contour"
           }
          ],
          "contourcarpet": [
           {
            "colorbar": {
             "outlinewidth": 0,
             "ticks": ""
            },
            "type": "contourcarpet"
           }
          ],
          "heatmap": [
           {
            "colorbar": {
             "outlinewidth": 0,
             "ticks": ""
            },
            "colorscale": [
             [
              0,
              "#0d0887"
             ],
             [
              0.1111111111111111,
              "#46039f"
             ],
             [
              0.2222222222222222,
              "#7201a8"
             ],
             [
              0.3333333333333333,
              "#9c179e"
             ],
             [
              0.4444444444444444,
              "#bd3786"
             ],
             [
              0.5555555555555556,
              "#d8576b"
             ],
             [
              0.6666666666666666,
              "#ed7953"
             ],
             [
              0.7777777777777778,
              "#fb9f3a"
             ],
             [
              0.8888888888888888,
              "#fdca26"
             ],
             [
              1,
              "#f0f921"
             ]
            ],
            "type": "heatmap"
           }
          ],
          "heatmapgl": [
           {
            "colorbar": {
             "outlinewidth": 0,
             "ticks": ""
            },
            "colorscale": [
             [
              0,
              "#0d0887"
             ],
             [
              0.1111111111111111,
              "#46039f"
             ],
             [
              0.2222222222222222,
              "#7201a8"
             ],
             [
              0.3333333333333333,
              "#9c179e"
             ],
             [
              0.4444444444444444,
              "#bd3786"
             ],
             [
              0.5555555555555556,
              "#d8576b"
             ],
             [
              0.6666666666666666,
              "#ed7953"
             ],
             [
              0.7777777777777778,
              "#fb9f3a"
             ],
             [
              0.8888888888888888,
              "#fdca26"
             ],
             [
              1,
              "#f0f921"
             ]
            ],
            "type": "heatmapgl"
           }
          ],
          "histogram": [
           {
            "marker": {
             "colorbar": {
              "outlinewidth": 0,
              "ticks": ""
             }
            },
            "type": "histogram"
           }
          ],
          "histogram2d": [
           {
            "colorbar": {
             "outlinewidth": 0,
             "ticks": ""
            },
            "colorscale": [
             [
              0,
              "#0d0887"
             ],
             [
              0.1111111111111111,
              "#46039f"
             ],
             [
              0.2222222222222222,
              "#7201a8"
             ],
             [
              0.3333333333333333,
              "#9c179e"
             ],
             [
              0.4444444444444444,
              "#bd3786"
             ],
             [
              0.5555555555555556,
              "#d8576b"
             ],
             [
              0.6666666666666666,
              "#ed7953"
             ],
             [
              0.7777777777777778,
              "#fb9f3a"
             ],
             [
              0.8888888888888888,
              "#fdca26"
             ],
             [
              1,
              "#f0f921"
             ]
            ],
            "type": "histogram2d"
           }
          ],
          "histogram2dcontour": [
           {
            "colorbar": {
             "outlinewidth": 0,
             "ticks": ""
            },
            "colorscale": [
             [
              0,
              "#0d0887"
             ],
             [
              0.1111111111111111,
              "#46039f"
             ],
             [
              0.2222222222222222,
              "#7201a8"
             ],
             [
              0.3333333333333333,
              "#9c179e"
             ],
             [
              0.4444444444444444,
              "#bd3786"
             ],
             [
              0.5555555555555556,
              "#d8576b"
             ],
             [
              0.6666666666666666,
              "#ed7953"
             ],
             [
              0.7777777777777778,
              "#fb9f3a"
             ],
             [
              0.8888888888888888,
              "#fdca26"
             ],
             [
              1,
              "#f0f921"
             ]
            ],
            "type": "histogram2dcontour"
           }
          ],
          "mesh3d": [
           {
            "colorbar": {
             "outlinewidth": 0,
             "ticks": ""
            },
            "type": "mesh3d"
           }
          ],
          "parcoords": [
           {
            "line": {
             "colorbar": {
              "outlinewidth": 0,
              "ticks": ""
             }
            },
            "type": "parcoords"
           }
          ],
          "pie": [
           {
            "automargin": true,
            "type": "pie"
           }
          ],
          "scatter": [
           {
            "marker": {
             "colorbar": {
              "outlinewidth": 0,
              "ticks": ""
             }
            },
            "type": "scatter"
           }
          ],
          "scatter3d": [
           {
            "line": {
             "colorbar": {
              "outlinewidth": 0,
              "ticks": ""
             }
            },
            "marker": {
             "colorbar": {
              "outlinewidth": 0,
              "ticks": ""
             }
            },
            "type": "scatter3d"
           }
          ],
          "scattercarpet": [
           {
            "marker": {
             "colorbar": {
              "outlinewidth": 0,
              "ticks": ""
             }
            },
            "type": "scattercarpet"
           }
          ],
          "scattergeo": [
           {
            "marker": {
             "colorbar": {
              "outlinewidth": 0,
              "ticks": ""
             }
            },
            "type": "scattergeo"
           }
          ],
          "scattergl": [
           {
            "marker": {
             "colorbar": {
              "outlinewidth": 0,
              "ticks": ""
             }
            },
            "type": "scattergl"
           }
          ],
          "scattermapbox": [
           {
            "marker": {
             "colorbar": {
              "outlinewidth": 0,
              "ticks": ""
             }
            },
            "type": "scattermapbox"
           }
          ],
          "scatterpolar": [
           {
            "marker": {
             "colorbar": {
              "outlinewidth": 0,
              "ticks": ""
             }
            },
            "type": "scatterpolar"
           }
          ],
          "scatterpolargl": [
           {
            "marker": {
             "colorbar": {
              "outlinewidth": 0,
              "ticks": ""
             }
            },
            "type": "scatterpolargl"
           }
          ],
          "scatterternary": [
           {
            "marker": {
             "colorbar": {
              "outlinewidth": 0,
              "ticks": ""
             }
            },
            "type": "scatterternary"
           }
          ],
          "surface": [
           {
            "colorbar": {
             "outlinewidth": 0,
             "ticks": ""
            },
            "colorscale": [
             [
              0,
              "#0d0887"
             ],
             [
              0.1111111111111111,
              "#46039f"
             ],
             [
              0.2222222222222222,
              "#7201a8"
             ],
             [
              0.3333333333333333,
              "#9c179e"
             ],
             [
              0.4444444444444444,
              "#bd3786"
             ],
             [
              0.5555555555555556,
              "#d8576b"
             ],
             [
              0.6666666666666666,
              "#ed7953"
             ],
             [
              0.7777777777777778,
              "#fb9f3a"
             ],
             [
              0.8888888888888888,
              "#fdca26"
             ],
             [
              1,
              "#f0f921"
             ]
            ],
            "type": "surface"
           }
          ],
          "table": [
           {
            "cells": {
             "fill": {
              "color": "#EBF0F8"
             },
             "line": {
              "color": "white"
             }
            },
            "header": {
             "fill": {
              "color": "#C8D4E3"
             },
             "line": {
              "color": "white"
             }
            },
            "type": "table"
           }
          ]
         },
         "layout": {
          "annotationdefaults": {
           "arrowcolor": "#2a3f5f",
           "arrowhead": 0,
           "arrowwidth": 1
          },
          "autotypenumbers": "strict",
          "coloraxis": {
           "colorbar": {
            "outlinewidth": 0,
            "ticks": ""
           }
          },
          "colorscale": {
           "diverging": [
            [
             0,
             "#8e0152"
            ],
            [
             0.1,
             "#c51b7d"
            ],
            [
             0.2,
             "#de77ae"
            ],
            [
             0.3,
             "#f1b6da"
            ],
            [
             0.4,
             "#fde0ef"
            ],
            [
             0.5,
             "#f7f7f7"
            ],
            [
             0.6,
             "#e6f5d0"
            ],
            [
             0.7,
             "#b8e186"
            ],
            [
             0.8,
             "#7fbc41"
            ],
            [
             0.9,
             "#4d9221"
            ],
            [
             1,
             "#276419"
            ]
           ],
           "sequential": [
            [
             0,
             "#0d0887"
            ],
            [
             0.1111111111111111,
             "#46039f"
            ],
            [
             0.2222222222222222,
             "#7201a8"
            ],
            [
             0.3333333333333333,
             "#9c179e"
            ],
            [
             0.4444444444444444,
             "#bd3786"
            ],
            [
             0.5555555555555556,
             "#d8576b"
            ],
            [
             0.6666666666666666,
             "#ed7953"
            ],
            [
             0.7777777777777778,
             "#fb9f3a"
            ],
            [
             0.8888888888888888,
             "#fdca26"
            ],
            [
             1,
             "#f0f921"
            ]
           ],
           "sequentialminus": [
            [
             0,
             "#0d0887"
            ],
            [
             0.1111111111111111,
             "#46039f"
            ],
            [
             0.2222222222222222,
             "#7201a8"
            ],
            [
             0.3333333333333333,
             "#9c179e"
            ],
            [
             0.4444444444444444,
             "#bd3786"
            ],
            [
             0.5555555555555556,
             "#d8576b"
            ],
            [
             0.6666666666666666,
             "#ed7953"
            ],
            [
             0.7777777777777778,
             "#fb9f3a"
            ],
            [
             0.8888888888888888,
             "#fdca26"
            ],
            [
             1,
             "#f0f921"
            ]
           ]
          },
          "colorway": [
           "#636efa",
           "#EF553B",
           "#00cc96",
           "#ab63fa",
           "#FFA15A",
           "#19d3f3",
           "#FF6692",
           "#B6E880",
           "#FF97FF",
           "#FECB52"
          ],
          "font": {
           "color": "#2a3f5f"
          },
          "geo": {
           "bgcolor": "white",
           "lakecolor": "white",
           "landcolor": "#E5ECF6",
           "showlakes": true,
           "showland": true,
           "subunitcolor": "white"
          },
          "hoverlabel": {
           "align": "left"
          },
          "hovermode": "closest",
          "mapbox": {
           "style": "light"
          },
          "paper_bgcolor": "white",
          "plot_bgcolor": "#E5ECF6",
          "polar": {
           "angularaxis": {
            "gridcolor": "white",
            "linecolor": "white",
            "ticks": ""
           },
           "bgcolor": "#E5ECF6",
           "radialaxis": {
            "gridcolor": "white",
            "linecolor": "white",
            "ticks": ""
           }
          },
          "scene": {
           "xaxis": {
            "backgroundcolor": "#E5ECF6",
            "gridcolor": "white",
            "gridwidth": 2,
            "linecolor": "white",
            "showbackground": true,
            "ticks": "",
            "zerolinecolor": "white"
           },
           "yaxis": {
            "backgroundcolor": "#E5ECF6",
            "gridcolor": "white",
            "gridwidth": 2,
            "linecolor": "white",
            "showbackground": true,
            "ticks": "",
            "zerolinecolor": "white"
           },
           "zaxis": {
            "backgroundcolor": "#E5ECF6",
            "gridcolor": "white",
            "gridwidth": 2,
            "linecolor": "white",
            "showbackground": true,
            "ticks": "",
            "zerolinecolor": "white"
           }
          },
          "shapedefaults": {
           "line": {
            "color": "#2a3f5f"
           }
          },
          "ternary": {
           "aaxis": {
            "gridcolor": "white",
            "linecolor": "white",
            "ticks": ""
           },
           "baxis": {
            "gridcolor": "white",
            "linecolor": "white",
            "ticks": ""
           },
           "bgcolor": "#E5ECF6",
           "caxis": {
            "gridcolor": "white",
            "linecolor": "white",
            "ticks": ""
           }
          },
          "title": {
           "x": 0.05
          },
          "xaxis": {
           "automargin": true,
           "gridcolor": "white",
           "linecolor": "white",
           "ticks": "",
           "title": {
            "standoff": 15
           },
           "zerolinecolor": "white",
           "zerolinewidth": 2
          },
          "yaxis": {
           "automargin": true,
           "gridcolor": "white",
           "linecolor": "white",
           "ticks": "",
           "title": {
            "standoff": 15
           },
           "zerolinecolor": "white",
           "zerolinewidth": 2
          }
         }
        },
        "title": {
         "font": {
          "color": "#4D5663"
         }
        },
        "xaxis": {
         "gridcolor": "#E1E5ED",
         "showgrid": true,
         "tickfont": {
          "color": "#4D5663"
         },
         "title": {
          "font": {
           "color": "#4D5663"
          },
          "text": ""
         },
         "zerolinecolor": "#E1E5ED"
        },
        "yaxis": {
         "gridcolor": "#E1E5ED",
         "showgrid": true,
         "tickfont": {
          "color": "#4D5663"
         },
         "title": {
          "font": {
           "color": "#4D5663"
          },
          "text": ""
         },
         "zerolinecolor": "#E1E5ED"
        }
       }
      },
      "text/html": [
       "<div>                            <div id=\"72d3a4cf-bca6-4a37-b8ca-dd7d3d9eb5ff\" class=\"plotly-graph-div\" style=\"height:525px; width:100%;\"></div>            <script type=\"text/javascript\">                require([\"plotly\"], function(Plotly) {                    window.PLOTLYENV=window.PLOTLYENV || {};\n",
       "                    window.PLOTLYENV.BASE_URL='https://plot.ly';                                    if (document.getElementById(\"72d3a4cf-bca6-4a37-b8ca-dd7d3d9eb5ff\")) {                    Plotly.newPlot(                        \"72d3a4cf-bca6-4a37-b8ca-dd7d3d9eb5ff\",                        [{\"colorscale\": [[0.0, \"rgb(165,0,38)\"], [0.1, \"rgb(215,48,39)\"], [0.2, \"rgb(244,109,67)\"], [0.3, \"rgb(253,174,97)\"], [0.4, \"rgb(254,224,144)\"], [0.5, \"rgb(255,255,191)\"], [0.6, \"rgb(224,243,248)\"], [0.7, \"rgb(171,217,233)\"], [0.8, \"rgb(116,173,209)\"], [0.9, \"rgb(69,117,180)\"], [1.0, \"rgb(49,54,149)\"]], \"type\": \"surface\", \"x\": [0, 1, 2, 3, 4], \"y\": [\"x\", \"y\", \"z\"], \"z\": [[1, 2, 3, 4, 5], [10, 20, 30, 20, 10], [5, 4, 3, 2, 1]]}],                        {\"legend\": {\"bgcolor\": \"#F5F6F9\", \"font\": {\"color\": \"#4D5663\"}}, \"paper_bgcolor\": \"#F5F6F9\", \"plot_bgcolor\": \"#F5F6F9\", \"template\": {\"data\": {\"bar\": [{\"error_x\": {\"color\": \"#2a3f5f\"}, \"error_y\": {\"color\": \"#2a3f5f\"}, \"marker\": {\"line\": {\"color\": \"#E5ECF6\", \"width\": 0.5}}, \"type\": \"bar\"}], \"barpolar\": [{\"marker\": {\"line\": {\"color\": \"#E5ECF6\", \"width\": 0.5}}, \"type\": \"barpolar\"}], \"carpet\": [{\"aaxis\": {\"endlinecolor\": \"#2a3f5f\", \"gridcolor\": \"white\", \"linecolor\": \"white\", \"minorgridcolor\": \"white\", \"startlinecolor\": \"#2a3f5f\"}, \"baxis\": {\"endlinecolor\": \"#2a3f5f\", \"gridcolor\": \"white\", \"linecolor\": \"white\", \"minorgridcolor\": \"white\", \"startlinecolor\": \"#2a3f5f\"}, \"type\": \"carpet\"}], \"choropleth\": [{\"colorbar\": {\"outlinewidth\": 0, \"ticks\": \"\"}, \"type\": \"choropleth\"}], \"contour\": [{\"colorbar\": {\"outlinewidth\": 0, \"ticks\": \"\"}, \"colorscale\": [[0.0, \"#0d0887\"], [0.1111111111111111, \"#46039f\"], [0.2222222222222222, \"#7201a8\"], [0.3333333333333333, \"#9c179e\"], [0.4444444444444444, \"#bd3786\"], [0.5555555555555556, \"#d8576b\"], [0.6666666666666666, \"#ed7953\"], [0.7777777777777778, \"#fb9f3a\"], [0.8888888888888888, \"#fdca26\"], [1.0, \"#f0f921\"]], \"type\": \"contour\"}], \"contourcarpet\": [{\"colorbar\": {\"outlinewidth\": 0, \"ticks\": \"\"}, \"type\": \"contourcarpet\"}], \"heatmap\": [{\"colorbar\": {\"outlinewidth\": 0, \"ticks\": \"\"}, \"colorscale\": [[0.0, \"#0d0887\"], [0.1111111111111111, \"#46039f\"], [0.2222222222222222, \"#7201a8\"], [0.3333333333333333, \"#9c179e\"], [0.4444444444444444, \"#bd3786\"], [0.5555555555555556, \"#d8576b\"], [0.6666666666666666, \"#ed7953\"], [0.7777777777777778, \"#fb9f3a\"], [0.8888888888888888, \"#fdca26\"], [1.0, \"#f0f921\"]], \"type\": \"heatmap\"}], \"heatmapgl\": [{\"colorbar\": {\"outlinewidth\": 0, \"ticks\": \"\"}, \"colorscale\": [[0.0, \"#0d0887\"], [0.1111111111111111, \"#46039f\"], [0.2222222222222222, \"#7201a8\"], [0.3333333333333333, \"#9c179e\"], [0.4444444444444444, \"#bd3786\"], [0.5555555555555556, \"#d8576b\"], [0.6666666666666666, \"#ed7953\"], [0.7777777777777778, \"#fb9f3a\"], [0.8888888888888888, \"#fdca26\"], [1.0, \"#f0f921\"]], \"type\": \"heatmapgl\"}], \"histogram\": [{\"marker\": {\"colorbar\": {\"outlinewidth\": 0, \"ticks\": \"\"}}, \"type\": \"histogram\"}], \"histogram2d\": [{\"colorbar\": {\"outlinewidth\": 0, \"ticks\": \"\"}, \"colorscale\": [[0.0, \"#0d0887\"], [0.1111111111111111, \"#46039f\"], [0.2222222222222222, \"#7201a8\"], [0.3333333333333333, \"#9c179e\"], [0.4444444444444444, \"#bd3786\"], [0.5555555555555556, \"#d8576b\"], [0.6666666666666666, \"#ed7953\"], [0.7777777777777778, \"#fb9f3a\"], [0.8888888888888888, \"#fdca26\"], [1.0, \"#f0f921\"]], \"type\": \"histogram2d\"}], \"histogram2dcontour\": [{\"colorbar\": {\"outlinewidth\": 0, \"ticks\": \"\"}, \"colorscale\": [[0.0, \"#0d0887\"], [0.1111111111111111, \"#46039f\"], [0.2222222222222222, \"#7201a8\"], [0.3333333333333333, \"#9c179e\"], [0.4444444444444444, \"#bd3786\"], [0.5555555555555556, \"#d8576b\"], [0.6666666666666666, \"#ed7953\"], [0.7777777777777778, \"#fb9f3a\"], [0.8888888888888888, \"#fdca26\"], [1.0, \"#f0f921\"]], \"type\": \"histogram2dcontour\"}], \"mesh3d\": [{\"colorbar\": {\"outlinewidth\": 0, \"ticks\": \"\"}, \"type\": \"mesh3d\"}], \"parcoords\": [{\"line\": {\"colorbar\": {\"outlinewidth\": 0, \"ticks\": \"\"}}, \"type\": \"parcoords\"}], \"pie\": [{\"automargin\": true, \"type\": \"pie\"}], \"scatter\": [{\"marker\": {\"colorbar\": {\"outlinewidth\": 0, \"ticks\": \"\"}}, \"type\": \"scatter\"}], \"scatter3d\": [{\"line\": {\"colorbar\": {\"outlinewidth\": 0, \"ticks\": \"\"}}, \"marker\": {\"colorbar\": {\"outlinewidth\": 0, \"ticks\": \"\"}}, \"type\": \"scatter3d\"}], \"scattercarpet\": [{\"marker\": {\"colorbar\": {\"outlinewidth\": 0, \"ticks\": \"\"}}, \"type\": \"scattercarpet\"}], \"scattergeo\": [{\"marker\": {\"colorbar\": {\"outlinewidth\": 0, \"ticks\": \"\"}}, \"type\": \"scattergeo\"}], \"scattergl\": [{\"marker\": {\"colorbar\": {\"outlinewidth\": 0, \"ticks\": \"\"}}, \"type\": \"scattergl\"}], \"scattermapbox\": [{\"marker\": {\"colorbar\": {\"outlinewidth\": 0, \"ticks\": \"\"}}, \"type\": \"scattermapbox\"}], \"scatterpolar\": [{\"marker\": {\"colorbar\": {\"outlinewidth\": 0, \"ticks\": \"\"}}, \"type\": \"scatterpolar\"}], \"scatterpolargl\": [{\"marker\": {\"colorbar\": {\"outlinewidth\": 0, \"ticks\": \"\"}}, \"type\": \"scatterpolargl\"}], \"scatterternary\": [{\"marker\": {\"colorbar\": {\"outlinewidth\": 0, \"ticks\": \"\"}}, \"type\": \"scatterternary\"}], \"surface\": [{\"colorbar\": {\"outlinewidth\": 0, \"ticks\": \"\"}, \"colorscale\": [[0.0, \"#0d0887\"], [0.1111111111111111, \"#46039f\"], [0.2222222222222222, \"#7201a8\"], [0.3333333333333333, \"#9c179e\"], [0.4444444444444444, \"#bd3786\"], [0.5555555555555556, \"#d8576b\"], [0.6666666666666666, \"#ed7953\"], [0.7777777777777778, \"#fb9f3a\"], [0.8888888888888888, \"#fdca26\"], [1.0, \"#f0f921\"]], \"type\": \"surface\"}], \"table\": [{\"cells\": {\"fill\": {\"color\": \"#EBF0F8\"}, \"line\": {\"color\": \"white\"}}, \"header\": {\"fill\": {\"color\": \"#C8D4E3\"}, \"line\": {\"color\": \"white\"}}, \"type\": \"table\"}]}, \"layout\": {\"annotationdefaults\": {\"arrowcolor\": \"#2a3f5f\", \"arrowhead\": 0, \"arrowwidth\": 1}, \"autotypenumbers\": \"strict\", \"coloraxis\": {\"colorbar\": {\"outlinewidth\": 0, \"ticks\": \"\"}}, \"colorscale\": {\"diverging\": [[0, \"#8e0152\"], [0.1, \"#c51b7d\"], [0.2, \"#de77ae\"], [0.3, \"#f1b6da\"], [0.4, \"#fde0ef\"], [0.5, \"#f7f7f7\"], [0.6, \"#e6f5d0\"], [0.7, \"#b8e186\"], [0.8, \"#7fbc41\"], [0.9, \"#4d9221\"], [1, \"#276419\"]], \"sequential\": [[0.0, \"#0d0887\"], [0.1111111111111111, \"#46039f\"], [0.2222222222222222, \"#7201a8\"], [0.3333333333333333, \"#9c179e\"], [0.4444444444444444, \"#bd3786\"], [0.5555555555555556, \"#d8576b\"], [0.6666666666666666, \"#ed7953\"], [0.7777777777777778, \"#fb9f3a\"], [0.8888888888888888, \"#fdca26\"], [1.0, \"#f0f921\"]], \"sequentialminus\": [[0.0, \"#0d0887\"], [0.1111111111111111, \"#46039f\"], [0.2222222222222222, \"#7201a8\"], [0.3333333333333333, \"#9c179e\"], [0.4444444444444444, \"#bd3786\"], [0.5555555555555556, \"#d8576b\"], [0.6666666666666666, \"#ed7953\"], [0.7777777777777778, \"#fb9f3a\"], [0.8888888888888888, \"#fdca26\"], [1.0, \"#f0f921\"]]}, \"colorway\": [\"#636efa\", \"#EF553B\", \"#00cc96\", \"#ab63fa\", \"#FFA15A\", \"#19d3f3\", \"#FF6692\", \"#B6E880\", \"#FF97FF\", \"#FECB52\"], \"font\": {\"color\": \"#2a3f5f\"}, \"geo\": {\"bgcolor\": \"white\", \"lakecolor\": \"white\", \"landcolor\": \"#E5ECF6\", \"showlakes\": true, \"showland\": true, \"subunitcolor\": \"white\"}, \"hoverlabel\": {\"align\": \"left\"}, \"hovermode\": \"closest\", \"mapbox\": {\"style\": \"light\"}, \"paper_bgcolor\": \"white\", \"plot_bgcolor\": \"#E5ECF6\", \"polar\": {\"angularaxis\": {\"gridcolor\": \"white\", \"linecolor\": \"white\", \"ticks\": \"\"}, \"bgcolor\": \"#E5ECF6\", \"radialaxis\": {\"gridcolor\": \"white\", \"linecolor\": \"white\", \"ticks\": \"\"}}, \"scene\": {\"xaxis\": {\"backgroundcolor\": \"#E5ECF6\", \"gridcolor\": \"white\", \"gridwidth\": 2, \"linecolor\": \"white\", \"showbackground\": true, \"ticks\": \"\", \"zerolinecolor\": \"white\"}, \"yaxis\": {\"backgroundcolor\": \"#E5ECF6\", \"gridcolor\": \"white\", \"gridwidth\": 2, \"linecolor\": \"white\", \"showbackground\": true, \"ticks\": \"\", \"zerolinecolor\": \"white\"}, \"zaxis\": {\"backgroundcolor\": \"#E5ECF6\", \"gridcolor\": \"white\", \"gridwidth\": 2, \"linecolor\": \"white\", \"showbackground\": true, \"ticks\": \"\", \"zerolinecolor\": \"white\"}}, \"shapedefaults\": {\"line\": {\"color\": \"#2a3f5f\"}}, \"ternary\": {\"aaxis\": {\"gridcolor\": \"white\", \"linecolor\": \"white\", \"ticks\": \"\"}, \"baxis\": {\"gridcolor\": \"white\", \"linecolor\": \"white\", \"ticks\": \"\"}, \"bgcolor\": \"#E5ECF6\", \"caxis\": {\"gridcolor\": \"white\", \"linecolor\": \"white\", \"ticks\": \"\"}}, \"title\": {\"x\": 0.05}, \"xaxis\": {\"automargin\": true, \"gridcolor\": \"white\", \"linecolor\": \"white\", \"ticks\": \"\", \"title\": {\"standoff\": 15}, \"zerolinecolor\": \"white\", \"zerolinewidth\": 2}, \"yaxis\": {\"automargin\": true, \"gridcolor\": \"white\", \"linecolor\": \"white\", \"ticks\": \"\", \"title\": {\"standoff\": 15}, \"zerolinecolor\": \"white\", \"zerolinewidth\": 2}}}, \"title\": {\"font\": {\"color\": \"#4D5663\"}}, \"xaxis\": {\"gridcolor\": \"#E1E5ED\", \"showgrid\": true, \"tickfont\": {\"color\": \"#4D5663\"}, \"title\": {\"font\": {\"color\": \"#4D5663\"}, \"text\": \"\"}, \"zerolinecolor\": \"#E1E5ED\"}, \"yaxis\": {\"gridcolor\": \"#E1E5ED\", \"showgrid\": true, \"tickfont\": {\"color\": \"#4D5663\"}, \"title\": {\"font\": {\"color\": \"#4D5663\"}, \"text\": \"\"}, \"zerolinecolor\": \"#E1E5ED\"}},                        {\"showLink\": true, \"linkText\": \"Export to plot.ly\", \"plotlyServerURL\": \"https://plot.ly\", \"responsive\": true}                    ).then(function(){\n",
       "                            \n",
       "var gd = document.getElementById('72d3a4cf-bca6-4a37-b8ca-dd7d3d9eb5ff');\n",
       "var x = new MutationObserver(function (mutations, observer) {{\n",
       "        var display = window.getComputedStyle(gd).display;\n",
       "        if (!display || display === 'none') {{\n",
       "            console.log([gd, 'removed!']);\n",
       "            Plotly.purge(gd);\n",
       "            observer.disconnect();\n",
       "        }}\n",
       "}});\n",
       "\n",
       "// Listen for the removal of the full notebook cells\n",
       "var notebookContainer = gd.closest('#notebook-container');\n",
       "if (notebookContainer) {{\n",
       "    x.observe(notebookContainer, {childList: true});\n",
       "}}\n",
       "\n",
       "// Listen for the clearing of the current output cell\n",
       "var outputEl = gd.closest('.output');\n",
       "if (outputEl) {{\n",
       "    x.observe(outputEl, {childList: true});\n",
       "}}\n",
       "\n",
       "                        })                };                });            </script>        </div>"
      ]
     },
     "metadata": {},
     "output_type": "display_data"
    }
   ],
   "source": [
    "df3.iplot(kind='surface',colorscale='rdylbu')"
   ]
  },
  {
   "cell_type": "code",
   "execution_count": 41,
   "metadata": {},
   "outputs": [
    {
     "data": {
      "application/vnd.plotly.v1+json": {
       "config": {
        "linkText": "Export to plot.ly",
        "plotlyServerURL": "https://plot.ly",
        "showLink": true
       },
       "data": [
        {
         "histfunc": "count",
         "histnorm": "",
         "marker": {
          "color": "rgba(255, 153, 51, 1.0)",
          "line": {
           "color": "#4D5663",
           "width": 1.3
          }
         },
         "name": "A",
         "nbinsx": 24,
         "opacity": 0.8,
         "orientation": "v",
         "type": "histogram",
         "x": [
          0.20504070623313753,
          0.6286778475688474,
          -1.1946960815376417,
          -1.3183627315384152,
          0.7287269751944572,
          0.8722269481098422,
          -0.13166269309223982,
          -1.9357840606631018,
          0.4145336921882121,
          -0.6069916193966661,
          0.390215883251644,
          -0.45734674356014016,
          1.193349051418664,
          1.235556532466609,
          1.6291582358653538,
          1.1395764553378547,
          -0.010775928268597778,
          1.206843095845801,
          -0.9600146154713587,
          -0.966140199254339,
          0.19169949104174405,
          -0.14918790595603876,
          0.5686543373940673,
          -0.24045778518832012,
          0.6366295721983622,
          1.1522381506685453,
          1.9336345364130645,
          2.006996624653642,
          -0.023025978960075136,
          0.18993942931543212,
          -1.4296539266874184,
          0.43382004511192135,
          -0.7306127696972191,
          -0.05578944403470869,
          -0.08472001405877864,
          -0.1149714121493137,
          0.7358612175856649,
          -0.6923771671588429,
          -0.25387934755682223,
          -2.0722680287624553,
          -0.5165814241979004,
          1.6736494345930495,
          -0.5336323351896277,
          1.4616808532371586,
          1.2048074779808589,
          -1.2840849645974888,
          -0.17814633696158727,
          1.0474906379523012,
          0.38688412823874413,
          0.5918234597806681,
          -1.3531856261517683,
          0.24341156761558463,
          -0.7017222749850373,
          0.6123500849073915,
          -0.8479136012893379,
          1.531831449493807,
          -0.08902284414868179,
          -1.8178227460471446,
          -0.5109149743900608,
          -0.019596110540417384,
          -0.6983446018771495,
          2.1094904333757407,
          -0.6311966451758331,
          -0.7047558807060837,
          0.14788823265526901,
          1.3716817074401486,
          0.014617163284772135,
          -0.8243567459465074,
          0.3123554784595387,
          0.006117282091226412,
          -0.44574685438333156,
          0.19146184772892774,
          -0.510564268279504,
          0.8130753024382118,
          2.3632960388245143,
          2.116807945200409,
          -0.7750854668514382,
          1.1030058690899103,
          -1.0730902732448744,
          -0.7826004688457083,
          -0.19255772560734755,
          -1.6458945809351144,
          -1.149219201933772,
          0.06545680442591104,
          1.2970608422251297,
          0.3995935105107383,
          1.0046285769041494,
          2.6049159767101853,
          0.2648980896996127,
          -1.5712641398967868,
          -0.7776854787695353,
          0.21347068389058088,
          0.20585723656867927,
          1.9571203104075063,
          -0.6410346456022266,
          -0.9414275827775105,
          1.2276831536344308,
          -0.007015283300855964,
          0.23646616205819243,
          -1.2406348171165948
         ]
        }
       ],
       "layout": {
        "barmode": "overlay",
        "legend": {
         "bgcolor": "#F5F6F9",
         "font": {
          "color": "#4D5663"
         }
        },
        "paper_bgcolor": "#F5F6F9",
        "plot_bgcolor": "#F5F6F9",
        "template": {
         "data": {
          "bar": [
           {
            "error_x": {
             "color": "#2a3f5f"
            },
            "error_y": {
             "color": "#2a3f5f"
            },
            "marker": {
             "line": {
              "color": "#E5ECF6",
              "width": 0.5
             }
            },
            "type": "bar"
           }
          ],
          "barpolar": [
           {
            "marker": {
             "line": {
              "color": "#E5ECF6",
              "width": 0.5
             }
            },
            "type": "barpolar"
           }
          ],
          "carpet": [
           {
            "aaxis": {
             "endlinecolor": "#2a3f5f",
             "gridcolor": "white",
             "linecolor": "white",
             "minorgridcolor": "white",
             "startlinecolor": "#2a3f5f"
            },
            "baxis": {
             "endlinecolor": "#2a3f5f",
             "gridcolor": "white",
             "linecolor": "white",
             "minorgridcolor": "white",
             "startlinecolor": "#2a3f5f"
            },
            "type": "carpet"
           }
          ],
          "choropleth": [
           {
            "colorbar": {
             "outlinewidth": 0,
             "ticks": ""
            },
            "type": "choropleth"
           }
          ],
          "contour": [
           {
            "colorbar": {
             "outlinewidth": 0,
             "ticks": ""
            },
            "colorscale": [
             [
              0,
              "#0d0887"
             ],
             [
              0.1111111111111111,
              "#46039f"
             ],
             [
              0.2222222222222222,
              "#7201a8"
             ],
             [
              0.3333333333333333,
              "#9c179e"
             ],
             [
              0.4444444444444444,
              "#bd3786"
             ],
             [
              0.5555555555555556,
              "#d8576b"
             ],
             [
              0.6666666666666666,
              "#ed7953"
             ],
             [
              0.7777777777777778,
              "#fb9f3a"
             ],
             [
              0.8888888888888888,
              "#fdca26"
             ],
             [
              1,
              "#f0f921"
             ]
            ],
            "type": "contour"
           }
          ],
          "contourcarpet": [
           {
            "colorbar": {
             "outlinewidth": 0,
             "ticks": ""
            },
            "type": "contourcarpet"
           }
          ],
          "heatmap": [
           {
            "colorbar": {
             "outlinewidth": 0,
             "ticks": ""
            },
            "colorscale": [
             [
              0,
              "#0d0887"
             ],
             [
              0.1111111111111111,
              "#46039f"
             ],
             [
              0.2222222222222222,
              "#7201a8"
             ],
             [
              0.3333333333333333,
              "#9c179e"
             ],
             [
              0.4444444444444444,
              "#bd3786"
             ],
             [
              0.5555555555555556,
              "#d8576b"
             ],
             [
              0.6666666666666666,
              "#ed7953"
             ],
             [
              0.7777777777777778,
              "#fb9f3a"
             ],
             [
              0.8888888888888888,
              "#fdca26"
             ],
             [
              1,
              "#f0f921"
             ]
            ],
            "type": "heatmap"
           }
          ],
          "heatmapgl": [
           {
            "colorbar": {
             "outlinewidth": 0,
             "ticks": ""
            },
            "colorscale": [
             [
              0,
              "#0d0887"
             ],
             [
              0.1111111111111111,
              "#46039f"
             ],
             [
              0.2222222222222222,
              "#7201a8"
             ],
             [
              0.3333333333333333,
              "#9c179e"
             ],
             [
              0.4444444444444444,
              "#bd3786"
             ],
             [
              0.5555555555555556,
              "#d8576b"
             ],
             [
              0.6666666666666666,
              "#ed7953"
             ],
             [
              0.7777777777777778,
              "#fb9f3a"
             ],
             [
              0.8888888888888888,
              "#fdca26"
             ],
             [
              1,
              "#f0f921"
             ]
            ],
            "type": "heatmapgl"
           }
          ],
          "histogram": [
           {
            "marker": {
             "colorbar": {
              "outlinewidth": 0,
              "ticks": ""
             }
            },
            "type": "histogram"
           }
          ],
          "histogram2d": [
           {
            "colorbar": {
             "outlinewidth": 0,
             "ticks": ""
            },
            "colorscale": [
             [
              0,
              "#0d0887"
             ],
             [
              0.1111111111111111,
              "#46039f"
             ],
             [
              0.2222222222222222,
              "#7201a8"
             ],
             [
              0.3333333333333333,
              "#9c179e"
             ],
             [
              0.4444444444444444,
              "#bd3786"
             ],
             [
              0.5555555555555556,
              "#d8576b"
             ],
             [
              0.6666666666666666,
              "#ed7953"
             ],
             [
              0.7777777777777778,
              "#fb9f3a"
             ],
             [
              0.8888888888888888,
              "#fdca26"
             ],
             [
              1,
              "#f0f921"
             ]
            ],
            "type": "histogram2d"
           }
          ],
          "histogram2dcontour": [
           {
            "colorbar": {
             "outlinewidth": 0,
             "ticks": ""
            },
            "colorscale": [
             [
              0,
              "#0d0887"
             ],
             [
              0.1111111111111111,
              "#46039f"
             ],
             [
              0.2222222222222222,
              "#7201a8"
             ],
             [
              0.3333333333333333,
              "#9c179e"
             ],
             [
              0.4444444444444444,
              "#bd3786"
             ],
             [
              0.5555555555555556,
              "#d8576b"
             ],
             [
              0.6666666666666666,
              "#ed7953"
             ],
             [
              0.7777777777777778,
              "#fb9f3a"
             ],
             [
              0.8888888888888888,
              "#fdca26"
             ],
             [
              1,
              "#f0f921"
             ]
            ],
            "type": "histogram2dcontour"
           }
          ],
          "mesh3d": [
           {
            "colorbar": {
             "outlinewidth": 0,
             "ticks": ""
            },
            "type": "mesh3d"
           }
          ],
          "parcoords": [
           {
            "line": {
             "colorbar": {
              "outlinewidth": 0,
              "ticks": ""
             }
            },
            "type": "parcoords"
           }
          ],
          "pie": [
           {
            "automargin": true,
            "type": "pie"
           }
          ],
          "scatter": [
           {
            "marker": {
             "colorbar": {
              "outlinewidth": 0,
              "ticks": ""
             }
            },
            "type": "scatter"
           }
          ],
          "scatter3d": [
           {
            "line": {
             "colorbar": {
              "outlinewidth": 0,
              "ticks": ""
             }
            },
            "marker": {
             "colorbar": {
              "outlinewidth": 0,
              "ticks": ""
             }
            },
            "type": "scatter3d"
           }
          ],
          "scattercarpet": [
           {
            "marker": {
             "colorbar": {
              "outlinewidth": 0,
              "ticks": ""
             }
            },
            "type": "scattercarpet"
           }
          ],
          "scattergeo": [
           {
            "marker": {
             "colorbar": {
              "outlinewidth": 0,
              "ticks": ""
             }
            },
            "type": "scattergeo"
           }
          ],
          "scattergl": [
           {
            "marker": {
             "colorbar": {
              "outlinewidth": 0,
              "ticks": ""
             }
            },
            "type": "scattergl"
           }
          ],
          "scattermapbox": [
           {
            "marker": {
             "colorbar": {
              "outlinewidth": 0,
              "ticks": ""
             }
            },
            "type": "scattermapbox"
           }
          ],
          "scatterpolar": [
           {
            "marker": {
             "colorbar": {
              "outlinewidth": 0,
              "ticks": ""
             }
            },
            "type": "scatterpolar"
           }
          ],
          "scatterpolargl": [
           {
            "marker": {
             "colorbar": {
              "outlinewidth": 0,
              "ticks": ""
             }
            },
            "type": "scatterpolargl"
           }
          ],
          "scatterternary": [
           {
            "marker": {
             "colorbar": {
              "outlinewidth": 0,
              "ticks": ""
             }
            },
            "type": "scatterternary"
           }
          ],
          "surface": [
           {
            "colorbar": {
             "outlinewidth": 0,
             "ticks": ""
            },
            "colorscale": [
             [
              0,
              "#0d0887"
             ],
             [
              0.1111111111111111,
              "#46039f"
             ],
             [
              0.2222222222222222,
              "#7201a8"
             ],
             [
              0.3333333333333333,
              "#9c179e"
             ],
             [
              0.4444444444444444,
              "#bd3786"
             ],
             [
              0.5555555555555556,
              "#d8576b"
             ],
             [
              0.6666666666666666,
              "#ed7953"
             ],
             [
              0.7777777777777778,
              "#fb9f3a"
             ],
             [
              0.8888888888888888,
              "#fdca26"
             ],
             [
              1,
              "#f0f921"
             ]
            ],
            "type": "surface"
           }
          ],
          "table": [
           {
            "cells": {
             "fill": {
              "color": "#EBF0F8"
             },
             "line": {
              "color": "white"
             }
            },
            "header": {
             "fill": {
              "color": "#C8D4E3"
             },
             "line": {
              "color": "white"
             }
            },
            "type": "table"
           }
          ]
         },
         "layout": {
          "annotationdefaults": {
           "arrowcolor": "#2a3f5f",
           "arrowhead": 0,
           "arrowwidth": 1
          },
          "autotypenumbers": "strict",
          "coloraxis": {
           "colorbar": {
            "outlinewidth": 0,
            "ticks": ""
           }
          },
          "colorscale": {
           "diverging": [
            [
             0,
             "#8e0152"
            ],
            [
             0.1,
             "#c51b7d"
            ],
            [
             0.2,
             "#de77ae"
            ],
            [
             0.3,
             "#f1b6da"
            ],
            [
             0.4,
             "#fde0ef"
            ],
            [
             0.5,
             "#f7f7f7"
            ],
            [
             0.6,
             "#e6f5d0"
            ],
            [
             0.7,
             "#b8e186"
            ],
            [
             0.8,
             "#7fbc41"
            ],
            [
             0.9,
             "#4d9221"
            ],
            [
             1,
             "#276419"
            ]
           ],
           "sequential": [
            [
             0,
             "#0d0887"
            ],
            [
             0.1111111111111111,
             "#46039f"
            ],
            [
             0.2222222222222222,
             "#7201a8"
            ],
            [
             0.3333333333333333,
             "#9c179e"
            ],
            [
             0.4444444444444444,
             "#bd3786"
            ],
            [
             0.5555555555555556,
             "#d8576b"
            ],
            [
             0.6666666666666666,
             "#ed7953"
            ],
            [
             0.7777777777777778,
             "#fb9f3a"
            ],
            [
             0.8888888888888888,
             "#fdca26"
            ],
            [
             1,
             "#f0f921"
            ]
           ],
           "sequentialminus": [
            [
             0,
             "#0d0887"
            ],
            [
             0.1111111111111111,
             "#46039f"
            ],
            [
             0.2222222222222222,
             "#7201a8"
            ],
            [
             0.3333333333333333,
             "#9c179e"
            ],
            [
             0.4444444444444444,
             "#bd3786"
            ],
            [
             0.5555555555555556,
             "#d8576b"
            ],
            [
             0.6666666666666666,
             "#ed7953"
            ],
            [
             0.7777777777777778,
             "#fb9f3a"
            ],
            [
             0.8888888888888888,
             "#fdca26"
            ],
            [
             1,
             "#f0f921"
            ]
           ]
          },
          "colorway": [
           "#636efa",
           "#EF553B",
           "#00cc96",
           "#ab63fa",
           "#FFA15A",
           "#19d3f3",
           "#FF6692",
           "#B6E880",
           "#FF97FF",
           "#FECB52"
          ],
          "font": {
           "color": "#2a3f5f"
          },
          "geo": {
           "bgcolor": "white",
           "lakecolor": "white",
           "landcolor": "#E5ECF6",
           "showlakes": true,
           "showland": true,
           "subunitcolor": "white"
          },
          "hoverlabel": {
           "align": "left"
          },
          "hovermode": "closest",
          "mapbox": {
           "style": "light"
          },
          "paper_bgcolor": "white",
          "plot_bgcolor": "#E5ECF6",
          "polar": {
           "angularaxis": {
            "gridcolor": "white",
            "linecolor": "white",
            "ticks": ""
           },
           "bgcolor": "#E5ECF6",
           "radialaxis": {
            "gridcolor": "white",
            "linecolor": "white",
            "ticks": ""
           }
          },
          "scene": {
           "xaxis": {
            "backgroundcolor": "#E5ECF6",
            "gridcolor": "white",
            "gridwidth": 2,
            "linecolor": "white",
            "showbackground": true,
            "ticks": "",
            "zerolinecolor": "white"
           },
           "yaxis": {
            "backgroundcolor": "#E5ECF6",
            "gridcolor": "white",
            "gridwidth": 2,
            "linecolor": "white",
            "showbackground": true,
            "ticks": "",
            "zerolinecolor": "white"
           },
           "zaxis": {
            "backgroundcolor": "#E5ECF6",
            "gridcolor": "white",
            "gridwidth": 2,
            "linecolor": "white",
            "showbackground": true,
            "ticks": "",
            "zerolinecolor": "white"
           }
          },
          "shapedefaults": {
           "line": {
            "color": "#2a3f5f"
           }
          },
          "ternary": {
           "aaxis": {
            "gridcolor": "white",
            "linecolor": "white",
            "ticks": ""
           },
           "baxis": {
            "gridcolor": "white",
            "linecolor": "white",
            "ticks": ""
           },
           "bgcolor": "#E5ECF6",
           "caxis": {
            "gridcolor": "white",
            "linecolor": "white",
            "ticks": ""
           }
          },
          "title": {
           "x": 0.05
          },
          "xaxis": {
           "automargin": true,
           "gridcolor": "white",
           "linecolor": "white",
           "ticks": "",
           "title": {
            "standoff": 15
           },
           "zerolinecolor": "white",
           "zerolinewidth": 2
          },
          "yaxis": {
           "automargin": true,
           "gridcolor": "white",
           "linecolor": "white",
           "ticks": "",
           "title": {
            "standoff": 15
           },
           "zerolinecolor": "white",
           "zerolinewidth": 2
          }
         }
        },
        "title": {
         "font": {
          "color": "#4D5663"
         }
        },
        "xaxis": {
         "gridcolor": "#E1E5ED",
         "showgrid": true,
         "tickfont": {
          "color": "#4D5663"
         },
         "title": {
          "font": {
           "color": "#4D5663"
          },
          "text": ""
         },
         "zerolinecolor": "#E1E5ED"
        },
        "yaxis": {
         "gridcolor": "#E1E5ED",
         "showgrid": true,
         "tickfont": {
          "color": "#4D5663"
         },
         "title": {
          "font": {
           "color": "#4D5663"
          },
          "text": ""
         },
         "zerolinecolor": "#E1E5ED"
        }
       }
      },
      "text/html": [
       "<div>                            <div id=\"ac8865ba-3d59-4d39-a851-8965eec0c265\" class=\"plotly-graph-div\" style=\"height:525px; width:100%;\"></div>            <script type=\"text/javascript\">                require([\"plotly\"], function(Plotly) {                    window.PLOTLYENV=window.PLOTLYENV || {};\n",
       "                    window.PLOTLYENV.BASE_URL='https://plot.ly';                                    if (document.getElementById(\"ac8865ba-3d59-4d39-a851-8965eec0c265\")) {                    Plotly.newPlot(                        \"ac8865ba-3d59-4d39-a851-8965eec0c265\",                        [{\"histfunc\": \"count\", \"histnorm\": \"\", \"marker\": {\"color\": \"rgba(255, 153, 51, 1.0)\", \"line\": {\"color\": \"#4D5663\", \"width\": 1.3}}, \"name\": \"A\", \"nbinsx\": 24, \"opacity\": 0.8, \"orientation\": \"v\", \"type\": \"histogram\", \"x\": [0.20504070623313753, 0.6286778475688474, -1.1946960815376417, -1.3183627315384152, 0.7287269751944572, 0.8722269481098422, -0.13166269309223982, -1.9357840606631018, 0.4145336921882121, -0.6069916193966661, 0.390215883251644, -0.45734674356014016, 1.193349051418664, 1.235556532466609, 1.6291582358653538, 1.1395764553378547, -0.010775928268597778, 1.206843095845801, -0.9600146154713587, -0.966140199254339, 0.19169949104174405, -0.14918790595603876, 0.5686543373940673, -0.24045778518832012, 0.6366295721983622, 1.1522381506685453, 1.9336345364130645, 2.006996624653642, -0.023025978960075136, 0.18993942931543212, -1.4296539266874184, 0.43382004511192135, -0.7306127696972191, -0.05578944403470869, -0.08472001405877864, -0.1149714121493137, 0.7358612175856649, -0.6923771671588429, -0.25387934755682223, -2.0722680287624553, -0.5165814241979004, 1.6736494345930495, -0.5336323351896277, 1.4616808532371586, 1.2048074779808589, -1.2840849645974888, -0.17814633696158727, 1.0474906379523012, 0.38688412823874413, 0.5918234597806681, -1.3531856261517683, 0.24341156761558463, -0.7017222749850373, 0.6123500849073915, -0.8479136012893379, 1.531831449493807, -0.08902284414868179, -1.8178227460471446, -0.5109149743900608, -0.019596110540417384, -0.6983446018771495, 2.1094904333757407, -0.6311966451758331, -0.7047558807060837, 0.14788823265526901, 1.3716817074401486, 0.014617163284772135, -0.8243567459465074, 0.3123554784595387, 0.006117282091226412, -0.44574685438333156, 0.19146184772892774, -0.510564268279504, 0.8130753024382118, 2.3632960388245143, 2.116807945200409, -0.7750854668514382, 1.1030058690899103, -1.0730902732448744, -0.7826004688457083, -0.19255772560734755, -1.6458945809351144, -1.149219201933772, 0.06545680442591104, 1.2970608422251297, 0.3995935105107383, 1.0046285769041494, 2.6049159767101853, 0.2648980896996127, -1.5712641398967868, -0.7776854787695353, 0.21347068389058088, 0.20585723656867927, 1.9571203104075063, -0.6410346456022266, -0.9414275827775105, 1.2276831536344308, -0.007015283300855964, 0.23646616205819243, -1.2406348171165948]}],                        {\"barmode\": \"overlay\", \"legend\": {\"bgcolor\": \"#F5F6F9\", \"font\": {\"color\": \"#4D5663\"}}, \"paper_bgcolor\": \"#F5F6F9\", \"plot_bgcolor\": \"#F5F6F9\", \"template\": {\"data\": {\"bar\": [{\"error_x\": {\"color\": \"#2a3f5f\"}, \"error_y\": {\"color\": \"#2a3f5f\"}, \"marker\": {\"line\": {\"color\": \"#E5ECF6\", \"width\": 0.5}}, \"type\": \"bar\"}], \"barpolar\": [{\"marker\": {\"line\": {\"color\": \"#E5ECF6\", \"width\": 0.5}}, \"type\": \"barpolar\"}], \"carpet\": [{\"aaxis\": {\"endlinecolor\": \"#2a3f5f\", \"gridcolor\": \"white\", \"linecolor\": \"white\", \"minorgridcolor\": \"white\", \"startlinecolor\": \"#2a3f5f\"}, \"baxis\": {\"endlinecolor\": \"#2a3f5f\", \"gridcolor\": \"white\", \"linecolor\": \"white\", \"minorgridcolor\": \"white\", \"startlinecolor\": \"#2a3f5f\"}, \"type\": \"carpet\"}], \"choropleth\": [{\"colorbar\": {\"outlinewidth\": 0, \"ticks\": \"\"}, \"type\": \"choropleth\"}], \"contour\": [{\"colorbar\": {\"outlinewidth\": 0, \"ticks\": \"\"}, \"colorscale\": [[0.0, \"#0d0887\"], [0.1111111111111111, \"#46039f\"], [0.2222222222222222, \"#7201a8\"], [0.3333333333333333, \"#9c179e\"], [0.4444444444444444, \"#bd3786\"], [0.5555555555555556, \"#d8576b\"], [0.6666666666666666, \"#ed7953\"], [0.7777777777777778, \"#fb9f3a\"], [0.8888888888888888, \"#fdca26\"], [1.0, \"#f0f921\"]], \"type\": \"contour\"}], \"contourcarpet\": [{\"colorbar\": {\"outlinewidth\": 0, \"ticks\": \"\"}, \"type\": \"contourcarpet\"}], \"heatmap\": [{\"colorbar\": {\"outlinewidth\": 0, \"ticks\": \"\"}, \"colorscale\": [[0.0, \"#0d0887\"], [0.1111111111111111, \"#46039f\"], [0.2222222222222222, \"#7201a8\"], [0.3333333333333333, \"#9c179e\"], [0.4444444444444444, \"#bd3786\"], [0.5555555555555556, \"#d8576b\"], [0.6666666666666666, \"#ed7953\"], [0.7777777777777778, \"#fb9f3a\"], [0.8888888888888888, \"#fdca26\"], [1.0, \"#f0f921\"]], \"type\": \"heatmap\"}], \"heatmapgl\": [{\"colorbar\": {\"outlinewidth\": 0, \"ticks\": \"\"}, \"colorscale\": [[0.0, \"#0d0887\"], [0.1111111111111111, \"#46039f\"], [0.2222222222222222, \"#7201a8\"], [0.3333333333333333, \"#9c179e\"], [0.4444444444444444, \"#bd3786\"], [0.5555555555555556, \"#d8576b\"], [0.6666666666666666, \"#ed7953\"], [0.7777777777777778, \"#fb9f3a\"], [0.8888888888888888, \"#fdca26\"], [1.0, \"#f0f921\"]], \"type\": \"heatmapgl\"}], \"histogram\": [{\"marker\": {\"colorbar\": {\"outlinewidth\": 0, \"ticks\": \"\"}}, \"type\": \"histogram\"}], \"histogram2d\": [{\"colorbar\": {\"outlinewidth\": 0, \"ticks\": \"\"}, \"colorscale\": [[0.0, \"#0d0887\"], [0.1111111111111111, \"#46039f\"], [0.2222222222222222, \"#7201a8\"], [0.3333333333333333, \"#9c179e\"], [0.4444444444444444, \"#bd3786\"], [0.5555555555555556, \"#d8576b\"], [0.6666666666666666, \"#ed7953\"], [0.7777777777777778, \"#fb9f3a\"], [0.8888888888888888, \"#fdca26\"], [1.0, \"#f0f921\"]], \"type\": \"histogram2d\"}], \"histogram2dcontour\": [{\"colorbar\": {\"outlinewidth\": 0, \"ticks\": \"\"}, \"colorscale\": [[0.0, \"#0d0887\"], [0.1111111111111111, \"#46039f\"], [0.2222222222222222, \"#7201a8\"], [0.3333333333333333, \"#9c179e\"], [0.4444444444444444, \"#bd3786\"], [0.5555555555555556, \"#d8576b\"], [0.6666666666666666, \"#ed7953\"], [0.7777777777777778, \"#fb9f3a\"], [0.8888888888888888, \"#fdca26\"], [1.0, \"#f0f921\"]], \"type\": \"histogram2dcontour\"}], \"mesh3d\": [{\"colorbar\": {\"outlinewidth\": 0, \"ticks\": \"\"}, \"type\": \"mesh3d\"}], \"parcoords\": [{\"line\": {\"colorbar\": {\"outlinewidth\": 0, \"ticks\": \"\"}}, \"type\": \"parcoords\"}], \"pie\": [{\"automargin\": true, \"type\": \"pie\"}], \"scatter\": [{\"marker\": {\"colorbar\": {\"outlinewidth\": 0, \"ticks\": \"\"}}, \"type\": \"scatter\"}], \"scatter3d\": [{\"line\": {\"colorbar\": {\"outlinewidth\": 0, \"ticks\": \"\"}}, \"marker\": {\"colorbar\": {\"outlinewidth\": 0, \"ticks\": \"\"}}, \"type\": \"scatter3d\"}], \"scattercarpet\": [{\"marker\": {\"colorbar\": {\"outlinewidth\": 0, \"ticks\": \"\"}}, \"type\": \"scattercarpet\"}], \"scattergeo\": [{\"marker\": {\"colorbar\": {\"outlinewidth\": 0, \"ticks\": \"\"}}, \"type\": \"scattergeo\"}], \"scattergl\": [{\"marker\": {\"colorbar\": {\"outlinewidth\": 0, \"ticks\": \"\"}}, \"type\": \"scattergl\"}], \"scattermapbox\": [{\"marker\": {\"colorbar\": {\"outlinewidth\": 0, \"ticks\": \"\"}}, \"type\": \"scattermapbox\"}], \"scatterpolar\": [{\"marker\": {\"colorbar\": {\"outlinewidth\": 0, \"ticks\": \"\"}}, \"type\": \"scatterpolar\"}], \"scatterpolargl\": [{\"marker\": {\"colorbar\": {\"outlinewidth\": 0, \"ticks\": \"\"}}, \"type\": \"scatterpolargl\"}], \"scatterternary\": [{\"marker\": {\"colorbar\": {\"outlinewidth\": 0, \"ticks\": \"\"}}, \"type\": \"scatterternary\"}], \"surface\": [{\"colorbar\": {\"outlinewidth\": 0, \"ticks\": \"\"}, \"colorscale\": [[0.0, \"#0d0887\"], [0.1111111111111111, \"#46039f\"], [0.2222222222222222, \"#7201a8\"], [0.3333333333333333, \"#9c179e\"], [0.4444444444444444, \"#bd3786\"], [0.5555555555555556, \"#d8576b\"], [0.6666666666666666, \"#ed7953\"], [0.7777777777777778, \"#fb9f3a\"], [0.8888888888888888, \"#fdca26\"], [1.0, \"#f0f921\"]], \"type\": \"surface\"}], \"table\": [{\"cells\": {\"fill\": {\"color\": \"#EBF0F8\"}, \"line\": {\"color\": \"white\"}}, \"header\": {\"fill\": {\"color\": \"#C8D4E3\"}, \"line\": {\"color\": \"white\"}}, \"type\": \"table\"}]}, \"layout\": {\"annotationdefaults\": {\"arrowcolor\": \"#2a3f5f\", \"arrowhead\": 0, \"arrowwidth\": 1}, \"autotypenumbers\": \"strict\", \"coloraxis\": {\"colorbar\": {\"outlinewidth\": 0, \"ticks\": \"\"}}, \"colorscale\": {\"diverging\": [[0, \"#8e0152\"], [0.1, \"#c51b7d\"], [0.2, \"#de77ae\"], [0.3, \"#f1b6da\"], [0.4, \"#fde0ef\"], [0.5, \"#f7f7f7\"], [0.6, \"#e6f5d0\"], [0.7, \"#b8e186\"], [0.8, \"#7fbc41\"], [0.9, \"#4d9221\"], [1, \"#276419\"]], \"sequential\": [[0.0, \"#0d0887\"], [0.1111111111111111, \"#46039f\"], [0.2222222222222222, \"#7201a8\"], [0.3333333333333333, \"#9c179e\"], [0.4444444444444444, \"#bd3786\"], [0.5555555555555556, \"#d8576b\"], [0.6666666666666666, \"#ed7953\"], [0.7777777777777778, \"#fb9f3a\"], [0.8888888888888888, \"#fdca26\"], [1.0, \"#f0f921\"]], \"sequentialminus\": [[0.0, \"#0d0887\"], [0.1111111111111111, \"#46039f\"], [0.2222222222222222, \"#7201a8\"], [0.3333333333333333, \"#9c179e\"], [0.4444444444444444, \"#bd3786\"], [0.5555555555555556, \"#d8576b\"], [0.6666666666666666, \"#ed7953\"], [0.7777777777777778, \"#fb9f3a\"], [0.8888888888888888, \"#fdca26\"], [1.0, \"#f0f921\"]]}, \"colorway\": [\"#636efa\", \"#EF553B\", \"#00cc96\", \"#ab63fa\", \"#FFA15A\", \"#19d3f3\", \"#FF6692\", \"#B6E880\", \"#FF97FF\", \"#FECB52\"], \"font\": {\"color\": \"#2a3f5f\"}, \"geo\": {\"bgcolor\": \"white\", \"lakecolor\": \"white\", \"landcolor\": \"#E5ECF6\", \"showlakes\": true, \"showland\": true, \"subunitcolor\": \"white\"}, \"hoverlabel\": {\"align\": \"left\"}, \"hovermode\": \"closest\", \"mapbox\": {\"style\": \"light\"}, \"paper_bgcolor\": \"white\", \"plot_bgcolor\": \"#E5ECF6\", \"polar\": {\"angularaxis\": {\"gridcolor\": \"white\", \"linecolor\": \"white\", \"ticks\": \"\"}, \"bgcolor\": \"#E5ECF6\", \"radialaxis\": {\"gridcolor\": \"white\", \"linecolor\": \"white\", \"ticks\": \"\"}}, \"scene\": {\"xaxis\": {\"backgroundcolor\": \"#E5ECF6\", \"gridcolor\": \"white\", \"gridwidth\": 2, \"linecolor\": \"white\", \"showbackground\": true, \"ticks\": \"\", \"zerolinecolor\": \"white\"}, \"yaxis\": {\"backgroundcolor\": \"#E5ECF6\", \"gridcolor\": \"white\", \"gridwidth\": 2, \"linecolor\": \"white\", \"showbackground\": true, \"ticks\": \"\", \"zerolinecolor\": \"white\"}, \"zaxis\": {\"backgroundcolor\": \"#E5ECF6\", \"gridcolor\": \"white\", \"gridwidth\": 2, \"linecolor\": \"white\", \"showbackground\": true, \"ticks\": \"\", \"zerolinecolor\": \"white\"}}, \"shapedefaults\": {\"line\": {\"color\": \"#2a3f5f\"}}, \"ternary\": {\"aaxis\": {\"gridcolor\": \"white\", \"linecolor\": \"white\", \"ticks\": \"\"}, \"baxis\": {\"gridcolor\": \"white\", \"linecolor\": \"white\", \"ticks\": \"\"}, \"bgcolor\": \"#E5ECF6\", \"caxis\": {\"gridcolor\": \"white\", \"linecolor\": \"white\", \"ticks\": \"\"}}, \"title\": {\"x\": 0.05}, \"xaxis\": {\"automargin\": true, \"gridcolor\": \"white\", \"linecolor\": \"white\", \"ticks\": \"\", \"title\": {\"standoff\": 15}, \"zerolinecolor\": \"white\", \"zerolinewidth\": 2}, \"yaxis\": {\"automargin\": true, \"gridcolor\": \"white\", \"linecolor\": \"white\", \"ticks\": \"\", \"title\": {\"standoff\": 15}, \"zerolinecolor\": \"white\", \"zerolinewidth\": 2}}}, \"title\": {\"font\": {\"color\": \"#4D5663\"}}, \"xaxis\": {\"gridcolor\": \"#E1E5ED\", \"showgrid\": true, \"tickfont\": {\"color\": \"#4D5663\"}, \"title\": {\"font\": {\"color\": \"#4D5663\"}, \"text\": \"\"}, \"zerolinecolor\": \"#E1E5ED\"}, \"yaxis\": {\"gridcolor\": \"#E1E5ED\", \"showgrid\": true, \"tickfont\": {\"color\": \"#4D5663\"}, \"title\": {\"font\": {\"color\": \"#4D5663\"}, \"text\": \"\"}, \"zerolinecolor\": \"#E1E5ED\"}},                        {\"showLink\": true, \"linkText\": \"Export to plot.ly\", \"plotlyServerURL\": \"https://plot.ly\", \"responsive\": true}                    ).then(function(){\n",
       "                            \n",
       "var gd = document.getElementById('ac8865ba-3d59-4d39-a851-8965eec0c265');\n",
       "var x = new MutationObserver(function (mutations, observer) {{\n",
       "        var display = window.getComputedStyle(gd).display;\n",
       "        if (!display || display === 'none') {{\n",
       "            console.log([gd, 'removed!']);\n",
       "            Plotly.purge(gd);\n",
       "            observer.disconnect();\n",
       "        }}\n",
       "}});\n",
       "\n",
       "// Listen for the removal of the full notebook cells\n",
       "var notebookContainer = gd.closest('#notebook-container');\n",
       "if (notebookContainer) {{\n",
       "    x.observe(notebookContainer, {childList: true});\n",
       "}}\n",
       "\n",
       "// Listen for the clearing of the current output cell\n",
       "var outputEl = gd.closest('.output');\n",
       "if (outputEl) {{\n",
       "    x.observe(outputEl, {childList: true});\n",
       "}}\n",
       "\n",
       "                        })                };                });            </script>        </div>"
      ]
     },
     "metadata": {},
     "output_type": "display_data"
    }
   ],
   "source": [
    "df['A'].iplot(kind='hist',bins=24)"
   ]
  },
  {
   "cell_type": "code",
   "execution_count": 42,
   "metadata": {},
   "outputs": [
    {
     "data": {
      "application/vnd.plotly.v1+json": {
       "config": {
        "linkText": "Export to plot.ly",
        "plotlyServerURL": "https://plot.ly",
        "showLink": true
       },
       "data": [
        {
         "histfunc": "count",
         "histnorm": "",
         "marker": {
          "color": "rgba(255, 153, 51, 1.0)",
          "line": {
           "color": "#4D5663",
           "width": 1.3
          }
         },
         "name": "A",
         "opacity": 0.8,
         "orientation": "v",
         "type": "histogram",
         "x": [
          0.20504070623313753,
          0.6286778475688474,
          -1.1946960815376417,
          -1.3183627315384152,
          0.7287269751944572,
          0.8722269481098422,
          -0.13166269309223982,
          -1.9357840606631018,
          0.4145336921882121,
          -0.6069916193966661,
          0.390215883251644,
          -0.45734674356014016,
          1.193349051418664,
          1.235556532466609,
          1.6291582358653538,
          1.1395764553378547,
          -0.010775928268597778,
          1.206843095845801,
          -0.9600146154713587,
          -0.966140199254339,
          0.19169949104174405,
          -0.14918790595603876,
          0.5686543373940673,
          -0.24045778518832012,
          0.6366295721983622,
          1.1522381506685453,
          1.9336345364130645,
          2.006996624653642,
          -0.023025978960075136,
          0.18993942931543212,
          -1.4296539266874184,
          0.43382004511192135,
          -0.7306127696972191,
          -0.05578944403470869,
          -0.08472001405877864,
          -0.1149714121493137,
          0.7358612175856649,
          -0.6923771671588429,
          -0.25387934755682223,
          -2.0722680287624553,
          -0.5165814241979004,
          1.6736494345930495,
          -0.5336323351896277,
          1.4616808532371586,
          1.2048074779808589,
          -1.2840849645974888,
          -0.17814633696158727,
          1.0474906379523012,
          0.38688412823874413,
          0.5918234597806681,
          -1.3531856261517683,
          0.24341156761558463,
          -0.7017222749850373,
          0.6123500849073915,
          -0.8479136012893379,
          1.531831449493807,
          -0.08902284414868179,
          -1.8178227460471446,
          -0.5109149743900608,
          -0.019596110540417384,
          -0.6983446018771495,
          2.1094904333757407,
          -0.6311966451758331,
          -0.7047558807060837,
          0.14788823265526901,
          1.3716817074401486,
          0.014617163284772135,
          -0.8243567459465074,
          0.3123554784595387,
          0.006117282091226412,
          -0.44574685438333156,
          0.19146184772892774,
          -0.510564268279504,
          0.8130753024382118,
          2.3632960388245143,
          2.116807945200409,
          -0.7750854668514382,
          1.1030058690899103,
          -1.0730902732448744,
          -0.7826004688457083,
          -0.19255772560734755,
          -1.6458945809351144,
          -1.149219201933772,
          0.06545680442591104,
          1.2970608422251297,
          0.3995935105107383,
          1.0046285769041494,
          2.6049159767101853,
          0.2648980896996127,
          -1.5712641398967868,
          -0.7776854787695353,
          0.21347068389058088,
          0.20585723656867927,
          1.9571203104075063,
          -0.6410346456022266,
          -0.9414275827775105,
          1.2276831536344308,
          -0.007015283300855964,
          0.23646616205819243,
          -1.2406348171165948
         ]
        },
        {
         "histfunc": "count",
         "histnorm": "",
         "marker": {
          "color": "rgba(55, 128, 191, 1.0)",
          "line": {
           "color": "#4D5663",
           "width": 1.3
          }
         },
         "name": "B",
         "opacity": 0.8,
         "orientation": "v",
         "type": "histogram",
         "x": [
          -0.5439617119205455,
          -0.5704148841714516,
          -1.07662655822544,
          -0.8474093020614032,
          -0.4040721263713018,
          -0.22032162653824705,
          0.984810825036386,
          0.6459982295599839,
          0.9625977558237383,
          0.32961616491736717,
          -0.6383325120225408,
          1.7682720359532031,
          -0.7006348852403254,
          -0.2562716741210957,
          -1.2177123975522377,
          -0.16734060804219206,
          0.43907261092386024,
          -0.18906110667888334,
          1.1993281288587738,
          -0.20811431926451315,
          -1.0049310034719965,
          -0.22976703532601245,
          -0.13894060084069174,
          1.2275994471410943,
          1.342734485378966,
          1.1665077733710503,
          -0.5434498879083448,
          -0.4092649210874944,
          0.33338528689970426,
          0.7670594173207315,
          0.7872973798422225,
          -0.1606048434279647,
          0.2843664711766602,
          0.571068693668149,
          -3.086080376151923,
          -0.4849501045316944,
          0.7980458181885236,
          0.5868466116667443,
          -0.9166483893763678,
          -0.1704246184052833,
          0.22117865067943315,
          -1.3201080068609135,
          0.7568133206374094,
          2.4676468487452357,
          -1.068703071956845,
          -0.6291258641268789,
          1.163415410221566,
          -0.12339604673539196,
          0.9367836611456651,
          -0.24948621721976244,
          -1.1576699893858196,
          1.5757959197628753,
          0.27451804126694296,
          -0.3405120090081654,
          0.5495521734370964,
          1.0455429042100273,
          -1.132207339071681,
          1.2103819750274107,
          -0.6528387602045533,
          0.06822891946103009,
          0.10930141977857291,
          -1.1210045578232524,
          -0.37174364013106725,
          0.8746799851128227,
          0.01530574132809894,
          -1.5607767191556627,
          0.3083227911857838,
          -1.8757128537357166,
          -0.05906016862387303,
          0.6244298300094971,
          0.03480897073112098,
          -0.8132032260998618,
          0.40371608126509506,
          -0.5250713115573913,
          -0.3599740532761306,
          0.6436866021813002,
          0.10040758411756084,
          1.106344944184813,
          -1.164546239406862,
          -0.6021822918337024,
          0.24359876936141814,
          -0.2115220974504064,
          0.9546210335566907,
          -0.7064555912566168,
          0.8642221033273032,
          0.876847424360984,
          1.6238480437140206,
          0.004990774537376512,
          -0.14310145325778864,
          0.4816044490155595,
          -0.46065909217859663,
          -0.30586794082918434,
          0.8313503097531753,
          0.6402120611320695,
          0.026544256531318044,
          0.04778410984681494,
          -0.39801425662921003,
          0.16233095530239772,
          1.0638768169666544,
          1.0008761898429492
         ]
        },
        {
         "histfunc": "count",
         "histnorm": "",
         "marker": {
          "color": "rgba(50, 171, 96, 1.0)",
          "line": {
           "color": "#4D5663",
           "width": 1.3
          }
         },
         "name": "C",
         "opacity": 0.8,
         "orientation": "v",
         "type": "histogram",
         "x": [
          0.5094294545126851,
          0.40320328228473257,
          -1.0451455220014838,
          1.9383884793219393,
          -1.1195269397610115,
          0.007417765090974777,
          0.0588735676736962,
          1.4486831838718595,
          0.6033313242291225,
          0.2749585077448684,
          -0.3975965848616199,
          0.40541201204441385,
          -0.5847945348136395,
          0.38849113522084433,
          0.20767229072108584,
          -1.240562416080876,
          0.039246829653464245,
          0.05941618583021419,
          0.9176614790601991,
          -0.35483232024577305,
          0.5078628782915157,
          -1.011774105600354,
          -0.1293450085950983,
          -0.8864371882344126,
          1.2943503030919112,
          -1.7673069248291902,
          2.0831647828343014,
          -0.43477937286446927,
          0.28146523719576355,
          0.5578602649896739,
          -1.5223462483028096,
          0.16964987149178934,
          -0.5500685263793943,
          1.0823050503075229,
          -0.22916823192201077,
          -0.38720631890992024,
          1.2661048221662239,
          0.20356760909533797,
          1.1423280831376215,
          -0.10808753431465522,
          -0.12024122233150104,
          -0.944575975802936,
          -0.013307573927293813,
          1.6694692642302944,
          0.6112119874177188,
          -0.3309763442652584,
          0.9368716650440161,
          0.23094685359448738,
          -1.0888193741475867,
          0.8649949026507499,
          0.07248175704709951,
          -1.3911871480567173,
          -0.41413527856674165,
          -0.35613451014051517,
          -0.37769709607996543,
          -0.9822669872550984,
          0.23265688962331718,
          0.4355067814591196,
          0.37808281394776455,
          -0.1688005200796566,
          0.16687394542556236,
          -1.3344462629664737,
          -1.775767484056754,
          -0.9198368168608252,
          -0.5866416401409374,
          0.5244749909215155,
          -0.8994138871176848,
          -1.036763269847553,
          -1.0610017578895294,
          -0.8086138339601849,
          -0.8380710319350305,
          -0.3388386019672623,
          -0.7302582534654624,
          -0.43943545041860654,
          -1.5543587253904214,
          -0.06978371605542653,
          -0.7403279458242567,
          -0.5477329264089507,
          -1.610404914345042,
          0.9036656673695966,
          -1.5524492653440827,
          -0.9325989144303676,
          -0.52836395382083,
          -0.23539265838494322,
          1.5416965399965687,
          1.5150559132967094,
          2.5553518227156022,
          0.9790630596152051,
          -0.14307144844543698,
          -0.5722196595441038,
          1.9600896240619718,
          -0.7740683236724355,
          -0.10869666985505544,
          1.0662098641450146,
          -1.6464091275492188,
          0.416733138747755,
          0.6633543695896578,
          -0.6354714080392322,
          1.230985010227931,
          1.4409767652468544
         ]
        },
        {
         "histfunc": "count",
         "histnorm": "",
         "marker": {
          "color": "rgba(128, 0, 128, 1.0)",
          "line": {
           "color": "#4D5663",
           "width": 1.3
          }
         },
         "name": "D",
         "opacity": 0.8,
         "orientation": "v",
         "type": "histogram",
         "x": [
          0.11067701414348054,
          1.8995322956998326,
          -0.2458432394320379,
          0.5377429220354326,
          0.20514092068761897,
          -0.4514663180793488,
          -0.6610065764537998,
          -0.5946763351837933,
          1.5876322949070458,
          -0.20862401058171826,
          0.10297891792163133,
          -0.25281160262026575,
          1.3249904488014876,
          -1.0303524275737623,
          0.05413589918587864,
          0.6514994639942188,
          0.1315770990395898,
          -1.7768578130784867,
          1.2519732468659475,
          2.107801720963238,
          0.6909674782691879,
          -1.0064250239305974,
          -1.9594991074877397,
          0.44156126672412044,
          1.1459098863063357,
          -1.5562322953726708,
          0.4622382708065796,
          -1.6076151437644994,
          0.023769686156858132,
          0.04733610495736649,
          -1.533445919972331,
          -0.8636934273154958,
          0.08484793871903562,
          -0.6801334318750999,
          0.7680009659696321,
          -0.16175210609800422,
          0.09195939858467177,
          -0.5517240236977996,
          -1.4050124530469743,
          0.41037660662342135,
          -1.0066194398330242,
          -0.16519075830470628,
          0.3455839201011954,
          -0.49648252813217847,
          0.9893381965952037,
          0.9202340449177022,
          -1.609088491013758,
          -1.1661792742014891,
          1.5009193644049066,
          -1.8421251199077862,
          0.846903260879262,
          1.3998383755050907,
          -1.5369592967746193,
          -1.156017381011761,
          -1.1948483504514387,
          1.2453651729889548,
          0.4901348950358889,
          -0.6864804088570704,
          -1.7547217593509994,
          1.46449983691902,
          -1.3709815046087923,
          0.4945937199231569,
          0.0038774672810933148,
          -0.7643456565843362,
          1.3711319057385063,
          2.075066204594895,
          -0.702239330904679,
          0.32041187038173796,
          0.19623915605715292,
          -1.2142958877036816,
          -0.4414355039880014,
          0.3580277034823271,
          0.6039910831803721,
          -0.47911249354579066,
          0.8971916936619772,
          2.503852279487358,
          1.4154279334783628,
          1.2899348808855755,
          0.8726548065933118,
          -0.6015714943498202,
          -0.7296042880756058,
          0.847591722445797,
          0.2452950717858223,
          0.3652032510685531,
          -0.989541015638144,
          -1.0671712267739,
          -1.6527190854808906,
          0.2626568109183234,
          0.34444372031564013,
          0.2280548616843117,
          0.40378538957093785,
          1.1827357707762025,
          1.4498233707993315,
          -0.36968230700697885,
          0.833747934653397,
          0.8522650270956144,
          -0.4270004960378985,
          1.6668665772393771,
          -0.2928581882164255,
          -0.026452986206500582
         ]
        }
       ],
       "layout": {
        "barmode": "overlay",
        "legend": {
         "bgcolor": "#F5F6F9",
         "font": {
          "color": "#4D5663"
         }
        },
        "paper_bgcolor": "#F5F6F9",
        "plot_bgcolor": "#F5F6F9",
        "template": {
         "data": {
          "bar": [
           {
            "error_x": {
             "color": "#2a3f5f"
            },
            "error_y": {
             "color": "#2a3f5f"
            },
            "marker": {
             "line": {
              "color": "#E5ECF6",
              "width": 0.5
             }
            },
            "type": "bar"
           }
          ],
          "barpolar": [
           {
            "marker": {
             "line": {
              "color": "#E5ECF6",
              "width": 0.5
             }
            },
            "type": "barpolar"
           }
          ],
          "carpet": [
           {
            "aaxis": {
             "endlinecolor": "#2a3f5f",
             "gridcolor": "white",
             "linecolor": "white",
             "minorgridcolor": "white",
             "startlinecolor": "#2a3f5f"
            },
            "baxis": {
             "endlinecolor": "#2a3f5f",
             "gridcolor": "white",
             "linecolor": "white",
             "minorgridcolor": "white",
             "startlinecolor": "#2a3f5f"
            },
            "type": "carpet"
           }
          ],
          "choropleth": [
           {
            "colorbar": {
             "outlinewidth": 0,
             "ticks": ""
            },
            "type": "choropleth"
           }
          ],
          "contour": [
           {
            "colorbar": {
             "outlinewidth": 0,
             "ticks": ""
            },
            "colorscale": [
             [
              0,
              "#0d0887"
             ],
             [
              0.1111111111111111,
              "#46039f"
             ],
             [
              0.2222222222222222,
              "#7201a8"
             ],
             [
              0.3333333333333333,
              "#9c179e"
             ],
             [
              0.4444444444444444,
              "#bd3786"
             ],
             [
              0.5555555555555556,
              "#d8576b"
             ],
             [
              0.6666666666666666,
              "#ed7953"
             ],
             [
              0.7777777777777778,
              "#fb9f3a"
             ],
             [
              0.8888888888888888,
              "#fdca26"
             ],
             [
              1,
              "#f0f921"
             ]
            ],
            "type": "contour"
           }
          ],
          "contourcarpet": [
           {
            "colorbar": {
             "outlinewidth": 0,
             "ticks": ""
            },
            "type": "contourcarpet"
           }
          ],
          "heatmap": [
           {
            "colorbar": {
             "outlinewidth": 0,
             "ticks": ""
            },
            "colorscale": [
             [
              0,
              "#0d0887"
             ],
             [
              0.1111111111111111,
              "#46039f"
             ],
             [
              0.2222222222222222,
              "#7201a8"
             ],
             [
              0.3333333333333333,
              "#9c179e"
             ],
             [
              0.4444444444444444,
              "#bd3786"
             ],
             [
              0.5555555555555556,
              "#d8576b"
             ],
             [
              0.6666666666666666,
              "#ed7953"
             ],
             [
              0.7777777777777778,
              "#fb9f3a"
             ],
             [
              0.8888888888888888,
              "#fdca26"
             ],
             [
              1,
              "#f0f921"
             ]
            ],
            "type": "heatmap"
           }
          ],
          "heatmapgl": [
           {
            "colorbar": {
             "outlinewidth": 0,
             "ticks": ""
            },
            "colorscale": [
             [
              0,
              "#0d0887"
             ],
             [
              0.1111111111111111,
              "#46039f"
             ],
             [
              0.2222222222222222,
              "#7201a8"
             ],
             [
              0.3333333333333333,
              "#9c179e"
             ],
             [
              0.4444444444444444,
              "#bd3786"
             ],
             [
              0.5555555555555556,
              "#d8576b"
             ],
             [
              0.6666666666666666,
              "#ed7953"
             ],
             [
              0.7777777777777778,
              "#fb9f3a"
             ],
             [
              0.8888888888888888,
              "#fdca26"
             ],
             [
              1,
              "#f0f921"
             ]
            ],
            "type": "heatmapgl"
           }
          ],
          "histogram": [
           {
            "marker": {
             "colorbar": {
              "outlinewidth": 0,
              "ticks": ""
             }
            },
            "type": "histogram"
           }
          ],
          "histogram2d": [
           {
            "colorbar": {
             "outlinewidth": 0,
             "ticks": ""
            },
            "colorscale": [
             [
              0,
              "#0d0887"
             ],
             [
              0.1111111111111111,
              "#46039f"
             ],
             [
              0.2222222222222222,
              "#7201a8"
             ],
             [
              0.3333333333333333,
              "#9c179e"
             ],
             [
              0.4444444444444444,
              "#bd3786"
             ],
             [
              0.5555555555555556,
              "#d8576b"
             ],
             [
              0.6666666666666666,
              "#ed7953"
             ],
             [
              0.7777777777777778,
              "#fb9f3a"
             ],
             [
              0.8888888888888888,
              "#fdca26"
             ],
             [
              1,
              "#f0f921"
             ]
            ],
            "type": "histogram2d"
           }
          ],
          "histogram2dcontour": [
           {
            "colorbar": {
             "outlinewidth": 0,
             "ticks": ""
            },
            "colorscale": [
             [
              0,
              "#0d0887"
             ],
             [
              0.1111111111111111,
              "#46039f"
             ],
             [
              0.2222222222222222,
              "#7201a8"
             ],
             [
              0.3333333333333333,
              "#9c179e"
             ],
             [
              0.4444444444444444,
              "#bd3786"
             ],
             [
              0.5555555555555556,
              "#d8576b"
             ],
             [
              0.6666666666666666,
              "#ed7953"
             ],
             [
              0.7777777777777778,
              "#fb9f3a"
             ],
             [
              0.8888888888888888,
              "#fdca26"
             ],
             [
              1,
              "#f0f921"
             ]
            ],
            "type": "histogram2dcontour"
           }
          ],
          "mesh3d": [
           {
            "colorbar": {
             "outlinewidth": 0,
             "ticks": ""
            },
            "type": "mesh3d"
           }
          ],
          "parcoords": [
           {
            "line": {
             "colorbar": {
              "outlinewidth": 0,
              "ticks": ""
             }
            },
            "type": "parcoords"
           }
          ],
          "pie": [
           {
            "automargin": true,
            "type": "pie"
           }
          ],
          "scatter": [
           {
            "marker": {
             "colorbar": {
              "outlinewidth": 0,
              "ticks": ""
             }
            },
            "type": "scatter"
           }
          ],
          "scatter3d": [
           {
            "line": {
             "colorbar": {
              "outlinewidth": 0,
              "ticks": ""
             }
            },
            "marker": {
             "colorbar": {
              "outlinewidth": 0,
              "ticks": ""
             }
            },
            "type": "scatter3d"
           }
          ],
          "scattercarpet": [
           {
            "marker": {
             "colorbar": {
              "outlinewidth": 0,
              "ticks": ""
             }
            },
            "type": "scattercarpet"
           }
          ],
          "scattergeo": [
           {
            "marker": {
             "colorbar": {
              "outlinewidth": 0,
              "ticks": ""
             }
            },
            "type": "scattergeo"
           }
          ],
          "scattergl": [
           {
            "marker": {
             "colorbar": {
              "outlinewidth": 0,
              "ticks": ""
             }
            },
            "type": "scattergl"
           }
          ],
          "scattermapbox": [
           {
            "marker": {
             "colorbar": {
              "outlinewidth": 0,
              "ticks": ""
             }
            },
            "type": "scattermapbox"
           }
          ],
          "scatterpolar": [
           {
            "marker": {
             "colorbar": {
              "outlinewidth": 0,
              "ticks": ""
             }
            },
            "type": "scatterpolar"
           }
          ],
          "scatterpolargl": [
           {
            "marker": {
             "colorbar": {
              "outlinewidth": 0,
              "ticks": ""
             }
            },
            "type": "scatterpolargl"
           }
          ],
          "scatterternary": [
           {
            "marker": {
             "colorbar": {
              "outlinewidth": 0,
              "ticks": ""
             }
            },
            "type": "scatterternary"
           }
          ],
          "surface": [
           {
            "colorbar": {
             "outlinewidth": 0,
             "ticks": ""
            },
            "colorscale": [
             [
              0,
              "#0d0887"
             ],
             [
              0.1111111111111111,
              "#46039f"
             ],
             [
              0.2222222222222222,
              "#7201a8"
             ],
             [
              0.3333333333333333,
              "#9c179e"
             ],
             [
              0.4444444444444444,
              "#bd3786"
             ],
             [
              0.5555555555555556,
              "#d8576b"
             ],
             [
              0.6666666666666666,
              "#ed7953"
             ],
             [
              0.7777777777777778,
              "#fb9f3a"
             ],
             [
              0.8888888888888888,
              "#fdca26"
             ],
             [
              1,
              "#f0f921"
             ]
            ],
            "type": "surface"
           }
          ],
          "table": [
           {
            "cells": {
             "fill": {
              "color": "#EBF0F8"
             },
             "line": {
              "color": "white"
             }
            },
            "header": {
             "fill": {
              "color": "#C8D4E3"
             },
             "line": {
              "color": "white"
             }
            },
            "type": "table"
           }
          ]
         },
         "layout": {
          "annotationdefaults": {
           "arrowcolor": "#2a3f5f",
           "arrowhead": 0,
           "arrowwidth": 1
          },
          "autotypenumbers": "strict",
          "coloraxis": {
           "colorbar": {
            "outlinewidth": 0,
            "ticks": ""
           }
          },
          "colorscale": {
           "diverging": [
            [
             0,
             "#8e0152"
            ],
            [
             0.1,
             "#c51b7d"
            ],
            [
             0.2,
             "#de77ae"
            ],
            [
             0.3,
             "#f1b6da"
            ],
            [
             0.4,
             "#fde0ef"
            ],
            [
             0.5,
             "#f7f7f7"
            ],
            [
             0.6,
             "#e6f5d0"
            ],
            [
             0.7,
             "#b8e186"
            ],
            [
             0.8,
             "#7fbc41"
            ],
            [
             0.9,
             "#4d9221"
            ],
            [
             1,
             "#276419"
            ]
           ],
           "sequential": [
            [
             0,
             "#0d0887"
            ],
            [
             0.1111111111111111,
             "#46039f"
            ],
            [
             0.2222222222222222,
             "#7201a8"
            ],
            [
             0.3333333333333333,
             "#9c179e"
            ],
            [
             0.4444444444444444,
             "#bd3786"
            ],
            [
             0.5555555555555556,
             "#d8576b"
            ],
            [
             0.6666666666666666,
             "#ed7953"
            ],
            [
             0.7777777777777778,
             "#fb9f3a"
            ],
            [
             0.8888888888888888,
             "#fdca26"
            ],
            [
             1,
             "#f0f921"
            ]
           ],
           "sequentialminus": [
            [
             0,
             "#0d0887"
            ],
            [
             0.1111111111111111,
             "#46039f"
            ],
            [
             0.2222222222222222,
             "#7201a8"
            ],
            [
             0.3333333333333333,
             "#9c179e"
            ],
            [
             0.4444444444444444,
             "#bd3786"
            ],
            [
             0.5555555555555556,
             "#d8576b"
            ],
            [
             0.6666666666666666,
             "#ed7953"
            ],
            [
             0.7777777777777778,
             "#fb9f3a"
            ],
            [
             0.8888888888888888,
             "#fdca26"
            ],
            [
             1,
             "#f0f921"
            ]
           ]
          },
          "colorway": [
           "#636efa",
           "#EF553B",
           "#00cc96",
           "#ab63fa",
           "#FFA15A",
           "#19d3f3",
           "#FF6692",
           "#B6E880",
           "#FF97FF",
           "#FECB52"
          ],
          "font": {
           "color": "#2a3f5f"
          },
          "geo": {
           "bgcolor": "white",
           "lakecolor": "white",
           "landcolor": "#E5ECF6",
           "showlakes": true,
           "showland": true,
           "subunitcolor": "white"
          },
          "hoverlabel": {
           "align": "left"
          },
          "hovermode": "closest",
          "mapbox": {
           "style": "light"
          },
          "paper_bgcolor": "white",
          "plot_bgcolor": "#E5ECF6",
          "polar": {
           "angularaxis": {
            "gridcolor": "white",
            "linecolor": "white",
            "ticks": ""
           },
           "bgcolor": "#E5ECF6",
           "radialaxis": {
            "gridcolor": "white",
            "linecolor": "white",
            "ticks": ""
           }
          },
          "scene": {
           "xaxis": {
            "backgroundcolor": "#E5ECF6",
            "gridcolor": "white",
            "gridwidth": 2,
            "linecolor": "white",
            "showbackground": true,
            "ticks": "",
            "zerolinecolor": "white"
           },
           "yaxis": {
            "backgroundcolor": "#E5ECF6",
            "gridcolor": "white",
            "gridwidth": 2,
            "linecolor": "white",
            "showbackground": true,
            "ticks": "",
            "zerolinecolor": "white"
           },
           "zaxis": {
            "backgroundcolor": "#E5ECF6",
            "gridcolor": "white",
            "gridwidth": 2,
            "linecolor": "white",
            "showbackground": true,
            "ticks": "",
            "zerolinecolor": "white"
           }
          },
          "shapedefaults": {
           "line": {
            "color": "#2a3f5f"
           }
          },
          "ternary": {
           "aaxis": {
            "gridcolor": "white",
            "linecolor": "white",
            "ticks": ""
           },
           "baxis": {
            "gridcolor": "white",
            "linecolor": "white",
            "ticks": ""
           },
           "bgcolor": "#E5ECF6",
           "caxis": {
            "gridcolor": "white",
            "linecolor": "white",
            "ticks": ""
           }
          },
          "title": {
           "x": 0.05
          },
          "xaxis": {
           "automargin": true,
           "gridcolor": "white",
           "linecolor": "white",
           "ticks": "",
           "title": {
            "standoff": 15
           },
           "zerolinecolor": "white",
           "zerolinewidth": 2
          },
          "yaxis": {
           "automargin": true,
           "gridcolor": "white",
           "linecolor": "white",
           "ticks": "",
           "title": {
            "standoff": 15
           },
           "zerolinecolor": "white",
           "zerolinewidth": 2
          }
         }
        },
        "title": {
         "font": {
          "color": "#4D5663"
         }
        },
        "xaxis": {
         "gridcolor": "#E1E5ED",
         "showgrid": true,
         "tickfont": {
          "color": "#4D5663"
         },
         "title": {
          "font": {
           "color": "#4D5663"
          },
          "text": ""
         },
         "zerolinecolor": "#E1E5ED"
        },
        "yaxis": {
         "gridcolor": "#E1E5ED",
         "showgrid": true,
         "tickfont": {
          "color": "#4D5663"
         },
         "title": {
          "font": {
           "color": "#4D5663"
          },
          "text": ""
         },
         "zerolinecolor": "#E1E5ED"
        }
       }
      },
      "text/html": [
       "<div>                            <div id=\"dd9f014d-3040-408a-9a9c-379657937a6b\" class=\"plotly-graph-div\" style=\"height:525px; width:100%;\"></div>            <script type=\"text/javascript\">                require([\"plotly\"], function(Plotly) {                    window.PLOTLYENV=window.PLOTLYENV || {};\n",
       "                    window.PLOTLYENV.BASE_URL='https://plot.ly';                                    if (document.getElementById(\"dd9f014d-3040-408a-9a9c-379657937a6b\")) {                    Plotly.newPlot(                        \"dd9f014d-3040-408a-9a9c-379657937a6b\",                        [{\"histfunc\": \"count\", \"histnorm\": \"\", \"marker\": {\"color\": \"rgba(255, 153, 51, 1.0)\", \"line\": {\"color\": \"#4D5663\", \"width\": 1.3}}, \"name\": \"A\", \"opacity\": 0.8, \"orientation\": \"v\", \"type\": \"histogram\", \"x\": [0.20504070623313753, 0.6286778475688474, -1.1946960815376417, -1.3183627315384152, 0.7287269751944572, 0.8722269481098422, -0.13166269309223982, -1.9357840606631018, 0.4145336921882121, -0.6069916193966661, 0.390215883251644, -0.45734674356014016, 1.193349051418664, 1.235556532466609, 1.6291582358653538, 1.1395764553378547, -0.010775928268597778, 1.206843095845801, -0.9600146154713587, -0.966140199254339, 0.19169949104174405, -0.14918790595603876, 0.5686543373940673, -0.24045778518832012, 0.6366295721983622, 1.1522381506685453, 1.9336345364130645, 2.006996624653642, -0.023025978960075136, 0.18993942931543212, -1.4296539266874184, 0.43382004511192135, -0.7306127696972191, -0.05578944403470869, -0.08472001405877864, -0.1149714121493137, 0.7358612175856649, -0.6923771671588429, -0.25387934755682223, -2.0722680287624553, -0.5165814241979004, 1.6736494345930495, -0.5336323351896277, 1.4616808532371586, 1.2048074779808589, -1.2840849645974888, -0.17814633696158727, 1.0474906379523012, 0.38688412823874413, 0.5918234597806681, -1.3531856261517683, 0.24341156761558463, -0.7017222749850373, 0.6123500849073915, -0.8479136012893379, 1.531831449493807, -0.08902284414868179, -1.8178227460471446, -0.5109149743900608, -0.019596110540417384, -0.6983446018771495, 2.1094904333757407, -0.6311966451758331, -0.7047558807060837, 0.14788823265526901, 1.3716817074401486, 0.014617163284772135, -0.8243567459465074, 0.3123554784595387, 0.006117282091226412, -0.44574685438333156, 0.19146184772892774, -0.510564268279504, 0.8130753024382118, 2.3632960388245143, 2.116807945200409, -0.7750854668514382, 1.1030058690899103, -1.0730902732448744, -0.7826004688457083, -0.19255772560734755, -1.6458945809351144, -1.149219201933772, 0.06545680442591104, 1.2970608422251297, 0.3995935105107383, 1.0046285769041494, 2.6049159767101853, 0.2648980896996127, -1.5712641398967868, -0.7776854787695353, 0.21347068389058088, 0.20585723656867927, 1.9571203104075063, -0.6410346456022266, -0.9414275827775105, 1.2276831536344308, -0.007015283300855964, 0.23646616205819243, -1.2406348171165948]}, {\"histfunc\": \"count\", \"histnorm\": \"\", \"marker\": {\"color\": \"rgba(55, 128, 191, 1.0)\", \"line\": {\"color\": \"#4D5663\", \"width\": 1.3}}, \"name\": \"B\", \"opacity\": 0.8, \"orientation\": \"v\", \"type\": \"histogram\", \"x\": [-0.5439617119205455, -0.5704148841714516, -1.07662655822544, -0.8474093020614032, -0.4040721263713018, -0.22032162653824705, 0.984810825036386, 0.6459982295599839, 0.9625977558237383, 0.32961616491736717, -0.6383325120225408, 1.7682720359532031, -0.7006348852403254, -0.2562716741210957, -1.2177123975522377, -0.16734060804219206, 0.43907261092386024, -0.18906110667888334, 1.1993281288587738, -0.20811431926451315, -1.0049310034719965, -0.22976703532601245, -0.13894060084069174, 1.2275994471410943, 1.342734485378966, 1.1665077733710503, -0.5434498879083448, -0.4092649210874944, 0.33338528689970426, 0.7670594173207315, 0.7872973798422225, -0.1606048434279647, 0.2843664711766602, 0.571068693668149, -3.086080376151923, -0.4849501045316944, 0.7980458181885236, 0.5868466116667443, -0.9166483893763678, -0.1704246184052833, 0.22117865067943315, -1.3201080068609135, 0.7568133206374094, 2.4676468487452357, -1.068703071956845, -0.6291258641268789, 1.163415410221566, -0.12339604673539196, 0.9367836611456651, -0.24948621721976244, -1.1576699893858196, 1.5757959197628753, 0.27451804126694296, -0.3405120090081654, 0.5495521734370964, 1.0455429042100273, -1.132207339071681, 1.2103819750274107, -0.6528387602045533, 0.06822891946103009, 0.10930141977857291, -1.1210045578232524, -0.37174364013106725, 0.8746799851128227, 0.01530574132809894, -1.5607767191556627, 0.3083227911857838, -1.8757128537357166, -0.05906016862387303, 0.6244298300094971, 0.03480897073112098, -0.8132032260998618, 0.40371608126509506, -0.5250713115573913, -0.3599740532761306, 0.6436866021813002, 0.10040758411756084, 1.106344944184813, -1.164546239406862, -0.6021822918337024, 0.24359876936141814, -0.2115220974504064, 0.9546210335566907, -0.7064555912566168, 0.8642221033273032, 0.876847424360984, 1.6238480437140206, 0.004990774537376512, -0.14310145325778864, 0.4816044490155595, -0.46065909217859663, -0.30586794082918434, 0.8313503097531753, 0.6402120611320695, 0.026544256531318044, 0.04778410984681494, -0.39801425662921003, 0.16233095530239772, 1.0638768169666544, 1.0008761898429492]}, {\"histfunc\": \"count\", \"histnorm\": \"\", \"marker\": {\"color\": \"rgba(50, 171, 96, 1.0)\", \"line\": {\"color\": \"#4D5663\", \"width\": 1.3}}, \"name\": \"C\", \"opacity\": 0.8, \"orientation\": \"v\", \"type\": \"histogram\", \"x\": [0.5094294545126851, 0.40320328228473257, -1.0451455220014838, 1.9383884793219393, -1.1195269397610115, 0.007417765090974777, 0.0588735676736962, 1.4486831838718595, 0.6033313242291225, 0.2749585077448684, -0.3975965848616199, 0.40541201204441385, -0.5847945348136395, 0.38849113522084433, 0.20767229072108584, -1.240562416080876, 0.039246829653464245, 0.05941618583021419, 0.9176614790601991, -0.35483232024577305, 0.5078628782915157, -1.011774105600354, -0.1293450085950983, -0.8864371882344126, 1.2943503030919112, -1.7673069248291902, 2.0831647828343014, -0.43477937286446927, 0.28146523719576355, 0.5578602649896739, -1.5223462483028096, 0.16964987149178934, -0.5500685263793943, 1.0823050503075229, -0.22916823192201077, -0.38720631890992024, 1.2661048221662239, 0.20356760909533797, 1.1423280831376215, -0.10808753431465522, -0.12024122233150104, -0.944575975802936, -0.013307573927293813, 1.6694692642302944, 0.6112119874177188, -0.3309763442652584, 0.9368716650440161, 0.23094685359448738, -1.0888193741475867, 0.8649949026507499, 0.07248175704709951, -1.3911871480567173, -0.41413527856674165, -0.35613451014051517, -0.37769709607996543, -0.9822669872550984, 0.23265688962331718, 0.4355067814591196, 0.37808281394776455, -0.1688005200796566, 0.16687394542556236, -1.3344462629664737, -1.775767484056754, -0.9198368168608252, -0.5866416401409374, 0.5244749909215155, -0.8994138871176848, -1.036763269847553, -1.0610017578895294, -0.8086138339601849, -0.8380710319350305, -0.3388386019672623, -0.7302582534654624, -0.43943545041860654, -1.5543587253904214, -0.06978371605542653, -0.7403279458242567, -0.5477329264089507, -1.610404914345042, 0.9036656673695966, -1.5524492653440827, -0.9325989144303676, -0.52836395382083, -0.23539265838494322, 1.5416965399965687, 1.5150559132967094, 2.5553518227156022, 0.9790630596152051, -0.14307144844543698, -0.5722196595441038, 1.9600896240619718, -0.7740683236724355, -0.10869666985505544, 1.0662098641450146, -1.6464091275492188, 0.416733138747755, 0.6633543695896578, -0.6354714080392322, 1.230985010227931, 1.4409767652468544]}, {\"histfunc\": \"count\", \"histnorm\": \"\", \"marker\": {\"color\": \"rgba(128, 0, 128, 1.0)\", \"line\": {\"color\": \"#4D5663\", \"width\": 1.3}}, \"name\": \"D\", \"opacity\": 0.8, \"orientation\": \"v\", \"type\": \"histogram\", \"x\": [0.11067701414348054, 1.8995322956998326, -0.2458432394320379, 0.5377429220354326, 0.20514092068761897, -0.4514663180793488, -0.6610065764537998, -0.5946763351837933, 1.5876322949070458, -0.20862401058171826, 0.10297891792163133, -0.25281160262026575, 1.3249904488014876, -1.0303524275737623, 0.05413589918587864, 0.6514994639942188, 0.1315770990395898, -1.7768578130784867, 1.2519732468659475, 2.107801720963238, 0.6909674782691879, -1.0064250239305974, -1.9594991074877397, 0.44156126672412044, 1.1459098863063357, -1.5562322953726708, 0.4622382708065796, -1.6076151437644994, 0.023769686156858132, 0.04733610495736649, -1.533445919972331, -0.8636934273154958, 0.08484793871903562, -0.6801334318750999, 0.7680009659696321, -0.16175210609800422, 0.09195939858467177, -0.5517240236977996, -1.4050124530469743, 0.41037660662342135, -1.0066194398330242, -0.16519075830470628, 0.3455839201011954, -0.49648252813217847, 0.9893381965952037, 0.9202340449177022, -1.609088491013758, -1.1661792742014891, 1.5009193644049066, -1.8421251199077862, 0.846903260879262, 1.3998383755050907, -1.5369592967746193, -1.156017381011761, -1.1948483504514387, 1.2453651729889548, 0.4901348950358889, -0.6864804088570704, -1.7547217593509994, 1.46449983691902, -1.3709815046087923, 0.4945937199231569, 0.0038774672810933148, -0.7643456565843362, 1.3711319057385063, 2.075066204594895, -0.702239330904679, 0.32041187038173796, 0.19623915605715292, -1.2142958877036816, -0.4414355039880014, 0.3580277034823271, 0.6039910831803721, -0.47911249354579066, 0.8971916936619772, 2.503852279487358, 1.4154279334783628, 1.2899348808855755, 0.8726548065933118, -0.6015714943498202, -0.7296042880756058, 0.847591722445797, 0.2452950717858223, 0.3652032510685531, -0.989541015638144, -1.0671712267739, -1.6527190854808906, 0.2626568109183234, 0.34444372031564013, 0.2280548616843117, 0.40378538957093785, 1.1827357707762025, 1.4498233707993315, -0.36968230700697885, 0.833747934653397, 0.8522650270956144, -0.4270004960378985, 1.6668665772393771, -0.2928581882164255, -0.026452986206500582]}],                        {\"barmode\": \"overlay\", \"legend\": {\"bgcolor\": \"#F5F6F9\", \"font\": {\"color\": \"#4D5663\"}}, \"paper_bgcolor\": \"#F5F6F9\", \"plot_bgcolor\": \"#F5F6F9\", \"template\": {\"data\": {\"bar\": [{\"error_x\": {\"color\": \"#2a3f5f\"}, \"error_y\": {\"color\": \"#2a3f5f\"}, \"marker\": {\"line\": {\"color\": \"#E5ECF6\", \"width\": 0.5}}, \"type\": \"bar\"}], \"barpolar\": [{\"marker\": {\"line\": {\"color\": \"#E5ECF6\", \"width\": 0.5}}, \"type\": \"barpolar\"}], \"carpet\": [{\"aaxis\": {\"endlinecolor\": \"#2a3f5f\", \"gridcolor\": \"white\", \"linecolor\": \"white\", \"minorgridcolor\": \"white\", \"startlinecolor\": \"#2a3f5f\"}, \"baxis\": {\"endlinecolor\": \"#2a3f5f\", \"gridcolor\": \"white\", \"linecolor\": \"white\", \"minorgridcolor\": \"white\", \"startlinecolor\": \"#2a3f5f\"}, \"type\": \"carpet\"}], \"choropleth\": [{\"colorbar\": {\"outlinewidth\": 0, \"ticks\": \"\"}, \"type\": \"choropleth\"}], \"contour\": [{\"colorbar\": {\"outlinewidth\": 0, \"ticks\": \"\"}, \"colorscale\": [[0.0, \"#0d0887\"], [0.1111111111111111, \"#46039f\"], [0.2222222222222222, \"#7201a8\"], [0.3333333333333333, \"#9c179e\"], [0.4444444444444444, \"#bd3786\"], [0.5555555555555556, \"#d8576b\"], [0.6666666666666666, \"#ed7953\"], [0.7777777777777778, \"#fb9f3a\"], [0.8888888888888888, \"#fdca26\"], [1.0, \"#f0f921\"]], \"type\": \"contour\"}], \"contourcarpet\": [{\"colorbar\": {\"outlinewidth\": 0, \"ticks\": \"\"}, \"type\": \"contourcarpet\"}], \"heatmap\": [{\"colorbar\": {\"outlinewidth\": 0, \"ticks\": \"\"}, \"colorscale\": [[0.0, \"#0d0887\"], [0.1111111111111111, \"#46039f\"], [0.2222222222222222, \"#7201a8\"], [0.3333333333333333, \"#9c179e\"], [0.4444444444444444, \"#bd3786\"], [0.5555555555555556, \"#d8576b\"], [0.6666666666666666, \"#ed7953\"], [0.7777777777777778, \"#fb9f3a\"], [0.8888888888888888, \"#fdca26\"], [1.0, \"#f0f921\"]], \"type\": \"heatmap\"}], \"heatmapgl\": [{\"colorbar\": {\"outlinewidth\": 0, \"ticks\": \"\"}, \"colorscale\": [[0.0, \"#0d0887\"], [0.1111111111111111, \"#46039f\"], [0.2222222222222222, \"#7201a8\"], [0.3333333333333333, \"#9c179e\"], [0.4444444444444444, \"#bd3786\"], [0.5555555555555556, \"#d8576b\"], [0.6666666666666666, \"#ed7953\"], [0.7777777777777778, \"#fb9f3a\"], [0.8888888888888888, \"#fdca26\"], [1.0, \"#f0f921\"]], \"type\": \"heatmapgl\"}], \"histogram\": [{\"marker\": {\"colorbar\": {\"outlinewidth\": 0, \"ticks\": \"\"}}, \"type\": \"histogram\"}], \"histogram2d\": [{\"colorbar\": {\"outlinewidth\": 0, \"ticks\": \"\"}, \"colorscale\": [[0.0, \"#0d0887\"], [0.1111111111111111, \"#46039f\"], [0.2222222222222222, \"#7201a8\"], [0.3333333333333333, \"#9c179e\"], [0.4444444444444444, \"#bd3786\"], [0.5555555555555556, \"#d8576b\"], [0.6666666666666666, \"#ed7953\"], [0.7777777777777778, \"#fb9f3a\"], [0.8888888888888888, \"#fdca26\"], [1.0, \"#f0f921\"]], \"type\": \"histogram2d\"}], \"histogram2dcontour\": [{\"colorbar\": {\"outlinewidth\": 0, \"ticks\": \"\"}, \"colorscale\": [[0.0, \"#0d0887\"], [0.1111111111111111, \"#46039f\"], [0.2222222222222222, \"#7201a8\"], [0.3333333333333333, \"#9c179e\"], [0.4444444444444444, \"#bd3786\"], [0.5555555555555556, \"#d8576b\"], [0.6666666666666666, \"#ed7953\"], [0.7777777777777778, \"#fb9f3a\"], [0.8888888888888888, \"#fdca26\"], [1.0, \"#f0f921\"]], \"type\": \"histogram2dcontour\"}], \"mesh3d\": [{\"colorbar\": {\"outlinewidth\": 0, \"ticks\": \"\"}, \"type\": \"mesh3d\"}], \"parcoords\": [{\"line\": {\"colorbar\": {\"outlinewidth\": 0, \"ticks\": \"\"}}, \"type\": \"parcoords\"}], \"pie\": [{\"automargin\": true, \"type\": \"pie\"}], \"scatter\": [{\"marker\": {\"colorbar\": {\"outlinewidth\": 0, \"ticks\": \"\"}}, \"type\": \"scatter\"}], \"scatter3d\": [{\"line\": {\"colorbar\": {\"outlinewidth\": 0, \"ticks\": \"\"}}, \"marker\": {\"colorbar\": {\"outlinewidth\": 0, \"ticks\": \"\"}}, \"type\": \"scatter3d\"}], \"scattercarpet\": [{\"marker\": {\"colorbar\": {\"outlinewidth\": 0, \"ticks\": \"\"}}, \"type\": \"scattercarpet\"}], \"scattergeo\": [{\"marker\": {\"colorbar\": {\"outlinewidth\": 0, \"ticks\": \"\"}}, \"type\": \"scattergeo\"}], \"scattergl\": [{\"marker\": {\"colorbar\": {\"outlinewidth\": 0, \"ticks\": \"\"}}, \"type\": \"scattergl\"}], \"scattermapbox\": [{\"marker\": {\"colorbar\": {\"outlinewidth\": 0, \"ticks\": \"\"}}, \"type\": \"scattermapbox\"}], \"scatterpolar\": [{\"marker\": {\"colorbar\": {\"outlinewidth\": 0, \"ticks\": \"\"}}, \"type\": \"scatterpolar\"}], \"scatterpolargl\": [{\"marker\": {\"colorbar\": {\"outlinewidth\": 0, \"ticks\": \"\"}}, \"type\": \"scatterpolargl\"}], \"scatterternary\": [{\"marker\": {\"colorbar\": {\"outlinewidth\": 0, \"ticks\": \"\"}}, \"type\": \"scatterternary\"}], \"surface\": [{\"colorbar\": {\"outlinewidth\": 0, \"ticks\": \"\"}, \"colorscale\": [[0.0, \"#0d0887\"], [0.1111111111111111, \"#46039f\"], [0.2222222222222222, \"#7201a8\"], [0.3333333333333333, \"#9c179e\"], [0.4444444444444444, \"#bd3786\"], [0.5555555555555556, \"#d8576b\"], [0.6666666666666666, \"#ed7953\"], [0.7777777777777778, \"#fb9f3a\"], [0.8888888888888888, \"#fdca26\"], [1.0, \"#f0f921\"]], \"type\": \"surface\"}], \"table\": [{\"cells\": {\"fill\": {\"color\": \"#EBF0F8\"}, \"line\": {\"color\": \"white\"}}, \"header\": {\"fill\": {\"color\": \"#C8D4E3\"}, \"line\": {\"color\": \"white\"}}, \"type\": \"table\"}]}, \"layout\": {\"annotationdefaults\": {\"arrowcolor\": \"#2a3f5f\", \"arrowhead\": 0, \"arrowwidth\": 1}, \"autotypenumbers\": \"strict\", \"coloraxis\": {\"colorbar\": {\"outlinewidth\": 0, \"ticks\": \"\"}}, \"colorscale\": {\"diverging\": [[0, \"#8e0152\"], [0.1, \"#c51b7d\"], [0.2, \"#de77ae\"], [0.3, \"#f1b6da\"], [0.4, \"#fde0ef\"], [0.5, \"#f7f7f7\"], [0.6, \"#e6f5d0\"], [0.7, \"#b8e186\"], [0.8, \"#7fbc41\"], [0.9, \"#4d9221\"], [1, \"#276419\"]], \"sequential\": [[0.0, \"#0d0887\"], [0.1111111111111111, \"#46039f\"], [0.2222222222222222, \"#7201a8\"], [0.3333333333333333, \"#9c179e\"], [0.4444444444444444, \"#bd3786\"], [0.5555555555555556, \"#d8576b\"], [0.6666666666666666, \"#ed7953\"], [0.7777777777777778, \"#fb9f3a\"], [0.8888888888888888, \"#fdca26\"], [1.0, \"#f0f921\"]], \"sequentialminus\": [[0.0, \"#0d0887\"], [0.1111111111111111, \"#46039f\"], [0.2222222222222222, \"#7201a8\"], [0.3333333333333333, \"#9c179e\"], [0.4444444444444444, \"#bd3786\"], [0.5555555555555556, \"#d8576b\"], [0.6666666666666666, \"#ed7953\"], [0.7777777777777778, \"#fb9f3a\"], [0.8888888888888888, \"#fdca26\"], [1.0, \"#f0f921\"]]}, \"colorway\": [\"#636efa\", \"#EF553B\", \"#00cc96\", \"#ab63fa\", \"#FFA15A\", \"#19d3f3\", \"#FF6692\", \"#B6E880\", \"#FF97FF\", \"#FECB52\"], \"font\": {\"color\": \"#2a3f5f\"}, \"geo\": {\"bgcolor\": \"white\", \"lakecolor\": \"white\", \"landcolor\": \"#E5ECF6\", \"showlakes\": true, \"showland\": true, \"subunitcolor\": \"white\"}, \"hoverlabel\": {\"align\": \"left\"}, \"hovermode\": \"closest\", \"mapbox\": {\"style\": \"light\"}, \"paper_bgcolor\": \"white\", \"plot_bgcolor\": \"#E5ECF6\", \"polar\": {\"angularaxis\": {\"gridcolor\": \"white\", \"linecolor\": \"white\", \"ticks\": \"\"}, \"bgcolor\": \"#E5ECF6\", \"radialaxis\": {\"gridcolor\": \"white\", \"linecolor\": \"white\", \"ticks\": \"\"}}, \"scene\": {\"xaxis\": {\"backgroundcolor\": \"#E5ECF6\", \"gridcolor\": \"white\", \"gridwidth\": 2, \"linecolor\": \"white\", \"showbackground\": true, \"ticks\": \"\", \"zerolinecolor\": \"white\"}, \"yaxis\": {\"backgroundcolor\": \"#E5ECF6\", \"gridcolor\": \"white\", \"gridwidth\": 2, \"linecolor\": \"white\", \"showbackground\": true, \"ticks\": \"\", \"zerolinecolor\": \"white\"}, \"zaxis\": {\"backgroundcolor\": \"#E5ECF6\", \"gridcolor\": \"white\", \"gridwidth\": 2, \"linecolor\": \"white\", \"showbackground\": true, \"ticks\": \"\", \"zerolinecolor\": \"white\"}}, \"shapedefaults\": {\"line\": {\"color\": \"#2a3f5f\"}}, \"ternary\": {\"aaxis\": {\"gridcolor\": \"white\", \"linecolor\": \"white\", \"ticks\": \"\"}, \"baxis\": {\"gridcolor\": \"white\", \"linecolor\": \"white\", \"ticks\": \"\"}, \"bgcolor\": \"#E5ECF6\", \"caxis\": {\"gridcolor\": \"white\", \"linecolor\": \"white\", \"ticks\": \"\"}}, \"title\": {\"x\": 0.05}, \"xaxis\": {\"automargin\": true, \"gridcolor\": \"white\", \"linecolor\": \"white\", \"ticks\": \"\", \"title\": {\"standoff\": 15}, \"zerolinecolor\": \"white\", \"zerolinewidth\": 2}, \"yaxis\": {\"automargin\": true, \"gridcolor\": \"white\", \"linecolor\": \"white\", \"ticks\": \"\", \"title\": {\"standoff\": 15}, \"zerolinecolor\": \"white\", \"zerolinewidth\": 2}}}, \"title\": {\"font\": {\"color\": \"#4D5663\"}}, \"xaxis\": {\"gridcolor\": \"#E1E5ED\", \"showgrid\": true, \"tickfont\": {\"color\": \"#4D5663\"}, \"title\": {\"font\": {\"color\": \"#4D5663\"}, \"text\": \"\"}, \"zerolinecolor\": \"#E1E5ED\"}, \"yaxis\": {\"gridcolor\": \"#E1E5ED\", \"showgrid\": true, \"tickfont\": {\"color\": \"#4D5663\"}, \"title\": {\"font\": {\"color\": \"#4D5663\"}, \"text\": \"\"}, \"zerolinecolor\": \"#E1E5ED\"}},                        {\"showLink\": true, \"linkText\": \"Export to plot.ly\", \"plotlyServerURL\": \"https://plot.ly\", \"responsive\": true}                    ).then(function(){\n",
       "                            \n",
       "var gd = document.getElementById('dd9f014d-3040-408a-9a9c-379657937a6b');\n",
       "var x = new MutationObserver(function (mutations, observer) {{\n",
       "        var display = window.getComputedStyle(gd).display;\n",
       "        if (!display || display === 'none') {{\n",
       "            console.log([gd, 'removed!']);\n",
       "            Plotly.purge(gd);\n",
       "            observer.disconnect();\n",
       "        }}\n",
       "}});\n",
       "\n",
       "// Listen for the removal of the full notebook cells\n",
       "var notebookContainer = gd.closest('#notebook-container');\n",
       "if (notebookContainer) {{\n",
       "    x.observe(notebookContainer, {childList: true});\n",
       "}}\n",
       "\n",
       "// Listen for the clearing of the current output cell\n",
       "var outputEl = gd.closest('.output');\n",
       "if (outputEl) {{\n",
       "    x.observe(outputEl, {childList: true});\n",
       "}}\n",
       "\n",
       "                        })                };                });            </script>        </div>"
      ]
     },
     "metadata": {},
     "output_type": "display_data"
    }
   ],
   "source": [
    "df.iplot(kind='hist')"
   ]
  },
  {
   "cell_type": "code",
   "execution_count": 43,
   "metadata": {},
   "outputs": [
    {
     "name": "stderr",
     "output_type": "stream",
     "text": [
      "/Users/Samir/opt/anaconda3/lib/python3.8/site-packages/cufflinks/plotlytools.py:849: FutureWarning:\n",
      "\n",
      "The pandas.np module is deprecated and will be removed from pandas in a future version. Import numpy directly instead\n",
      "\n",
      "/Users/Samir/opt/anaconda3/lib/python3.8/site-packages/cufflinks/plotlytools.py:850: FutureWarning:\n",
      "\n",
      "The pandas.np module is deprecated and will be removed from pandas in a future version. Import numpy directly instead\n",
      "\n"
     ]
    },
    {
     "data": {
      "application/vnd.plotly.v1+json": {
       "config": {
        "linkText": "Export to plot.ly",
        "plotlyServerURL": "https://plot.ly",
        "showLink": true
       },
       "data": [
        {
         "line": {
          "color": "rgba(255, 153, 51, 1.0)",
          "dash": "solid",
          "shape": "linear",
          "width": 1.3
         },
         "mode": "lines",
         "name": "A",
         "text": "",
         "type": "scatter",
         "x": [
          0,
          1,
          2,
          3,
          4,
          5,
          6,
          7,
          8,
          9,
          10,
          11,
          12,
          13,
          14,
          15,
          16,
          17,
          18,
          19,
          20,
          21,
          22,
          23,
          24,
          25,
          26,
          27,
          28,
          29,
          30,
          31,
          32,
          33,
          34,
          35,
          36,
          37,
          38,
          39,
          40,
          41,
          42,
          43,
          44,
          45,
          46,
          47,
          48,
          49,
          50,
          51,
          52,
          53,
          54,
          55,
          56,
          57,
          58,
          59,
          60,
          61,
          62,
          63,
          64,
          65,
          66,
          67,
          68,
          69,
          70,
          71,
          72,
          73,
          74,
          75,
          76,
          77,
          78,
          79,
          80,
          81,
          82,
          83,
          84,
          85,
          86,
          87,
          88,
          89,
          90,
          91,
          92,
          93,
          94,
          95,
          96,
          97,
          98,
          99
         ],
         "y": [
          0.20504070623313753,
          0.6286778475688474,
          -1.1946960815376417,
          -1.3183627315384152,
          0.7287269751944572,
          0.8722269481098422,
          -0.13166269309223982,
          -1.9357840606631018,
          0.4145336921882121,
          -0.6069916193966661,
          0.390215883251644,
          -0.45734674356014016,
          1.193349051418664,
          1.235556532466609,
          1.6291582358653538,
          1.1395764553378547,
          -0.010775928268597778,
          1.206843095845801,
          -0.9600146154713587,
          -0.966140199254339,
          0.19169949104174405,
          -0.14918790595603876,
          0.5686543373940673,
          -0.24045778518832012,
          0.6366295721983622,
          1.1522381506685453,
          1.9336345364130645,
          2.006996624653642,
          -0.023025978960075136,
          0.18993942931543212,
          -1.4296539266874184,
          0.43382004511192135,
          -0.7306127696972191,
          -0.05578944403470869,
          -0.08472001405877864,
          -0.1149714121493137,
          0.7358612175856649,
          -0.6923771671588429,
          -0.25387934755682223,
          -2.0722680287624553,
          -0.5165814241979004,
          1.6736494345930495,
          -0.5336323351896277,
          1.4616808532371586,
          1.2048074779808589,
          -1.2840849645974888,
          -0.17814633696158727,
          1.0474906379523012,
          0.38688412823874413,
          0.5918234597806681,
          -1.3531856261517683,
          0.24341156761558463,
          -0.7017222749850373,
          0.6123500849073915,
          -0.8479136012893379,
          1.531831449493807,
          -0.08902284414868179,
          -1.8178227460471446,
          -0.5109149743900608,
          -0.019596110540417384,
          -0.6983446018771495,
          2.1094904333757407,
          -0.6311966451758331,
          -0.7047558807060837,
          0.14788823265526901,
          1.3716817074401486,
          0.014617163284772135,
          -0.8243567459465074,
          0.3123554784595387,
          0.006117282091226412,
          -0.44574685438333156,
          0.19146184772892774,
          -0.510564268279504,
          0.8130753024382118,
          2.3632960388245143,
          2.116807945200409,
          -0.7750854668514382,
          1.1030058690899103,
          -1.0730902732448744,
          -0.7826004688457083,
          -0.19255772560734755,
          -1.6458945809351144,
          -1.149219201933772,
          0.06545680442591104,
          1.2970608422251297,
          0.3995935105107383,
          1.0046285769041494,
          2.6049159767101853,
          0.2648980896996127,
          -1.5712641398967868,
          -0.7776854787695353,
          0.21347068389058088,
          0.20585723656867927,
          1.9571203104075063,
          -0.6410346456022266,
          -0.9414275827775105,
          1.2276831536344308,
          -0.007015283300855964,
          0.23646616205819243,
          -1.2406348171165948
         ]
        },
        {
         "line": {
          "color": "rgba(55, 128, 191, 1.0)",
          "dash": "solid",
          "shape": "linear",
          "width": 1.3
         },
         "mode": "lines",
         "name": "B",
         "text": "",
         "type": "scatter",
         "x": [
          0,
          1,
          2,
          3,
          4,
          5,
          6,
          7,
          8,
          9,
          10,
          11,
          12,
          13,
          14,
          15,
          16,
          17,
          18,
          19,
          20,
          21,
          22,
          23,
          24,
          25,
          26,
          27,
          28,
          29,
          30,
          31,
          32,
          33,
          34,
          35,
          36,
          37,
          38,
          39,
          40,
          41,
          42,
          43,
          44,
          45,
          46,
          47,
          48,
          49,
          50,
          51,
          52,
          53,
          54,
          55,
          56,
          57,
          58,
          59,
          60,
          61,
          62,
          63,
          64,
          65,
          66,
          67,
          68,
          69,
          70,
          71,
          72,
          73,
          74,
          75,
          76,
          77,
          78,
          79,
          80,
          81,
          82,
          83,
          84,
          85,
          86,
          87,
          88,
          89,
          90,
          91,
          92,
          93,
          94,
          95,
          96,
          97,
          98,
          99
         ],
         "y": [
          -0.5439617119205455,
          -0.5704148841714516,
          -1.07662655822544,
          -0.8474093020614032,
          -0.4040721263713018,
          -0.22032162653824705,
          0.984810825036386,
          0.6459982295599839,
          0.9625977558237383,
          0.32961616491736717,
          -0.6383325120225408,
          1.7682720359532031,
          -0.7006348852403254,
          -0.2562716741210957,
          -1.2177123975522377,
          -0.16734060804219206,
          0.43907261092386024,
          -0.18906110667888334,
          1.1993281288587738,
          -0.20811431926451315,
          -1.0049310034719965,
          -0.22976703532601245,
          -0.13894060084069174,
          1.2275994471410943,
          1.342734485378966,
          1.1665077733710503,
          -0.5434498879083448,
          -0.4092649210874944,
          0.33338528689970426,
          0.7670594173207315,
          0.7872973798422225,
          -0.1606048434279647,
          0.2843664711766602,
          0.571068693668149,
          -3.086080376151923,
          -0.4849501045316944,
          0.7980458181885236,
          0.5868466116667443,
          -0.9166483893763678,
          -0.1704246184052833,
          0.22117865067943315,
          -1.3201080068609135,
          0.7568133206374094,
          2.4676468487452357,
          -1.068703071956845,
          -0.6291258641268789,
          1.163415410221566,
          -0.12339604673539196,
          0.9367836611456651,
          -0.24948621721976244,
          -1.1576699893858196,
          1.5757959197628753,
          0.27451804126694296,
          -0.3405120090081654,
          0.5495521734370964,
          1.0455429042100273,
          -1.132207339071681,
          1.2103819750274107,
          -0.6528387602045533,
          0.06822891946103009,
          0.10930141977857291,
          -1.1210045578232524,
          -0.37174364013106725,
          0.8746799851128227,
          0.01530574132809894,
          -1.5607767191556627,
          0.3083227911857838,
          -1.8757128537357166,
          -0.05906016862387303,
          0.6244298300094971,
          0.03480897073112098,
          -0.8132032260998618,
          0.40371608126509506,
          -0.5250713115573913,
          -0.3599740532761306,
          0.6436866021813002,
          0.10040758411756084,
          1.106344944184813,
          -1.164546239406862,
          -0.6021822918337024,
          0.24359876936141814,
          -0.2115220974504064,
          0.9546210335566907,
          -0.7064555912566168,
          0.8642221033273032,
          0.876847424360984,
          1.6238480437140206,
          0.004990774537376512,
          -0.14310145325778864,
          0.4816044490155595,
          -0.46065909217859663,
          -0.30586794082918434,
          0.8313503097531753,
          0.6402120611320695,
          0.026544256531318044,
          0.04778410984681494,
          -0.39801425662921003,
          0.16233095530239772,
          1.0638768169666544,
          1.0008761898429492
         ]
        },
        {
         "connectgaps": false,
         "fill": "tozeroy",
         "line": {
          "color": "green",
          "dash": "solid",
          "shape": "linear",
          "width": 0.5
         },
         "mode": "lines",
         "name": "Spread",
         "showlegend": false,
         "type": "scatter",
         "x": [
          0,
          1,
          2,
          3,
          4,
          5,
          6,
          7,
          8,
          9,
          10,
          11,
          12,
          13,
          14,
          15,
          16,
          17,
          18,
          19,
          20,
          21,
          22,
          23,
          24,
          25,
          26,
          27,
          28,
          29,
          30,
          31,
          32,
          33,
          34,
          35,
          36,
          37,
          38,
          39,
          40,
          41,
          42,
          43,
          44,
          45,
          46,
          47,
          48,
          49,
          50,
          51,
          52,
          53,
          54,
          55,
          56,
          57,
          58,
          59,
          60,
          61,
          62,
          63,
          64,
          65,
          66,
          67,
          68,
          69,
          70,
          71,
          72,
          73,
          74,
          75,
          76,
          77,
          78,
          79,
          80,
          81,
          82,
          83,
          84,
          85,
          86,
          87,
          88,
          89,
          90,
          91,
          92,
          93,
          94,
          95,
          96,
          97,
          98,
          99
         ],
         "xaxis": "x2",
         "y": [
          0.7490024181536831,
          1.1990927317402988,
          "",
          "",
          1.132799101565759,
          1.0925485746480894,
          "",
          "",
          "",
          "",
          1.0285483952741847,
          "",
          1.8939839366589895,
          1.4918282065877047,
          2.8468706334175913,
          1.3069170633800467,
          "",
          1.3959042025246844,
          "",
          "",
          1.1966304945137405,
          0.08057912936997369,
          0.707594938234759,
          "",
          "",
          "",
          2.477084424321409,
          2.4162615457411367,
          "",
          "",
          "",
          0.5944248885398861,
          "",
          "",
          3.0013603620931444,
          0.3699786923823807,
          "",
          "",
          0.6627690418195455,
          "",
          "",
          2.9937574414539627,
          "",
          "",
          2.273510549937704,
          "",
          "",
          1.1708866846876933,
          "",
          0.8413096770004305,
          "",
          "",
          "",
          0.952862093915557,
          "",
          0.48628854528377974,
          1.0431844949229991,
          "",
          0.1419237858144925,
          "",
          "",
          3.2304949911989933,
          "",
          "",
          0.13258249132717007,
          2.9324584265958116,
          "",
          1.0513561077892093,
          0.37141564708341174,
          "",
          "",
          1.0046650738287897,
          "",
          1.338146613995603,
          2.7232700921006447,
          1.473121343019109,
          "",
          "",
          0.09145596616198759,
          "",
          "",
          "",
          "",
          0.7719123956825279,
          0.43283873889782654,
          "",
          "",
          2.5999252021728085,
          0.4079995429574014,
          "",
          "",
          0.5193386247197652,
          "",
          1.316908249275437,
          "",
          "",
          1.6256974102636408,
          "",
          "",
          ""
         ],
         "yaxis": "y2"
        },
        {
         "connectgaps": false,
         "fill": "tozeroy",
         "line": {
          "color": "red",
          "dash": "solid",
          "shape": "linear",
          "width": 0.5
         },
         "mode": "lines",
         "name": "Spread",
         "showlegend": false,
         "type": "scatter",
         "x": [
          0,
          1,
          2,
          3,
          4,
          5,
          6,
          7,
          8,
          9,
          10,
          11,
          12,
          13,
          14,
          15,
          16,
          17,
          18,
          19,
          20,
          21,
          22,
          23,
          24,
          25,
          26,
          27,
          28,
          29,
          30,
          31,
          32,
          33,
          34,
          35,
          36,
          37,
          38,
          39,
          40,
          41,
          42,
          43,
          44,
          45,
          46,
          47,
          48,
          49,
          50,
          51,
          52,
          53,
          54,
          55,
          56,
          57,
          58,
          59,
          60,
          61,
          62,
          63,
          64,
          65,
          66,
          67,
          68,
          69,
          70,
          71,
          72,
          73,
          74,
          75,
          76,
          77,
          78,
          79,
          80,
          81,
          82,
          83,
          84,
          85,
          86,
          87,
          88,
          89,
          90,
          91,
          92,
          93,
          94,
          95,
          96,
          97,
          98,
          99
         ],
         "xaxis": "x2",
         "y": [
          "",
          "",
          -0.11806952331220177,
          -0.470953429477012,
          "",
          "",
          -1.1164735181286258,
          -2.5817822902230856,
          -0.5480640636355262,
          -0.9366077843140332,
          "",
          -2.2256187795133435,
          "",
          "",
          "",
          "",
          -0.44984853919245804,
          "",
          -2.1593427443301323,
          -0.7580258799898258,
          "",
          "",
          "",
          -1.4680572323294143,
          -0.7061049131806038,
          -0.01426962270250498,
          "",
          "",
          -0.3564112658597794,
          -0.5771199880052993,
          -2.2169513065296407,
          "",
          -1.0149792408738794,
          -0.6268581377028577,
          "",
          "",
          -0.062184600602858686,
          -1.2792237788255871,
          "",
          -1.901843410357172,
          -0.7377600748773336,
          "",
          -1.2904456558270372,
          -1.005965995508077,
          "",
          -0.6549591004706099,
          -1.3415617471831531,
          "",
          -0.549899532906921,
          "",
          -0.19551563676594874,
          -1.3323843521472907,
          -0.9762403162519802,
          "",
          -1.3974657747264343,
          "",
          "",
          -3.0282047210745553,
          "",
          -0.08782503000144748,
          -0.8076460216557224,
          "",
          -0.2594530050447658,
          -1.5794358658189065,
          "",
          "",
          -0.2937056279010117,
          "",
          "",
          -0.6183125479182707,
          -0.48055582511445255,
          "",
          -0.914280349544599,
          "",
          "",
          "",
          -0.8754930509689991,
          -0.0033390750949027215,
          "",
          -0.1804181770120059,
          -0.4361564949687657,
          -1.434372483484708,
          -2.1038402354904626,
          "",
          "",
          -0.4772539138502456,
          -0.6192194668098712,
          "",
          "",
          -2.052868588912346,
          -0.3170263865909387,
          "",
          -0.625493073184496,
          "",
          -0.6675789021335446,
          -0.9892116926243254,
          "",
          -0.16934623860325368,
          -0.8274106549084619,
          -2.241511006959544
         ],
         "yaxis": "y2"
        }
       ],
       "layout": {
        "hovermode": "x",
        "legend": {
         "bgcolor": "#F5F6F9",
         "font": {
          "color": "#4D5663"
         }
        },
        "paper_bgcolor": "#F5F6F9",
        "plot_bgcolor": "#F5F6F9",
        "template": {
         "data": {
          "bar": [
           {
            "error_x": {
             "color": "#2a3f5f"
            },
            "error_y": {
             "color": "#2a3f5f"
            },
            "marker": {
             "line": {
              "color": "#E5ECF6",
              "width": 0.5
             }
            },
            "type": "bar"
           }
          ],
          "barpolar": [
           {
            "marker": {
             "line": {
              "color": "#E5ECF6",
              "width": 0.5
             }
            },
            "type": "barpolar"
           }
          ],
          "carpet": [
           {
            "aaxis": {
             "endlinecolor": "#2a3f5f",
             "gridcolor": "white",
             "linecolor": "white",
             "minorgridcolor": "white",
             "startlinecolor": "#2a3f5f"
            },
            "baxis": {
             "endlinecolor": "#2a3f5f",
             "gridcolor": "white",
             "linecolor": "white",
             "minorgridcolor": "white",
             "startlinecolor": "#2a3f5f"
            },
            "type": "carpet"
           }
          ],
          "choropleth": [
           {
            "colorbar": {
             "outlinewidth": 0,
             "ticks": ""
            },
            "type": "choropleth"
           }
          ],
          "contour": [
           {
            "colorbar": {
             "outlinewidth": 0,
             "ticks": ""
            },
            "colorscale": [
             [
              0,
              "#0d0887"
             ],
             [
              0.1111111111111111,
              "#46039f"
             ],
             [
              0.2222222222222222,
              "#7201a8"
             ],
             [
              0.3333333333333333,
              "#9c179e"
             ],
             [
              0.4444444444444444,
              "#bd3786"
             ],
             [
              0.5555555555555556,
              "#d8576b"
             ],
             [
              0.6666666666666666,
              "#ed7953"
             ],
             [
              0.7777777777777778,
              "#fb9f3a"
             ],
             [
              0.8888888888888888,
              "#fdca26"
             ],
             [
              1,
              "#f0f921"
             ]
            ],
            "type": "contour"
           }
          ],
          "contourcarpet": [
           {
            "colorbar": {
             "outlinewidth": 0,
             "ticks": ""
            },
            "type": "contourcarpet"
           }
          ],
          "heatmap": [
           {
            "colorbar": {
             "outlinewidth": 0,
             "ticks": ""
            },
            "colorscale": [
             [
              0,
              "#0d0887"
             ],
             [
              0.1111111111111111,
              "#46039f"
             ],
             [
              0.2222222222222222,
              "#7201a8"
             ],
             [
              0.3333333333333333,
              "#9c179e"
             ],
             [
              0.4444444444444444,
              "#bd3786"
             ],
             [
              0.5555555555555556,
              "#d8576b"
             ],
             [
              0.6666666666666666,
              "#ed7953"
             ],
             [
              0.7777777777777778,
              "#fb9f3a"
             ],
             [
              0.8888888888888888,
              "#fdca26"
             ],
             [
              1,
              "#f0f921"
             ]
            ],
            "type": "heatmap"
           }
          ],
          "heatmapgl": [
           {
            "colorbar": {
             "outlinewidth": 0,
             "ticks": ""
            },
            "colorscale": [
             [
              0,
              "#0d0887"
             ],
             [
              0.1111111111111111,
              "#46039f"
             ],
             [
              0.2222222222222222,
              "#7201a8"
             ],
             [
              0.3333333333333333,
              "#9c179e"
             ],
             [
              0.4444444444444444,
              "#bd3786"
             ],
             [
              0.5555555555555556,
              "#d8576b"
             ],
             [
              0.6666666666666666,
              "#ed7953"
             ],
             [
              0.7777777777777778,
              "#fb9f3a"
             ],
             [
              0.8888888888888888,
              "#fdca26"
             ],
             [
              1,
              "#f0f921"
             ]
            ],
            "type": "heatmapgl"
           }
          ],
          "histogram": [
           {
            "marker": {
             "colorbar": {
              "outlinewidth": 0,
              "ticks": ""
             }
            },
            "type": "histogram"
           }
          ],
          "histogram2d": [
           {
            "colorbar": {
             "outlinewidth": 0,
             "ticks": ""
            },
            "colorscale": [
             [
              0,
              "#0d0887"
             ],
             [
              0.1111111111111111,
              "#46039f"
             ],
             [
              0.2222222222222222,
              "#7201a8"
             ],
             [
              0.3333333333333333,
              "#9c179e"
             ],
             [
              0.4444444444444444,
              "#bd3786"
             ],
             [
              0.5555555555555556,
              "#d8576b"
             ],
             [
              0.6666666666666666,
              "#ed7953"
             ],
             [
              0.7777777777777778,
              "#fb9f3a"
             ],
             [
              0.8888888888888888,
              "#fdca26"
             ],
             [
              1,
              "#f0f921"
             ]
            ],
            "type": "histogram2d"
           }
          ],
          "histogram2dcontour": [
           {
            "colorbar": {
             "outlinewidth": 0,
             "ticks": ""
            },
            "colorscale": [
             [
              0,
              "#0d0887"
             ],
             [
              0.1111111111111111,
              "#46039f"
             ],
             [
              0.2222222222222222,
              "#7201a8"
             ],
             [
              0.3333333333333333,
              "#9c179e"
             ],
             [
              0.4444444444444444,
              "#bd3786"
             ],
             [
              0.5555555555555556,
              "#d8576b"
             ],
             [
              0.6666666666666666,
              "#ed7953"
             ],
             [
              0.7777777777777778,
              "#fb9f3a"
             ],
             [
              0.8888888888888888,
              "#fdca26"
             ],
             [
              1,
              "#f0f921"
             ]
            ],
            "type": "histogram2dcontour"
           }
          ],
          "mesh3d": [
           {
            "colorbar": {
             "outlinewidth": 0,
             "ticks": ""
            },
            "type": "mesh3d"
           }
          ],
          "parcoords": [
           {
            "line": {
             "colorbar": {
              "outlinewidth": 0,
              "ticks": ""
             }
            },
            "type": "parcoords"
           }
          ],
          "pie": [
           {
            "automargin": true,
            "type": "pie"
           }
          ],
          "scatter": [
           {
            "marker": {
             "colorbar": {
              "outlinewidth": 0,
              "ticks": ""
             }
            },
            "type": "scatter"
           }
          ],
          "scatter3d": [
           {
            "line": {
             "colorbar": {
              "outlinewidth": 0,
              "ticks": ""
             }
            },
            "marker": {
             "colorbar": {
              "outlinewidth": 0,
              "ticks": ""
             }
            },
            "type": "scatter3d"
           }
          ],
          "scattercarpet": [
           {
            "marker": {
             "colorbar": {
              "outlinewidth": 0,
              "ticks": ""
             }
            },
            "type": "scattercarpet"
           }
          ],
          "scattergeo": [
           {
            "marker": {
             "colorbar": {
              "outlinewidth": 0,
              "ticks": ""
             }
            },
            "type": "scattergeo"
           }
          ],
          "scattergl": [
           {
            "marker": {
             "colorbar": {
              "outlinewidth": 0,
              "ticks": ""
             }
            },
            "type": "scattergl"
           }
          ],
          "scattermapbox": [
           {
            "marker": {
             "colorbar": {
              "outlinewidth": 0,
              "ticks": ""
             }
            },
            "type": "scattermapbox"
           }
          ],
          "scatterpolar": [
           {
            "marker": {
             "colorbar": {
              "outlinewidth": 0,
              "ticks": ""
             }
            },
            "type": "scatterpolar"
           }
          ],
          "scatterpolargl": [
           {
            "marker": {
             "colorbar": {
              "outlinewidth": 0,
              "ticks": ""
             }
            },
            "type": "scatterpolargl"
           }
          ],
          "scatterternary": [
           {
            "marker": {
             "colorbar": {
              "outlinewidth": 0,
              "ticks": ""
             }
            },
            "type": "scatterternary"
           }
          ],
          "surface": [
           {
            "colorbar": {
             "outlinewidth": 0,
             "ticks": ""
            },
            "colorscale": [
             [
              0,
              "#0d0887"
             ],
             [
              0.1111111111111111,
              "#46039f"
             ],
             [
              0.2222222222222222,
              "#7201a8"
             ],
             [
              0.3333333333333333,
              "#9c179e"
             ],
             [
              0.4444444444444444,
              "#bd3786"
             ],
             [
              0.5555555555555556,
              "#d8576b"
             ],
             [
              0.6666666666666666,
              "#ed7953"
             ],
             [
              0.7777777777777778,
              "#fb9f3a"
             ],
             [
              0.8888888888888888,
              "#fdca26"
             ],
             [
              1,
              "#f0f921"
             ]
            ],
            "type": "surface"
           }
          ],
          "table": [
           {
            "cells": {
             "fill": {
              "color": "#EBF0F8"
             },
             "line": {
              "color": "white"
             }
            },
            "header": {
             "fill": {
              "color": "#C8D4E3"
             },
             "line": {
              "color": "white"
             }
            },
            "type": "table"
           }
          ]
         },
         "layout": {
          "annotationdefaults": {
           "arrowcolor": "#2a3f5f",
           "arrowhead": 0,
           "arrowwidth": 1
          },
          "autotypenumbers": "strict",
          "coloraxis": {
           "colorbar": {
            "outlinewidth": 0,
            "ticks": ""
           }
          },
          "colorscale": {
           "diverging": [
            [
             0,
             "#8e0152"
            ],
            [
             0.1,
             "#c51b7d"
            ],
            [
             0.2,
             "#de77ae"
            ],
            [
             0.3,
             "#f1b6da"
            ],
            [
             0.4,
             "#fde0ef"
            ],
            [
             0.5,
             "#f7f7f7"
            ],
            [
             0.6,
             "#e6f5d0"
            ],
            [
             0.7,
             "#b8e186"
            ],
            [
             0.8,
             "#7fbc41"
            ],
            [
             0.9,
             "#4d9221"
            ],
            [
             1,
             "#276419"
            ]
           ],
           "sequential": [
            [
             0,
             "#0d0887"
            ],
            [
             0.1111111111111111,
             "#46039f"
            ],
            [
             0.2222222222222222,
             "#7201a8"
            ],
            [
             0.3333333333333333,
             "#9c179e"
            ],
            [
             0.4444444444444444,
             "#bd3786"
            ],
            [
             0.5555555555555556,
             "#d8576b"
            ],
            [
             0.6666666666666666,
             "#ed7953"
            ],
            [
             0.7777777777777778,
             "#fb9f3a"
            ],
            [
             0.8888888888888888,
             "#fdca26"
            ],
            [
             1,
             "#f0f921"
            ]
           ],
           "sequentialminus": [
            [
             0,
             "#0d0887"
            ],
            [
             0.1111111111111111,
             "#46039f"
            ],
            [
             0.2222222222222222,
             "#7201a8"
            ],
            [
             0.3333333333333333,
             "#9c179e"
            ],
            [
             0.4444444444444444,
             "#bd3786"
            ],
            [
             0.5555555555555556,
             "#d8576b"
            ],
            [
             0.6666666666666666,
             "#ed7953"
            ],
            [
             0.7777777777777778,
             "#fb9f3a"
            ],
            [
             0.8888888888888888,
             "#fdca26"
            ],
            [
             1,
             "#f0f921"
            ]
           ]
          },
          "colorway": [
           "#636efa",
           "#EF553B",
           "#00cc96",
           "#ab63fa",
           "#FFA15A",
           "#19d3f3",
           "#FF6692",
           "#B6E880",
           "#FF97FF",
           "#FECB52"
          ],
          "font": {
           "color": "#2a3f5f"
          },
          "geo": {
           "bgcolor": "white",
           "lakecolor": "white",
           "landcolor": "#E5ECF6",
           "showlakes": true,
           "showland": true,
           "subunitcolor": "white"
          },
          "hoverlabel": {
           "align": "left"
          },
          "hovermode": "closest",
          "mapbox": {
           "style": "light"
          },
          "paper_bgcolor": "white",
          "plot_bgcolor": "#E5ECF6",
          "polar": {
           "angularaxis": {
            "gridcolor": "white",
            "linecolor": "white",
            "ticks": ""
           },
           "bgcolor": "#E5ECF6",
           "radialaxis": {
            "gridcolor": "white",
            "linecolor": "white",
            "ticks": ""
           }
          },
          "scene": {
           "xaxis": {
            "backgroundcolor": "#E5ECF6",
            "gridcolor": "white",
            "gridwidth": 2,
            "linecolor": "white",
            "showbackground": true,
            "ticks": "",
            "zerolinecolor": "white"
           },
           "yaxis": {
            "backgroundcolor": "#E5ECF6",
            "gridcolor": "white",
            "gridwidth": 2,
            "linecolor": "white",
            "showbackground": true,
            "ticks": "",
            "zerolinecolor": "white"
           },
           "zaxis": {
            "backgroundcolor": "#E5ECF6",
            "gridcolor": "white",
            "gridwidth": 2,
            "linecolor": "white",
            "showbackground": true,
            "ticks": "",
            "zerolinecolor": "white"
           }
          },
          "shapedefaults": {
           "line": {
            "color": "#2a3f5f"
           }
          },
          "ternary": {
           "aaxis": {
            "gridcolor": "white",
            "linecolor": "white",
            "ticks": ""
           },
           "baxis": {
            "gridcolor": "white",
            "linecolor": "white",
            "ticks": ""
           },
           "bgcolor": "#E5ECF6",
           "caxis": {
            "gridcolor": "white",
            "linecolor": "white",
            "ticks": ""
           }
          },
          "title": {
           "x": 0.05
          },
          "xaxis": {
           "automargin": true,
           "gridcolor": "white",
           "linecolor": "white",
           "ticks": "",
           "title": {
            "standoff": 15
           },
           "zerolinecolor": "white",
           "zerolinewidth": 2
          },
          "yaxis": {
           "automargin": true,
           "gridcolor": "white",
           "linecolor": "white",
           "ticks": "",
           "title": {
            "standoff": 15
           },
           "zerolinecolor": "white",
           "zerolinewidth": 2
          }
         }
        },
        "title": {
         "font": {
          "color": "#4D5663"
         }
        },
        "xaxis": {
         "gridcolor": "#E1E5ED",
         "showgrid": true,
         "tickfont": {
          "color": "#4D5663"
         },
         "title": {
          "font": {
           "color": "#4D5663"
          },
          "text": ""
         },
         "zerolinecolor": "#E1E5ED"
        },
        "xaxis2": {
         "anchor": "y2",
         "gridcolor": "#E1E5ED",
         "showgrid": true,
         "showticklabels": false,
         "tickfont": {
          "color": "#4D5663"
         },
         "title": {
          "font": {
           "color": "#4D5663"
          },
          "text": ""
         },
         "zerolinecolor": "#E1E5ED"
        },
        "yaxis": {
         "domain": [
          0.3,
          1
         ],
         "gridcolor": "#E1E5ED",
         "showgrid": true,
         "tickfont": {
          "color": "#4D5663"
         },
         "title": {
          "font": {
           "color": "#4D5663"
          },
          "text": ""
         },
         "zerolinecolor": "#E1E5ED"
        },
        "yaxis2": {
         "domain": [
          0,
          0.25
         ],
         "gridcolor": "#E1E5ED",
         "showgrid": true,
         "tickfont": {
          "color": "#4D5663"
         },
         "title": {
          "font": {
           "color": "#4D5663"
          },
          "text": "Spread"
         },
         "zerolinecolor": "#E1E5ED"
        }
       }
      },
      "text/html": [
       "<div>                            <div id=\"0541c64a-b794-43a1-8c34-d4d4d9e64cb6\" class=\"plotly-graph-div\" style=\"height:525px; width:100%;\"></div>            <script type=\"text/javascript\">                require([\"plotly\"], function(Plotly) {                    window.PLOTLYENV=window.PLOTLYENV || {};\n",
       "                    window.PLOTLYENV.BASE_URL='https://plot.ly';                                    if (document.getElementById(\"0541c64a-b794-43a1-8c34-d4d4d9e64cb6\")) {                    Plotly.newPlot(                        \"0541c64a-b794-43a1-8c34-d4d4d9e64cb6\",                        [{\"line\": {\"color\": \"rgba(255, 153, 51, 1.0)\", \"dash\": \"solid\", \"shape\": \"linear\", \"width\": 1.3}, \"mode\": \"lines\", \"name\": \"A\", \"text\": \"\", \"type\": \"scatter\", \"x\": [0, 1, 2, 3, 4, 5, 6, 7, 8, 9, 10, 11, 12, 13, 14, 15, 16, 17, 18, 19, 20, 21, 22, 23, 24, 25, 26, 27, 28, 29, 30, 31, 32, 33, 34, 35, 36, 37, 38, 39, 40, 41, 42, 43, 44, 45, 46, 47, 48, 49, 50, 51, 52, 53, 54, 55, 56, 57, 58, 59, 60, 61, 62, 63, 64, 65, 66, 67, 68, 69, 70, 71, 72, 73, 74, 75, 76, 77, 78, 79, 80, 81, 82, 83, 84, 85, 86, 87, 88, 89, 90, 91, 92, 93, 94, 95, 96, 97, 98, 99], \"y\": [0.20504070623313753, 0.6286778475688474, -1.1946960815376417, -1.3183627315384152, 0.7287269751944572, 0.8722269481098422, -0.13166269309223982, -1.9357840606631018, 0.4145336921882121, -0.6069916193966661, 0.390215883251644, -0.45734674356014016, 1.193349051418664, 1.235556532466609, 1.6291582358653538, 1.1395764553378547, -0.010775928268597778, 1.206843095845801, -0.9600146154713587, -0.966140199254339, 0.19169949104174405, -0.14918790595603876, 0.5686543373940673, -0.24045778518832012, 0.6366295721983622, 1.1522381506685453, 1.9336345364130645, 2.006996624653642, -0.023025978960075136, 0.18993942931543212, -1.4296539266874184, 0.43382004511192135, -0.7306127696972191, -0.05578944403470869, -0.08472001405877864, -0.1149714121493137, 0.7358612175856649, -0.6923771671588429, -0.25387934755682223, -2.0722680287624553, -0.5165814241979004, 1.6736494345930495, -0.5336323351896277, 1.4616808532371586, 1.2048074779808589, -1.2840849645974888, -0.17814633696158727, 1.0474906379523012, 0.38688412823874413, 0.5918234597806681, -1.3531856261517683, 0.24341156761558463, -0.7017222749850373, 0.6123500849073915, -0.8479136012893379, 1.531831449493807, -0.08902284414868179, -1.8178227460471446, -0.5109149743900608, -0.019596110540417384, -0.6983446018771495, 2.1094904333757407, -0.6311966451758331, -0.7047558807060837, 0.14788823265526901, 1.3716817074401486, 0.014617163284772135, -0.8243567459465074, 0.3123554784595387, 0.006117282091226412, -0.44574685438333156, 0.19146184772892774, -0.510564268279504, 0.8130753024382118, 2.3632960388245143, 2.116807945200409, -0.7750854668514382, 1.1030058690899103, -1.0730902732448744, -0.7826004688457083, -0.19255772560734755, -1.6458945809351144, -1.149219201933772, 0.06545680442591104, 1.2970608422251297, 0.3995935105107383, 1.0046285769041494, 2.6049159767101853, 0.2648980896996127, -1.5712641398967868, -0.7776854787695353, 0.21347068389058088, 0.20585723656867927, 1.9571203104075063, -0.6410346456022266, -0.9414275827775105, 1.2276831536344308, -0.007015283300855964, 0.23646616205819243, -1.2406348171165948]}, {\"line\": {\"color\": \"rgba(55, 128, 191, 1.0)\", \"dash\": \"solid\", \"shape\": \"linear\", \"width\": 1.3}, \"mode\": \"lines\", \"name\": \"B\", \"text\": \"\", \"type\": \"scatter\", \"x\": [0, 1, 2, 3, 4, 5, 6, 7, 8, 9, 10, 11, 12, 13, 14, 15, 16, 17, 18, 19, 20, 21, 22, 23, 24, 25, 26, 27, 28, 29, 30, 31, 32, 33, 34, 35, 36, 37, 38, 39, 40, 41, 42, 43, 44, 45, 46, 47, 48, 49, 50, 51, 52, 53, 54, 55, 56, 57, 58, 59, 60, 61, 62, 63, 64, 65, 66, 67, 68, 69, 70, 71, 72, 73, 74, 75, 76, 77, 78, 79, 80, 81, 82, 83, 84, 85, 86, 87, 88, 89, 90, 91, 92, 93, 94, 95, 96, 97, 98, 99], \"y\": [-0.5439617119205455, -0.5704148841714516, -1.07662655822544, -0.8474093020614032, -0.4040721263713018, -0.22032162653824705, 0.984810825036386, 0.6459982295599839, 0.9625977558237383, 0.32961616491736717, -0.6383325120225408, 1.7682720359532031, -0.7006348852403254, -0.2562716741210957, -1.2177123975522377, -0.16734060804219206, 0.43907261092386024, -0.18906110667888334, 1.1993281288587738, -0.20811431926451315, -1.0049310034719965, -0.22976703532601245, -0.13894060084069174, 1.2275994471410943, 1.342734485378966, 1.1665077733710503, -0.5434498879083448, -0.4092649210874944, 0.33338528689970426, 0.7670594173207315, 0.7872973798422225, -0.1606048434279647, 0.2843664711766602, 0.571068693668149, -3.086080376151923, -0.4849501045316944, 0.7980458181885236, 0.5868466116667443, -0.9166483893763678, -0.1704246184052833, 0.22117865067943315, -1.3201080068609135, 0.7568133206374094, 2.4676468487452357, -1.068703071956845, -0.6291258641268789, 1.163415410221566, -0.12339604673539196, 0.9367836611456651, -0.24948621721976244, -1.1576699893858196, 1.5757959197628753, 0.27451804126694296, -0.3405120090081654, 0.5495521734370964, 1.0455429042100273, -1.132207339071681, 1.2103819750274107, -0.6528387602045533, 0.06822891946103009, 0.10930141977857291, -1.1210045578232524, -0.37174364013106725, 0.8746799851128227, 0.01530574132809894, -1.5607767191556627, 0.3083227911857838, -1.8757128537357166, -0.05906016862387303, 0.6244298300094971, 0.03480897073112098, -0.8132032260998618, 0.40371608126509506, -0.5250713115573913, -0.3599740532761306, 0.6436866021813002, 0.10040758411756084, 1.106344944184813, -1.164546239406862, -0.6021822918337024, 0.24359876936141814, -0.2115220974504064, 0.9546210335566907, -0.7064555912566168, 0.8642221033273032, 0.876847424360984, 1.6238480437140206, 0.004990774537376512, -0.14310145325778864, 0.4816044490155595, -0.46065909217859663, -0.30586794082918434, 0.8313503097531753, 0.6402120611320695, 0.026544256531318044, 0.04778410984681494, -0.39801425662921003, 0.16233095530239772, 1.0638768169666544, 1.0008761898429492]}, {\"connectgaps\": false, \"fill\": \"tozeroy\", \"line\": {\"color\": \"green\", \"dash\": \"solid\", \"shape\": \"linear\", \"width\": 0.5}, \"mode\": \"lines\", \"name\": \"Spread\", \"showlegend\": false, \"type\": \"scatter\", \"x\": [0, 1, 2, 3, 4, 5, 6, 7, 8, 9, 10, 11, 12, 13, 14, 15, 16, 17, 18, 19, 20, 21, 22, 23, 24, 25, 26, 27, 28, 29, 30, 31, 32, 33, 34, 35, 36, 37, 38, 39, 40, 41, 42, 43, 44, 45, 46, 47, 48, 49, 50, 51, 52, 53, 54, 55, 56, 57, 58, 59, 60, 61, 62, 63, 64, 65, 66, 67, 68, 69, 70, 71, 72, 73, 74, 75, 76, 77, 78, 79, 80, 81, 82, 83, 84, 85, 86, 87, 88, 89, 90, 91, 92, 93, 94, 95, 96, 97, 98, 99], \"xaxis\": \"x2\", \"y\": [0.7490024181536831, 1.1990927317402988, \"\", \"\", 1.132799101565759, 1.0925485746480894, \"\", \"\", \"\", \"\", 1.0285483952741847, \"\", 1.8939839366589895, 1.4918282065877047, 2.8468706334175913, 1.3069170633800467, \"\", 1.3959042025246844, \"\", \"\", 1.1966304945137405, 0.08057912936997369, 0.707594938234759, \"\", \"\", \"\", 2.477084424321409, 2.4162615457411367, \"\", \"\", \"\", 0.5944248885398861, \"\", \"\", 3.0013603620931444, 0.3699786923823807, \"\", \"\", 0.6627690418195455, \"\", \"\", 2.9937574414539627, \"\", \"\", 2.273510549937704, \"\", \"\", 1.1708866846876933, \"\", 0.8413096770004305, \"\", \"\", \"\", 0.952862093915557, \"\", 0.48628854528377974, 1.0431844949229991, \"\", 0.1419237858144925, \"\", \"\", 3.2304949911989933, \"\", \"\", 0.13258249132717007, 2.9324584265958116, \"\", 1.0513561077892093, 0.37141564708341174, \"\", \"\", 1.0046650738287897, \"\", 1.338146613995603, 2.7232700921006447, 1.473121343019109, \"\", \"\", 0.09145596616198759, \"\", \"\", \"\", \"\", 0.7719123956825279, 0.43283873889782654, \"\", \"\", 2.5999252021728085, 0.4079995429574014, \"\", \"\", 0.5193386247197652, \"\", 1.316908249275437, \"\", \"\", 1.6256974102636408, \"\", \"\", \"\"], \"yaxis\": \"y2\"}, {\"connectgaps\": false, \"fill\": \"tozeroy\", \"line\": {\"color\": \"red\", \"dash\": \"solid\", \"shape\": \"linear\", \"width\": 0.5}, \"mode\": \"lines\", \"name\": \"Spread\", \"showlegend\": false, \"type\": \"scatter\", \"x\": [0, 1, 2, 3, 4, 5, 6, 7, 8, 9, 10, 11, 12, 13, 14, 15, 16, 17, 18, 19, 20, 21, 22, 23, 24, 25, 26, 27, 28, 29, 30, 31, 32, 33, 34, 35, 36, 37, 38, 39, 40, 41, 42, 43, 44, 45, 46, 47, 48, 49, 50, 51, 52, 53, 54, 55, 56, 57, 58, 59, 60, 61, 62, 63, 64, 65, 66, 67, 68, 69, 70, 71, 72, 73, 74, 75, 76, 77, 78, 79, 80, 81, 82, 83, 84, 85, 86, 87, 88, 89, 90, 91, 92, 93, 94, 95, 96, 97, 98, 99], \"xaxis\": \"x2\", \"y\": [\"\", \"\", -0.11806952331220177, -0.470953429477012, \"\", \"\", -1.1164735181286258, -2.5817822902230856, -0.5480640636355262, -0.9366077843140332, \"\", -2.2256187795133435, \"\", \"\", \"\", \"\", -0.44984853919245804, \"\", -2.1593427443301323, -0.7580258799898258, \"\", \"\", \"\", -1.4680572323294143, -0.7061049131806038, -0.01426962270250498, \"\", \"\", -0.3564112658597794, -0.5771199880052993, -2.2169513065296407, \"\", -1.0149792408738794, -0.6268581377028577, \"\", \"\", -0.062184600602858686, -1.2792237788255871, \"\", -1.901843410357172, -0.7377600748773336, \"\", -1.2904456558270372, -1.005965995508077, \"\", -0.6549591004706099, -1.3415617471831531, \"\", -0.549899532906921, \"\", -0.19551563676594874, -1.3323843521472907, -0.9762403162519802, \"\", -1.3974657747264343, \"\", \"\", -3.0282047210745553, \"\", -0.08782503000144748, -0.8076460216557224, \"\", -0.2594530050447658, -1.5794358658189065, \"\", \"\", -0.2937056279010117, \"\", \"\", -0.6183125479182707, -0.48055582511445255, \"\", -0.914280349544599, \"\", \"\", \"\", -0.8754930509689991, -0.0033390750949027215, \"\", -0.1804181770120059, -0.4361564949687657, -1.434372483484708, -2.1038402354904626, \"\", \"\", -0.4772539138502456, -0.6192194668098712, \"\", \"\", -2.052868588912346, -0.3170263865909387, \"\", -0.625493073184496, \"\", -0.6675789021335446, -0.9892116926243254, \"\", -0.16934623860325368, -0.8274106549084619, -2.241511006959544], \"yaxis\": \"y2\"}],                        {\"hovermode\": \"x\", \"legend\": {\"bgcolor\": \"#F5F6F9\", \"font\": {\"color\": \"#4D5663\"}}, \"paper_bgcolor\": \"#F5F6F9\", \"plot_bgcolor\": \"#F5F6F9\", \"template\": {\"data\": {\"bar\": [{\"error_x\": {\"color\": \"#2a3f5f\"}, \"error_y\": {\"color\": \"#2a3f5f\"}, \"marker\": {\"line\": {\"color\": \"#E5ECF6\", \"width\": 0.5}}, \"type\": \"bar\"}], \"barpolar\": [{\"marker\": {\"line\": {\"color\": \"#E5ECF6\", \"width\": 0.5}}, \"type\": \"barpolar\"}], \"carpet\": [{\"aaxis\": {\"endlinecolor\": \"#2a3f5f\", \"gridcolor\": \"white\", \"linecolor\": \"white\", \"minorgridcolor\": \"white\", \"startlinecolor\": \"#2a3f5f\"}, \"baxis\": {\"endlinecolor\": \"#2a3f5f\", \"gridcolor\": \"white\", \"linecolor\": \"white\", \"minorgridcolor\": \"white\", \"startlinecolor\": \"#2a3f5f\"}, \"type\": \"carpet\"}], \"choropleth\": [{\"colorbar\": {\"outlinewidth\": 0, \"ticks\": \"\"}, \"type\": \"choropleth\"}], \"contour\": [{\"colorbar\": {\"outlinewidth\": 0, \"ticks\": \"\"}, \"colorscale\": [[0.0, \"#0d0887\"], [0.1111111111111111, \"#46039f\"], [0.2222222222222222, \"#7201a8\"], [0.3333333333333333, \"#9c179e\"], [0.4444444444444444, \"#bd3786\"], [0.5555555555555556, \"#d8576b\"], [0.6666666666666666, \"#ed7953\"], [0.7777777777777778, \"#fb9f3a\"], [0.8888888888888888, \"#fdca26\"], [1.0, \"#f0f921\"]], \"type\": \"contour\"}], \"contourcarpet\": [{\"colorbar\": {\"outlinewidth\": 0, \"ticks\": \"\"}, \"type\": \"contourcarpet\"}], \"heatmap\": [{\"colorbar\": {\"outlinewidth\": 0, \"ticks\": \"\"}, \"colorscale\": [[0.0, \"#0d0887\"], [0.1111111111111111, \"#46039f\"], [0.2222222222222222, \"#7201a8\"], [0.3333333333333333, \"#9c179e\"], [0.4444444444444444, \"#bd3786\"], [0.5555555555555556, \"#d8576b\"], [0.6666666666666666, \"#ed7953\"], [0.7777777777777778, \"#fb9f3a\"], [0.8888888888888888, \"#fdca26\"], [1.0, \"#f0f921\"]], \"type\": \"heatmap\"}], \"heatmapgl\": [{\"colorbar\": {\"outlinewidth\": 0, \"ticks\": \"\"}, \"colorscale\": [[0.0, \"#0d0887\"], [0.1111111111111111, \"#46039f\"], [0.2222222222222222, \"#7201a8\"], [0.3333333333333333, \"#9c179e\"], [0.4444444444444444, \"#bd3786\"], [0.5555555555555556, \"#d8576b\"], [0.6666666666666666, \"#ed7953\"], [0.7777777777777778, \"#fb9f3a\"], [0.8888888888888888, \"#fdca26\"], [1.0, \"#f0f921\"]], \"type\": \"heatmapgl\"}], \"histogram\": [{\"marker\": {\"colorbar\": {\"outlinewidth\": 0, \"ticks\": \"\"}}, \"type\": \"histogram\"}], \"histogram2d\": [{\"colorbar\": {\"outlinewidth\": 0, \"ticks\": \"\"}, \"colorscale\": [[0.0, \"#0d0887\"], [0.1111111111111111, \"#46039f\"], [0.2222222222222222, \"#7201a8\"], [0.3333333333333333, \"#9c179e\"], [0.4444444444444444, \"#bd3786\"], [0.5555555555555556, \"#d8576b\"], [0.6666666666666666, \"#ed7953\"], [0.7777777777777778, \"#fb9f3a\"], [0.8888888888888888, \"#fdca26\"], [1.0, \"#f0f921\"]], \"type\": \"histogram2d\"}], \"histogram2dcontour\": [{\"colorbar\": {\"outlinewidth\": 0, \"ticks\": \"\"}, \"colorscale\": [[0.0, \"#0d0887\"], [0.1111111111111111, \"#46039f\"], [0.2222222222222222, \"#7201a8\"], [0.3333333333333333, \"#9c179e\"], [0.4444444444444444, \"#bd3786\"], [0.5555555555555556, \"#d8576b\"], [0.6666666666666666, \"#ed7953\"], [0.7777777777777778, \"#fb9f3a\"], [0.8888888888888888, \"#fdca26\"], [1.0, \"#f0f921\"]], \"type\": \"histogram2dcontour\"}], \"mesh3d\": [{\"colorbar\": {\"outlinewidth\": 0, \"ticks\": \"\"}, \"type\": \"mesh3d\"}], \"parcoords\": [{\"line\": {\"colorbar\": {\"outlinewidth\": 0, \"ticks\": \"\"}}, \"type\": \"parcoords\"}], \"pie\": [{\"automargin\": true, \"type\": \"pie\"}], \"scatter\": [{\"marker\": {\"colorbar\": {\"outlinewidth\": 0, \"ticks\": \"\"}}, \"type\": \"scatter\"}], \"scatter3d\": [{\"line\": {\"colorbar\": {\"outlinewidth\": 0, \"ticks\": \"\"}}, \"marker\": {\"colorbar\": {\"outlinewidth\": 0, \"ticks\": \"\"}}, \"type\": \"scatter3d\"}], \"scattercarpet\": [{\"marker\": {\"colorbar\": {\"outlinewidth\": 0, \"ticks\": \"\"}}, \"type\": \"scattercarpet\"}], \"scattergeo\": [{\"marker\": {\"colorbar\": {\"outlinewidth\": 0, \"ticks\": \"\"}}, \"type\": \"scattergeo\"}], \"scattergl\": [{\"marker\": {\"colorbar\": {\"outlinewidth\": 0, \"ticks\": \"\"}}, \"type\": \"scattergl\"}], \"scattermapbox\": [{\"marker\": {\"colorbar\": {\"outlinewidth\": 0, \"ticks\": \"\"}}, \"type\": \"scattermapbox\"}], \"scatterpolar\": [{\"marker\": {\"colorbar\": {\"outlinewidth\": 0, \"ticks\": \"\"}}, \"type\": \"scatterpolar\"}], \"scatterpolargl\": [{\"marker\": {\"colorbar\": {\"outlinewidth\": 0, \"ticks\": \"\"}}, \"type\": \"scatterpolargl\"}], \"scatterternary\": [{\"marker\": {\"colorbar\": {\"outlinewidth\": 0, \"ticks\": \"\"}}, \"type\": \"scatterternary\"}], \"surface\": [{\"colorbar\": {\"outlinewidth\": 0, \"ticks\": \"\"}, \"colorscale\": [[0.0, \"#0d0887\"], [0.1111111111111111, \"#46039f\"], [0.2222222222222222, \"#7201a8\"], [0.3333333333333333, \"#9c179e\"], [0.4444444444444444, \"#bd3786\"], [0.5555555555555556, \"#d8576b\"], [0.6666666666666666, \"#ed7953\"], [0.7777777777777778, \"#fb9f3a\"], [0.8888888888888888, \"#fdca26\"], [1.0, \"#f0f921\"]], \"type\": \"surface\"}], \"table\": [{\"cells\": {\"fill\": {\"color\": \"#EBF0F8\"}, \"line\": {\"color\": \"white\"}}, \"header\": {\"fill\": {\"color\": \"#C8D4E3\"}, \"line\": {\"color\": \"white\"}}, \"type\": \"table\"}]}, \"layout\": {\"annotationdefaults\": {\"arrowcolor\": \"#2a3f5f\", \"arrowhead\": 0, \"arrowwidth\": 1}, \"autotypenumbers\": \"strict\", \"coloraxis\": {\"colorbar\": {\"outlinewidth\": 0, \"ticks\": \"\"}}, \"colorscale\": {\"diverging\": [[0, \"#8e0152\"], [0.1, \"#c51b7d\"], [0.2, \"#de77ae\"], [0.3, \"#f1b6da\"], [0.4, \"#fde0ef\"], [0.5, \"#f7f7f7\"], [0.6, \"#e6f5d0\"], [0.7, \"#b8e186\"], [0.8, \"#7fbc41\"], [0.9, \"#4d9221\"], [1, \"#276419\"]], \"sequential\": [[0.0, \"#0d0887\"], [0.1111111111111111, \"#46039f\"], [0.2222222222222222, \"#7201a8\"], [0.3333333333333333, \"#9c179e\"], [0.4444444444444444, \"#bd3786\"], [0.5555555555555556, \"#d8576b\"], [0.6666666666666666, \"#ed7953\"], [0.7777777777777778, \"#fb9f3a\"], [0.8888888888888888, \"#fdca26\"], [1.0, \"#f0f921\"]], \"sequentialminus\": [[0.0, \"#0d0887\"], [0.1111111111111111, \"#46039f\"], [0.2222222222222222, \"#7201a8\"], [0.3333333333333333, \"#9c179e\"], [0.4444444444444444, \"#bd3786\"], [0.5555555555555556, \"#d8576b\"], [0.6666666666666666, \"#ed7953\"], [0.7777777777777778, \"#fb9f3a\"], [0.8888888888888888, \"#fdca26\"], [1.0, \"#f0f921\"]]}, \"colorway\": [\"#636efa\", \"#EF553B\", \"#00cc96\", \"#ab63fa\", \"#FFA15A\", \"#19d3f3\", \"#FF6692\", \"#B6E880\", \"#FF97FF\", \"#FECB52\"], \"font\": {\"color\": \"#2a3f5f\"}, \"geo\": {\"bgcolor\": \"white\", \"lakecolor\": \"white\", \"landcolor\": \"#E5ECF6\", \"showlakes\": true, \"showland\": true, \"subunitcolor\": \"white\"}, \"hoverlabel\": {\"align\": \"left\"}, \"hovermode\": \"closest\", \"mapbox\": {\"style\": \"light\"}, \"paper_bgcolor\": \"white\", \"plot_bgcolor\": \"#E5ECF6\", \"polar\": {\"angularaxis\": {\"gridcolor\": \"white\", \"linecolor\": \"white\", \"ticks\": \"\"}, \"bgcolor\": \"#E5ECF6\", \"radialaxis\": {\"gridcolor\": \"white\", \"linecolor\": \"white\", \"ticks\": \"\"}}, \"scene\": {\"xaxis\": {\"backgroundcolor\": \"#E5ECF6\", \"gridcolor\": \"white\", \"gridwidth\": 2, \"linecolor\": \"white\", \"showbackground\": true, \"ticks\": \"\", \"zerolinecolor\": \"white\"}, \"yaxis\": {\"backgroundcolor\": \"#E5ECF6\", \"gridcolor\": \"white\", \"gridwidth\": 2, \"linecolor\": \"white\", \"showbackground\": true, \"ticks\": \"\", \"zerolinecolor\": \"white\"}, \"zaxis\": {\"backgroundcolor\": \"#E5ECF6\", \"gridcolor\": \"white\", \"gridwidth\": 2, \"linecolor\": \"white\", \"showbackground\": true, \"ticks\": \"\", \"zerolinecolor\": \"white\"}}, \"shapedefaults\": {\"line\": {\"color\": \"#2a3f5f\"}}, \"ternary\": {\"aaxis\": {\"gridcolor\": \"white\", \"linecolor\": \"white\", \"ticks\": \"\"}, \"baxis\": {\"gridcolor\": \"white\", \"linecolor\": \"white\", \"ticks\": \"\"}, \"bgcolor\": \"#E5ECF6\", \"caxis\": {\"gridcolor\": \"white\", \"linecolor\": \"white\", \"ticks\": \"\"}}, \"title\": {\"x\": 0.05}, \"xaxis\": {\"automargin\": true, \"gridcolor\": \"white\", \"linecolor\": \"white\", \"ticks\": \"\", \"title\": {\"standoff\": 15}, \"zerolinecolor\": \"white\", \"zerolinewidth\": 2}, \"yaxis\": {\"automargin\": true, \"gridcolor\": \"white\", \"linecolor\": \"white\", \"ticks\": \"\", \"title\": {\"standoff\": 15}, \"zerolinecolor\": \"white\", \"zerolinewidth\": 2}}}, \"title\": {\"font\": {\"color\": \"#4D5663\"}}, \"xaxis\": {\"gridcolor\": \"#E1E5ED\", \"showgrid\": true, \"tickfont\": {\"color\": \"#4D5663\"}, \"title\": {\"font\": {\"color\": \"#4D5663\"}, \"text\": \"\"}, \"zerolinecolor\": \"#E1E5ED\"}, \"xaxis2\": {\"anchor\": \"y2\", \"gridcolor\": \"#E1E5ED\", \"showgrid\": true, \"showticklabels\": false, \"tickfont\": {\"color\": \"#4D5663\"}, \"title\": {\"font\": {\"color\": \"#4D5663\"}, \"text\": \"\"}, \"zerolinecolor\": \"#E1E5ED\"}, \"yaxis\": {\"domain\": [0.3, 1], \"gridcolor\": \"#E1E5ED\", \"showgrid\": true, \"tickfont\": {\"color\": \"#4D5663\"}, \"title\": {\"font\": {\"color\": \"#4D5663\"}, \"text\": \"\"}, \"zerolinecolor\": \"#E1E5ED\"}, \"yaxis2\": {\"domain\": [0, 0.25], \"gridcolor\": \"#E1E5ED\", \"showgrid\": true, \"tickfont\": {\"color\": \"#4D5663\"}, \"title\": {\"font\": {\"color\": \"#4D5663\"}, \"text\": \"Spread\"}, \"zerolinecolor\": \"#E1E5ED\"}},                        {\"showLink\": true, \"linkText\": \"Export to plot.ly\", \"plotlyServerURL\": \"https://plot.ly\", \"responsive\": true}                    ).then(function(){\n",
       "                            \n",
       "var gd = document.getElementById('0541c64a-b794-43a1-8c34-d4d4d9e64cb6');\n",
       "var x = new MutationObserver(function (mutations, observer) {{\n",
       "        var display = window.getComputedStyle(gd).display;\n",
       "        if (!display || display === 'none') {{\n",
       "            console.log([gd, 'removed!']);\n",
       "            Plotly.purge(gd);\n",
       "            observer.disconnect();\n",
       "        }}\n",
       "}});\n",
       "\n",
       "// Listen for the removal of the full notebook cells\n",
       "var notebookContainer = gd.closest('#notebook-container');\n",
       "if (notebookContainer) {{\n",
       "    x.observe(notebookContainer, {childList: true});\n",
       "}}\n",
       "\n",
       "// Listen for the clearing of the current output cell\n",
       "var outputEl = gd.closest('.output');\n",
       "if (outputEl) {{\n",
       "    x.observe(outputEl, {childList: true});\n",
       "}}\n",
       "\n",
       "                        })                };                });            </script>        </div>"
      ]
     },
     "metadata": {},
     "output_type": "display_data"
    }
   ],
   "source": [
    "df[['A','B']].iplot(kind='spread')"
   ]
  },
  {
   "cell_type": "code",
   "execution_count": 45,
   "metadata": {},
   "outputs": [
    {
     "data": {
      "application/vnd.plotly.v1+json": {
       "config": {
        "linkText": "Export to plot.ly",
        "plotlyServerURL": "https://plot.ly",
        "showLink": true
       },
       "data": [
        {
         "marker": {
          "color": [
           "rgb(165,0,38)",
           "rgb(215,48,39)",
           "rgb(244,109,67)",
           "rgb(253,174,97)",
           "rgb(254,224,144)",
           "rgb(255,255,191)",
           "rgb(224,243,248)",
           "rgb(171,217,233)",
           "rgb(116,173,209)",
           "rgb(69,117,180)",
           "rgb(49,54,149)"
          ],
          "line": {
           "width": 1.3
          },
          "size": [
           64,
           62,
           28,
           97,
           27,
           53,
           54,
           86,
           66,
           59,
           43,
           62,
           39,
           61,
           57,
           24,
           53,
           54,
           74,
           44,
           64,
           29,
           50,
           32,
           82,
           12,
           101,
           42,
           59,
           65,
           17,
           56,
           40,
           77,
           47,
           44,
           82,
           57,
           79,
           50,
           50,
           31,
           52,
           91,
           67,
           45,
           74,
           58,
           27,
           72,
           54,
           20,
           43,
           44,
           44,
           30,
           58,
           63,
           61,
           49,
           56,
           22,
           12,
           31,
           39,
           65,
           32,
           29,
           28,
           34,
           33,
           45,
           36,
           42,
           17,
           51,
           35,
           40,
           15,
           73,
           17,
           31,
           40,
           47,
           88,
           87,
           112,
           75,
           49,
           39,
           98,
           35,
           50,
           77,
           14,
           62,
           68,
           38,
           81,
           86
          ],
          "symbol": "circle"
         },
         "mode": "markers",
         "text": "",
         "type": "scatter",
         "x": [
          0.20504070623313753,
          0.6286778475688474,
          -1.1946960815376417,
          -1.3183627315384152,
          0.7287269751944572,
          0.8722269481098422,
          -0.13166269309223982,
          -1.9357840606631018,
          0.4145336921882121,
          -0.6069916193966661,
          0.390215883251644,
          -0.45734674356014016,
          1.193349051418664,
          1.235556532466609,
          1.6291582358653538,
          1.1395764553378547,
          -0.010775928268597778,
          1.206843095845801,
          -0.9600146154713587,
          -0.966140199254339,
          0.19169949104174405,
          -0.14918790595603876,
          0.5686543373940673,
          -0.24045778518832012,
          0.6366295721983622,
          1.1522381506685453,
          1.9336345364130645,
          2.006996624653642,
          -0.023025978960075136,
          0.18993942931543212,
          -1.4296539266874184,
          0.43382004511192135,
          -0.7306127696972191,
          -0.05578944403470869,
          -0.08472001405877864,
          -0.1149714121493137,
          0.7358612175856649,
          -0.6923771671588429,
          -0.25387934755682223,
          -2.0722680287624553,
          -0.5165814241979004,
          1.6736494345930495,
          -0.5336323351896277,
          1.4616808532371586,
          1.2048074779808589,
          -1.2840849645974888,
          -0.17814633696158727,
          1.0474906379523012,
          0.38688412823874413,
          0.5918234597806681,
          -1.3531856261517683,
          0.24341156761558463,
          -0.7017222749850373,
          0.6123500849073915,
          -0.8479136012893379,
          1.531831449493807,
          -0.08902284414868179,
          -1.8178227460471446,
          -0.5109149743900608,
          -0.019596110540417384,
          -0.6983446018771495,
          2.1094904333757407,
          -0.6311966451758331,
          -0.7047558807060837,
          0.14788823265526901,
          1.3716817074401486,
          0.014617163284772135,
          -0.8243567459465074,
          0.3123554784595387,
          0.006117282091226412,
          -0.44574685438333156,
          0.19146184772892774,
          -0.510564268279504,
          0.8130753024382118,
          2.3632960388245143,
          2.116807945200409,
          -0.7750854668514382,
          1.1030058690899103,
          -1.0730902732448744,
          -0.7826004688457083,
          -0.19255772560734755,
          -1.6458945809351144,
          -1.149219201933772,
          0.06545680442591104,
          1.2970608422251297,
          0.3995935105107383,
          1.0046285769041494,
          2.6049159767101853,
          0.2648980896996127,
          -1.5712641398967868,
          -0.7776854787695353,
          0.21347068389058088,
          0.20585723656867927,
          1.9571203104075063,
          -0.6410346456022266,
          -0.9414275827775105,
          1.2276831536344308,
          -0.007015283300855964,
          0.23646616205819243,
          -1.2406348171165948
         ],
         "y": [
          -0.5439617119205455,
          -0.5704148841714516,
          -1.07662655822544,
          -0.8474093020614032,
          -0.4040721263713018,
          -0.22032162653824705,
          0.984810825036386,
          0.6459982295599839,
          0.9625977558237383,
          0.32961616491736717,
          -0.6383325120225408,
          1.7682720359532031,
          -0.7006348852403254,
          -0.2562716741210957,
          -1.2177123975522377,
          -0.16734060804219206,
          0.43907261092386024,
          -0.18906110667888334,
          1.1993281288587738,
          -0.20811431926451315,
          -1.0049310034719965,
          -0.22976703532601245,
          -0.13894060084069174,
          1.2275994471410943,
          1.342734485378966,
          1.1665077733710503,
          -0.5434498879083448,
          -0.4092649210874944,
          0.33338528689970426,
          0.7670594173207315,
          0.7872973798422225,
          -0.1606048434279647,
          0.2843664711766602,
          0.571068693668149,
          -3.086080376151923,
          -0.4849501045316944,
          0.7980458181885236,
          0.5868466116667443,
          -0.9166483893763678,
          -0.1704246184052833,
          0.22117865067943315,
          -1.3201080068609135,
          0.7568133206374094,
          2.4676468487452357,
          -1.068703071956845,
          -0.6291258641268789,
          1.163415410221566,
          -0.12339604673539196,
          0.9367836611456651,
          -0.24948621721976244,
          -1.1576699893858196,
          1.5757959197628753,
          0.27451804126694296,
          -0.3405120090081654,
          0.5495521734370964,
          1.0455429042100273,
          -1.132207339071681,
          1.2103819750274107,
          -0.6528387602045533,
          0.06822891946103009,
          0.10930141977857291,
          -1.1210045578232524,
          -0.37174364013106725,
          0.8746799851128227,
          0.01530574132809894,
          -1.5607767191556627,
          0.3083227911857838,
          -1.8757128537357166,
          -0.05906016862387303,
          0.6244298300094971,
          0.03480897073112098,
          -0.8132032260998618,
          0.40371608126509506,
          -0.5250713115573913,
          -0.3599740532761306,
          0.6436866021813002,
          0.10040758411756084,
          1.106344944184813,
          -1.164546239406862,
          -0.6021822918337024,
          0.24359876936141814,
          -0.2115220974504064,
          0.9546210335566907,
          -0.7064555912566168,
          0.8642221033273032,
          0.876847424360984,
          1.6238480437140206,
          0.004990774537376512,
          -0.14310145325778864,
          0.4816044490155595,
          -0.46065909217859663,
          -0.30586794082918434,
          0.8313503097531753,
          0.6402120611320695,
          0.026544256531318044,
          0.04778410984681494,
          -0.39801425662921003,
          0.16233095530239772,
          1.0638768169666544,
          1.0008761898429492
         ]
        }
       ],
       "layout": {
        "legend": {
         "bgcolor": "#F5F6F9",
         "font": {
          "color": "#4D5663"
         }
        },
        "paper_bgcolor": "#F5F6F9",
        "plot_bgcolor": "#F5F6F9",
        "template": {
         "data": {
          "bar": [
           {
            "error_x": {
             "color": "#2a3f5f"
            },
            "error_y": {
             "color": "#2a3f5f"
            },
            "marker": {
             "line": {
              "color": "#E5ECF6",
              "width": 0.5
             }
            },
            "type": "bar"
           }
          ],
          "barpolar": [
           {
            "marker": {
             "line": {
              "color": "#E5ECF6",
              "width": 0.5
             }
            },
            "type": "barpolar"
           }
          ],
          "carpet": [
           {
            "aaxis": {
             "endlinecolor": "#2a3f5f",
             "gridcolor": "white",
             "linecolor": "white",
             "minorgridcolor": "white",
             "startlinecolor": "#2a3f5f"
            },
            "baxis": {
             "endlinecolor": "#2a3f5f",
             "gridcolor": "white",
             "linecolor": "white",
             "minorgridcolor": "white",
             "startlinecolor": "#2a3f5f"
            },
            "type": "carpet"
           }
          ],
          "choropleth": [
           {
            "colorbar": {
             "outlinewidth": 0,
             "ticks": ""
            },
            "type": "choropleth"
           }
          ],
          "contour": [
           {
            "colorbar": {
             "outlinewidth": 0,
             "ticks": ""
            },
            "colorscale": [
             [
              0,
              "#0d0887"
             ],
             [
              0.1111111111111111,
              "#46039f"
             ],
             [
              0.2222222222222222,
              "#7201a8"
             ],
             [
              0.3333333333333333,
              "#9c179e"
             ],
             [
              0.4444444444444444,
              "#bd3786"
             ],
             [
              0.5555555555555556,
              "#d8576b"
             ],
             [
              0.6666666666666666,
              "#ed7953"
             ],
             [
              0.7777777777777778,
              "#fb9f3a"
             ],
             [
              0.8888888888888888,
              "#fdca26"
             ],
             [
              1,
              "#f0f921"
             ]
            ],
            "type": "contour"
           }
          ],
          "contourcarpet": [
           {
            "colorbar": {
             "outlinewidth": 0,
             "ticks": ""
            },
            "type": "contourcarpet"
           }
          ],
          "heatmap": [
           {
            "colorbar": {
             "outlinewidth": 0,
             "ticks": ""
            },
            "colorscale": [
             [
              0,
              "#0d0887"
             ],
             [
              0.1111111111111111,
              "#46039f"
             ],
             [
              0.2222222222222222,
              "#7201a8"
             ],
             [
              0.3333333333333333,
              "#9c179e"
             ],
             [
              0.4444444444444444,
              "#bd3786"
             ],
             [
              0.5555555555555556,
              "#d8576b"
             ],
             [
              0.6666666666666666,
              "#ed7953"
             ],
             [
              0.7777777777777778,
              "#fb9f3a"
             ],
             [
              0.8888888888888888,
              "#fdca26"
             ],
             [
              1,
              "#f0f921"
             ]
            ],
            "type": "heatmap"
           }
          ],
          "heatmapgl": [
           {
            "colorbar": {
             "outlinewidth": 0,
             "ticks": ""
            },
            "colorscale": [
             [
              0,
              "#0d0887"
             ],
             [
              0.1111111111111111,
              "#46039f"
             ],
             [
              0.2222222222222222,
              "#7201a8"
             ],
             [
              0.3333333333333333,
              "#9c179e"
             ],
             [
              0.4444444444444444,
              "#bd3786"
             ],
             [
              0.5555555555555556,
              "#d8576b"
             ],
             [
              0.6666666666666666,
              "#ed7953"
             ],
             [
              0.7777777777777778,
              "#fb9f3a"
             ],
             [
              0.8888888888888888,
              "#fdca26"
             ],
             [
              1,
              "#f0f921"
             ]
            ],
            "type": "heatmapgl"
           }
          ],
          "histogram": [
           {
            "marker": {
             "colorbar": {
              "outlinewidth": 0,
              "ticks": ""
             }
            },
            "type": "histogram"
           }
          ],
          "histogram2d": [
           {
            "colorbar": {
             "outlinewidth": 0,
             "ticks": ""
            },
            "colorscale": [
             [
              0,
              "#0d0887"
             ],
             [
              0.1111111111111111,
              "#46039f"
             ],
             [
              0.2222222222222222,
              "#7201a8"
             ],
             [
              0.3333333333333333,
              "#9c179e"
             ],
             [
              0.4444444444444444,
              "#bd3786"
             ],
             [
              0.5555555555555556,
              "#d8576b"
             ],
             [
              0.6666666666666666,
              "#ed7953"
             ],
             [
              0.7777777777777778,
              "#fb9f3a"
             ],
             [
              0.8888888888888888,
              "#fdca26"
             ],
             [
              1,
              "#f0f921"
             ]
            ],
            "type": "histogram2d"
           }
          ],
          "histogram2dcontour": [
           {
            "colorbar": {
             "outlinewidth": 0,
             "ticks": ""
            },
            "colorscale": [
             [
              0,
              "#0d0887"
             ],
             [
              0.1111111111111111,
              "#46039f"
             ],
             [
              0.2222222222222222,
              "#7201a8"
             ],
             [
              0.3333333333333333,
              "#9c179e"
             ],
             [
              0.4444444444444444,
              "#bd3786"
             ],
             [
              0.5555555555555556,
              "#d8576b"
             ],
             [
              0.6666666666666666,
              "#ed7953"
             ],
             [
              0.7777777777777778,
              "#fb9f3a"
             ],
             [
              0.8888888888888888,
              "#fdca26"
             ],
             [
              1,
              "#f0f921"
             ]
            ],
            "type": "histogram2dcontour"
           }
          ],
          "mesh3d": [
           {
            "colorbar": {
             "outlinewidth": 0,
             "ticks": ""
            },
            "type": "mesh3d"
           }
          ],
          "parcoords": [
           {
            "line": {
             "colorbar": {
              "outlinewidth": 0,
              "ticks": ""
             }
            },
            "type": "parcoords"
           }
          ],
          "pie": [
           {
            "automargin": true,
            "type": "pie"
           }
          ],
          "scatter": [
           {
            "marker": {
             "colorbar": {
              "outlinewidth": 0,
              "ticks": ""
             }
            },
            "type": "scatter"
           }
          ],
          "scatter3d": [
           {
            "line": {
             "colorbar": {
              "outlinewidth": 0,
              "ticks": ""
             }
            },
            "marker": {
             "colorbar": {
              "outlinewidth": 0,
              "ticks": ""
             }
            },
            "type": "scatter3d"
           }
          ],
          "scattercarpet": [
           {
            "marker": {
             "colorbar": {
              "outlinewidth": 0,
              "ticks": ""
             }
            },
            "type": "scattercarpet"
           }
          ],
          "scattergeo": [
           {
            "marker": {
             "colorbar": {
              "outlinewidth": 0,
              "ticks": ""
             }
            },
            "type": "scattergeo"
           }
          ],
          "scattergl": [
           {
            "marker": {
             "colorbar": {
              "outlinewidth": 0,
              "ticks": ""
             }
            },
            "type": "scattergl"
           }
          ],
          "scattermapbox": [
           {
            "marker": {
             "colorbar": {
              "outlinewidth": 0,
              "ticks": ""
             }
            },
            "type": "scattermapbox"
           }
          ],
          "scatterpolar": [
           {
            "marker": {
             "colorbar": {
              "outlinewidth": 0,
              "ticks": ""
             }
            },
            "type": "scatterpolar"
           }
          ],
          "scatterpolargl": [
           {
            "marker": {
             "colorbar": {
              "outlinewidth": 0,
              "ticks": ""
             }
            },
            "type": "scatterpolargl"
           }
          ],
          "scatterternary": [
           {
            "marker": {
             "colorbar": {
              "outlinewidth": 0,
              "ticks": ""
             }
            },
            "type": "scatterternary"
           }
          ],
          "surface": [
           {
            "colorbar": {
             "outlinewidth": 0,
             "ticks": ""
            },
            "colorscale": [
             [
              0,
              "#0d0887"
             ],
             [
              0.1111111111111111,
              "#46039f"
             ],
             [
              0.2222222222222222,
              "#7201a8"
             ],
             [
              0.3333333333333333,
              "#9c179e"
             ],
             [
              0.4444444444444444,
              "#bd3786"
             ],
             [
              0.5555555555555556,
              "#d8576b"
             ],
             [
              0.6666666666666666,
              "#ed7953"
             ],
             [
              0.7777777777777778,
              "#fb9f3a"
             ],
             [
              0.8888888888888888,
              "#fdca26"
             ],
             [
              1,
              "#f0f921"
             ]
            ],
            "type": "surface"
           }
          ],
          "table": [
           {
            "cells": {
             "fill": {
              "color": "#EBF0F8"
             },
             "line": {
              "color": "white"
             }
            },
            "header": {
             "fill": {
              "color": "#C8D4E3"
             },
             "line": {
              "color": "white"
             }
            },
            "type": "table"
           }
          ]
         },
         "layout": {
          "annotationdefaults": {
           "arrowcolor": "#2a3f5f",
           "arrowhead": 0,
           "arrowwidth": 1
          },
          "autotypenumbers": "strict",
          "coloraxis": {
           "colorbar": {
            "outlinewidth": 0,
            "ticks": ""
           }
          },
          "colorscale": {
           "diverging": [
            [
             0,
             "#8e0152"
            ],
            [
             0.1,
             "#c51b7d"
            ],
            [
             0.2,
             "#de77ae"
            ],
            [
             0.3,
             "#f1b6da"
            ],
            [
             0.4,
             "#fde0ef"
            ],
            [
             0.5,
             "#f7f7f7"
            ],
            [
             0.6,
             "#e6f5d0"
            ],
            [
             0.7,
             "#b8e186"
            ],
            [
             0.8,
             "#7fbc41"
            ],
            [
             0.9,
             "#4d9221"
            ],
            [
             1,
             "#276419"
            ]
           ],
           "sequential": [
            [
             0,
             "#0d0887"
            ],
            [
             0.1111111111111111,
             "#46039f"
            ],
            [
             0.2222222222222222,
             "#7201a8"
            ],
            [
             0.3333333333333333,
             "#9c179e"
            ],
            [
             0.4444444444444444,
             "#bd3786"
            ],
            [
             0.5555555555555556,
             "#d8576b"
            ],
            [
             0.6666666666666666,
             "#ed7953"
            ],
            [
             0.7777777777777778,
             "#fb9f3a"
            ],
            [
             0.8888888888888888,
             "#fdca26"
            ],
            [
             1,
             "#f0f921"
            ]
           ],
           "sequentialminus": [
            [
             0,
             "#0d0887"
            ],
            [
             0.1111111111111111,
             "#46039f"
            ],
            [
             0.2222222222222222,
             "#7201a8"
            ],
            [
             0.3333333333333333,
             "#9c179e"
            ],
            [
             0.4444444444444444,
             "#bd3786"
            ],
            [
             0.5555555555555556,
             "#d8576b"
            ],
            [
             0.6666666666666666,
             "#ed7953"
            ],
            [
             0.7777777777777778,
             "#fb9f3a"
            ],
            [
             0.8888888888888888,
             "#fdca26"
            ],
            [
             1,
             "#f0f921"
            ]
           ]
          },
          "colorway": [
           "#636efa",
           "#EF553B",
           "#00cc96",
           "#ab63fa",
           "#FFA15A",
           "#19d3f3",
           "#FF6692",
           "#B6E880",
           "#FF97FF",
           "#FECB52"
          ],
          "font": {
           "color": "#2a3f5f"
          },
          "geo": {
           "bgcolor": "white",
           "lakecolor": "white",
           "landcolor": "#E5ECF6",
           "showlakes": true,
           "showland": true,
           "subunitcolor": "white"
          },
          "hoverlabel": {
           "align": "left"
          },
          "hovermode": "closest",
          "mapbox": {
           "style": "light"
          },
          "paper_bgcolor": "white",
          "plot_bgcolor": "#E5ECF6",
          "polar": {
           "angularaxis": {
            "gridcolor": "white",
            "linecolor": "white",
            "ticks": ""
           },
           "bgcolor": "#E5ECF6",
           "radialaxis": {
            "gridcolor": "white",
            "linecolor": "white",
            "ticks": ""
           }
          },
          "scene": {
           "xaxis": {
            "backgroundcolor": "#E5ECF6",
            "gridcolor": "white",
            "gridwidth": 2,
            "linecolor": "white",
            "showbackground": true,
            "ticks": "",
            "zerolinecolor": "white"
           },
           "yaxis": {
            "backgroundcolor": "#E5ECF6",
            "gridcolor": "white",
            "gridwidth": 2,
            "linecolor": "white",
            "showbackground": true,
            "ticks": "",
            "zerolinecolor": "white"
           },
           "zaxis": {
            "backgroundcolor": "#E5ECF6",
            "gridcolor": "white",
            "gridwidth": 2,
            "linecolor": "white",
            "showbackground": true,
            "ticks": "",
            "zerolinecolor": "white"
           }
          },
          "shapedefaults": {
           "line": {
            "color": "#2a3f5f"
           }
          },
          "ternary": {
           "aaxis": {
            "gridcolor": "white",
            "linecolor": "white",
            "ticks": ""
           },
           "baxis": {
            "gridcolor": "white",
            "linecolor": "white",
            "ticks": ""
           },
           "bgcolor": "#E5ECF6",
           "caxis": {
            "gridcolor": "white",
            "linecolor": "white",
            "ticks": ""
           }
          },
          "title": {
           "x": 0.05
          },
          "xaxis": {
           "automargin": true,
           "gridcolor": "white",
           "linecolor": "white",
           "ticks": "",
           "title": {
            "standoff": 15
           },
           "zerolinecolor": "white",
           "zerolinewidth": 2
          },
          "yaxis": {
           "automargin": true,
           "gridcolor": "white",
           "linecolor": "white",
           "ticks": "",
           "title": {
            "standoff": 15
           },
           "zerolinecolor": "white",
           "zerolinewidth": 2
          }
         }
        },
        "title": {
         "font": {
          "color": "#4D5663"
         }
        },
        "xaxis": {
         "gridcolor": "#E1E5ED",
         "showgrid": true,
         "tickfont": {
          "color": "#4D5663"
         },
         "title": {
          "font": {
           "color": "#4D5663"
          },
          "text": ""
         },
         "zerolinecolor": "#E1E5ED"
        },
        "yaxis": {
         "gridcolor": "#E1E5ED",
         "showgrid": true,
         "tickfont": {
          "color": "#4D5663"
         },
         "title": {
          "font": {
           "color": "#4D5663"
          },
          "text": ""
         },
         "zerolinecolor": "#E1E5ED"
        }
       }
      },
      "text/html": [
       "<div>                            <div id=\"b235f763-2aec-4d84-b213-8c1101c32877\" class=\"plotly-graph-div\" style=\"height:525px; width:100%;\"></div>            <script type=\"text/javascript\">                require([\"plotly\"], function(Plotly) {                    window.PLOTLYENV=window.PLOTLYENV || {};\n",
       "                    window.PLOTLYENV.BASE_URL='https://plot.ly';                                    if (document.getElementById(\"b235f763-2aec-4d84-b213-8c1101c32877\")) {                    Plotly.newPlot(                        \"b235f763-2aec-4d84-b213-8c1101c32877\",                        [{\"marker\": {\"color\": [\"rgb(165,0,38)\", \"rgb(215,48,39)\", \"rgb(244,109,67)\", \"rgb(253,174,97)\", \"rgb(254,224,144)\", \"rgb(255,255,191)\", \"rgb(224,243,248)\", \"rgb(171,217,233)\", \"rgb(116,173,209)\", \"rgb(69,117,180)\", \"rgb(49,54,149)\"], \"line\": {\"width\": 1.3}, \"size\": [64, 62, 28, 97, 27, 53, 54, 86, 66, 59, 43, 62, 39, 61, 57, 24, 53, 54, 74, 44, 64, 29, 50, 32, 82, 12, 101, 42, 59, 65, 17, 56, 40, 77, 47, 44, 82, 57, 79, 50, 50, 31, 52, 91, 67, 45, 74, 58, 27, 72, 54, 20, 43, 44, 44, 30, 58, 63, 61, 49, 56, 22, 12, 31, 39, 65, 32, 29, 28, 34, 33, 45, 36, 42, 17, 51, 35, 40, 15, 73, 17, 31, 40, 47, 88, 87, 112, 75, 49, 39, 98, 35, 50, 77, 14, 62, 68, 38, 81, 86], \"symbol\": \"circle\"}, \"mode\": \"markers\", \"text\": \"\", \"type\": \"scatter\", \"x\": [0.20504070623313753, 0.6286778475688474, -1.1946960815376417, -1.3183627315384152, 0.7287269751944572, 0.8722269481098422, -0.13166269309223982, -1.9357840606631018, 0.4145336921882121, -0.6069916193966661, 0.390215883251644, -0.45734674356014016, 1.193349051418664, 1.235556532466609, 1.6291582358653538, 1.1395764553378547, -0.010775928268597778, 1.206843095845801, -0.9600146154713587, -0.966140199254339, 0.19169949104174405, -0.14918790595603876, 0.5686543373940673, -0.24045778518832012, 0.6366295721983622, 1.1522381506685453, 1.9336345364130645, 2.006996624653642, -0.023025978960075136, 0.18993942931543212, -1.4296539266874184, 0.43382004511192135, -0.7306127696972191, -0.05578944403470869, -0.08472001405877864, -0.1149714121493137, 0.7358612175856649, -0.6923771671588429, -0.25387934755682223, -2.0722680287624553, -0.5165814241979004, 1.6736494345930495, -0.5336323351896277, 1.4616808532371586, 1.2048074779808589, -1.2840849645974888, -0.17814633696158727, 1.0474906379523012, 0.38688412823874413, 0.5918234597806681, -1.3531856261517683, 0.24341156761558463, -0.7017222749850373, 0.6123500849073915, -0.8479136012893379, 1.531831449493807, -0.08902284414868179, -1.8178227460471446, -0.5109149743900608, -0.019596110540417384, -0.6983446018771495, 2.1094904333757407, -0.6311966451758331, -0.7047558807060837, 0.14788823265526901, 1.3716817074401486, 0.014617163284772135, -0.8243567459465074, 0.3123554784595387, 0.006117282091226412, -0.44574685438333156, 0.19146184772892774, -0.510564268279504, 0.8130753024382118, 2.3632960388245143, 2.116807945200409, -0.7750854668514382, 1.1030058690899103, -1.0730902732448744, -0.7826004688457083, -0.19255772560734755, -1.6458945809351144, -1.149219201933772, 0.06545680442591104, 1.2970608422251297, 0.3995935105107383, 1.0046285769041494, 2.6049159767101853, 0.2648980896996127, -1.5712641398967868, -0.7776854787695353, 0.21347068389058088, 0.20585723656867927, 1.9571203104075063, -0.6410346456022266, -0.9414275827775105, 1.2276831536344308, -0.007015283300855964, 0.23646616205819243, -1.2406348171165948], \"y\": [-0.5439617119205455, -0.5704148841714516, -1.07662655822544, -0.8474093020614032, -0.4040721263713018, -0.22032162653824705, 0.984810825036386, 0.6459982295599839, 0.9625977558237383, 0.32961616491736717, -0.6383325120225408, 1.7682720359532031, -0.7006348852403254, -0.2562716741210957, -1.2177123975522377, -0.16734060804219206, 0.43907261092386024, -0.18906110667888334, 1.1993281288587738, -0.20811431926451315, -1.0049310034719965, -0.22976703532601245, -0.13894060084069174, 1.2275994471410943, 1.342734485378966, 1.1665077733710503, -0.5434498879083448, -0.4092649210874944, 0.33338528689970426, 0.7670594173207315, 0.7872973798422225, -0.1606048434279647, 0.2843664711766602, 0.571068693668149, -3.086080376151923, -0.4849501045316944, 0.7980458181885236, 0.5868466116667443, -0.9166483893763678, -0.1704246184052833, 0.22117865067943315, -1.3201080068609135, 0.7568133206374094, 2.4676468487452357, -1.068703071956845, -0.6291258641268789, 1.163415410221566, -0.12339604673539196, 0.9367836611456651, -0.24948621721976244, -1.1576699893858196, 1.5757959197628753, 0.27451804126694296, -0.3405120090081654, 0.5495521734370964, 1.0455429042100273, -1.132207339071681, 1.2103819750274107, -0.6528387602045533, 0.06822891946103009, 0.10930141977857291, -1.1210045578232524, -0.37174364013106725, 0.8746799851128227, 0.01530574132809894, -1.5607767191556627, 0.3083227911857838, -1.8757128537357166, -0.05906016862387303, 0.6244298300094971, 0.03480897073112098, -0.8132032260998618, 0.40371608126509506, -0.5250713115573913, -0.3599740532761306, 0.6436866021813002, 0.10040758411756084, 1.106344944184813, -1.164546239406862, -0.6021822918337024, 0.24359876936141814, -0.2115220974504064, 0.9546210335566907, -0.7064555912566168, 0.8642221033273032, 0.876847424360984, 1.6238480437140206, 0.004990774537376512, -0.14310145325778864, 0.4816044490155595, -0.46065909217859663, -0.30586794082918434, 0.8313503097531753, 0.6402120611320695, 0.026544256531318044, 0.04778410984681494, -0.39801425662921003, 0.16233095530239772, 1.0638768169666544, 1.0008761898429492]}],                        {\"legend\": {\"bgcolor\": \"#F5F6F9\", \"font\": {\"color\": \"#4D5663\"}}, \"paper_bgcolor\": \"#F5F6F9\", \"plot_bgcolor\": \"#F5F6F9\", \"template\": {\"data\": {\"bar\": [{\"error_x\": {\"color\": \"#2a3f5f\"}, \"error_y\": {\"color\": \"#2a3f5f\"}, \"marker\": {\"line\": {\"color\": \"#E5ECF6\", \"width\": 0.5}}, \"type\": \"bar\"}], \"barpolar\": [{\"marker\": {\"line\": {\"color\": \"#E5ECF6\", \"width\": 0.5}}, \"type\": \"barpolar\"}], \"carpet\": [{\"aaxis\": {\"endlinecolor\": \"#2a3f5f\", \"gridcolor\": \"white\", \"linecolor\": \"white\", \"minorgridcolor\": \"white\", \"startlinecolor\": \"#2a3f5f\"}, \"baxis\": {\"endlinecolor\": \"#2a3f5f\", \"gridcolor\": \"white\", \"linecolor\": \"white\", \"minorgridcolor\": \"white\", \"startlinecolor\": \"#2a3f5f\"}, \"type\": \"carpet\"}], \"choropleth\": [{\"colorbar\": {\"outlinewidth\": 0, \"ticks\": \"\"}, \"type\": \"choropleth\"}], \"contour\": [{\"colorbar\": {\"outlinewidth\": 0, \"ticks\": \"\"}, \"colorscale\": [[0.0, \"#0d0887\"], [0.1111111111111111, \"#46039f\"], [0.2222222222222222, \"#7201a8\"], [0.3333333333333333, \"#9c179e\"], [0.4444444444444444, \"#bd3786\"], [0.5555555555555556, \"#d8576b\"], [0.6666666666666666, \"#ed7953\"], [0.7777777777777778, \"#fb9f3a\"], [0.8888888888888888, \"#fdca26\"], [1.0, \"#f0f921\"]], \"type\": \"contour\"}], \"contourcarpet\": [{\"colorbar\": {\"outlinewidth\": 0, \"ticks\": \"\"}, \"type\": \"contourcarpet\"}], \"heatmap\": [{\"colorbar\": {\"outlinewidth\": 0, \"ticks\": \"\"}, \"colorscale\": [[0.0, \"#0d0887\"], [0.1111111111111111, \"#46039f\"], [0.2222222222222222, \"#7201a8\"], [0.3333333333333333, \"#9c179e\"], [0.4444444444444444, \"#bd3786\"], [0.5555555555555556, \"#d8576b\"], [0.6666666666666666, \"#ed7953\"], [0.7777777777777778, \"#fb9f3a\"], [0.8888888888888888, \"#fdca26\"], [1.0, \"#f0f921\"]], \"type\": \"heatmap\"}], \"heatmapgl\": [{\"colorbar\": {\"outlinewidth\": 0, \"ticks\": \"\"}, \"colorscale\": [[0.0, \"#0d0887\"], [0.1111111111111111, \"#46039f\"], [0.2222222222222222, \"#7201a8\"], [0.3333333333333333, \"#9c179e\"], [0.4444444444444444, \"#bd3786\"], [0.5555555555555556, \"#d8576b\"], [0.6666666666666666, \"#ed7953\"], [0.7777777777777778, \"#fb9f3a\"], [0.8888888888888888, \"#fdca26\"], [1.0, \"#f0f921\"]], \"type\": \"heatmapgl\"}], \"histogram\": [{\"marker\": {\"colorbar\": {\"outlinewidth\": 0, \"ticks\": \"\"}}, \"type\": \"histogram\"}], \"histogram2d\": [{\"colorbar\": {\"outlinewidth\": 0, \"ticks\": \"\"}, \"colorscale\": [[0.0, \"#0d0887\"], [0.1111111111111111, \"#46039f\"], [0.2222222222222222, \"#7201a8\"], [0.3333333333333333, \"#9c179e\"], [0.4444444444444444, \"#bd3786\"], [0.5555555555555556, \"#d8576b\"], [0.6666666666666666, \"#ed7953\"], [0.7777777777777778, \"#fb9f3a\"], [0.8888888888888888, \"#fdca26\"], [1.0, \"#f0f921\"]], \"type\": \"histogram2d\"}], \"histogram2dcontour\": [{\"colorbar\": {\"outlinewidth\": 0, \"ticks\": \"\"}, \"colorscale\": [[0.0, \"#0d0887\"], [0.1111111111111111, \"#46039f\"], [0.2222222222222222, \"#7201a8\"], [0.3333333333333333, \"#9c179e\"], [0.4444444444444444, \"#bd3786\"], [0.5555555555555556, \"#d8576b\"], [0.6666666666666666, \"#ed7953\"], [0.7777777777777778, \"#fb9f3a\"], [0.8888888888888888, \"#fdca26\"], [1.0, \"#f0f921\"]], \"type\": \"histogram2dcontour\"}], \"mesh3d\": [{\"colorbar\": {\"outlinewidth\": 0, \"ticks\": \"\"}, \"type\": \"mesh3d\"}], \"parcoords\": [{\"line\": {\"colorbar\": {\"outlinewidth\": 0, \"ticks\": \"\"}}, \"type\": \"parcoords\"}], \"pie\": [{\"automargin\": true, \"type\": \"pie\"}], \"scatter\": [{\"marker\": {\"colorbar\": {\"outlinewidth\": 0, \"ticks\": \"\"}}, \"type\": \"scatter\"}], \"scatter3d\": [{\"line\": {\"colorbar\": {\"outlinewidth\": 0, \"ticks\": \"\"}}, \"marker\": {\"colorbar\": {\"outlinewidth\": 0, \"ticks\": \"\"}}, \"type\": \"scatter3d\"}], \"scattercarpet\": [{\"marker\": {\"colorbar\": {\"outlinewidth\": 0, \"ticks\": \"\"}}, \"type\": \"scattercarpet\"}], \"scattergeo\": [{\"marker\": {\"colorbar\": {\"outlinewidth\": 0, \"ticks\": \"\"}}, \"type\": \"scattergeo\"}], \"scattergl\": [{\"marker\": {\"colorbar\": {\"outlinewidth\": 0, \"ticks\": \"\"}}, \"type\": \"scattergl\"}], \"scattermapbox\": [{\"marker\": {\"colorbar\": {\"outlinewidth\": 0, \"ticks\": \"\"}}, \"type\": \"scattermapbox\"}], \"scatterpolar\": [{\"marker\": {\"colorbar\": {\"outlinewidth\": 0, \"ticks\": \"\"}}, \"type\": \"scatterpolar\"}], \"scatterpolargl\": [{\"marker\": {\"colorbar\": {\"outlinewidth\": 0, \"ticks\": \"\"}}, \"type\": \"scatterpolargl\"}], \"scatterternary\": [{\"marker\": {\"colorbar\": {\"outlinewidth\": 0, \"ticks\": \"\"}}, \"type\": \"scatterternary\"}], \"surface\": [{\"colorbar\": {\"outlinewidth\": 0, \"ticks\": \"\"}, \"colorscale\": [[0.0, \"#0d0887\"], [0.1111111111111111, \"#46039f\"], [0.2222222222222222, \"#7201a8\"], [0.3333333333333333, \"#9c179e\"], [0.4444444444444444, \"#bd3786\"], [0.5555555555555556, \"#d8576b\"], [0.6666666666666666, \"#ed7953\"], [0.7777777777777778, \"#fb9f3a\"], [0.8888888888888888, \"#fdca26\"], [1.0, \"#f0f921\"]], \"type\": \"surface\"}], \"table\": [{\"cells\": {\"fill\": {\"color\": \"#EBF0F8\"}, \"line\": {\"color\": \"white\"}}, \"header\": {\"fill\": {\"color\": \"#C8D4E3\"}, \"line\": {\"color\": \"white\"}}, \"type\": \"table\"}]}, \"layout\": {\"annotationdefaults\": {\"arrowcolor\": \"#2a3f5f\", \"arrowhead\": 0, \"arrowwidth\": 1}, \"autotypenumbers\": \"strict\", \"coloraxis\": {\"colorbar\": {\"outlinewidth\": 0, \"ticks\": \"\"}}, \"colorscale\": {\"diverging\": [[0, \"#8e0152\"], [0.1, \"#c51b7d\"], [0.2, \"#de77ae\"], [0.3, \"#f1b6da\"], [0.4, \"#fde0ef\"], [0.5, \"#f7f7f7\"], [0.6, \"#e6f5d0\"], [0.7, \"#b8e186\"], [0.8, \"#7fbc41\"], [0.9, \"#4d9221\"], [1, \"#276419\"]], \"sequential\": [[0.0, \"#0d0887\"], [0.1111111111111111, \"#46039f\"], [0.2222222222222222, \"#7201a8\"], [0.3333333333333333, \"#9c179e\"], [0.4444444444444444, \"#bd3786\"], [0.5555555555555556, \"#d8576b\"], [0.6666666666666666, \"#ed7953\"], [0.7777777777777778, \"#fb9f3a\"], [0.8888888888888888, \"#fdca26\"], [1.0, \"#f0f921\"]], \"sequentialminus\": [[0.0, \"#0d0887\"], [0.1111111111111111, \"#46039f\"], [0.2222222222222222, \"#7201a8\"], [0.3333333333333333, \"#9c179e\"], [0.4444444444444444, \"#bd3786\"], [0.5555555555555556, \"#d8576b\"], [0.6666666666666666, \"#ed7953\"], [0.7777777777777778, \"#fb9f3a\"], [0.8888888888888888, \"#fdca26\"], [1.0, \"#f0f921\"]]}, \"colorway\": [\"#636efa\", \"#EF553B\", \"#00cc96\", \"#ab63fa\", \"#FFA15A\", \"#19d3f3\", \"#FF6692\", \"#B6E880\", \"#FF97FF\", \"#FECB52\"], \"font\": {\"color\": \"#2a3f5f\"}, \"geo\": {\"bgcolor\": \"white\", \"lakecolor\": \"white\", \"landcolor\": \"#E5ECF6\", \"showlakes\": true, \"showland\": true, \"subunitcolor\": \"white\"}, \"hoverlabel\": {\"align\": \"left\"}, \"hovermode\": \"closest\", \"mapbox\": {\"style\": \"light\"}, \"paper_bgcolor\": \"white\", \"plot_bgcolor\": \"#E5ECF6\", \"polar\": {\"angularaxis\": {\"gridcolor\": \"white\", \"linecolor\": \"white\", \"ticks\": \"\"}, \"bgcolor\": \"#E5ECF6\", \"radialaxis\": {\"gridcolor\": \"white\", \"linecolor\": \"white\", \"ticks\": \"\"}}, \"scene\": {\"xaxis\": {\"backgroundcolor\": \"#E5ECF6\", \"gridcolor\": \"white\", \"gridwidth\": 2, \"linecolor\": \"white\", \"showbackground\": true, \"ticks\": \"\", \"zerolinecolor\": \"white\"}, \"yaxis\": {\"backgroundcolor\": \"#E5ECF6\", \"gridcolor\": \"white\", \"gridwidth\": 2, \"linecolor\": \"white\", \"showbackground\": true, \"ticks\": \"\", \"zerolinecolor\": \"white\"}, \"zaxis\": {\"backgroundcolor\": \"#E5ECF6\", \"gridcolor\": \"white\", \"gridwidth\": 2, \"linecolor\": \"white\", \"showbackground\": true, \"ticks\": \"\", \"zerolinecolor\": \"white\"}}, \"shapedefaults\": {\"line\": {\"color\": \"#2a3f5f\"}}, \"ternary\": {\"aaxis\": {\"gridcolor\": \"white\", \"linecolor\": \"white\", \"ticks\": \"\"}, \"baxis\": {\"gridcolor\": \"white\", \"linecolor\": \"white\", \"ticks\": \"\"}, \"bgcolor\": \"#E5ECF6\", \"caxis\": {\"gridcolor\": \"white\", \"linecolor\": \"white\", \"ticks\": \"\"}}, \"title\": {\"x\": 0.05}, \"xaxis\": {\"automargin\": true, \"gridcolor\": \"white\", \"linecolor\": \"white\", \"ticks\": \"\", \"title\": {\"standoff\": 15}, \"zerolinecolor\": \"white\", \"zerolinewidth\": 2}, \"yaxis\": {\"automargin\": true, \"gridcolor\": \"white\", \"linecolor\": \"white\", \"ticks\": \"\", \"title\": {\"standoff\": 15}, \"zerolinecolor\": \"white\", \"zerolinewidth\": 2}}}, \"title\": {\"font\": {\"color\": \"#4D5663\"}}, \"xaxis\": {\"gridcolor\": \"#E1E5ED\", \"showgrid\": true, \"tickfont\": {\"color\": \"#4D5663\"}, \"title\": {\"font\": {\"color\": \"#4D5663\"}, \"text\": \"\"}, \"zerolinecolor\": \"#E1E5ED\"}, \"yaxis\": {\"gridcolor\": \"#E1E5ED\", \"showgrid\": true, \"tickfont\": {\"color\": \"#4D5663\"}, \"title\": {\"font\": {\"color\": \"#4D5663\"}, \"text\": \"\"}, \"zerolinecolor\": \"#E1E5ED\"}},                        {\"showLink\": true, \"linkText\": \"Export to plot.ly\", \"plotlyServerURL\": \"https://plot.ly\", \"responsive\": true}                    ).then(function(){\n",
       "                            \n",
       "var gd = document.getElementById('b235f763-2aec-4d84-b213-8c1101c32877');\n",
       "var x = new MutationObserver(function (mutations, observer) {{\n",
       "        var display = window.getComputedStyle(gd).display;\n",
       "        if (!display || display === 'none') {{\n",
       "            console.log([gd, 'removed!']);\n",
       "            Plotly.purge(gd);\n",
       "            observer.disconnect();\n",
       "        }}\n",
       "}});\n",
       "\n",
       "// Listen for the removal of the full notebook cells\n",
       "var notebookContainer = gd.closest('#notebook-container');\n",
       "if (notebookContainer) {{\n",
       "    x.observe(notebookContainer, {childList: true});\n",
       "}}\n",
       "\n",
       "// Listen for the clearing of the current output cell\n",
       "var outputEl = gd.closest('.output');\n",
       "if (outputEl) {{\n",
       "    x.observe(outputEl, {childList: true});\n",
       "}}\n",
       "\n",
       "                        })                };                });            </script>        </div>"
      ]
     },
     "metadata": {},
     "output_type": "display_data"
    }
   ],
   "source": [
    "df.iplot(kind='bubble',x='A',y='B',size='C',colorscale='rdylbu')"
   ]
  },
  {
   "cell_type": "code",
   "execution_count": 46,
   "metadata": {},
   "outputs": [
    {
     "data": {
      "application/vnd.plotly.v1+json": {
       "config": {
        "linkText": "Export to plot.ly",
        "plotlyServerURL": "https://plot.ly",
        "showLink": true
       },
       "data": [
        {
         "histfunc": "count",
         "histnorm": "",
         "marker": {
          "color": "rgba(255, 153, 51, 1.0)",
          "line": {
           "color": "#4D5663",
           "width": 1.3
          }
         },
         "name": "A",
         "nbinsx": 10,
         "opacity": 0.8,
         "orientation": "v",
         "type": "histogram",
         "x": [
          0.20504070623313753,
          0.6286778475688474,
          -1.1946960815376417,
          -1.3183627315384152,
          0.7287269751944572,
          0.8722269481098422,
          -0.13166269309223982,
          -1.9357840606631018,
          0.4145336921882121,
          -0.6069916193966661,
          0.390215883251644,
          -0.45734674356014016,
          1.193349051418664,
          1.235556532466609,
          1.6291582358653538,
          1.1395764553378547,
          -0.010775928268597778,
          1.206843095845801,
          -0.9600146154713587,
          -0.966140199254339,
          0.19169949104174405,
          -0.14918790595603876,
          0.5686543373940673,
          -0.24045778518832012,
          0.6366295721983622,
          1.1522381506685453,
          1.9336345364130645,
          2.006996624653642,
          -0.023025978960075136,
          0.18993942931543212,
          -1.4296539266874184,
          0.43382004511192135,
          -0.7306127696972191,
          -0.05578944403470869,
          -0.08472001405877864,
          -0.1149714121493137,
          0.7358612175856649,
          -0.6923771671588429,
          -0.25387934755682223,
          -2.0722680287624553,
          -0.5165814241979004,
          1.6736494345930495,
          -0.5336323351896277,
          1.4616808532371586,
          1.2048074779808589,
          -1.2840849645974888,
          -0.17814633696158727,
          1.0474906379523012,
          0.38688412823874413,
          0.5918234597806681,
          -1.3531856261517683,
          0.24341156761558463,
          -0.7017222749850373,
          0.6123500849073915,
          -0.8479136012893379,
          1.531831449493807,
          -0.08902284414868179,
          -1.8178227460471446,
          -0.5109149743900608,
          -0.019596110540417384,
          -0.6983446018771495,
          2.1094904333757407,
          -0.6311966451758331,
          -0.7047558807060837,
          0.14788823265526901,
          1.3716817074401486,
          0.014617163284772135,
          -0.8243567459465074,
          0.3123554784595387,
          0.006117282091226412,
          -0.44574685438333156,
          0.19146184772892774,
          -0.510564268279504,
          0.8130753024382118,
          2.3632960388245143,
          2.116807945200409,
          -0.7750854668514382,
          1.1030058690899103,
          -1.0730902732448744,
          -0.7826004688457083,
          -0.19255772560734755,
          -1.6458945809351144,
          -1.149219201933772,
          0.06545680442591104,
          1.2970608422251297,
          0.3995935105107383,
          1.0046285769041494,
          2.6049159767101853,
          0.2648980896996127,
          -1.5712641398967868,
          -0.7776854787695353,
          0.21347068389058088,
          0.20585723656867927,
          1.9571203104075063,
          -0.6410346456022266,
          -0.9414275827775105,
          1.2276831536344308,
          -0.007015283300855964,
          0.23646616205819243,
          -1.2406348171165948
         ],
         "xaxis": "x",
         "yaxis": "y"
        },
        {
         "line": {
          "color": "rgba(128, 128, 128, 1.0)",
          "dash": "solid",
          "shape": "linear",
          "width": 1.3
         },
         "marker": {
          "size": 2,
          "symbol": "circle"
         },
         "mode": "markers",
         "name": "A",
         "text": "",
         "type": "scatter",
         "x": [
          -0.5439617119205455,
          -0.5704148841714516,
          -1.07662655822544,
          -0.8474093020614032,
          -0.4040721263713018,
          -0.22032162653824705,
          0.984810825036386,
          0.6459982295599839,
          0.9625977558237383,
          0.32961616491736717,
          -0.6383325120225408,
          1.7682720359532031,
          -0.7006348852403254,
          -0.2562716741210957,
          -1.2177123975522377,
          -0.16734060804219206,
          0.43907261092386024,
          -0.18906110667888334,
          1.1993281288587738,
          -0.20811431926451315,
          -1.0049310034719965,
          -0.22976703532601245,
          -0.13894060084069174,
          1.2275994471410943,
          1.342734485378966,
          1.1665077733710503,
          -0.5434498879083448,
          -0.4092649210874944,
          0.33338528689970426,
          0.7670594173207315,
          0.7872973798422225,
          -0.1606048434279647,
          0.2843664711766602,
          0.571068693668149,
          -3.086080376151923,
          -0.4849501045316944,
          0.7980458181885236,
          0.5868466116667443,
          -0.9166483893763678,
          -0.1704246184052833,
          0.22117865067943315,
          -1.3201080068609135,
          0.7568133206374094,
          2.4676468487452357,
          -1.068703071956845,
          -0.6291258641268789,
          1.163415410221566,
          -0.12339604673539196,
          0.9367836611456651,
          -0.24948621721976244,
          -1.1576699893858196,
          1.5757959197628753,
          0.27451804126694296,
          -0.3405120090081654,
          0.5495521734370964,
          1.0455429042100273,
          -1.132207339071681,
          1.2103819750274107,
          -0.6528387602045533,
          0.06822891946103009,
          0.10930141977857291,
          -1.1210045578232524,
          -0.37174364013106725,
          0.8746799851128227,
          0.01530574132809894,
          -1.5607767191556627,
          0.3083227911857838,
          -1.8757128537357166,
          -0.05906016862387303,
          0.6244298300094971,
          0.03480897073112098,
          -0.8132032260998618,
          0.40371608126509506,
          -0.5250713115573913,
          -0.3599740532761306,
          0.6436866021813002,
          0.10040758411756084,
          1.106344944184813,
          -1.164546239406862,
          -0.6021822918337024,
          0.24359876936141814,
          -0.2115220974504064,
          0.9546210335566907,
          -0.7064555912566168,
          0.8642221033273032,
          0.876847424360984,
          1.6238480437140206,
          0.004990774537376512,
          -0.14310145325778864,
          0.4816044490155595,
          -0.46065909217859663,
          -0.30586794082918434,
          0.8313503097531753,
          0.6402120611320695,
          0.026544256531318044,
          0.04778410984681494,
          -0.39801425662921003,
          0.16233095530239772,
          1.0638768169666544,
          1.0008761898429492
         ],
         "xaxis": "x2",
         "y": [
          0.20504070623313753,
          0.6286778475688474,
          -1.1946960815376417,
          -1.3183627315384152,
          0.7287269751944572,
          0.8722269481098422,
          -0.13166269309223982,
          -1.9357840606631018,
          0.4145336921882121,
          -0.6069916193966661,
          0.390215883251644,
          -0.45734674356014016,
          1.193349051418664,
          1.235556532466609,
          1.6291582358653538,
          1.1395764553378547,
          -0.010775928268597778,
          1.206843095845801,
          -0.9600146154713587,
          -0.966140199254339,
          0.19169949104174405,
          -0.14918790595603876,
          0.5686543373940673,
          -0.24045778518832012,
          0.6366295721983622,
          1.1522381506685453,
          1.9336345364130645,
          2.006996624653642,
          -0.023025978960075136,
          0.18993942931543212,
          -1.4296539266874184,
          0.43382004511192135,
          -0.7306127696972191,
          -0.05578944403470869,
          -0.08472001405877864,
          -0.1149714121493137,
          0.7358612175856649,
          -0.6923771671588429,
          -0.25387934755682223,
          -2.0722680287624553,
          -0.5165814241979004,
          1.6736494345930495,
          -0.5336323351896277,
          1.4616808532371586,
          1.2048074779808589,
          -1.2840849645974888,
          -0.17814633696158727,
          1.0474906379523012,
          0.38688412823874413,
          0.5918234597806681,
          -1.3531856261517683,
          0.24341156761558463,
          -0.7017222749850373,
          0.6123500849073915,
          -0.8479136012893379,
          1.531831449493807,
          -0.08902284414868179,
          -1.8178227460471446,
          -0.5109149743900608,
          -0.019596110540417384,
          -0.6983446018771495,
          2.1094904333757407,
          -0.6311966451758331,
          -0.7047558807060837,
          0.14788823265526901,
          1.3716817074401486,
          0.014617163284772135,
          -0.8243567459465074,
          0.3123554784595387,
          0.006117282091226412,
          -0.44574685438333156,
          0.19146184772892774,
          -0.510564268279504,
          0.8130753024382118,
          2.3632960388245143,
          2.116807945200409,
          -0.7750854668514382,
          1.1030058690899103,
          -1.0730902732448744,
          -0.7826004688457083,
          -0.19255772560734755,
          -1.6458945809351144,
          -1.149219201933772,
          0.06545680442591104,
          1.2970608422251297,
          0.3995935105107383,
          1.0046285769041494,
          2.6049159767101853,
          0.2648980896996127,
          -1.5712641398967868,
          -0.7776854787695353,
          0.21347068389058088,
          0.20585723656867927,
          1.9571203104075063,
          -0.6410346456022266,
          -0.9414275827775105,
          1.2276831536344308,
          -0.007015283300855964,
          0.23646616205819243,
          -1.2406348171165948
         ],
         "yaxis": "y2"
        },
        {
         "line": {
          "color": "rgba(128, 128, 128, 1.0)",
          "dash": "solid",
          "shape": "linear",
          "width": 1.3
         },
         "marker": {
          "size": 2,
          "symbol": "circle"
         },
         "mode": "markers",
         "name": "A",
         "text": "",
         "type": "scatter",
         "x": [
          0.5094294545126851,
          0.40320328228473257,
          -1.0451455220014838,
          1.9383884793219393,
          -1.1195269397610115,
          0.007417765090974777,
          0.0588735676736962,
          1.4486831838718595,
          0.6033313242291225,
          0.2749585077448684,
          -0.3975965848616199,
          0.40541201204441385,
          -0.5847945348136395,
          0.38849113522084433,
          0.20767229072108584,
          -1.240562416080876,
          0.039246829653464245,
          0.05941618583021419,
          0.9176614790601991,
          -0.35483232024577305,
          0.5078628782915157,
          -1.011774105600354,
          -0.1293450085950983,
          -0.8864371882344126,
          1.2943503030919112,
          -1.7673069248291902,
          2.0831647828343014,
          -0.43477937286446927,
          0.28146523719576355,
          0.5578602649896739,
          -1.5223462483028096,
          0.16964987149178934,
          -0.5500685263793943,
          1.0823050503075229,
          -0.22916823192201077,
          -0.38720631890992024,
          1.2661048221662239,
          0.20356760909533797,
          1.1423280831376215,
          -0.10808753431465522,
          -0.12024122233150104,
          -0.944575975802936,
          -0.013307573927293813,
          1.6694692642302944,
          0.6112119874177188,
          -0.3309763442652584,
          0.9368716650440161,
          0.23094685359448738,
          -1.0888193741475867,
          0.8649949026507499,
          0.07248175704709951,
          -1.3911871480567173,
          -0.41413527856674165,
          -0.35613451014051517,
          -0.37769709607996543,
          -0.9822669872550984,
          0.23265688962331718,
          0.4355067814591196,
          0.37808281394776455,
          -0.1688005200796566,
          0.16687394542556236,
          -1.3344462629664737,
          -1.775767484056754,
          -0.9198368168608252,
          -0.5866416401409374,
          0.5244749909215155,
          -0.8994138871176848,
          -1.036763269847553,
          -1.0610017578895294,
          -0.8086138339601849,
          -0.8380710319350305,
          -0.3388386019672623,
          -0.7302582534654624,
          -0.43943545041860654,
          -1.5543587253904214,
          -0.06978371605542653,
          -0.7403279458242567,
          -0.5477329264089507,
          -1.610404914345042,
          0.9036656673695966,
          -1.5524492653440827,
          -0.9325989144303676,
          -0.52836395382083,
          -0.23539265838494322,
          1.5416965399965687,
          1.5150559132967094,
          2.5553518227156022,
          0.9790630596152051,
          -0.14307144844543698,
          -0.5722196595441038,
          1.9600896240619718,
          -0.7740683236724355,
          -0.10869666985505544,
          1.0662098641450146,
          -1.6464091275492188,
          0.416733138747755,
          0.6633543695896578,
          -0.6354714080392322,
          1.230985010227931,
          1.4409767652468544
         ],
         "xaxis": "x3",
         "y": [
          0.20504070623313753,
          0.6286778475688474,
          -1.1946960815376417,
          -1.3183627315384152,
          0.7287269751944572,
          0.8722269481098422,
          -0.13166269309223982,
          -1.9357840606631018,
          0.4145336921882121,
          -0.6069916193966661,
          0.390215883251644,
          -0.45734674356014016,
          1.193349051418664,
          1.235556532466609,
          1.6291582358653538,
          1.1395764553378547,
          -0.010775928268597778,
          1.206843095845801,
          -0.9600146154713587,
          -0.966140199254339,
          0.19169949104174405,
          -0.14918790595603876,
          0.5686543373940673,
          -0.24045778518832012,
          0.6366295721983622,
          1.1522381506685453,
          1.9336345364130645,
          2.006996624653642,
          -0.023025978960075136,
          0.18993942931543212,
          -1.4296539266874184,
          0.43382004511192135,
          -0.7306127696972191,
          -0.05578944403470869,
          -0.08472001405877864,
          -0.1149714121493137,
          0.7358612175856649,
          -0.6923771671588429,
          -0.25387934755682223,
          -2.0722680287624553,
          -0.5165814241979004,
          1.6736494345930495,
          -0.5336323351896277,
          1.4616808532371586,
          1.2048074779808589,
          -1.2840849645974888,
          -0.17814633696158727,
          1.0474906379523012,
          0.38688412823874413,
          0.5918234597806681,
          -1.3531856261517683,
          0.24341156761558463,
          -0.7017222749850373,
          0.6123500849073915,
          -0.8479136012893379,
          1.531831449493807,
          -0.08902284414868179,
          -1.8178227460471446,
          -0.5109149743900608,
          -0.019596110540417384,
          -0.6983446018771495,
          2.1094904333757407,
          -0.6311966451758331,
          -0.7047558807060837,
          0.14788823265526901,
          1.3716817074401486,
          0.014617163284772135,
          -0.8243567459465074,
          0.3123554784595387,
          0.006117282091226412,
          -0.44574685438333156,
          0.19146184772892774,
          -0.510564268279504,
          0.8130753024382118,
          2.3632960388245143,
          2.116807945200409,
          -0.7750854668514382,
          1.1030058690899103,
          -1.0730902732448744,
          -0.7826004688457083,
          -0.19255772560734755,
          -1.6458945809351144,
          -1.149219201933772,
          0.06545680442591104,
          1.2970608422251297,
          0.3995935105107383,
          1.0046285769041494,
          2.6049159767101853,
          0.2648980896996127,
          -1.5712641398967868,
          -0.7776854787695353,
          0.21347068389058088,
          0.20585723656867927,
          1.9571203104075063,
          -0.6410346456022266,
          -0.9414275827775105,
          1.2276831536344308,
          -0.007015283300855964,
          0.23646616205819243,
          -1.2406348171165948
         ],
         "yaxis": "y3"
        },
        {
         "line": {
          "color": "rgba(128, 128, 128, 1.0)",
          "dash": "solid",
          "shape": "linear",
          "width": 1.3
         },
         "marker": {
          "size": 2,
          "symbol": "circle"
         },
         "mode": "markers",
         "name": "A",
         "text": "",
         "type": "scatter",
         "x": [
          0.11067701414348054,
          1.8995322956998326,
          -0.2458432394320379,
          0.5377429220354326,
          0.20514092068761897,
          -0.4514663180793488,
          -0.6610065764537998,
          -0.5946763351837933,
          1.5876322949070458,
          -0.20862401058171826,
          0.10297891792163133,
          -0.25281160262026575,
          1.3249904488014876,
          -1.0303524275737623,
          0.05413589918587864,
          0.6514994639942188,
          0.1315770990395898,
          -1.7768578130784867,
          1.2519732468659475,
          2.107801720963238,
          0.6909674782691879,
          -1.0064250239305974,
          -1.9594991074877397,
          0.44156126672412044,
          1.1459098863063357,
          -1.5562322953726708,
          0.4622382708065796,
          -1.6076151437644994,
          0.023769686156858132,
          0.04733610495736649,
          -1.533445919972331,
          -0.8636934273154958,
          0.08484793871903562,
          -0.6801334318750999,
          0.7680009659696321,
          -0.16175210609800422,
          0.09195939858467177,
          -0.5517240236977996,
          -1.4050124530469743,
          0.41037660662342135,
          -1.0066194398330242,
          -0.16519075830470628,
          0.3455839201011954,
          -0.49648252813217847,
          0.9893381965952037,
          0.9202340449177022,
          -1.609088491013758,
          -1.1661792742014891,
          1.5009193644049066,
          -1.8421251199077862,
          0.846903260879262,
          1.3998383755050907,
          -1.5369592967746193,
          -1.156017381011761,
          -1.1948483504514387,
          1.2453651729889548,
          0.4901348950358889,
          -0.6864804088570704,
          -1.7547217593509994,
          1.46449983691902,
          -1.3709815046087923,
          0.4945937199231569,
          0.0038774672810933148,
          -0.7643456565843362,
          1.3711319057385063,
          2.075066204594895,
          -0.702239330904679,
          0.32041187038173796,
          0.19623915605715292,
          -1.2142958877036816,
          -0.4414355039880014,
          0.3580277034823271,
          0.6039910831803721,
          -0.47911249354579066,
          0.8971916936619772,
          2.503852279487358,
          1.4154279334783628,
          1.2899348808855755,
          0.8726548065933118,
          -0.6015714943498202,
          -0.7296042880756058,
          0.847591722445797,
          0.2452950717858223,
          0.3652032510685531,
          -0.989541015638144,
          -1.0671712267739,
          -1.6527190854808906,
          0.2626568109183234,
          0.34444372031564013,
          0.2280548616843117,
          0.40378538957093785,
          1.1827357707762025,
          1.4498233707993315,
          -0.36968230700697885,
          0.833747934653397,
          0.8522650270956144,
          -0.4270004960378985,
          1.6668665772393771,
          -0.2928581882164255,
          -0.026452986206500582
         ],
         "xaxis": "x4",
         "y": [
          0.20504070623313753,
          0.6286778475688474,
          -1.1946960815376417,
          -1.3183627315384152,
          0.7287269751944572,
          0.8722269481098422,
          -0.13166269309223982,
          -1.9357840606631018,
          0.4145336921882121,
          -0.6069916193966661,
          0.390215883251644,
          -0.45734674356014016,
          1.193349051418664,
          1.235556532466609,
          1.6291582358653538,
          1.1395764553378547,
          -0.010775928268597778,
          1.206843095845801,
          -0.9600146154713587,
          -0.966140199254339,
          0.19169949104174405,
          -0.14918790595603876,
          0.5686543373940673,
          -0.24045778518832012,
          0.6366295721983622,
          1.1522381506685453,
          1.9336345364130645,
          2.006996624653642,
          -0.023025978960075136,
          0.18993942931543212,
          -1.4296539266874184,
          0.43382004511192135,
          -0.7306127696972191,
          -0.05578944403470869,
          -0.08472001405877864,
          -0.1149714121493137,
          0.7358612175856649,
          -0.6923771671588429,
          -0.25387934755682223,
          -2.0722680287624553,
          -0.5165814241979004,
          1.6736494345930495,
          -0.5336323351896277,
          1.4616808532371586,
          1.2048074779808589,
          -1.2840849645974888,
          -0.17814633696158727,
          1.0474906379523012,
          0.38688412823874413,
          0.5918234597806681,
          -1.3531856261517683,
          0.24341156761558463,
          -0.7017222749850373,
          0.6123500849073915,
          -0.8479136012893379,
          1.531831449493807,
          -0.08902284414868179,
          -1.8178227460471446,
          -0.5109149743900608,
          -0.019596110540417384,
          -0.6983446018771495,
          2.1094904333757407,
          -0.6311966451758331,
          -0.7047558807060837,
          0.14788823265526901,
          1.3716817074401486,
          0.014617163284772135,
          -0.8243567459465074,
          0.3123554784595387,
          0.006117282091226412,
          -0.44574685438333156,
          0.19146184772892774,
          -0.510564268279504,
          0.8130753024382118,
          2.3632960388245143,
          2.116807945200409,
          -0.7750854668514382,
          1.1030058690899103,
          -1.0730902732448744,
          -0.7826004688457083,
          -0.19255772560734755,
          -1.6458945809351144,
          -1.149219201933772,
          0.06545680442591104,
          1.2970608422251297,
          0.3995935105107383,
          1.0046285769041494,
          2.6049159767101853,
          0.2648980896996127,
          -1.5712641398967868,
          -0.7776854787695353,
          0.21347068389058088,
          0.20585723656867927,
          1.9571203104075063,
          -0.6410346456022266,
          -0.9414275827775105,
          1.2276831536344308,
          -0.007015283300855964,
          0.23646616205819243,
          -1.2406348171165948
         ],
         "yaxis": "y4"
        },
        {
         "line": {
          "color": "rgba(128, 128, 128, 1.0)",
          "dash": "solid",
          "shape": "linear",
          "width": 1.3
         },
         "marker": {
          "size": 2,
          "symbol": "circle"
         },
         "mode": "markers",
         "name": "B",
         "text": "",
         "type": "scatter",
         "x": [
          0.20504070623313753,
          0.6286778475688474,
          -1.1946960815376417,
          -1.3183627315384152,
          0.7287269751944572,
          0.8722269481098422,
          -0.13166269309223982,
          -1.9357840606631018,
          0.4145336921882121,
          -0.6069916193966661,
          0.390215883251644,
          -0.45734674356014016,
          1.193349051418664,
          1.235556532466609,
          1.6291582358653538,
          1.1395764553378547,
          -0.010775928268597778,
          1.206843095845801,
          -0.9600146154713587,
          -0.966140199254339,
          0.19169949104174405,
          -0.14918790595603876,
          0.5686543373940673,
          -0.24045778518832012,
          0.6366295721983622,
          1.1522381506685453,
          1.9336345364130645,
          2.006996624653642,
          -0.023025978960075136,
          0.18993942931543212,
          -1.4296539266874184,
          0.43382004511192135,
          -0.7306127696972191,
          -0.05578944403470869,
          -0.08472001405877864,
          -0.1149714121493137,
          0.7358612175856649,
          -0.6923771671588429,
          -0.25387934755682223,
          -2.0722680287624553,
          -0.5165814241979004,
          1.6736494345930495,
          -0.5336323351896277,
          1.4616808532371586,
          1.2048074779808589,
          -1.2840849645974888,
          -0.17814633696158727,
          1.0474906379523012,
          0.38688412823874413,
          0.5918234597806681,
          -1.3531856261517683,
          0.24341156761558463,
          -0.7017222749850373,
          0.6123500849073915,
          -0.8479136012893379,
          1.531831449493807,
          -0.08902284414868179,
          -1.8178227460471446,
          -0.5109149743900608,
          -0.019596110540417384,
          -0.6983446018771495,
          2.1094904333757407,
          -0.6311966451758331,
          -0.7047558807060837,
          0.14788823265526901,
          1.3716817074401486,
          0.014617163284772135,
          -0.8243567459465074,
          0.3123554784595387,
          0.006117282091226412,
          -0.44574685438333156,
          0.19146184772892774,
          -0.510564268279504,
          0.8130753024382118,
          2.3632960388245143,
          2.116807945200409,
          -0.7750854668514382,
          1.1030058690899103,
          -1.0730902732448744,
          -0.7826004688457083,
          -0.19255772560734755,
          -1.6458945809351144,
          -1.149219201933772,
          0.06545680442591104,
          1.2970608422251297,
          0.3995935105107383,
          1.0046285769041494,
          2.6049159767101853,
          0.2648980896996127,
          -1.5712641398967868,
          -0.7776854787695353,
          0.21347068389058088,
          0.20585723656867927,
          1.9571203104075063,
          -0.6410346456022266,
          -0.9414275827775105,
          1.2276831536344308,
          -0.007015283300855964,
          0.23646616205819243,
          -1.2406348171165948
         ],
         "xaxis": "x5",
         "y": [
          -0.5439617119205455,
          -0.5704148841714516,
          -1.07662655822544,
          -0.8474093020614032,
          -0.4040721263713018,
          -0.22032162653824705,
          0.984810825036386,
          0.6459982295599839,
          0.9625977558237383,
          0.32961616491736717,
          -0.6383325120225408,
          1.7682720359532031,
          -0.7006348852403254,
          -0.2562716741210957,
          -1.2177123975522377,
          -0.16734060804219206,
          0.43907261092386024,
          -0.18906110667888334,
          1.1993281288587738,
          -0.20811431926451315,
          -1.0049310034719965,
          -0.22976703532601245,
          -0.13894060084069174,
          1.2275994471410943,
          1.342734485378966,
          1.1665077733710503,
          -0.5434498879083448,
          -0.4092649210874944,
          0.33338528689970426,
          0.7670594173207315,
          0.7872973798422225,
          -0.1606048434279647,
          0.2843664711766602,
          0.571068693668149,
          -3.086080376151923,
          -0.4849501045316944,
          0.7980458181885236,
          0.5868466116667443,
          -0.9166483893763678,
          -0.1704246184052833,
          0.22117865067943315,
          -1.3201080068609135,
          0.7568133206374094,
          2.4676468487452357,
          -1.068703071956845,
          -0.6291258641268789,
          1.163415410221566,
          -0.12339604673539196,
          0.9367836611456651,
          -0.24948621721976244,
          -1.1576699893858196,
          1.5757959197628753,
          0.27451804126694296,
          -0.3405120090081654,
          0.5495521734370964,
          1.0455429042100273,
          -1.132207339071681,
          1.2103819750274107,
          -0.6528387602045533,
          0.06822891946103009,
          0.10930141977857291,
          -1.1210045578232524,
          -0.37174364013106725,
          0.8746799851128227,
          0.01530574132809894,
          -1.5607767191556627,
          0.3083227911857838,
          -1.8757128537357166,
          -0.05906016862387303,
          0.6244298300094971,
          0.03480897073112098,
          -0.8132032260998618,
          0.40371608126509506,
          -0.5250713115573913,
          -0.3599740532761306,
          0.6436866021813002,
          0.10040758411756084,
          1.106344944184813,
          -1.164546239406862,
          -0.6021822918337024,
          0.24359876936141814,
          -0.2115220974504064,
          0.9546210335566907,
          -0.7064555912566168,
          0.8642221033273032,
          0.876847424360984,
          1.6238480437140206,
          0.004990774537376512,
          -0.14310145325778864,
          0.4816044490155595,
          -0.46065909217859663,
          -0.30586794082918434,
          0.8313503097531753,
          0.6402120611320695,
          0.026544256531318044,
          0.04778410984681494,
          -0.39801425662921003,
          0.16233095530239772,
          1.0638768169666544,
          1.0008761898429492
         ],
         "yaxis": "y5"
        },
        {
         "histfunc": "count",
         "histnorm": "",
         "marker": {
          "color": "rgba(55, 128, 191, 1.0)",
          "line": {
           "color": "#4D5663",
           "width": 1.3
          }
         },
         "name": "B",
         "nbinsx": 10,
         "opacity": 0.8,
         "orientation": "v",
         "type": "histogram",
         "x": [
          -0.5439617119205455,
          -0.5704148841714516,
          -1.07662655822544,
          -0.8474093020614032,
          -0.4040721263713018,
          -0.22032162653824705,
          0.984810825036386,
          0.6459982295599839,
          0.9625977558237383,
          0.32961616491736717,
          -0.6383325120225408,
          1.7682720359532031,
          -0.7006348852403254,
          -0.2562716741210957,
          -1.2177123975522377,
          -0.16734060804219206,
          0.43907261092386024,
          -0.18906110667888334,
          1.1993281288587738,
          -0.20811431926451315,
          -1.0049310034719965,
          -0.22976703532601245,
          -0.13894060084069174,
          1.2275994471410943,
          1.342734485378966,
          1.1665077733710503,
          -0.5434498879083448,
          -0.4092649210874944,
          0.33338528689970426,
          0.7670594173207315,
          0.7872973798422225,
          -0.1606048434279647,
          0.2843664711766602,
          0.571068693668149,
          -3.086080376151923,
          -0.4849501045316944,
          0.7980458181885236,
          0.5868466116667443,
          -0.9166483893763678,
          -0.1704246184052833,
          0.22117865067943315,
          -1.3201080068609135,
          0.7568133206374094,
          2.4676468487452357,
          -1.068703071956845,
          -0.6291258641268789,
          1.163415410221566,
          -0.12339604673539196,
          0.9367836611456651,
          -0.24948621721976244,
          -1.1576699893858196,
          1.5757959197628753,
          0.27451804126694296,
          -0.3405120090081654,
          0.5495521734370964,
          1.0455429042100273,
          -1.132207339071681,
          1.2103819750274107,
          -0.6528387602045533,
          0.06822891946103009,
          0.10930141977857291,
          -1.1210045578232524,
          -0.37174364013106725,
          0.8746799851128227,
          0.01530574132809894,
          -1.5607767191556627,
          0.3083227911857838,
          -1.8757128537357166,
          -0.05906016862387303,
          0.6244298300094971,
          0.03480897073112098,
          -0.8132032260998618,
          0.40371608126509506,
          -0.5250713115573913,
          -0.3599740532761306,
          0.6436866021813002,
          0.10040758411756084,
          1.106344944184813,
          -1.164546239406862,
          -0.6021822918337024,
          0.24359876936141814,
          -0.2115220974504064,
          0.9546210335566907,
          -0.7064555912566168,
          0.8642221033273032,
          0.876847424360984,
          1.6238480437140206,
          0.004990774537376512,
          -0.14310145325778864,
          0.4816044490155595,
          -0.46065909217859663,
          -0.30586794082918434,
          0.8313503097531753,
          0.6402120611320695,
          0.026544256531318044,
          0.04778410984681494,
          -0.39801425662921003,
          0.16233095530239772,
          1.0638768169666544,
          1.0008761898429492
         ],
         "xaxis": "x6",
         "yaxis": "y6"
        },
        {
         "line": {
          "color": "rgba(128, 128, 128, 1.0)",
          "dash": "solid",
          "shape": "linear",
          "width": 1.3
         },
         "marker": {
          "size": 2,
          "symbol": "circle"
         },
         "mode": "markers",
         "name": "B",
         "text": "",
         "type": "scatter",
         "x": [
          0.5094294545126851,
          0.40320328228473257,
          -1.0451455220014838,
          1.9383884793219393,
          -1.1195269397610115,
          0.007417765090974777,
          0.0588735676736962,
          1.4486831838718595,
          0.6033313242291225,
          0.2749585077448684,
          -0.3975965848616199,
          0.40541201204441385,
          -0.5847945348136395,
          0.38849113522084433,
          0.20767229072108584,
          -1.240562416080876,
          0.039246829653464245,
          0.05941618583021419,
          0.9176614790601991,
          -0.35483232024577305,
          0.5078628782915157,
          -1.011774105600354,
          -0.1293450085950983,
          -0.8864371882344126,
          1.2943503030919112,
          -1.7673069248291902,
          2.0831647828343014,
          -0.43477937286446927,
          0.28146523719576355,
          0.5578602649896739,
          -1.5223462483028096,
          0.16964987149178934,
          -0.5500685263793943,
          1.0823050503075229,
          -0.22916823192201077,
          -0.38720631890992024,
          1.2661048221662239,
          0.20356760909533797,
          1.1423280831376215,
          -0.10808753431465522,
          -0.12024122233150104,
          -0.944575975802936,
          -0.013307573927293813,
          1.6694692642302944,
          0.6112119874177188,
          -0.3309763442652584,
          0.9368716650440161,
          0.23094685359448738,
          -1.0888193741475867,
          0.8649949026507499,
          0.07248175704709951,
          -1.3911871480567173,
          -0.41413527856674165,
          -0.35613451014051517,
          -0.37769709607996543,
          -0.9822669872550984,
          0.23265688962331718,
          0.4355067814591196,
          0.37808281394776455,
          -0.1688005200796566,
          0.16687394542556236,
          -1.3344462629664737,
          -1.775767484056754,
          -0.9198368168608252,
          -0.5866416401409374,
          0.5244749909215155,
          -0.8994138871176848,
          -1.036763269847553,
          -1.0610017578895294,
          -0.8086138339601849,
          -0.8380710319350305,
          -0.3388386019672623,
          -0.7302582534654624,
          -0.43943545041860654,
          -1.5543587253904214,
          -0.06978371605542653,
          -0.7403279458242567,
          -0.5477329264089507,
          -1.610404914345042,
          0.9036656673695966,
          -1.5524492653440827,
          -0.9325989144303676,
          -0.52836395382083,
          -0.23539265838494322,
          1.5416965399965687,
          1.5150559132967094,
          2.5553518227156022,
          0.9790630596152051,
          -0.14307144844543698,
          -0.5722196595441038,
          1.9600896240619718,
          -0.7740683236724355,
          -0.10869666985505544,
          1.0662098641450146,
          -1.6464091275492188,
          0.416733138747755,
          0.6633543695896578,
          -0.6354714080392322,
          1.230985010227931,
          1.4409767652468544
         ],
         "xaxis": "x7",
         "y": [
          -0.5439617119205455,
          -0.5704148841714516,
          -1.07662655822544,
          -0.8474093020614032,
          -0.4040721263713018,
          -0.22032162653824705,
          0.984810825036386,
          0.6459982295599839,
          0.9625977558237383,
          0.32961616491736717,
          -0.6383325120225408,
          1.7682720359532031,
          -0.7006348852403254,
          -0.2562716741210957,
          -1.2177123975522377,
          -0.16734060804219206,
          0.43907261092386024,
          -0.18906110667888334,
          1.1993281288587738,
          -0.20811431926451315,
          -1.0049310034719965,
          -0.22976703532601245,
          -0.13894060084069174,
          1.2275994471410943,
          1.342734485378966,
          1.1665077733710503,
          -0.5434498879083448,
          -0.4092649210874944,
          0.33338528689970426,
          0.7670594173207315,
          0.7872973798422225,
          -0.1606048434279647,
          0.2843664711766602,
          0.571068693668149,
          -3.086080376151923,
          -0.4849501045316944,
          0.7980458181885236,
          0.5868466116667443,
          -0.9166483893763678,
          -0.1704246184052833,
          0.22117865067943315,
          -1.3201080068609135,
          0.7568133206374094,
          2.4676468487452357,
          -1.068703071956845,
          -0.6291258641268789,
          1.163415410221566,
          -0.12339604673539196,
          0.9367836611456651,
          -0.24948621721976244,
          -1.1576699893858196,
          1.5757959197628753,
          0.27451804126694296,
          -0.3405120090081654,
          0.5495521734370964,
          1.0455429042100273,
          -1.132207339071681,
          1.2103819750274107,
          -0.6528387602045533,
          0.06822891946103009,
          0.10930141977857291,
          -1.1210045578232524,
          -0.37174364013106725,
          0.8746799851128227,
          0.01530574132809894,
          -1.5607767191556627,
          0.3083227911857838,
          -1.8757128537357166,
          -0.05906016862387303,
          0.6244298300094971,
          0.03480897073112098,
          -0.8132032260998618,
          0.40371608126509506,
          -0.5250713115573913,
          -0.3599740532761306,
          0.6436866021813002,
          0.10040758411756084,
          1.106344944184813,
          -1.164546239406862,
          -0.6021822918337024,
          0.24359876936141814,
          -0.2115220974504064,
          0.9546210335566907,
          -0.7064555912566168,
          0.8642221033273032,
          0.876847424360984,
          1.6238480437140206,
          0.004990774537376512,
          -0.14310145325778864,
          0.4816044490155595,
          -0.46065909217859663,
          -0.30586794082918434,
          0.8313503097531753,
          0.6402120611320695,
          0.026544256531318044,
          0.04778410984681494,
          -0.39801425662921003,
          0.16233095530239772,
          1.0638768169666544,
          1.0008761898429492
         ],
         "yaxis": "y7"
        },
        {
         "line": {
          "color": "rgba(128, 128, 128, 1.0)",
          "dash": "solid",
          "shape": "linear",
          "width": 1.3
         },
         "marker": {
          "size": 2,
          "symbol": "circle"
         },
         "mode": "markers",
         "name": "B",
         "text": "",
         "type": "scatter",
         "x": [
          0.11067701414348054,
          1.8995322956998326,
          -0.2458432394320379,
          0.5377429220354326,
          0.20514092068761897,
          -0.4514663180793488,
          -0.6610065764537998,
          -0.5946763351837933,
          1.5876322949070458,
          -0.20862401058171826,
          0.10297891792163133,
          -0.25281160262026575,
          1.3249904488014876,
          -1.0303524275737623,
          0.05413589918587864,
          0.6514994639942188,
          0.1315770990395898,
          -1.7768578130784867,
          1.2519732468659475,
          2.107801720963238,
          0.6909674782691879,
          -1.0064250239305974,
          -1.9594991074877397,
          0.44156126672412044,
          1.1459098863063357,
          -1.5562322953726708,
          0.4622382708065796,
          -1.6076151437644994,
          0.023769686156858132,
          0.04733610495736649,
          -1.533445919972331,
          -0.8636934273154958,
          0.08484793871903562,
          -0.6801334318750999,
          0.7680009659696321,
          -0.16175210609800422,
          0.09195939858467177,
          -0.5517240236977996,
          -1.4050124530469743,
          0.41037660662342135,
          -1.0066194398330242,
          -0.16519075830470628,
          0.3455839201011954,
          -0.49648252813217847,
          0.9893381965952037,
          0.9202340449177022,
          -1.609088491013758,
          -1.1661792742014891,
          1.5009193644049066,
          -1.8421251199077862,
          0.846903260879262,
          1.3998383755050907,
          -1.5369592967746193,
          -1.156017381011761,
          -1.1948483504514387,
          1.2453651729889548,
          0.4901348950358889,
          -0.6864804088570704,
          -1.7547217593509994,
          1.46449983691902,
          -1.3709815046087923,
          0.4945937199231569,
          0.0038774672810933148,
          -0.7643456565843362,
          1.3711319057385063,
          2.075066204594895,
          -0.702239330904679,
          0.32041187038173796,
          0.19623915605715292,
          -1.2142958877036816,
          -0.4414355039880014,
          0.3580277034823271,
          0.6039910831803721,
          -0.47911249354579066,
          0.8971916936619772,
          2.503852279487358,
          1.4154279334783628,
          1.2899348808855755,
          0.8726548065933118,
          -0.6015714943498202,
          -0.7296042880756058,
          0.847591722445797,
          0.2452950717858223,
          0.3652032510685531,
          -0.989541015638144,
          -1.0671712267739,
          -1.6527190854808906,
          0.2626568109183234,
          0.34444372031564013,
          0.2280548616843117,
          0.40378538957093785,
          1.1827357707762025,
          1.4498233707993315,
          -0.36968230700697885,
          0.833747934653397,
          0.8522650270956144,
          -0.4270004960378985,
          1.6668665772393771,
          -0.2928581882164255,
          -0.026452986206500582
         ],
         "xaxis": "x8",
         "y": [
          -0.5439617119205455,
          -0.5704148841714516,
          -1.07662655822544,
          -0.8474093020614032,
          -0.4040721263713018,
          -0.22032162653824705,
          0.984810825036386,
          0.6459982295599839,
          0.9625977558237383,
          0.32961616491736717,
          -0.6383325120225408,
          1.7682720359532031,
          -0.7006348852403254,
          -0.2562716741210957,
          -1.2177123975522377,
          -0.16734060804219206,
          0.43907261092386024,
          -0.18906110667888334,
          1.1993281288587738,
          -0.20811431926451315,
          -1.0049310034719965,
          -0.22976703532601245,
          -0.13894060084069174,
          1.2275994471410943,
          1.342734485378966,
          1.1665077733710503,
          -0.5434498879083448,
          -0.4092649210874944,
          0.33338528689970426,
          0.7670594173207315,
          0.7872973798422225,
          -0.1606048434279647,
          0.2843664711766602,
          0.571068693668149,
          -3.086080376151923,
          -0.4849501045316944,
          0.7980458181885236,
          0.5868466116667443,
          -0.9166483893763678,
          -0.1704246184052833,
          0.22117865067943315,
          -1.3201080068609135,
          0.7568133206374094,
          2.4676468487452357,
          -1.068703071956845,
          -0.6291258641268789,
          1.163415410221566,
          -0.12339604673539196,
          0.9367836611456651,
          -0.24948621721976244,
          -1.1576699893858196,
          1.5757959197628753,
          0.27451804126694296,
          -0.3405120090081654,
          0.5495521734370964,
          1.0455429042100273,
          -1.132207339071681,
          1.2103819750274107,
          -0.6528387602045533,
          0.06822891946103009,
          0.10930141977857291,
          -1.1210045578232524,
          -0.37174364013106725,
          0.8746799851128227,
          0.01530574132809894,
          -1.5607767191556627,
          0.3083227911857838,
          -1.8757128537357166,
          -0.05906016862387303,
          0.6244298300094971,
          0.03480897073112098,
          -0.8132032260998618,
          0.40371608126509506,
          -0.5250713115573913,
          -0.3599740532761306,
          0.6436866021813002,
          0.10040758411756084,
          1.106344944184813,
          -1.164546239406862,
          -0.6021822918337024,
          0.24359876936141814,
          -0.2115220974504064,
          0.9546210335566907,
          -0.7064555912566168,
          0.8642221033273032,
          0.876847424360984,
          1.6238480437140206,
          0.004990774537376512,
          -0.14310145325778864,
          0.4816044490155595,
          -0.46065909217859663,
          -0.30586794082918434,
          0.8313503097531753,
          0.6402120611320695,
          0.026544256531318044,
          0.04778410984681494,
          -0.39801425662921003,
          0.16233095530239772,
          1.0638768169666544,
          1.0008761898429492
         ],
         "yaxis": "y8"
        },
        {
         "line": {
          "color": "rgba(128, 128, 128, 1.0)",
          "dash": "solid",
          "shape": "linear",
          "width": 1.3
         },
         "marker": {
          "size": 2,
          "symbol": "circle"
         },
         "mode": "markers",
         "name": "C",
         "text": "",
         "type": "scatter",
         "x": [
          0.20504070623313753,
          0.6286778475688474,
          -1.1946960815376417,
          -1.3183627315384152,
          0.7287269751944572,
          0.8722269481098422,
          -0.13166269309223982,
          -1.9357840606631018,
          0.4145336921882121,
          -0.6069916193966661,
          0.390215883251644,
          -0.45734674356014016,
          1.193349051418664,
          1.235556532466609,
          1.6291582358653538,
          1.1395764553378547,
          -0.010775928268597778,
          1.206843095845801,
          -0.9600146154713587,
          -0.966140199254339,
          0.19169949104174405,
          -0.14918790595603876,
          0.5686543373940673,
          -0.24045778518832012,
          0.6366295721983622,
          1.1522381506685453,
          1.9336345364130645,
          2.006996624653642,
          -0.023025978960075136,
          0.18993942931543212,
          -1.4296539266874184,
          0.43382004511192135,
          -0.7306127696972191,
          -0.05578944403470869,
          -0.08472001405877864,
          -0.1149714121493137,
          0.7358612175856649,
          -0.6923771671588429,
          -0.25387934755682223,
          -2.0722680287624553,
          -0.5165814241979004,
          1.6736494345930495,
          -0.5336323351896277,
          1.4616808532371586,
          1.2048074779808589,
          -1.2840849645974888,
          -0.17814633696158727,
          1.0474906379523012,
          0.38688412823874413,
          0.5918234597806681,
          -1.3531856261517683,
          0.24341156761558463,
          -0.7017222749850373,
          0.6123500849073915,
          -0.8479136012893379,
          1.531831449493807,
          -0.08902284414868179,
          -1.8178227460471446,
          -0.5109149743900608,
          -0.019596110540417384,
          -0.6983446018771495,
          2.1094904333757407,
          -0.6311966451758331,
          -0.7047558807060837,
          0.14788823265526901,
          1.3716817074401486,
          0.014617163284772135,
          -0.8243567459465074,
          0.3123554784595387,
          0.006117282091226412,
          -0.44574685438333156,
          0.19146184772892774,
          -0.510564268279504,
          0.8130753024382118,
          2.3632960388245143,
          2.116807945200409,
          -0.7750854668514382,
          1.1030058690899103,
          -1.0730902732448744,
          -0.7826004688457083,
          -0.19255772560734755,
          -1.6458945809351144,
          -1.149219201933772,
          0.06545680442591104,
          1.2970608422251297,
          0.3995935105107383,
          1.0046285769041494,
          2.6049159767101853,
          0.2648980896996127,
          -1.5712641398967868,
          -0.7776854787695353,
          0.21347068389058088,
          0.20585723656867927,
          1.9571203104075063,
          -0.6410346456022266,
          -0.9414275827775105,
          1.2276831536344308,
          -0.007015283300855964,
          0.23646616205819243,
          -1.2406348171165948
         ],
         "xaxis": "x9",
         "y": [
          0.5094294545126851,
          0.40320328228473257,
          -1.0451455220014838,
          1.9383884793219393,
          -1.1195269397610115,
          0.007417765090974777,
          0.0588735676736962,
          1.4486831838718595,
          0.6033313242291225,
          0.2749585077448684,
          -0.3975965848616199,
          0.40541201204441385,
          -0.5847945348136395,
          0.38849113522084433,
          0.20767229072108584,
          -1.240562416080876,
          0.039246829653464245,
          0.05941618583021419,
          0.9176614790601991,
          -0.35483232024577305,
          0.5078628782915157,
          -1.011774105600354,
          -0.1293450085950983,
          -0.8864371882344126,
          1.2943503030919112,
          -1.7673069248291902,
          2.0831647828343014,
          -0.43477937286446927,
          0.28146523719576355,
          0.5578602649896739,
          -1.5223462483028096,
          0.16964987149178934,
          -0.5500685263793943,
          1.0823050503075229,
          -0.22916823192201077,
          -0.38720631890992024,
          1.2661048221662239,
          0.20356760909533797,
          1.1423280831376215,
          -0.10808753431465522,
          -0.12024122233150104,
          -0.944575975802936,
          -0.013307573927293813,
          1.6694692642302944,
          0.6112119874177188,
          -0.3309763442652584,
          0.9368716650440161,
          0.23094685359448738,
          -1.0888193741475867,
          0.8649949026507499,
          0.07248175704709951,
          -1.3911871480567173,
          -0.41413527856674165,
          -0.35613451014051517,
          -0.37769709607996543,
          -0.9822669872550984,
          0.23265688962331718,
          0.4355067814591196,
          0.37808281394776455,
          -0.1688005200796566,
          0.16687394542556236,
          -1.3344462629664737,
          -1.775767484056754,
          -0.9198368168608252,
          -0.5866416401409374,
          0.5244749909215155,
          -0.8994138871176848,
          -1.036763269847553,
          -1.0610017578895294,
          -0.8086138339601849,
          -0.8380710319350305,
          -0.3388386019672623,
          -0.7302582534654624,
          -0.43943545041860654,
          -1.5543587253904214,
          -0.06978371605542653,
          -0.7403279458242567,
          -0.5477329264089507,
          -1.610404914345042,
          0.9036656673695966,
          -1.5524492653440827,
          -0.9325989144303676,
          -0.52836395382083,
          -0.23539265838494322,
          1.5416965399965687,
          1.5150559132967094,
          2.5553518227156022,
          0.9790630596152051,
          -0.14307144844543698,
          -0.5722196595441038,
          1.9600896240619718,
          -0.7740683236724355,
          -0.10869666985505544,
          1.0662098641450146,
          -1.6464091275492188,
          0.416733138747755,
          0.6633543695896578,
          -0.6354714080392322,
          1.230985010227931,
          1.4409767652468544
         ],
         "yaxis": "y9"
        },
        {
         "line": {
          "color": "rgba(128, 128, 128, 1.0)",
          "dash": "solid",
          "shape": "linear",
          "width": 1.3
         },
         "marker": {
          "size": 2,
          "symbol": "circle"
         },
         "mode": "markers",
         "name": "C",
         "text": "",
         "type": "scatter",
         "x": [
          -0.5439617119205455,
          -0.5704148841714516,
          -1.07662655822544,
          -0.8474093020614032,
          -0.4040721263713018,
          -0.22032162653824705,
          0.984810825036386,
          0.6459982295599839,
          0.9625977558237383,
          0.32961616491736717,
          -0.6383325120225408,
          1.7682720359532031,
          -0.7006348852403254,
          -0.2562716741210957,
          -1.2177123975522377,
          -0.16734060804219206,
          0.43907261092386024,
          -0.18906110667888334,
          1.1993281288587738,
          -0.20811431926451315,
          -1.0049310034719965,
          -0.22976703532601245,
          -0.13894060084069174,
          1.2275994471410943,
          1.342734485378966,
          1.1665077733710503,
          -0.5434498879083448,
          -0.4092649210874944,
          0.33338528689970426,
          0.7670594173207315,
          0.7872973798422225,
          -0.1606048434279647,
          0.2843664711766602,
          0.571068693668149,
          -3.086080376151923,
          -0.4849501045316944,
          0.7980458181885236,
          0.5868466116667443,
          -0.9166483893763678,
          -0.1704246184052833,
          0.22117865067943315,
          -1.3201080068609135,
          0.7568133206374094,
          2.4676468487452357,
          -1.068703071956845,
          -0.6291258641268789,
          1.163415410221566,
          -0.12339604673539196,
          0.9367836611456651,
          -0.24948621721976244,
          -1.1576699893858196,
          1.5757959197628753,
          0.27451804126694296,
          -0.3405120090081654,
          0.5495521734370964,
          1.0455429042100273,
          -1.132207339071681,
          1.2103819750274107,
          -0.6528387602045533,
          0.06822891946103009,
          0.10930141977857291,
          -1.1210045578232524,
          -0.37174364013106725,
          0.8746799851128227,
          0.01530574132809894,
          -1.5607767191556627,
          0.3083227911857838,
          -1.8757128537357166,
          -0.05906016862387303,
          0.6244298300094971,
          0.03480897073112098,
          -0.8132032260998618,
          0.40371608126509506,
          -0.5250713115573913,
          -0.3599740532761306,
          0.6436866021813002,
          0.10040758411756084,
          1.106344944184813,
          -1.164546239406862,
          -0.6021822918337024,
          0.24359876936141814,
          -0.2115220974504064,
          0.9546210335566907,
          -0.7064555912566168,
          0.8642221033273032,
          0.876847424360984,
          1.6238480437140206,
          0.004990774537376512,
          -0.14310145325778864,
          0.4816044490155595,
          -0.46065909217859663,
          -0.30586794082918434,
          0.8313503097531753,
          0.6402120611320695,
          0.026544256531318044,
          0.04778410984681494,
          -0.39801425662921003,
          0.16233095530239772,
          1.0638768169666544,
          1.0008761898429492
         ],
         "xaxis": "x10",
         "y": [
          0.5094294545126851,
          0.40320328228473257,
          -1.0451455220014838,
          1.9383884793219393,
          -1.1195269397610115,
          0.007417765090974777,
          0.0588735676736962,
          1.4486831838718595,
          0.6033313242291225,
          0.2749585077448684,
          -0.3975965848616199,
          0.40541201204441385,
          -0.5847945348136395,
          0.38849113522084433,
          0.20767229072108584,
          -1.240562416080876,
          0.039246829653464245,
          0.05941618583021419,
          0.9176614790601991,
          -0.35483232024577305,
          0.5078628782915157,
          -1.011774105600354,
          -0.1293450085950983,
          -0.8864371882344126,
          1.2943503030919112,
          -1.7673069248291902,
          2.0831647828343014,
          -0.43477937286446927,
          0.28146523719576355,
          0.5578602649896739,
          -1.5223462483028096,
          0.16964987149178934,
          -0.5500685263793943,
          1.0823050503075229,
          -0.22916823192201077,
          -0.38720631890992024,
          1.2661048221662239,
          0.20356760909533797,
          1.1423280831376215,
          -0.10808753431465522,
          -0.12024122233150104,
          -0.944575975802936,
          -0.013307573927293813,
          1.6694692642302944,
          0.6112119874177188,
          -0.3309763442652584,
          0.9368716650440161,
          0.23094685359448738,
          -1.0888193741475867,
          0.8649949026507499,
          0.07248175704709951,
          -1.3911871480567173,
          -0.41413527856674165,
          -0.35613451014051517,
          -0.37769709607996543,
          -0.9822669872550984,
          0.23265688962331718,
          0.4355067814591196,
          0.37808281394776455,
          -0.1688005200796566,
          0.16687394542556236,
          -1.3344462629664737,
          -1.775767484056754,
          -0.9198368168608252,
          -0.5866416401409374,
          0.5244749909215155,
          -0.8994138871176848,
          -1.036763269847553,
          -1.0610017578895294,
          -0.8086138339601849,
          -0.8380710319350305,
          -0.3388386019672623,
          -0.7302582534654624,
          -0.43943545041860654,
          -1.5543587253904214,
          -0.06978371605542653,
          -0.7403279458242567,
          -0.5477329264089507,
          -1.610404914345042,
          0.9036656673695966,
          -1.5524492653440827,
          -0.9325989144303676,
          -0.52836395382083,
          -0.23539265838494322,
          1.5416965399965687,
          1.5150559132967094,
          2.5553518227156022,
          0.9790630596152051,
          -0.14307144844543698,
          -0.5722196595441038,
          1.9600896240619718,
          -0.7740683236724355,
          -0.10869666985505544,
          1.0662098641450146,
          -1.6464091275492188,
          0.416733138747755,
          0.6633543695896578,
          -0.6354714080392322,
          1.230985010227931,
          1.4409767652468544
         ],
         "yaxis": "y10"
        },
        {
         "histfunc": "count",
         "histnorm": "",
         "marker": {
          "color": "rgba(50, 171, 96, 1.0)",
          "line": {
           "color": "#4D5663",
           "width": 1.3
          }
         },
         "name": "C",
         "nbinsx": 10,
         "opacity": 0.8,
         "orientation": "v",
         "type": "histogram",
         "x": [
          0.5094294545126851,
          0.40320328228473257,
          -1.0451455220014838,
          1.9383884793219393,
          -1.1195269397610115,
          0.007417765090974777,
          0.0588735676736962,
          1.4486831838718595,
          0.6033313242291225,
          0.2749585077448684,
          -0.3975965848616199,
          0.40541201204441385,
          -0.5847945348136395,
          0.38849113522084433,
          0.20767229072108584,
          -1.240562416080876,
          0.039246829653464245,
          0.05941618583021419,
          0.9176614790601991,
          -0.35483232024577305,
          0.5078628782915157,
          -1.011774105600354,
          -0.1293450085950983,
          -0.8864371882344126,
          1.2943503030919112,
          -1.7673069248291902,
          2.0831647828343014,
          -0.43477937286446927,
          0.28146523719576355,
          0.5578602649896739,
          -1.5223462483028096,
          0.16964987149178934,
          -0.5500685263793943,
          1.0823050503075229,
          -0.22916823192201077,
          -0.38720631890992024,
          1.2661048221662239,
          0.20356760909533797,
          1.1423280831376215,
          -0.10808753431465522,
          -0.12024122233150104,
          -0.944575975802936,
          -0.013307573927293813,
          1.6694692642302944,
          0.6112119874177188,
          -0.3309763442652584,
          0.9368716650440161,
          0.23094685359448738,
          -1.0888193741475867,
          0.8649949026507499,
          0.07248175704709951,
          -1.3911871480567173,
          -0.41413527856674165,
          -0.35613451014051517,
          -0.37769709607996543,
          -0.9822669872550984,
          0.23265688962331718,
          0.4355067814591196,
          0.37808281394776455,
          -0.1688005200796566,
          0.16687394542556236,
          -1.3344462629664737,
          -1.775767484056754,
          -0.9198368168608252,
          -0.5866416401409374,
          0.5244749909215155,
          -0.8994138871176848,
          -1.036763269847553,
          -1.0610017578895294,
          -0.8086138339601849,
          -0.8380710319350305,
          -0.3388386019672623,
          -0.7302582534654624,
          -0.43943545041860654,
          -1.5543587253904214,
          -0.06978371605542653,
          -0.7403279458242567,
          -0.5477329264089507,
          -1.610404914345042,
          0.9036656673695966,
          -1.5524492653440827,
          -0.9325989144303676,
          -0.52836395382083,
          -0.23539265838494322,
          1.5416965399965687,
          1.5150559132967094,
          2.5553518227156022,
          0.9790630596152051,
          -0.14307144844543698,
          -0.5722196595441038,
          1.9600896240619718,
          -0.7740683236724355,
          -0.10869666985505544,
          1.0662098641450146,
          -1.6464091275492188,
          0.416733138747755,
          0.6633543695896578,
          -0.6354714080392322,
          1.230985010227931,
          1.4409767652468544
         ],
         "xaxis": "x11",
         "yaxis": "y11"
        },
        {
         "line": {
          "color": "rgba(128, 128, 128, 1.0)",
          "dash": "solid",
          "shape": "linear",
          "width": 1.3
         },
         "marker": {
          "size": 2,
          "symbol": "circle"
         },
         "mode": "markers",
         "name": "C",
         "text": "",
         "type": "scatter",
         "x": [
          0.11067701414348054,
          1.8995322956998326,
          -0.2458432394320379,
          0.5377429220354326,
          0.20514092068761897,
          -0.4514663180793488,
          -0.6610065764537998,
          -0.5946763351837933,
          1.5876322949070458,
          -0.20862401058171826,
          0.10297891792163133,
          -0.25281160262026575,
          1.3249904488014876,
          -1.0303524275737623,
          0.05413589918587864,
          0.6514994639942188,
          0.1315770990395898,
          -1.7768578130784867,
          1.2519732468659475,
          2.107801720963238,
          0.6909674782691879,
          -1.0064250239305974,
          -1.9594991074877397,
          0.44156126672412044,
          1.1459098863063357,
          -1.5562322953726708,
          0.4622382708065796,
          -1.6076151437644994,
          0.023769686156858132,
          0.04733610495736649,
          -1.533445919972331,
          -0.8636934273154958,
          0.08484793871903562,
          -0.6801334318750999,
          0.7680009659696321,
          -0.16175210609800422,
          0.09195939858467177,
          -0.5517240236977996,
          -1.4050124530469743,
          0.41037660662342135,
          -1.0066194398330242,
          -0.16519075830470628,
          0.3455839201011954,
          -0.49648252813217847,
          0.9893381965952037,
          0.9202340449177022,
          -1.609088491013758,
          -1.1661792742014891,
          1.5009193644049066,
          -1.8421251199077862,
          0.846903260879262,
          1.3998383755050907,
          -1.5369592967746193,
          -1.156017381011761,
          -1.1948483504514387,
          1.2453651729889548,
          0.4901348950358889,
          -0.6864804088570704,
          -1.7547217593509994,
          1.46449983691902,
          -1.3709815046087923,
          0.4945937199231569,
          0.0038774672810933148,
          -0.7643456565843362,
          1.3711319057385063,
          2.075066204594895,
          -0.702239330904679,
          0.32041187038173796,
          0.19623915605715292,
          -1.2142958877036816,
          -0.4414355039880014,
          0.3580277034823271,
          0.6039910831803721,
          -0.47911249354579066,
          0.8971916936619772,
          2.503852279487358,
          1.4154279334783628,
          1.2899348808855755,
          0.8726548065933118,
          -0.6015714943498202,
          -0.7296042880756058,
          0.847591722445797,
          0.2452950717858223,
          0.3652032510685531,
          -0.989541015638144,
          -1.0671712267739,
          -1.6527190854808906,
          0.2626568109183234,
          0.34444372031564013,
          0.2280548616843117,
          0.40378538957093785,
          1.1827357707762025,
          1.4498233707993315,
          -0.36968230700697885,
          0.833747934653397,
          0.8522650270956144,
          -0.4270004960378985,
          1.6668665772393771,
          -0.2928581882164255,
          -0.026452986206500582
         ],
         "xaxis": "x12",
         "y": [
          0.5094294545126851,
          0.40320328228473257,
          -1.0451455220014838,
          1.9383884793219393,
          -1.1195269397610115,
          0.007417765090974777,
          0.0588735676736962,
          1.4486831838718595,
          0.6033313242291225,
          0.2749585077448684,
          -0.3975965848616199,
          0.40541201204441385,
          -0.5847945348136395,
          0.38849113522084433,
          0.20767229072108584,
          -1.240562416080876,
          0.039246829653464245,
          0.05941618583021419,
          0.9176614790601991,
          -0.35483232024577305,
          0.5078628782915157,
          -1.011774105600354,
          -0.1293450085950983,
          -0.8864371882344126,
          1.2943503030919112,
          -1.7673069248291902,
          2.0831647828343014,
          -0.43477937286446927,
          0.28146523719576355,
          0.5578602649896739,
          -1.5223462483028096,
          0.16964987149178934,
          -0.5500685263793943,
          1.0823050503075229,
          -0.22916823192201077,
          -0.38720631890992024,
          1.2661048221662239,
          0.20356760909533797,
          1.1423280831376215,
          -0.10808753431465522,
          -0.12024122233150104,
          -0.944575975802936,
          -0.013307573927293813,
          1.6694692642302944,
          0.6112119874177188,
          -0.3309763442652584,
          0.9368716650440161,
          0.23094685359448738,
          -1.0888193741475867,
          0.8649949026507499,
          0.07248175704709951,
          -1.3911871480567173,
          -0.41413527856674165,
          -0.35613451014051517,
          -0.37769709607996543,
          -0.9822669872550984,
          0.23265688962331718,
          0.4355067814591196,
          0.37808281394776455,
          -0.1688005200796566,
          0.16687394542556236,
          -1.3344462629664737,
          -1.775767484056754,
          -0.9198368168608252,
          -0.5866416401409374,
          0.5244749909215155,
          -0.8994138871176848,
          -1.036763269847553,
          -1.0610017578895294,
          -0.8086138339601849,
          -0.8380710319350305,
          -0.3388386019672623,
          -0.7302582534654624,
          -0.43943545041860654,
          -1.5543587253904214,
          -0.06978371605542653,
          -0.7403279458242567,
          -0.5477329264089507,
          -1.610404914345042,
          0.9036656673695966,
          -1.5524492653440827,
          -0.9325989144303676,
          -0.52836395382083,
          -0.23539265838494322,
          1.5416965399965687,
          1.5150559132967094,
          2.5553518227156022,
          0.9790630596152051,
          -0.14307144844543698,
          -0.5722196595441038,
          1.9600896240619718,
          -0.7740683236724355,
          -0.10869666985505544,
          1.0662098641450146,
          -1.6464091275492188,
          0.416733138747755,
          0.6633543695896578,
          -0.6354714080392322,
          1.230985010227931,
          1.4409767652468544
         ],
         "yaxis": "y12"
        },
        {
         "line": {
          "color": "rgba(128, 128, 128, 1.0)",
          "dash": "solid",
          "shape": "linear",
          "width": 1.3
         },
         "marker": {
          "size": 2,
          "symbol": "circle"
         },
         "mode": "markers",
         "name": "D",
         "text": "",
         "type": "scatter",
         "x": [
          0.20504070623313753,
          0.6286778475688474,
          -1.1946960815376417,
          -1.3183627315384152,
          0.7287269751944572,
          0.8722269481098422,
          -0.13166269309223982,
          -1.9357840606631018,
          0.4145336921882121,
          -0.6069916193966661,
          0.390215883251644,
          -0.45734674356014016,
          1.193349051418664,
          1.235556532466609,
          1.6291582358653538,
          1.1395764553378547,
          -0.010775928268597778,
          1.206843095845801,
          -0.9600146154713587,
          -0.966140199254339,
          0.19169949104174405,
          -0.14918790595603876,
          0.5686543373940673,
          -0.24045778518832012,
          0.6366295721983622,
          1.1522381506685453,
          1.9336345364130645,
          2.006996624653642,
          -0.023025978960075136,
          0.18993942931543212,
          -1.4296539266874184,
          0.43382004511192135,
          -0.7306127696972191,
          -0.05578944403470869,
          -0.08472001405877864,
          -0.1149714121493137,
          0.7358612175856649,
          -0.6923771671588429,
          -0.25387934755682223,
          -2.0722680287624553,
          -0.5165814241979004,
          1.6736494345930495,
          -0.5336323351896277,
          1.4616808532371586,
          1.2048074779808589,
          -1.2840849645974888,
          -0.17814633696158727,
          1.0474906379523012,
          0.38688412823874413,
          0.5918234597806681,
          -1.3531856261517683,
          0.24341156761558463,
          -0.7017222749850373,
          0.6123500849073915,
          -0.8479136012893379,
          1.531831449493807,
          -0.08902284414868179,
          -1.8178227460471446,
          -0.5109149743900608,
          -0.019596110540417384,
          -0.6983446018771495,
          2.1094904333757407,
          -0.6311966451758331,
          -0.7047558807060837,
          0.14788823265526901,
          1.3716817074401486,
          0.014617163284772135,
          -0.8243567459465074,
          0.3123554784595387,
          0.006117282091226412,
          -0.44574685438333156,
          0.19146184772892774,
          -0.510564268279504,
          0.8130753024382118,
          2.3632960388245143,
          2.116807945200409,
          -0.7750854668514382,
          1.1030058690899103,
          -1.0730902732448744,
          -0.7826004688457083,
          -0.19255772560734755,
          -1.6458945809351144,
          -1.149219201933772,
          0.06545680442591104,
          1.2970608422251297,
          0.3995935105107383,
          1.0046285769041494,
          2.6049159767101853,
          0.2648980896996127,
          -1.5712641398967868,
          -0.7776854787695353,
          0.21347068389058088,
          0.20585723656867927,
          1.9571203104075063,
          -0.6410346456022266,
          -0.9414275827775105,
          1.2276831536344308,
          -0.007015283300855964,
          0.23646616205819243,
          -1.2406348171165948
         ],
         "xaxis": "x13",
         "y": [
          0.11067701414348054,
          1.8995322956998326,
          -0.2458432394320379,
          0.5377429220354326,
          0.20514092068761897,
          -0.4514663180793488,
          -0.6610065764537998,
          -0.5946763351837933,
          1.5876322949070458,
          -0.20862401058171826,
          0.10297891792163133,
          -0.25281160262026575,
          1.3249904488014876,
          -1.0303524275737623,
          0.05413589918587864,
          0.6514994639942188,
          0.1315770990395898,
          -1.7768578130784867,
          1.2519732468659475,
          2.107801720963238,
          0.6909674782691879,
          -1.0064250239305974,
          -1.9594991074877397,
          0.44156126672412044,
          1.1459098863063357,
          -1.5562322953726708,
          0.4622382708065796,
          -1.6076151437644994,
          0.023769686156858132,
          0.04733610495736649,
          -1.533445919972331,
          -0.8636934273154958,
          0.08484793871903562,
          -0.6801334318750999,
          0.7680009659696321,
          -0.16175210609800422,
          0.09195939858467177,
          -0.5517240236977996,
          -1.4050124530469743,
          0.41037660662342135,
          -1.0066194398330242,
          -0.16519075830470628,
          0.3455839201011954,
          -0.49648252813217847,
          0.9893381965952037,
          0.9202340449177022,
          -1.609088491013758,
          -1.1661792742014891,
          1.5009193644049066,
          -1.8421251199077862,
          0.846903260879262,
          1.3998383755050907,
          -1.5369592967746193,
          -1.156017381011761,
          -1.1948483504514387,
          1.2453651729889548,
          0.4901348950358889,
          -0.6864804088570704,
          -1.7547217593509994,
          1.46449983691902,
          -1.3709815046087923,
          0.4945937199231569,
          0.0038774672810933148,
          -0.7643456565843362,
          1.3711319057385063,
          2.075066204594895,
          -0.702239330904679,
          0.32041187038173796,
          0.19623915605715292,
          -1.2142958877036816,
          -0.4414355039880014,
          0.3580277034823271,
          0.6039910831803721,
          -0.47911249354579066,
          0.8971916936619772,
          2.503852279487358,
          1.4154279334783628,
          1.2899348808855755,
          0.8726548065933118,
          -0.6015714943498202,
          -0.7296042880756058,
          0.847591722445797,
          0.2452950717858223,
          0.3652032510685531,
          -0.989541015638144,
          -1.0671712267739,
          -1.6527190854808906,
          0.2626568109183234,
          0.34444372031564013,
          0.2280548616843117,
          0.40378538957093785,
          1.1827357707762025,
          1.4498233707993315,
          -0.36968230700697885,
          0.833747934653397,
          0.8522650270956144,
          -0.4270004960378985,
          1.6668665772393771,
          -0.2928581882164255,
          -0.026452986206500582
         ],
         "yaxis": "y13"
        },
        {
         "line": {
          "color": "rgba(128, 128, 128, 1.0)",
          "dash": "solid",
          "shape": "linear",
          "width": 1.3
         },
         "marker": {
          "size": 2,
          "symbol": "circle"
         },
         "mode": "markers",
         "name": "D",
         "text": "",
         "type": "scatter",
         "x": [
          -0.5439617119205455,
          -0.5704148841714516,
          -1.07662655822544,
          -0.8474093020614032,
          -0.4040721263713018,
          -0.22032162653824705,
          0.984810825036386,
          0.6459982295599839,
          0.9625977558237383,
          0.32961616491736717,
          -0.6383325120225408,
          1.7682720359532031,
          -0.7006348852403254,
          -0.2562716741210957,
          -1.2177123975522377,
          -0.16734060804219206,
          0.43907261092386024,
          -0.18906110667888334,
          1.1993281288587738,
          -0.20811431926451315,
          -1.0049310034719965,
          -0.22976703532601245,
          -0.13894060084069174,
          1.2275994471410943,
          1.342734485378966,
          1.1665077733710503,
          -0.5434498879083448,
          -0.4092649210874944,
          0.33338528689970426,
          0.7670594173207315,
          0.7872973798422225,
          -0.1606048434279647,
          0.2843664711766602,
          0.571068693668149,
          -3.086080376151923,
          -0.4849501045316944,
          0.7980458181885236,
          0.5868466116667443,
          -0.9166483893763678,
          -0.1704246184052833,
          0.22117865067943315,
          -1.3201080068609135,
          0.7568133206374094,
          2.4676468487452357,
          -1.068703071956845,
          -0.6291258641268789,
          1.163415410221566,
          -0.12339604673539196,
          0.9367836611456651,
          -0.24948621721976244,
          -1.1576699893858196,
          1.5757959197628753,
          0.27451804126694296,
          -0.3405120090081654,
          0.5495521734370964,
          1.0455429042100273,
          -1.132207339071681,
          1.2103819750274107,
          -0.6528387602045533,
          0.06822891946103009,
          0.10930141977857291,
          -1.1210045578232524,
          -0.37174364013106725,
          0.8746799851128227,
          0.01530574132809894,
          -1.5607767191556627,
          0.3083227911857838,
          -1.8757128537357166,
          -0.05906016862387303,
          0.6244298300094971,
          0.03480897073112098,
          -0.8132032260998618,
          0.40371608126509506,
          -0.5250713115573913,
          -0.3599740532761306,
          0.6436866021813002,
          0.10040758411756084,
          1.106344944184813,
          -1.164546239406862,
          -0.6021822918337024,
          0.24359876936141814,
          -0.2115220974504064,
          0.9546210335566907,
          -0.7064555912566168,
          0.8642221033273032,
          0.876847424360984,
          1.6238480437140206,
          0.004990774537376512,
          -0.14310145325778864,
          0.4816044490155595,
          -0.46065909217859663,
          -0.30586794082918434,
          0.8313503097531753,
          0.6402120611320695,
          0.026544256531318044,
          0.04778410984681494,
          -0.39801425662921003,
          0.16233095530239772,
          1.0638768169666544,
          1.0008761898429492
         ],
         "xaxis": "x14",
         "y": [
          0.11067701414348054,
          1.8995322956998326,
          -0.2458432394320379,
          0.5377429220354326,
          0.20514092068761897,
          -0.4514663180793488,
          -0.6610065764537998,
          -0.5946763351837933,
          1.5876322949070458,
          -0.20862401058171826,
          0.10297891792163133,
          -0.25281160262026575,
          1.3249904488014876,
          -1.0303524275737623,
          0.05413589918587864,
          0.6514994639942188,
          0.1315770990395898,
          -1.7768578130784867,
          1.2519732468659475,
          2.107801720963238,
          0.6909674782691879,
          -1.0064250239305974,
          -1.9594991074877397,
          0.44156126672412044,
          1.1459098863063357,
          -1.5562322953726708,
          0.4622382708065796,
          -1.6076151437644994,
          0.023769686156858132,
          0.04733610495736649,
          -1.533445919972331,
          -0.8636934273154958,
          0.08484793871903562,
          -0.6801334318750999,
          0.7680009659696321,
          -0.16175210609800422,
          0.09195939858467177,
          -0.5517240236977996,
          -1.4050124530469743,
          0.41037660662342135,
          -1.0066194398330242,
          -0.16519075830470628,
          0.3455839201011954,
          -0.49648252813217847,
          0.9893381965952037,
          0.9202340449177022,
          -1.609088491013758,
          -1.1661792742014891,
          1.5009193644049066,
          -1.8421251199077862,
          0.846903260879262,
          1.3998383755050907,
          -1.5369592967746193,
          -1.156017381011761,
          -1.1948483504514387,
          1.2453651729889548,
          0.4901348950358889,
          -0.6864804088570704,
          -1.7547217593509994,
          1.46449983691902,
          -1.3709815046087923,
          0.4945937199231569,
          0.0038774672810933148,
          -0.7643456565843362,
          1.3711319057385063,
          2.075066204594895,
          -0.702239330904679,
          0.32041187038173796,
          0.19623915605715292,
          -1.2142958877036816,
          -0.4414355039880014,
          0.3580277034823271,
          0.6039910831803721,
          -0.47911249354579066,
          0.8971916936619772,
          2.503852279487358,
          1.4154279334783628,
          1.2899348808855755,
          0.8726548065933118,
          -0.6015714943498202,
          -0.7296042880756058,
          0.847591722445797,
          0.2452950717858223,
          0.3652032510685531,
          -0.989541015638144,
          -1.0671712267739,
          -1.6527190854808906,
          0.2626568109183234,
          0.34444372031564013,
          0.2280548616843117,
          0.40378538957093785,
          1.1827357707762025,
          1.4498233707993315,
          -0.36968230700697885,
          0.833747934653397,
          0.8522650270956144,
          -0.4270004960378985,
          1.6668665772393771,
          -0.2928581882164255,
          -0.026452986206500582
         ],
         "yaxis": "y14"
        },
        {
         "line": {
          "color": "rgba(128, 128, 128, 1.0)",
          "dash": "solid",
          "shape": "linear",
          "width": 1.3
         },
         "marker": {
          "size": 2,
          "symbol": "circle"
         },
         "mode": "markers",
         "name": "D",
         "text": "",
         "type": "scatter",
         "x": [
          0.5094294545126851,
          0.40320328228473257,
          -1.0451455220014838,
          1.9383884793219393,
          -1.1195269397610115,
          0.007417765090974777,
          0.0588735676736962,
          1.4486831838718595,
          0.6033313242291225,
          0.2749585077448684,
          -0.3975965848616199,
          0.40541201204441385,
          -0.5847945348136395,
          0.38849113522084433,
          0.20767229072108584,
          -1.240562416080876,
          0.039246829653464245,
          0.05941618583021419,
          0.9176614790601991,
          -0.35483232024577305,
          0.5078628782915157,
          -1.011774105600354,
          -0.1293450085950983,
          -0.8864371882344126,
          1.2943503030919112,
          -1.7673069248291902,
          2.0831647828343014,
          -0.43477937286446927,
          0.28146523719576355,
          0.5578602649896739,
          -1.5223462483028096,
          0.16964987149178934,
          -0.5500685263793943,
          1.0823050503075229,
          -0.22916823192201077,
          -0.38720631890992024,
          1.2661048221662239,
          0.20356760909533797,
          1.1423280831376215,
          -0.10808753431465522,
          -0.12024122233150104,
          -0.944575975802936,
          -0.013307573927293813,
          1.6694692642302944,
          0.6112119874177188,
          -0.3309763442652584,
          0.9368716650440161,
          0.23094685359448738,
          -1.0888193741475867,
          0.8649949026507499,
          0.07248175704709951,
          -1.3911871480567173,
          -0.41413527856674165,
          -0.35613451014051517,
          -0.37769709607996543,
          -0.9822669872550984,
          0.23265688962331718,
          0.4355067814591196,
          0.37808281394776455,
          -0.1688005200796566,
          0.16687394542556236,
          -1.3344462629664737,
          -1.775767484056754,
          -0.9198368168608252,
          -0.5866416401409374,
          0.5244749909215155,
          -0.8994138871176848,
          -1.036763269847553,
          -1.0610017578895294,
          -0.8086138339601849,
          -0.8380710319350305,
          -0.3388386019672623,
          -0.7302582534654624,
          -0.43943545041860654,
          -1.5543587253904214,
          -0.06978371605542653,
          -0.7403279458242567,
          -0.5477329264089507,
          -1.610404914345042,
          0.9036656673695966,
          -1.5524492653440827,
          -0.9325989144303676,
          -0.52836395382083,
          -0.23539265838494322,
          1.5416965399965687,
          1.5150559132967094,
          2.5553518227156022,
          0.9790630596152051,
          -0.14307144844543698,
          -0.5722196595441038,
          1.9600896240619718,
          -0.7740683236724355,
          -0.10869666985505544,
          1.0662098641450146,
          -1.6464091275492188,
          0.416733138747755,
          0.6633543695896578,
          -0.6354714080392322,
          1.230985010227931,
          1.4409767652468544
         ],
         "xaxis": "x15",
         "y": [
          0.11067701414348054,
          1.8995322956998326,
          -0.2458432394320379,
          0.5377429220354326,
          0.20514092068761897,
          -0.4514663180793488,
          -0.6610065764537998,
          -0.5946763351837933,
          1.5876322949070458,
          -0.20862401058171826,
          0.10297891792163133,
          -0.25281160262026575,
          1.3249904488014876,
          -1.0303524275737623,
          0.05413589918587864,
          0.6514994639942188,
          0.1315770990395898,
          -1.7768578130784867,
          1.2519732468659475,
          2.107801720963238,
          0.6909674782691879,
          -1.0064250239305974,
          -1.9594991074877397,
          0.44156126672412044,
          1.1459098863063357,
          -1.5562322953726708,
          0.4622382708065796,
          -1.6076151437644994,
          0.023769686156858132,
          0.04733610495736649,
          -1.533445919972331,
          -0.8636934273154958,
          0.08484793871903562,
          -0.6801334318750999,
          0.7680009659696321,
          -0.16175210609800422,
          0.09195939858467177,
          -0.5517240236977996,
          -1.4050124530469743,
          0.41037660662342135,
          -1.0066194398330242,
          -0.16519075830470628,
          0.3455839201011954,
          -0.49648252813217847,
          0.9893381965952037,
          0.9202340449177022,
          -1.609088491013758,
          -1.1661792742014891,
          1.5009193644049066,
          -1.8421251199077862,
          0.846903260879262,
          1.3998383755050907,
          -1.5369592967746193,
          -1.156017381011761,
          -1.1948483504514387,
          1.2453651729889548,
          0.4901348950358889,
          -0.6864804088570704,
          -1.7547217593509994,
          1.46449983691902,
          -1.3709815046087923,
          0.4945937199231569,
          0.0038774672810933148,
          -0.7643456565843362,
          1.3711319057385063,
          2.075066204594895,
          -0.702239330904679,
          0.32041187038173796,
          0.19623915605715292,
          -1.2142958877036816,
          -0.4414355039880014,
          0.3580277034823271,
          0.6039910831803721,
          -0.47911249354579066,
          0.8971916936619772,
          2.503852279487358,
          1.4154279334783628,
          1.2899348808855755,
          0.8726548065933118,
          -0.6015714943498202,
          -0.7296042880756058,
          0.847591722445797,
          0.2452950717858223,
          0.3652032510685531,
          -0.989541015638144,
          -1.0671712267739,
          -1.6527190854808906,
          0.2626568109183234,
          0.34444372031564013,
          0.2280548616843117,
          0.40378538957093785,
          1.1827357707762025,
          1.4498233707993315,
          -0.36968230700697885,
          0.833747934653397,
          0.8522650270956144,
          -0.4270004960378985,
          1.6668665772393771,
          -0.2928581882164255,
          -0.026452986206500582
         ],
         "yaxis": "y15"
        },
        {
         "histfunc": "count",
         "histnorm": "",
         "marker": {
          "color": "rgba(128, 0, 128, 1.0)",
          "line": {
           "color": "#4D5663",
           "width": 1.3
          }
         },
         "name": "D",
         "nbinsx": 10,
         "opacity": 0.8,
         "orientation": "v",
         "type": "histogram",
         "x": [
          0.11067701414348054,
          1.8995322956998326,
          -0.2458432394320379,
          0.5377429220354326,
          0.20514092068761897,
          -0.4514663180793488,
          -0.6610065764537998,
          -0.5946763351837933,
          1.5876322949070458,
          -0.20862401058171826,
          0.10297891792163133,
          -0.25281160262026575,
          1.3249904488014876,
          -1.0303524275737623,
          0.05413589918587864,
          0.6514994639942188,
          0.1315770990395898,
          -1.7768578130784867,
          1.2519732468659475,
          2.107801720963238,
          0.6909674782691879,
          -1.0064250239305974,
          -1.9594991074877397,
          0.44156126672412044,
          1.1459098863063357,
          -1.5562322953726708,
          0.4622382708065796,
          -1.6076151437644994,
          0.023769686156858132,
          0.04733610495736649,
          -1.533445919972331,
          -0.8636934273154958,
          0.08484793871903562,
          -0.6801334318750999,
          0.7680009659696321,
          -0.16175210609800422,
          0.09195939858467177,
          -0.5517240236977996,
          -1.4050124530469743,
          0.41037660662342135,
          -1.0066194398330242,
          -0.16519075830470628,
          0.3455839201011954,
          -0.49648252813217847,
          0.9893381965952037,
          0.9202340449177022,
          -1.609088491013758,
          -1.1661792742014891,
          1.5009193644049066,
          -1.8421251199077862,
          0.846903260879262,
          1.3998383755050907,
          -1.5369592967746193,
          -1.156017381011761,
          -1.1948483504514387,
          1.2453651729889548,
          0.4901348950358889,
          -0.6864804088570704,
          -1.7547217593509994,
          1.46449983691902,
          -1.3709815046087923,
          0.4945937199231569,
          0.0038774672810933148,
          -0.7643456565843362,
          1.3711319057385063,
          2.075066204594895,
          -0.702239330904679,
          0.32041187038173796,
          0.19623915605715292,
          -1.2142958877036816,
          -0.4414355039880014,
          0.3580277034823271,
          0.6039910831803721,
          -0.47911249354579066,
          0.8971916936619772,
          2.503852279487358,
          1.4154279334783628,
          1.2899348808855755,
          0.8726548065933118,
          -0.6015714943498202,
          -0.7296042880756058,
          0.847591722445797,
          0.2452950717858223,
          0.3652032510685531,
          -0.989541015638144,
          -1.0671712267739,
          -1.6527190854808906,
          0.2626568109183234,
          0.34444372031564013,
          0.2280548616843117,
          0.40378538957093785,
          1.1827357707762025,
          1.4498233707993315,
          -0.36968230700697885,
          0.833747934653397,
          0.8522650270956144,
          -0.4270004960378985,
          1.6668665772393771,
          -0.2928581882164255,
          -0.026452986206500582
         ],
         "xaxis": "x16",
         "yaxis": "y16"
        }
       ],
       "layout": {
        "bargap": 0.02,
        "legend": {
         "bgcolor": "#F5F6F9",
         "font": {
          "color": "#4D5663"
         }
        },
        "paper_bgcolor": "#F5F6F9",
        "plot_bgcolor": "#F5F6F9",
        "showlegend": false,
        "template": {
         "data": {
          "bar": [
           {
            "error_x": {
             "color": "#2a3f5f"
            },
            "error_y": {
             "color": "#2a3f5f"
            },
            "marker": {
             "line": {
              "color": "#E5ECF6",
              "width": 0.5
             }
            },
            "type": "bar"
           }
          ],
          "barpolar": [
           {
            "marker": {
             "line": {
              "color": "#E5ECF6",
              "width": 0.5
             }
            },
            "type": "barpolar"
           }
          ],
          "carpet": [
           {
            "aaxis": {
             "endlinecolor": "#2a3f5f",
             "gridcolor": "white",
             "linecolor": "white",
             "minorgridcolor": "white",
             "startlinecolor": "#2a3f5f"
            },
            "baxis": {
             "endlinecolor": "#2a3f5f",
             "gridcolor": "white",
             "linecolor": "white",
             "minorgridcolor": "white",
             "startlinecolor": "#2a3f5f"
            },
            "type": "carpet"
           }
          ],
          "choropleth": [
           {
            "colorbar": {
             "outlinewidth": 0,
             "ticks": ""
            },
            "type": "choropleth"
           }
          ],
          "contour": [
           {
            "colorbar": {
             "outlinewidth": 0,
             "ticks": ""
            },
            "colorscale": [
             [
              0,
              "#0d0887"
             ],
             [
              0.1111111111111111,
              "#46039f"
             ],
             [
              0.2222222222222222,
              "#7201a8"
             ],
             [
              0.3333333333333333,
              "#9c179e"
             ],
             [
              0.4444444444444444,
              "#bd3786"
             ],
             [
              0.5555555555555556,
              "#d8576b"
             ],
             [
              0.6666666666666666,
              "#ed7953"
             ],
             [
              0.7777777777777778,
              "#fb9f3a"
             ],
             [
              0.8888888888888888,
              "#fdca26"
             ],
             [
              1,
              "#f0f921"
             ]
            ],
            "type": "contour"
           }
          ],
          "contourcarpet": [
           {
            "colorbar": {
             "outlinewidth": 0,
             "ticks": ""
            },
            "type": "contourcarpet"
           }
          ],
          "heatmap": [
           {
            "colorbar": {
             "outlinewidth": 0,
             "ticks": ""
            },
            "colorscale": [
             [
              0,
              "#0d0887"
             ],
             [
              0.1111111111111111,
              "#46039f"
             ],
             [
              0.2222222222222222,
              "#7201a8"
             ],
             [
              0.3333333333333333,
              "#9c179e"
             ],
             [
              0.4444444444444444,
              "#bd3786"
             ],
             [
              0.5555555555555556,
              "#d8576b"
             ],
             [
              0.6666666666666666,
              "#ed7953"
             ],
             [
              0.7777777777777778,
              "#fb9f3a"
             ],
             [
              0.8888888888888888,
              "#fdca26"
             ],
             [
              1,
              "#f0f921"
             ]
            ],
            "type": "heatmap"
           }
          ],
          "heatmapgl": [
           {
            "colorbar": {
             "outlinewidth": 0,
             "ticks": ""
            },
            "colorscale": [
             [
              0,
              "#0d0887"
             ],
             [
              0.1111111111111111,
              "#46039f"
             ],
             [
              0.2222222222222222,
              "#7201a8"
             ],
             [
              0.3333333333333333,
              "#9c179e"
             ],
             [
              0.4444444444444444,
              "#bd3786"
             ],
             [
              0.5555555555555556,
              "#d8576b"
             ],
             [
              0.6666666666666666,
              "#ed7953"
             ],
             [
              0.7777777777777778,
              "#fb9f3a"
             ],
             [
              0.8888888888888888,
              "#fdca26"
             ],
             [
              1,
              "#f0f921"
             ]
            ],
            "type": "heatmapgl"
           }
          ],
          "histogram": [
           {
            "marker": {
             "colorbar": {
              "outlinewidth": 0,
              "ticks": ""
             }
            },
            "type": "histogram"
           }
          ],
          "histogram2d": [
           {
            "colorbar": {
             "outlinewidth": 0,
             "ticks": ""
            },
            "colorscale": [
             [
              0,
              "#0d0887"
             ],
             [
              0.1111111111111111,
              "#46039f"
             ],
             [
              0.2222222222222222,
              "#7201a8"
             ],
             [
              0.3333333333333333,
              "#9c179e"
             ],
             [
              0.4444444444444444,
              "#bd3786"
             ],
             [
              0.5555555555555556,
              "#d8576b"
             ],
             [
              0.6666666666666666,
              "#ed7953"
             ],
             [
              0.7777777777777778,
              "#fb9f3a"
             ],
             [
              0.8888888888888888,
              "#fdca26"
             ],
             [
              1,
              "#f0f921"
             ]
            ],
            "type": "histogram2d"
           }
          ],
          "histogram2dcontour": [
           {
            "colorbar": {
             "outlinewidth": 0,
             "ticks": ""
            },
            "colorscale": [
             [
              0,
              "#0d0887"
             ],
             [
              0.1111111111111111,
              "#46039f"
             ],
             [
              0.2222222222222222,
              "#7201a8"
             ],
             [
              0.3333333333333333,
              "#9c179e"
             ],
             [
              0.4444444444444444,
              "#bd3786"
             ],
             [
              0.5555555555555556,
              "#d8576b"
             ],
             [
              0.6666666666666666,
              "#ed7953"
             ],
             [
              0.7777777777777778,
              "#fb9f3a"
             ],
             [
              0.8888888888888888,
              "#fdca26"
             ],
             [
              1,
              "#f0f921"
             ]
            ],
            "type": "histogram2dcontour"
           }
          ],
          "mesh3d": [
           {
            "colorbar": {
             "outlinewidth": 0,
             "ticks": ""
            },
            "type": "mesh3d"
           }
          ],
          "parcoords": [
           {
            "line": {
             "colorbar": {
              "outlinewidth": 0,
              "ticks": ""
             }
            },
            "type": "parcoords"
           }
          ],
          "pie": [
           {
            "automargin": true,
            "type": "pie"
           }
          ],
          "scatter": [
           {
            "marker": {
             "colorbar": {
              "outlinewidth": 0,
              "ticks": ""
             }
            },
            "type": "scatter"
           }
          ],
          "scatter3d": [
           {
            "line": {
             "colorbar": {
              "outlinewidth": 0,
              "ticks": ""
             }
            },
            "marker": {
             "colorbar": {
              "outlinewidth": 0,
              "ticks": ""
             }
            },
            "type": "scatter3d"
           }
          ],
          "scattercarpet": [
           {
            "marker": {
             "colorbar": {
              "outlinewidth": 0,
              "ticks": ""
             }
            },
            "type": "scattercarpet"
           }
          ],
          "scattergeo": [
           {
            "marker": {
             "colorbar": {
              "outlinewidth": 0,
              "ticks": ""
             }
            },
            "type": "scattergeo"
           }
          ],
          "scattergl": [
           {
            "marker": {
             "colorbar": {
              "outlinewidth": 0,
              "ticks": ""
             }
            },
            "type": "scattergl"
           }
          ],
          "scattermapbox": [
           {
            "marker": {
             "colorbar": {
              "outlinewidth": 0,
              "ticks": ""
             }
            },
            "type": "scattermapbox"
           }
          ],
          "scatterpolar": [
           {
            "marker": {
             "colorbar": {
              "outlinewidth": 0,
              "ticks": ""
             }
            },
            "type": "scatterpolar"
           }
          ],
          "scatterpolargl": [
           {
            "marker": {
             "colorbar": {
              "outlinewidth": 0,
              "ticks": ""
             }
            },
            "type": "scatterpolargl"
           }
          ],
          "scatterternary": [
           {
            "marker": {
             "colorbar": {
              "outlinewidth": 0,
              "ticks": ""
             }
            },
            "type": "scatterternary"
           }
          ],
          "surface": [
           {
            "colorbar": {
             "outlinewidth": 0,
             "ticks": ""
            },
            "colorscale": [
             [
              0,
              "#0d0887"
             ],
             [
              0.1111111111111111,
              "#46039f"
             ],
             [
              0.2222222222222222,
              "#7201a8"
             ],
             [
              0.3333333333333333,
              "#9c179e"
             ],
             [
              0.4444444444444444,
              "#bd3786"
             ],
             [
              0.5555555555555556,
              "#d8576b"
             ],
             [
              0.6666666666666666,
              "#ed7953"
             ],
             [
              0.7777777777777778,
              "#fb9f3a"
             ],
             [
              0.8888888888888888,
              "#fdca26"
             ],
             [
              1,
              "#f0f921"
             ]
            ],
            "type": "surface"
           }
          ],
          "table": [
           {
            "cells": {
             "fill": {
              "color": "#EBF0F8"
             },
             "line": {
              "color": "white"
             }
            },
            "header": {
             "fill": {
              "color": "#C8D4E3"
             },
             "line": {
              "color": "white"
             }
            },
            "type": "table"
           }
          ]
         },
         "layout": {
          "annotationdefaults": {
           "arrowcolor": "#2a3f5f",
           "arrowhead": 0,
           "arrowwidth": 1
          },
          "autotypenumbers": "strict",
          "coloraxis": {
           "colorbar": {
            "outlinewidth": 0,
            "ticks": ""
           }
          },
          "colorscale": {
           "diverging": [
            [
             0,
             "#8e0152"
            ],
            [
             0.1,
             "#c51b7d"
            ],
            [
             0.2,
             "#de77ae"
            ],
            [
             0.3,
             "#f1b6da"
            ],
            [
             0.4,
             "#fde0ef"
            ],
            [
             0.5,
             "#f7f7f7"
            ],
            [
             0.6,
             "#e6f5d0"
            ],
            [
             0.7,
             "#b8e186"
            ],
            [
             0.8,
             "#7fbc41"
            ],
            [
             0.9,
             "#4d9221"
            ],
            [
             1,
             "#276419"
            ]
           ],
           "sequential": [
            [
             0,
             "#0d0887"
            ],
            [
             0.1111111111111111,
             "#46039f"
            ],
            [
             0.2222222222222222,
             "#7201a8"
            ],
            [
             0.3333333333333333,
             "#9c179e"
            ],
            [
             0.4444444444444444,
             "#bd3786"
            ],
            [
             0.5555555555555556,
             "#d8576b"
            ],
            [
             0.6666666666666666,
             "#ed7953"
            ],
            [
             0.7777777777777778,
             "#fb9f3a"
            ],
            [
             0.8888888888888888,
             "#fdca26"
            ],
            [
             1,
             "#f0f921"
            ]
           ],
           "sequentialminus": [
            [
             0,
             "#0d0887"
            ],
            [
             0.1111111111111111,
             "#46039f"
            ],
            [
             0.2222222222222222,
             "#7201a8"
            ],
            [
             0.3333333333333333,
             "#9c179e"
            ],
            [
             0.4444444444444444,
             "#bd3786"
            ],
            [
             0.5555555555555556,
             "#d8576b"
            ],
            [
             0.6666666666666666,
             "#ed7953"
            ],
            [
             0.7777777777777778,
             "#fb9f3a"
            ],
            [
             0.8888888888888888,
             "#fdca26"
            ],
            [
             1,
             "#f0f921"
            ]
           ]
          },
          "colorway": [
           "#636efa",
           "#EF553B",
           "#00cc96",
           "#ab63fa",
           "#FFA15A",
           "#19d3f3",
           "#FF6692",
           "#B6E880",
           "#FF97FF",
           "#FECB52"
          ],
          "font": {
           "color": "#2a3f5f"
          },
          "geo": {
           "bgcolor": "white",
           "lakecolor": "white",
           "landcolor": "#E5ECF6",
           "showlakes": true,
           "showland": true,
           "subunitcolor": "white"
          },
          "hoverlabel": {
           "align": "left"
          },
          "hovermode": "closest",
          "mapbox": {
           "style": "light"
          },
          "paper_bgcolor": "white",
          "plot_bgcolor": "#E5ECF6",
          "polar": {
           "angularaxis": {
            "gridcolor": "white",
            "linecolor": "white",
            "ticks": ""
           },
           "bgcolor": "#E5ECF6",
           "radialaxis": {
            "gridcolor": "white",
            "linecolor": "white",
            "ticks": ""
           }
          },
          "scene": {
           "xaxis": {
            "backgroundcolor": "#E5ECF6",
            "gridcolor": "white",
            "gridwidth": 2,
            "linecolor": "white",
            "showbackground": true,
            "ticks": "",
            "zerolinecolor": "white"
           },
           "yaxis": {
            "backgroundcolor": "#E5ECF6",
            "gridcolor": "white",
            "gridwidth": 2,
            "linecolor": "white",
            "showbackground": true,
            "ticks": "",
            "zerolinecolor": "white"
           },
           "zaxis": {
            "backgroundcolor": "#E5ECF6",
            "gridcolor": "white",
            "gridwidth": 2,
            "linecolor": "white",
            "showbackground": true,
            "ticks": "",
            "zerolinecolor": "white"
           }
          },
          "shapedefaults": {
           "line": {
            "color": "#2a3f5f"
           }
          },
          "ternary": {
           "aaxis": {
            "gridcolor": "white",
            "linecolor": "white",
            "ticks": ""
           },
           "baxis": {
            "gridcolor": "white",
            "linecolor": "white",
            "ticks": ""
           },
           "bgcolor": "#E5ECF6",
           "caxis": {
            "gridcolor": "white",
            "linecolor": "white",
            "ticks": ""
           }
          },
          "title": {
           "x": 0.05
          },
          "xaxis": {
           "automargin": true,
           "gridcolor": "white",
           "linecolor": "white",
           "ticks": "",
           "title": {
            "standoff": 15
           },
           "zerolinecolor": "white",
           "zerolinewidth": 2
          },
          "yaxis": {
           "automargin": true,
           "gridcolor": "white",
           "linecolor": "white",
           "ticks": "",
           "title": {
            "standoff": 15
           },
           "zerolinecolor": "white",
           "zerolinewidth": 2
          }
         }
        },
        "title": {
         "font": {
          "color": "#4D5663"
         }
        },
        "xaxis": {
         "anchor": "y",
         "domain": [
          0,
          0.2125
         ],
         "gridcolor": "#E1E5ED",
         "showgrid": false,
         "tickfont": {
          "color": "#4D5663"
         },
         "title": {
          "font": {
           "color": "#4D5663"
          },
          "text": ""
         },
         "zerolinecolor": "#E1E5ED"
        },
        "xaxis10": {
         "anchor": "y10",
         "domain": [
          0.2625,
          0.475
         ],
         "gridcolor": "#E1E5ED",
         "showgrid": false,
         "tickfont": {
          "color": "#4D5663"
         },
         "title": {
          "font": {
           "color": "#4D5663"
          },
          "text": ""
         },
         "zerolinecolor": "#E1E5ED"
        },
        "xaxis11": {
         "anchor": "y11",
         "domain": [
          0.525,
          0.7375
         ],
         "gridcolor": "#E1E5ED",
         "showgrid": false,
         "tickfont": {
          "color": "#4D5663"
         },
         "title": {
          "font": {
           "color": "#4D5663"
          },
          "text": ""
         },
         "zerolinecolor": "#E1E5ED"
        },
        "xaxis12": {
         "anchor": "y12",
         "domain": [
          0.7875,
          1
         ],
         "gridcolor": "#E1E5ED",
         "showgrid": false,
         "tickfont": {
          "color": "#4D5663"
         },
         "title": {
          "font": {
           "color": "#4D5663"
          },
          "text": ""
         },
         "zerolinecolor": "#E1E5ED"
        },
        "xaxis13": {
         "anchor": "y13",
         "domain": [
          0,
          0.2125
         ],
         "gridcolor": "#E1E5ED",
         "showgrid": false,
         "tickfont": {
          "color": "#4D5663"
         },
         "title": {
          "font": {
           "color": "#4D5663"
          },
          "text": ""
         },
         "zerolinecolor": "#E1E5ED"
        },
        "xaxis14": {
         "anchor": "y14",
         "domain": [
          0.2625,
          0.475
         ],
         "gridcolor": "#E1E5ED",
         "showgrid": false,
         "tickfont": {
          "color": "#4D5663"
         },
         "title": {
          "font": {
           "color": "#4D5663"
          },
          "text": ""
         },
         "zerolinecolor": "#E1E5ED"
        },
        "xaxis15": {
         "anchor": "y15",
         "domain": [
          0.525,
          0.7375
         ],
         "gridcolor": "#E1E5ED",
         "showgrid": false,
         "tickfont": {
          "color": "#4D5663"
         },
         "title": {
          "font": {
           "color": "#4D5663"
          },
          "text": ""
         },
         "zerolinecolor": "#E1E5ED"
        },
        "xaxis16": {
         "anchor": "y16",
         "domain": [
          0.7875,
          1
         ],
         "gridcolor": "#E1E5ED",
         "showgrid": false,
         "tickfont": {
          "color": "#4D5663"
         },
         "title": {
          "font": {
           "color": "#4D5663"
          },
          "text": ""
         },
         "zerolinecolor": "#E1E5ED"
        },
        "xaxis2": {
         "anchor": "y2",
         "domain": [
          0.2625,
          0.475
         ],
         "gridcolor": "#E1E5ED",
         "showgrid": false,
         "tickfont": {
          "color": "#4D5663"
         },
         "title": {
          "font": {
           "color": "#4D5663"
          },
          "text": ""
         },
         "zerolinecolor": "#E1E5ED"
        },
        "xaxis3": {
         "anchor": "y3",
         "domain": [
          0.525,
          0.7375
         ],
         "gridcolor": "#E1E5ED",
         "showgrid": false,
         "tickfont": {
          "color": "#4D5663"
         },
         "title": {
          "font": {
           "color": "#4D5663"
          },
          "text": ""
         },
         "zerolinecolor": "#E1E5ED"
        },
        "xaxis4": {
         "anchor": "y4",
         "domain": [
          0.7875,
          1
         ],
         "gridcolor": "#E1E5ED",
         "showgrid": false,
         "tickfont": {
          "color": "#4D5663"
         },
         "title": {
          "font": {
           "color": "#4D5663"
          },
          "text": ""
         },
         "zerolinecolor": "#E1E5ED"
        },
        "xaxis5": {
         "anchor": "y5",
         "domain": [
          0,
          0.2125
         ],
         "gridcolor": "#E1E5ED",
         "showgrid": false,
         "tickfont": {
          "color": "#4D5663"
         },
         "title": {
          "font": {
           "color": "#4D5663"
          },
          "text": ""
         },
         "zerolinecolor": "#E1E5ED"
        },
        "xaxis6": {
         "anchor": "y6",
         "domain": [
          0.2625,
          0.475
         ],
         "gridcolor": "#E1E5ED",
         "showgrid": false,
         "tickfont": {
          "color": "#4D5663"
         },
         "title": {
          "font": {
           "color": "#4D5663"
          },
          "text": ""
         },
         "zerolinecolor": "#E1E5ED"
        },
        "xaxis7": {
         "anchor": "y7",
         "domain": [
          0.525,
          0.7375
         ],
         "gridcolor": "#E1E5ED",
         "showgrid": false,
         "tickfont": {
          "color": "#4D5663"
         },
         "title": {
          "font": {
           "color": "#4D5663"
          },
          "text": ""
         },
         "zerolinecolor": "#E1E5ED"
        },
        "xaxis8": {
         "anchor": "y8",
         "domain": [
          0.7875,
          1
         ],
         "gridcolor": "#E1E5ED",
         "showgrid": false,
         "tickfont": {
          "color": "#4D5663"
         },
         "title": {
          "font": {
           "color": "#4D5663"
          },
          "text": ""
         },
         "zerolinecolor": "#E1E5ED"
        },
        "xaxis9": {
         "anchor": "y9",
         "domain": [
          0,
          0.2125
         ],
         "gridcolor": "#E1E5ED",
         "showgrid": false,
         "tickfont": {
          "color": "#4D5663"
         },
         "title": {
          "font": {
           "color": "#4D5663"
          },
          "text": ""
         },
         "zerolinecolor": "#E1E5ED"
        },
        "yaxis": {
         "anchor": "x",
         "domain": [
          0.8025,
          1
         ],
         "gridcolor": "#E1E5ED",
         "showgrid": false,
         "tickfont": {
          "color": "#4D5663"
         },
         "title": {
          "font": {
           "color": "#4D5663"
          },
          "text": ""
         },
         "zerolinecolor": "#E1E5ED"
        },
        "yaxis10": {
         "anchor": "x10",
         "domain": [
          0.2675,
          0.465
         ],
         "gridcolor": "#E1E5ED",
         "showgrid": false,
         "tickfont": {
          "color": "#4D5663"
         },
         "title": {
          "font": {
           "color": "#4D5663"
          },
          "text": ""
         },
         "zerolinecolor": "#E1E5ED"
        },
        "yaxis11": {
         "anchor": "x11",
         "domain": [
          0.2675,
          0.465
         ],
         "gridcolor": "#E1E5ED",
         "showgrid": false,
         "tickfont": {
          "color": "#4D5663"
         },
         "title": {
          "font": {
           "color": "#4D5663"
          },
          "text": ""
         },
         "zerolinecolor": "#E1E5ED"
        },
        "yaxis12": {
         "anchor": "x12",
         "domain": [
          0.2675,
          0.465
         ],
         "gridcolor": "#E1E5ED",
         "showgrid": false,
         "tickfont": {
          "color": "#4D5663"
         },
         "title": {
          "font": {
           "color": "#4D5663"
          },
          "text": ""
         },
         "zerolinecolor": "#E1E5ED"
        },
        "yaxis13": {
         "anchor": "x13",
         "domain": [
          0,
          0.1975
         ],
         "gridcolor": "#E1E5ED",
         "showgrid": false,
         "tickfont": {
          "color": "#4D5663"
         },
         "title": {
          "font": {
           "color": "#4D5663"
          },
          "text": ""
         },
         "zerolinecolor": "#E1E5ED"
        },
        "yaxis14": {
         "anchor": "x14",
         "domain": [
          0,
          0.1975
         ],
         "gridcolor": "#E1E5ED",
         "showgrid": false,
         "tickfont": {
          "color": "#4D5663"
         },
         "title": {
          "font": {
           "color": "#4D5663"
          },
          "text": ""
         },
         "zerolinecolor": "#E1E5ED"
        },
        "yaxis15": {
         "anchor": "x15",
         "domain": [
          0,
          0.1975
         ],
         "gridcolor": "#E1E5ED",
         "showgrid": false,
         "tickfont": {
          "color": "#4D5663"
         },
         "title": {
          "font": {
           "color": "#4D5663"
          },
          "text": ""
         },
         "zerolinecolor": "#E1E5ED"
        },
        "yaxis16": {
         "anchor": "x16",
         "domain": [
          0,
          0.1975
         ],
         "gridcolor": "#E1E5ED",
         "showgrid": false,
         "tickfont": {
          "color": "#4D5663"
         },
         "title": {
          "font": {
           "color": "#4D5663"
          },
          "text": ""
         },
         "zerolinecolor": "#E1E5ED"
        },
        "yaxis2": {
         "anchor": "x2",
         "domain": [
          0.8025,
          1
         ],
         "gridcolor": "#E1E5ED",
         "showgrid": false,
         "tickfont": {
          "color": "#4D5663"
         },
         "title": {
          "font": {
           "color": "#4D5663"
          },
          "text": ""
         },
         "zerolinecolor": "#E1E5ED"
        },
        "yaxis3": {
         "anchor": "x3",
         "domain": [
          0.8025,
          1
         ],
         "gridcolor": "#E1E5ED",
         "showgrid": false,
         "tickfont": {
          "color": "#4D5663"
         },
         "title": {
          "font": {
           "color": "#4D5663"
          },
          "text": ""
         },
         "zerolinecolor": "#E1E5ED"
        },
        "yaxis4": {
         "anchor": "x4",
         "domain": [
          0.8025,
          1
         ],
         "gridcolor": "#E1E5ED",
         "showgrid": false,
         "tickfont": {
          "color": "#4D5663"
         },
         "title": {
          "font": {
           "color": "#4D5663"
          },
          "text": ""
         },
         "zerolinecolor": "#E1E5ED"
        },
        "yaxis5": {
         "anchor": "x5",
         "domain": [
          0.535,
          0.7325
         ],
         "gridcolor": "#E1E5ED",
         "showgrid": false,
         "tickfont": {
          "color": "#4D5663"
         },
         "title": {
          "font": {
           "color": "#4D5663"
          },
          "text": ""
         },
         "zerolinecolor": "#E1E5ED"
        },
        "yaxis6": {
         "anchor": "x6",
         "domain": [
          0.535,
          0.7325
         ],
         "gridcolor": "#E1E5ED",
         "showgrid": false,
         "tickfont": {
          "color": "#4D5663"
         },
         "title": {
          "font": {
           "color": "#4D5663"
          },
          "text": ""
         },
         "zerolinecolor": "#E1E5ED"
        },
        "yaxis7": {
         "anchor": "x7",
         "domain": [
          0.535,
          0.7325
         ],
         "gridcolor": "#E1E5ED",
         "showgrid": false,
         "tickfont": {
          "color": "#4D5663"
         },
         "title": {
          "font": {
           "color": "#4D5663"
          },
          "text": ""
         },
         "zerolinecolor": "#E1E5ED"
        },
        "yaxis8": {
         "anchor": "x8",
         "domain": [
          0.535,
          0.7325
         ],
         "gridcolor": "#E1E5ED",
         "showgrid": false,
         "tickfont": {
          "color": "#4D5663"
         },
         "title": {
          "font": {
           "color": "#4D5663"
          },
          "text": ""
         },
         "zerolinecolor": "#E1E5ED"
        },
        "yaxis9": {
         "anchor": "x9",
         "domain": [
          0.2675,
          0.465
         ],
         "gridcolor": "#E1E5ED",
         "showgrid": false,
         "tickfont": {
          "color": "#4D5663"
         },
         "title": {
          "font": {
           "color": "#4D5663"
          },
          "text": ""
         },
         "zerolinecolor": "#E1E5ED"
        }
       }
      },
      "text/html": [
       "<div>                            <div id=\"3d98cf90-463c-44a0-83a4-31aa2370323b\" class=\"plotly-graph-div\" style=\"height:525px; width:100%;\"></div>            <script type=\"text/javascript\">                require([\"plotly\"], function(Plotly) {                    window.PLOTLYENV=window.PLOTLYENV || {};\n",
       "                    window.PLOTLYENV.BASE_URL='https://plot.ly';                                    if (document.getElementById(\"3d98cf90-463c-44a0-83a4-31aa2370323b\")) {                    Plotly.newPlot(                        \"3d98cf90-463c-44a0-83a4-31aa2370323b\",                        [{\"histfunc\": \"count\", \"histnorm\": \"\", \"marker\": {\"color\": \"rgba(255, 153, 51, 1.0)\", \"line\": {\"color\": \"#4D5663\", \"width\": 1.3}}, \"name\": \"A\", \"nbinsx\": 10, \"opacity\": 0.8, \"orientation\": \"v\", \"type\": \"histogram\", \"x\": [0.20504070623313753, 0.6286778475688474, -1.1946960815376417, -1.3183627315384152, 0.7287269751944572, 0.8722269481098422, -0.13166269309223982, -1.9357840606631018, 0.4145336921882121, -0.6069916193966661, 0.390215883251644, -0.45734674356014016, 1.193349051418664, 1.235556532466609, 1.6291582358653538, 1.1395764553378547, -0.010775928268597778, 1.206843095845801, -0.9600146154713587, -0.966140199254339, 0.19169949104174405, -0.14918790595603876, 0.5686543373940673, -0.24045778518832012, 0.6366295721983622, 1.1522381506685453, 1.9336345364130645, 2.006996624653642, -0.023025978960075136, 0.18993942931543212, -1.4296539266874184, 0.43382004511192135, -0.7306127696972191, -0.05578944403470869, -0.08472001405877864, -0.1149714121493137, 0.7358612175856649, -0.6923771671588429, -0.25387934755682223, -2.0722680287624553, -0.5165814241979004, 1.6736494345930495, -0.5336323351896277, 1.4616808532371586, 1.2048074779808589, -1.2840849645974888, -0.17814633696158727, 1.0474906379523012, 0.38688412823874413, 0.5918234597806681, -1.3531856261517683, 0.24341156761558463, -0.7017222749850373, 0.6123500849073915, -0.8479136012893379, 1.531831449493807, -0.08902284414868179, -1.8178227460471446, -0.5109149743900608, -0.019596110540417384, -0.6983446018771495, 2.1094904333757407, -0.6311966451758331, -0.7047558807060837, 0.14788823265526901, 1.3716817074401486, 0.014617163284772135, -0.8243567459465074, 0.3123554784595387, 0.006117282091226412, -0.44574685438333156, 0.19146184772892774, -0.510564268279504, 0.8130753024382118, 2.3632960388245143, 2.116807945200409, -0.7750854668514382, 1.1030058690899103, -1.0730902732448744, -0.7826004688457083, -0.19255772560734755, -1.6458945809351144, -1.149219201933772, 0.06545680442591104, 1.2970608422251297, 0.3995935105107383, 1.0046285769041494, 2.6049159767101853, 0.2648980896996127, -1.5712641398967868, -0.7776854787695353, 0.21347068389058088, 0.20585723656867927, 1.9571203104075063, -0.6410346456022266, -0.9414275827775105, 1.2276831536344308, -0.007015283300855964, 0.23646616205819243, -1.2406348171165948], \"xaxis\": \"x\", \"yaxis\": \"y\"}, {\"line\": {\"color\": \"rgba(128, 128, 128, 1.0)\", \"dash\": \"solid\", \"shape\": \"linear\", \"width\": 1.3}, \"marker\": {\"size\": 2, \"symbol\": \"circle\"}, \"mode\": \"markers\", \"name\": \"A\", \"text\": \"\", \"type\": \"scatter\", \"x\": [-0.5439617119205455, -0.5704148841714516, -1.07662655822544, -0.8474093020614032, -0.4040721263713018, -0.22032162653824705, 0.984810825036386, 0.6459982295599839, 0.9625977558237383, 0.32961616491736717, -0.6383325120225408, 1.7682720359532031, -0.7006348852403254, -0.2562716741210957, -1.2177123975522377, -0.16734060804219206, 0.43907261092386024, -0.18906110667888334, 1.1993281288587738, -0.20811431926451315, -1.0049310034719965, -0.22976703532601245, -0.13894060084069174, 1.2275994471410943, 1.342734485378966, 1.1665077733710503, -0.5434498879083448, -0.4092649210874944, 0.33338528689970426, 0.7670594173207315, 0.7872973798422225, -0.1606048434279647, 0.2843664711766602, 0.571068693668149, -3.086080376151923, -0.4849501045316944, 0.7980458181885236, 0.5868466116667443, -0.9166483893763678, -0.1704246184052833, 0.22117865067943315, -1.3201080068609135, 0.7568133206374094, 2.4676468487452357, -1.068703071956845, -0.6291258641268789, 1.163415410221566, -0.12339604673539196, 0.9367836611456651, -0.24948621721976244, -1.1576699893858196, 1.5757959197628753, 0.27451804126694296, -0.3405120090081654, 0.5495521734370964, 1.0455429042100273, -1.132207339071681, 1.2103819750274107, -0.6528387602045533, 0.06822891946103009, 0.10930141977857291, -1.1210045578232524, -0.37174364013106725, 0.8746799851128227, 0.01530574132809894, -1.5607767191556627, 0.3083227911857838, -1.8757128537357166, -0.05906016862387303, 0.6244298300094971, 0.03480897073112098, -0.8132032260998618, 0.40371608126509506, -0.5250713115573913, -0.3599740532761306, 0.6436866021813002, 0.10040758411756084, 1.106344944184813, -1.164546239406862, -0.6021822918337024, 0.24359876936141814, -0.2115220974504064, 0.9546210335566907, -0.7064555912566168, 0.8642221033273032, 0.876847424360984, 1.6238480437140206, 0.004990774537376512, -0.14310145325778864, 0.4816044490155595, -0.46065909217859663, -0.30586794082918434, 0.8313503097531753, 0.6402120611320695, 0.026544256531318044, 0.04778410984681494, -0.39801425662921003, 0.16233095530239772, 1.0638768169666544, 1.0008761898429492], \"xaxis\": \"x2\", \"y\": [0.20504070623313753, 0.6286778475688474, -1.1946960815376417, -1.3183627315384152, 0.7287269751944572, 0.8722269481098422, -0.13166269309223982, -1.9357840606631018, 0.4145336921882121, -0.6069916193966661, 0.390215883251644, -0.45734674356014016, 1.193349051418664, 1.235556532466609, 1.6291582358653538, 1.1395764553378547, -0.010775928268597778, 1.206843095845801, -0.9600146154713587, -0.966140199254339, 0.19169949104174405, -0.14918790595603876, 0.5686543373940673, -0.24045778518832012, 0.6366295721983622, 1.1522381506685453, 1.9336345364130645, 2.006996624653642, -0.023025978960075136, 0.18993942931543212, -1.4296539266874184, 0.43382004511192135, -0.7306127696972191, -0.05578944403470869, -0.08472001405877864, -0.1149714121493137, 0.7358612175856649, -0.6923771671588429, -0.25387934755682223, -2.0722680287624553, -0.5165814241979004, 1.6736494345930495, -0.5336323351896277, 1.4616808532371586, 1.2048074779808589, -1.2840849645974888, -0.17814633696158727, 1.0474906379523012, 0.38688412823874413, 0.5918234597806681, -1.3531856261517683, 0.24341156761558463, -0.7017222749850373, 0.6123500849073915, -0.8479136012893379, 1.531831449493807, -0.08902284414868179, -1.8178227460471446, -0.5109149743900608, -0.019596110540417384, -0.6983446018771495, 2.1094904333757407, -0.6311966451758331, -0.7047558807060837, 0.14788823265526901, 1.3716817074401486, 0.014617163284772135, -0.8243567459465074, 0.3123554784595387, 0.006117282091226412, -0.44574685438333156, 0.19146184772892774, -0.510564268279504, 0.8130753024382118, 2.3632960388245143, 2.116807945200409, -0.7750854668514382, 1.1030058690899103, -1.0730902732448744, -0.7826004688457083, -0.19255772560734755, -1.6458945809351144, -1.149219201933772, 0.06545680442591104, 1.2970608422251297, 0.3995935105107383, 1.0046285769041494, 2.6049159767101853, 0.2648980896996127, -1.5712641398967868, -0.7776854787695353, 0.21347068389058088, 0.20585723656867927, 1.9571203104075063, -0.6410346456022266, -0.9414275827775105, 1.2276831536344308, -0.007015283300855964, 0.23646616205819243, -1.2406348171165948], \"yaxis\": \"y2\"}, {\"line\": {\"color\": \"rgba(128, 128, 128, 1.0)\", \"dash\": \"solid\", \"shape\": \"linear\", \"width\": 1.3}, \"marker\": {\"size\": 2, \"symbol\": \"circle\"}, \"mode\": \"markers\", \"name\": \"A\", \"text\": \"\", \"type\": \"scatter\", \"x\": [0.5094294545126851, 0.40320328228473257, -1.0451455220014838, 1.9383884793219393, -1.1195269397610115, 0.007417765090974777, 0.0588735676736962, 1.4486831838718595, 0.6033313242291225, 0.2749585077448684, -0.3975965848616199, 0.40541201204441385, -0.5847945348136395, 0.38849113522084433, 0.20767229072108584, -1.240562416080876, 0.039246829653464245, 0.05941618583021419, 0.9176614790601991, -0.35483232024577305, 0.5078628782915157, -1.011774105600354, -0.1293450085950983, -0.8864371882344126, 1.2943503030919112, -1.7673069248291902, 2.0831647828343014, -0.43477937286446927, 0.28146523719576355, 0.5578602649896739, -1.5223462483028096, 0.16964987149178934, -0.5500685263793943, 1.0823050503075229, -0.22916823192201077, -0.38720631890992024, 1.2661048221662239, 0.20356760909533797, 1.1423280831376215, -0.10808753431465522, -0.12024122233150104, -0.944575975802936, -0.013307573927293813, 1.6694692642302944, 0.6112119874177188, -0.3309763442652584, 0.9368716650440161, 0.23094685359448738, -1.0888193741475867, 0.8649949026507499, 0.07248175704709951, -1.3911871480567173, -0.41413527856674165, -0.35613451014051517, -0.37769709607996543, -0.9822669872550984, 0.23265688962331718, 0.4355067814591196, 0.37808281394776455, -0.1688005200796566, 0.16687394542556236, -1.3344462629664737, -1.775767484056754, -0.9198368168608252, -0.5866416401409374, 0.5244749909215155, -0.8994138871176848, -1.036763269847553, -1.0610017578895294, -0.8086138339601849, -0.8380710319350305, -0.3388386019672623, -0.7302582534654624, -0.43943545041860654, -1.5543587253904214, -0.06978371605542653, -0.7403279458242567, -0.5477329264089507, -1.610404914345042, 0.9036656673695966, -1.5524492653440827, -0.9325989144303676, -0.52836395382083, -0.23539265838494322, 1.5416965399965687, 1.5150559132967094, 2.5553518227156022, 0.9790630596152051, -0.14307144844543698, -0.5722196595441038, 1.9600896240619718, -0.7740683236724355, -0.10869666985505544, 1.0662098641450146, -1.6464091275492188, 0.416733138747755, 0.6633543695896578, -0.6354714080392322, 1.230985010227931, 1.4409767652468544], \"xaxis\": \"x3\", \"y\": [0.20504070623313753, 0.6286778475688474, -1.1946960815376417, -1.3183627315384152, 0.7287269751944572, 0.8722269481098422, -0.13166269309223982, -1.9357840606631018, 0.4145336921882121, -0.6069916193966661, 0.390215883251644, -0.45734674356014016, 1.193349051418664, 1.235556532466609, 1.6291582358653538, 1.1395764553378547, -0.010775928268597778, 1.206843095845801, -0.9600146154713587, -0.966140199254339, 0.19169949104174405, -0.14918790595603876, 0.5686543373940673, -0.24045778518832012, 0.6366295721983622, 1.1522381506685453, 1.9336345364130645, 2.006996624653642, -0.023025978960075136, 0.18993942931543212, -1.4296539266874184, 0.43382004511192135, -0.7306127696972191, -0.05578944403470869, -0.08472001405877864, -0.1149714121493137, 0.7358612175856649, -0.6923771671588429, -0.25387934755682223, -2.0722680287624553, -0.5165814241979004, 1.6736494345930495, -0.5336323351896277, 1.4616808532371586, 1.2048074779808589, -1.2840849645974888, -0.17814633696158727, 1.0474906379523012, 0.38688412823874413, 0.5918234597806681, -1.3531856261517683, 0.24341156761558463, -0.7017222749850373, 0.6123500849073915, -0.8479136012893379, 1.531831449493807, -0.08902284414868179, -1.8178227460471446, -0.5109149743900608, -0.019596110540417384, -0.6983446018771495, 2.1094904333757407, -0.6311966451758331, -0.7047558807060837, 0.14788823265526901, 1.3716817074401486, 0.014617163284772135, -0.8243567459465074, 0.3123554784595387, 0.006117282091226412, -0.44574685438333156, 0.19146184772892774, -0.510564268279504, 0.8130753024382118, 2.3632960388245143, 2.116807945200409, -0.7750854668514382, 1.1030058690899103, -1.0730902732448744, -0.7826004688457083, -0.19255772560734755, -1.6458945809351144, -1.149219201933772, 0.06545680442591104, 1.2970608422251297, 0.3995935105107383, 1.0046285769041494, 2.6049159767101853, 0.2648980896996127, -1.5712641398967868, -0.7776854787695353, 0.21347068389058088, 0.20585723656867927, 1.9571203104075063, -0.6410346456022266, -0.9414275827775105, 1.2276831536344308, -0.007015283300855964, 0.23646616205819243, -1.2406348171165948], \"yaxis\": \"y3\"}, {\"line\": {\"color\": \"rgba(128, 128, 128, 1.0)\", \"dash\": \"solid\", \"shape\": \"linear\", \"width\": 1.3}, \"marker\": {\"size\": 2, \"symbol\": \"circle\"}, \"mode\": \"markers\", \"name\": \"A\", \"text\": \"\", \"type\": \"scatter\", \"x\": [0.11067701414348054, 1.8995322956998326, -0.2458432394320379, 0.5377429220354326, 0.20514092068761897, -0.4514663180793488, -0.6610065764537998, -0.5946763351837933, 1.5876322949070458, -0.20862401058171826, 0.10297891792163133, -0.25281160262026575, 1.3249904488014876, -1.0303524275737623, 0.05413589918587864, 0.6514994639942188, 0.1315770990395898, -1.7768578130784867, 1.2519732468659475, 2.107801720963238, 0.6909674782691879, -1.0064250239305974, -1.9594991074877397, 0.44156126672412044, 1.1459098863063357, -1.5562322953726708, 0.4622382708065796, -1.6076151437644994, 0.023769686156858132, 0.04733610495736649, -1.533445919972331, -0.8636934273154958, 0.08484793871903562, -0.6801334318750999, 0.7680009659696321, -0.16175210609800422, 0.09195939858467177, -0.5517240236977996, -1.4050124530469743, 0.41037660662342135, -1.0066194398330242, -0.16519075830470628, 0.3455839201011954, -0.49648252813217847, 0.9893381965952037, 0.9202340449177022, -1.609088491013758, -1.1661792742014891, 1.5009193644049066, -1.8421251199077862, 0.846903260879262, 1.3998383755050907, -1.5369592967746193, -1.156017381011761, -1.1948483504514387, 1.2453651729889548, 0.4901348950358889, -0.6864804088570704, -1.7547217593509994, 1.46449983691902, -1.3709815046087923, 0.4945937199231569, 0.0038774672810933148, -0.7643456565843362, 1.3711319057385063, 2.075066204594895, -0.702239330904679, 0.32041187038173796, 0.19623915605715292, -1.2142958877036816, -0.4414355039880014, 0.3580277034823271, 0.6039910831803721, -0.47911249354579066, 0.8971916936619772, 2.503852279487358, 1.4154279334783628, 1.2899348808855755, 0.8726548065933118, -0.6015714943498202, -0.7296042880756058, 0.847591722445797, 0.2452950717858223, 0.3652032510685531, -0.989541015638144, -1.0671712267739, -1.6527190854808906, 0.2626568109183234, 0.34444372031564013, 0.2280548616843117, 0.40378538957093785, 1.1827357707762025, 1.4498233707993315, -0.36968230700697885, 0.833747934653397, 0.8522650270956144, -0.4270004960378985, 1.6668665772393771, -0.2928581882164255, -0.026452986206500582], \"xaxis\": \"x4\", \"y\": [0.20504070623313753, 0.6286778475688474, -1.1946960815376417, -1.3183627315384152, 0.7287269751944572, 0.8722269481098422, -0.13166269309223982, -1.9357840606631018, 0.4145336921882121, -0.6069916193966661, 0.390215883251644, -0.45734674356014016, 1.193349051418664, 1.235556532466609, 1.6291582358653538, 1.1395764553378547, -0.010775928268597778, 1.206843095845801, -0.9600146154713587, -0.966140199254339, 0.19169949104174405, -0.14918790595603876, 0.5686543373940673, -0.24045778518832012, 0.6366295721983622, 1.1522381506685453, 1.9336345364130645, 2.006996624653642, -0.023025978960075136, 0.18993942931543212, -1.4296539266874184, 0.43382004511192135, -0.7306127696972191, -0.05578944403470869, -0.08472001405877864, -0.1149714121493137, 0.7358612175856649, -0.6923771671588429, -0.25387934755682223, -2.0722680287624553, -0.5165814241979004, 1.6736494345930495, -0.5336323351896277, 1.4616808532371586, 1.2048074779808589, -1.2840849645974888, -0.17814633696158727, 1.0474906379523012, 0.38688412823874413, 0.5918234597806681, -1.3531856261517683, 0.24341156761558463, -0.7017222749850373, 0.6123500849073915, -0.8479136012893379, 1.531831449493807, -0.08902284414868179, -1.8178227460471446, -0.5109149743900608, -0.019596110540417384, -0.6983446018771495, 2.1094904333757407, -0.6311966451758331, -0.7047558807060837, 0.14788823265526901, 1.3716817074401486, 0.014617163284772135, -0.8243567459465074, 0.3123554784595387, 0.006117282091226412, -0.44574685438333156, 0.19146184772892774, -0.510564268279504, 0.8130753024382118, 2.3632960388245143, 2.116807945200409, -0.7750854668514382, 1.1030058690899103, -1.0730902732448744, -0.7826004688457083, -0.19255772560734755, -1.6458945809351144, -1.149219201933772, 0.06545680442591104, 1.2970608422251297, 0.3995935105107383, 1.0046285769041494, 2.6049159767101853, 0.2648980896996127, -1.5712641398967868, -0.7776854787695353, 0.21347068389058088, 0.20585723656867927, 1.9571203104075063, -0.6410346456022266, -0.9414275827775105, 1.2276831536344308, -0.007015283300855964, 0.23646616205819243, -1.2406348171165948], \"yaxis\": \"y4\"}, {\"line\": {\"color\": \"rgba(128, 128, 128, 1.0)\", \"dash\": \"solid\", \"shape\": \"linear\", \"width\": 1.3}, \"marker\": {\"size\": 2, \"symbol\": \"circle\"}, \"mode\": \"markers\", \"name\": \"B\", \"text\": \"\", \"type\": \"scatter\", \"x\": [0.20504070623313753, 0.6286778475688474, -1.1946960815376417, -1.3183627315384152, 0.7287269751944572, 0.8722269481098422, -0.13166269309223982, -1.9357840606631018, 0.4145336921882121, -0.6069916193966661, 0.390215883251644, -0.45734674356014016, 1.193349051418664, 1.235556532466609, 1.6291582358653538, 1.1395764553378547, -0.010775928268597778, 1.206843095845801, -0.9600146154713587, -0.966140199254339, 0.19169949104174405, -0.14918790595603876, 0.5686543373940673, -0.24045778518832012, 0.6366295721983622, 1.1522381506685453, 1.9336345364130645, 2.006996624653642, -0.023025978960075136, 0.18993942931543212, -1.4296539266874184, 0.43382004511192135, -0.7306127696972191, -0.05578944403470869, -0.08472001405877864, -0.1149714121493137, 0.7358612175856649, -0.6923771671588429, -0.25387934755682223, -2.0722680287624553, -0.5165814241979004, 1.6736494345930495, -0.5336323351896277, 1.4616808532371586, 1.2048074779808589, -1.2840849645974888, -0.17814633696158727, 1.0474906379523012, 0.38688412823874413, 0.5918234597806681, -1.3531856261517683, 0.24341156761558463, -0.7017222749850373, 0.6123500849073915, -0.8479136012893379, 1.531831449493807, -0.08902284414868179, -1.8178227460471446, -0.5109149743900608, -0.019596110540417384, -0.6983446018771495, 2.1094904333757407, -0.6311966451758331, -0.7047558807060837, 0.14788823265526901, 1.3716817074401486, 0.014617163284772135, -0.8243567459465074, 0.3123554784595387, 0.006117282091226412, -0.44574685438333156, 0.19146184772892774, -0.510564268279504, 0.8130753024382118, 2.3632960388245143, 2.116807945200409, -0.7750854668514382, 1.1030058690899103, -1.0730902732448744, -0.7826004688457083, -0.19255772560734755, -1.6458945809351144, -1.149219201933772, 0.06545680442591104, 1.2970608422251297, 0.3995935105107383, 1.0046285769041494, 2.6049159767101853, 0.2648980896996127, -1.5712641398967868, -0.7776854787695353, 0.21347068389058088, 0.20585723656867927, 1.9571203104075063, -0.6410346456022266, -0.9414275827775105, 1.2276831536344308, -0.007015283300855964, 0.23646616205819243, -1.2406348171165948], \"xaxis\": \"x5\", \"y\": [-0.5439617119205455, -0.5704148841714516, -1.07662655822544, -0.8474093020614032, -0.4040721263713018, -0.22032162653824705, 0.984810825036386, 0.6459982295599839, 0.9625977558237383, 0.32961616491736717, -0.6383325120225408, 1.7682720359532031, -0.7006348852403254, -0.2562716741210957, -1.2177123975522377, -0.16734060804219206, 0.43907261092386024, -0.18906110667888334, 1.1993281288587738, -0.20811431926451315, -1.0049310034719965, -0.22976703532601245, -0.13894060084069174, 1.2275994471410943, 1.342734485378966, 1.1665077733710503, -0.5434498879083448, -0.4092649210874944, 0.33338528689970426, 0.7670594173207315, 0.7872973798422225, -0.1606048434279647, 0.2843664711766602, 0.571068693668149, -3.086080376151923, -0.4849501045316944, 0.7980458181885236, 0.5868466116667443, -0.9166483893763678, -0.1704246184052833, 0.22117865067943315, -1.3201080068609135, 0.7568133206374094, 2.4676468487452357, -1.068703071956845, -0.6291258641268789, 1.163415410221566, -0.12339604673539196, 0.9367836611456651, -0.24948621721976244, -1.1576699893858196, 1.5757959197628753, 0.27451804126694296, -0.3405120090081654, 0.5495521734370964, 1.0455429042100273, -1.132207339071681, 1.2103819750274107, -0.6528387602045533, 0.06822891946103009, 0.10930141977857291, -1.1210045578232524, -0.37174364013106725, 0.8746799851128227, 0.01530574132809894, -1.5607767191556627, 0.3083227911857838, -1.8757128537357166, -0.05906016862387303, 0.6244298300094971, 0.03480897073112098, -0.8132032260998618, 0.40371608126509506, -0.5250713115573913, -0.3599740532761306, 0.6436866021813002, 0.10040758411756084, 1.106344944184813, -1.164546239406862, -0.6021822918337024, 0.24359876936141814, -0.2115220974504064, 0.9546210335566907, -0.7064555912566168, 0.8642221033273032, 0.876847424360984, 1.6238480437140206, 0.004990774537376512, -0.14310145325778864, 0.4816044490155595, -0.46065909217859663, -0.30586794082918434, 0.8313503097531753, 0.6402120611320695, 0.026544256531318044, 0.04778410984681494, -0.39801425662921003, 0.16233095530239772, 1.0638768169666544, 1.0008761898429492], \"yaxis\": \"y5\"}, {\"histfunc\": \"count\", \"histnorm\": \"\", \"marker\": {\"color\": \"rgba(55, 128, 191, 1.0)\", \"line\": {\"color\": \"#4D5663\", \"width\": 1.3}}, \"name\": \"B\", \"nbinsx\": 10, \"opacity\": 0.8, \"orientation\": \"v\", \"type\": \"histogram\", \"x\": [-0.5439617119205455, -0.5704148841714516, -1.07662655822544, -0.8474093020614032, -0.4040721263713018, -0.22032162653824705, 0.984810825036386, 0.6459982295599839, 0.9625977558237383, 0.32961616491736717, -0.6383325120225408, 1.7682720359532031, -0.7006348852403254, -0.2562716741210957, -1.2177123975522377, -0.16734060804219206, 0.43907261092386024, -0.18906110667888334, 1.1993281288587738, -0.20811431926451315, -1.0049310034719965, -0.22976703532601245, -0.13894060084069174, 1.2275994471410943, 1.342734485378966, 1.1665077733710503, -0.5434498879083448, -0.4092649210874944, 0.33338528689970426, 0.7670594173207315, 0.7872973798422225, -0.1606048434279647, 0.2843664711766602, 0.571068693668149, -3.086080376151923, -0.4849501045316944, 0.7980458181885236, 0.5868466116667443, -0.9166483893763678, -0.1704246184052833, 0.22117865067943315, -1.3201080068609135, 0.7568133206374094, 2.4676468487452357, -1.068703071956845, -0.6291258641268789, 1.163415410221566, -0.12339604673539196, 0.9367836611456651, -0.24948621721976244, -1.1576699893858196, 1.5757959197628753, 0.27451804126694296, -0.3405120090081654, 0.5495521734370964, 1.0455429042100273, -1.132207339071681, 1.2103819750274107, -0.6528387602045533, 0.06822891946103009, 0.10930141977857291, -1.1210045578232524, -0.37174364013106725, 0.8746799851128227, 0.01530574132809894, -1.5607767191556627, 0.3083227911857838, -1.8757128537357166, -0.05906016862387303, 0.6244298300094971, 0.03480897073112098, -0.8132032260998618, 0.40371608126509506, -0.5250713115573913, -0.3599740532761306, 0.6436866021813002, 0.10040758411756084, 1.106344944184813, -1.164546239406862, -0.6021822918337024, 0.24359876936141814, -0.2115220974504064, 0.9546210335566907, -0.7064555912566168, 0.8642221033273032, 0.876847424360984, 1.6238480437140206, 0.004990774537376512, -0.14310145325778864, 0.4816044490155595, -0.46065909217859663, -0.30586794082918434, 0.8313503097531753, 0.6402120611320695, 0.026544256531318044, 0.04778410984681494, -0.39801425662921003, 0.16233095530239772, 1.0638768169666544, 1.0008761898429492], \"xaxis\": \"x6\", \"yaxis\": \"y6\"}, {\"line\": {\"color\": \"rgba(128, 128, 128, 1.0)\", \"dash\": \"solid\", \"shape\": \"linear\", \"width\": 1.3}, \"marker\": {\"size\": 2, \"symbol\": \"circle\"}, \"mode\": \"markers\", \"name\": \"B\", \"text\": \"\", \"type\": \"scatter\", \"x\": [0.5094294545126851, 0.40320328228473257, -1.0451455220014838, 1.9383884793219393, -1.1195269397610115, 0.007417765090974777, 0.0588735676736962, 1.4486831838718595, 0.6033313242291225, 0.2749585077448684, -0.3975965848616199, 0.40541201204441385, -0.5847945348136395, 0.38849113522084433, 0.20767229072108584, -1.240562416080876, 0.039246829653464245, 0.05941618583021419, 0.9176614790601991, -0.35483232024577305, 0.5078628782915157, -1.011774105600354, -0.1293450085950983, -0.8864371882344126, 1.2943503030919112, -1.7673069248291902, 2.0831647828343014, -0.43477937286446927, 0.28146523719576355, 0.5578602649896739, -1.5223462483028096, 0.16964987149178934, -0.5500685263793943, 1.0823050503075229, -0.22916823192201077, -0.38720631890992024, 1.2661048221662239, 0.20356760909533797, 1.1423280831376215, -0.10808753431465522, -0.12024122233150104, -0.944575975802936, -0.013307573927293813, 1.6694692642302944, 0.6112119874177188, -0.3309763442652584, 0.9368716650440161, 0.23094685359448738, -1.0888193741475867, 0.8649949026507499, 0.07248175704709951, -1.3911871480567173, -0.41413527856674165, -0.35613451014051517, -0.37769709607996543, -0.9822669872550984, 0.23265688962331718, 0.4355067814591196, 0.37808281394776455, -0.1688005200796566, 0.16687394542556236, -1.3344462629664737, -1.775767484056754, -0.9198368168608252, -0.5866416401409374, 0.5244749909215155, -0.8994138871176848, -1.036763269847553, -1.0610017578895294, -0.8086138339601849, -0.8380710319350305, -0.3388386019672623, -0.7302582534654624, -0.43943545041860654, -1.5543587253904214, -0.06978371605542653, -0.7403279458242567, -0.5477329264089507, -1.610404914345042, 0.9036656673695966, -1.5524492653440827, -0.9325989144303676, -0.52836395382083, -0.23539265838494322, 1.5416965399965687, 1.5150559132967094, 2.5553518227156022, 0.9790630596152051, -0.14307144844543698, -0.5722196595441038, 1.9600896240619718, -0.7740683236724355, -0.10869666985505544, 1.0662098641450146, -1.6464091275492188, 0.416733138747755, 0.6633543695896578, -0.6354714080392322, 1.230985010227931, 1.4409767652468544], \"xaxis\": \"x7\", \"y\": [-0.5439617119205455, -0.5704148841714516, -1.07662655822544, -0.8474093020614032, -0.4040721263713018, -0.22032162653824705, 0.984810825036386, 0.6459982295599839, 0.9625977558237383, 0.32961616491736717, -0.6383325120225408, 1.7682720359532031, -0.7006348852403254, -0.2562716741210957, -1.2177123975522377, -0.16734060804219206, 0.43907261092386024, -0.18906110667888334, 1.1993281288587738, -0.20811431926451315, -1.0049310034719965, -0.22976703532601245, -0.13894060084069174, 1.2275994471410943, 1.342734485378966, 1.1665077733710503, -0.5434498879083448, -0.4092649210874944, 0.33338528689970426, 0.7670594173207315, 0.7872973798422225, -0.1606048434279647, 0.2843664711766602, 0.571068693668149, -3.086080376151923, -0.4849501045316944, 0.7980458181885236, 0.5868466116667443, -0.9166483893763678, -0.1704246184052833, 0.22117865067943315, -1.3201080068609135, 0.7568133206374094, 2.4676468487452357, -1.068703071956845, -0.6291258641268789, 1.163415410221566, -0.12339604673539196, 0.9367836611456651, -0.24948621721976244, -1.1576699893858196, 1.5757959197628753, 0.27451804126694296, -0.3405120090081654, 0.5495521734370964, 1.0455429042100273, -1.132207339071681, 1.2103819750274107, -0.6528387602045533, 0.06822891946103009, 0.10930141977857291, -1.1210045578232524, -0.37174364013106725, 0.8746799851128227, 0.01530574132809894, -1.5607767191556627, 0.3083227911857838, -1.8757128537357166, -0.05906016862387303, 0.6244298300094971, 0.03480897073112098, -0.8132032260998618, 0.40371608126509506, -0.5250713115573913, -0.3599740532761306, 0.6436866021813002, 0.10040758411756084, 1.106344944184813, -1.164546239406862, -0.6021822918337024, 0.24359876936141814, -0.2115220974504064, 0.9546210335566907, -0.7064555912566168, 0.8642221033273032, 0.876847424360984, 1.6238480437140206, 0.004990774537376512, -0.14310145325778864, 0.4816044490155595, -0.46065909217859663, -0.30586794082918434, 0.8313503097531753, 0.6402120611320695, 0.026544256531318044, 0.04778410984681494, -0.39801425662921003, 0.16233095530239772, 1.0638768169666544, 1.0008761898429492], \"yaxis\": \"y7\"}, {\"line\": {\"color\": \"rgba(128, 128, 128, 1.0)\", \"dash\": \"solid\", \"shape\": \"linear\", \"width\": 1.3}, \"marker\": {\"size\": 2, \"symbol\": \"circle\"}, \"mode\": \"markers\", \"name\": \"B\", \"text\": \"\", \"type\": \"scatter\", \"x\": [0.11067701414348054, 1.8995322956998326, -0.2458432394320379, 0.5377429220354326, 0.20514092068761897, -0.4514663180793488, -0.6610065764537998, -0.5946763351837933, 1.5876322949070458, -0.20862401058171826, 0.10297891792163133, -0.25281160262026575, 1.3249904488014876, -1.0303524275737623, 0.05413589918587864, 0.6514994639942188, 0.1315770990395898, -1.7768578130784867, 1.2519732468659475, 2.107801720963238, 0.6909674782691879, -1.0064250239305974, -1.9594991074877397, 0.44156126672412044, 1.1459098863063357, -1.5562322953726708, 0.4622382708065796, -1.6076151437644994, 0.023769686156858132, 0.04733610495736649, -1.533445919972331, -0.8636934273154958, 0.08484793871903562, -0.6801334318750999, 0.7680009659696321, -0.16175210609800422, 0.09195939858467177, -0.5517240236977996, -1.4050124530469743, 0.41037660662342135, -1.0066194398330242, -0.16519075830470628, 0.3455839201011954, -0.49648252813217847, 0.9893381965952037, 0.9202340449177022, -1.609088491013758, -1.1661792742014891, 1.5009193644049066, -1.8421251199077862, 0.846903260879262, 1.3998383755050907, -1.5369592967746193, -1.156017381011761, -1.1948483504514387, 1.2453651729889548, 0.4901348950358889, -0.6864804088570704, -1.7547217593509994, 1.46449983691902, -1.3709815046087923, 0.4945937199231569, 0.0038774672810933148, -0.7643456565843362, 1.3711319057385063, 2.075066204594895, -0.702239330904679, 0.32041187038173796, 0.19623915605715292, -1.2142958877036816, -0.4414355039880014, 0.3580277034823271, 0.6039910831803721, -0.47911249354579066, 0.8971916936619772, 2.503852279487358, 1.4154279334783628, 1.2899348808855755, 0.8726548065933118, -0.6015714943498202, -0.7296042880756058, 0.847591722445797, 0.2452950717858223, 0.3652032510685531, -0.989541015638144, -1.0671712267739, -1.6527190854808906, 0.2626568109183234, 0.34444372031564013, 0.2280548616843117, 0.40378538957093785, 1.1827357707762025, 1.4498233707993315, -0.36968230700697885, 0.833747934653397, 0.8522650270956144, -0.4270004960378985, 1.6668665772393771, -0.2928581882164255, -0.026452986206500582], \"xaxis\": \"x8\", \"y\": [-0.5439617119205455, -0.5704148841714516, -1.07662655822544, -0.8474093020614032, -0.4040721263713018, -0.22032162653824705, 0.984810825036386, 0.6459982295599839, 0.9625977558237383, 0.32961616491736717, -0.6383325120225408, 1.7682720359532031, -0.7006348852403254, -0.2562716741210957, -1.2177123975522377, -0.16734060804219206, 0.43907261092386024, -0.18906110667888334, 1.1993281288587738, -0.20811431926451315, -1.0049310034719965, -0.22976703532601245, -0.13894060084069174, 1.2275994471410943, 1.342734485378966, 1.1665077733710503, -0.5434498879083448, -0.4092649210874944, 0.33338528689970426, 0.7670594173207315, 0.7872973798422225, -0.1606048434279647, 0.2843664711766602, 0.571068693668149, -3.086080376151923, -0.4849501045316944, 0.7980458181885236, 0.5868466116667443, -0.9166483893763678, -0.1704246184052833, 0.22117865067943315, -1.3201080068609135, 0.7568133206374094, 2.4676468487452357, -1.068703071956845, -0.6291258641268789, 1.163415410221566, -0.12339604673539196, 0.9367836611456651, -0.24948621721976244, -1.1576699893858196, 1.5757959197628753, 0.27451804126694296, -0.3405120090081654, 0.5495521734370964, 1.0455429042100273, -1.132207339071681, 1.2103819750274107, -0.6528387602045533, 0.06822891946103009, 0.10930141977857291, -1.1210045578232524, -0.37174364013106725, 0.8746799851128227, 0.01530574132809894, -1.5607767191556627, 0.3083227911857838, -1.8757128537357166, -0.05906016862387303, 0.6244298300094971, 0.03480897073112098, -0.8132032260998618, 0.40371608126509506, -0.5250713115573913, -0.3599740532761306, 0.6436866021813002, 0.10040758411756084, 1.106344944184813, -1.164546239406862, -0.6021822918337024, 0.24359876936141814, -0.2115220974504064, 0.9546210335566907, -0.7064555912566168, 0.8642221033273032, 0.876847424360984, 1.6238480437140206, 0.004990774537376512, -0.14310145325778864, 0.4816044490155595, -0.46065909217859663, -0.30586794082918434, 0.8313503097531753, 0.6402120611320695, 0.026544256531318044, 0.04778410984681494, -0.39801425662921003, 0.16233095530239772, 1.0638768169666544, 1.0008761898429492], \"yaxis\": \"y8\"}, {\"line\": {\"color\": \"rgba(128, 128, 128, 1.0)\", \"dash\": \"solid\", \"shape\": \"linear\", \"width\": 1.3}, \"marker\": {\"size\": 2, \"symbol\": \"circle\"}, \"mode\": \"markers\", \"name\": \"C\", \"text\": \"\", \"type\": \"scatter\", \"x\": [0.20504070623313753, 0.6286778475688474, -1.1946960815376417, -1.3183627315384152, 0.7287269751944572, 0.8722269481098422, -0.13166269309223982, -1.9357840606631018, 0.4145336921882121, -0.6069916193966661, 0.390215883251644, -0.45734674356014016, 1.193349051418664, 1.235556532466609, 1.6291582358653538, 1.1395764553378547, -0.010775928268597778, 1.206843095845801, -0.9600146154713587, -0.966140199254339, 0.19169949104174405, -0.14918790595603876, 0.5686543373940673, -0.24045778518832012, 0.6366295721983622, 1.1522381506685453, 1.9336345364130645, 2.006996624653642, -0.023025978960075136, 0.18993942931543212, -1.4296539266874184, 0.43382004511192135, -0.7306127696972191, -0.05578944403470869, -0.08472001405877864, -0.1149714121493137, 0.7358612175856649, -0.6923771671588429, -0.25387934755682223, -2.0722680287624553, -0.5165814241979004, 1.6736494345930495, -0.5336323351896277, 1.4616808532371586, 1.2048074779808589, -1.2840849645974888, -0.17814633696158727, 1.0474906379523012, 0.38688412823874413, 0.5918234597806681, -1.3531856261517683, 0.24341156761558463, -0.7017222749850373, 0.6123500849073915, -0.8479136012893379, 1.531831449493807, -0.08902284414868179, -1.8178227460471446, -0.5109149743900608, -0.019596110540417384, -0.6983446018771495, 2.1094904333757407, -0.6311966451758331, -0.7047558807060837, 0.14788823265526901, 1.3716817074401486, 0.014617163284772135, -0.8243567459465074, 0.3123554784595387, 0.006117282091226412, -0.44574685438333156, 0.19146184772892774, -0.510564268279504, 0.8130753024382118, 2.3632960388245143, 2.116807945200409, -0.7750854668514382, 1.1030058690899103, -1.0730902732448744, -0.7826004688457083, -0.19255772560734755, -1.6458945809351144, -1.149219201933772, 0.06545680442591104, 1.2970608422251297, 0.3995935105107383, 1.0046285769041494, 2.6049159767101853, 0.2648980896996127, -1.5712641398967868, -0.7776854787695353, 0.21347068389058088, 0.20585723656867927, 1.9571203104075063, -0.6410346456022266, -0.9414275827775105, 1.2276831536344308, -0.007015283300855964, 0.23646616205819243, -1.2406348171165948], \"xaxis\": \"x9\", \"y\": [0.5094294545126851, 0.40320328228473257, -1.0451455220014838, 1.9383884793219393, -1.1195269397610115, 0.007417765090974777, 0.0588735676736962, 1.4486831838718595, 0.6033313242291225, 0.2749585077448684, -0.3975965848616199, 0.40541201204441385, -0.5847945348136395, 0.38849113522084433, 0.20767229072108584, -1.240562416080876, 0.039246829653464245, 0.05941618583021419, 0.9176614790601991, -0.35483232024577305, 0.5078628782915157, -1.011774105600354, -0.1293450085950983, -0.8864371882344126, 1.2943503030919112, -1.7673069248291902, 2.0831647828343014, -0.43477937286446927, 0.28146523719576355, 0.5578602649896739, -1.5223462483028096, 0.16964987149178934, -0.5500685263793943, 1.0823050503075229, -0.22916823192201077, -0.38720631890992024, 1.2661048221662239, 0.20356760909533797, 1.1423280831376215, -0.10808753431465522, -0.12024122233150104, -0.944575975802936, -0.013307573927293813, 1.6694692642302944, 0.6112119874177188, -0.3309763442652584, 0.9368716650440161, 0.23094685359448738, -1.0888193741475867, 0.8649949026507499, 0.07248175704709951, -1.3911871480567173, -0.41413527856674165, -0.35613451014051517, -0.37769709607996543, -0.9822669872550984, 0.23265688962331718, 0.4355067814591196, 0.37808281394776455, -0.1688005200796566, 0.16687394542556236, -1.3344462629664737, -1.775767484056754, -0.9198368168608252, -0.5866416401409374, 0.5244749909215155, -0.8994138871176848, -1.036763269847553, -1.0610017578895294, -0.8086138339601849, -0.8380710319350305, -0.3388386019672623, -0.7302582534654624, -0.43943545041860654, -1.5543587253904214, -0.06978371605542653, -0.7403279458242567, -0.5477329264089507, -1.610404914345042, 0.9036656673695966, -1.5524492653440827, -0.9325989144303676, -0.52836395382083, -0.23539265838494322, 1.5416965399965687, 1.5150559132967094, 2.5553518227156022, 0.9790630596152051, -0.14307144844543698, -0.5722196595441038, 1.9600896240619718, -0.7740683236724355, -0.10869666985505544, 1.0662098641450146, -1.6464091275492188, 0.416733138747755, 0.6633543695896578, -0.6354714080392322, 1.230985010227931, 1.4409767652468544], \"yaxis\": \"y9\"}, {\"line\": {\"color\": \"rgba(128, 128, 128, 1.0)\", \"dash\": \"solid\", \"shape\": \"linear\", \"width\": 1.3}, \"marker\": {\"size\": 2, \"symbol\": \"circle\"}, \"mode\": \"markers\", \"name\": \"C\", \"text\": \"\", \"type\": \"scatter\", \"x\": [-0.5439617119205455, -0.5704148841714516, -1.07662655822544, -0.8474093020614032, -0.4040721263713018, -0.22032162653824705, 0.984810825036386, 0.6459982295599839, 0.9625977558237383, 0.32961616491736717, -0.6383325120225408, 1.7682720359532031, -0.7006348852403254, -0.2562716741210957, -1.2177123975522377, -0.16734060804219206, 0.43907261092386024, -0.18906110667888334, 1.1993281288587738, -0.20811431926451315, -1.0049310034719965, -0.22976703532601245, -0.13894060084069174, 1.2275994471410943, 1.342734485378966, 1.1665077733710503, -0.5434498879083448, -0.4092649210874944, 0.33338528689970426, 0.7670594173207315, 0.7872973798422225, -0.1606048434279647, 0.2843664711766602, 0.571068693668149, -3.086080376151923, -0.4849501045316944, 0.7980458181885236, 0.5868466116667443, -0.9166483893763678, -0.1704246184052833, 0.22117865067943315, -1.3201080068609135, 0.7568133206374094, 2.4676468487452357, -1.068703071956845, -0.6291258641268789, 1.163415410221566, -0.12339604673539196, 0.9367836611456651, -0.24948621721976244, -1.1576699893858196, 1.5757959197628753, 0.27451804126694296, -0.3405120090081654, 0.5495521734370964, 1.0455429042100273, -1.132207339071681, 1.2103819750274107, -0.6528387602045533, 0.06822891946103009, 0.10930141977857291, -1.1210045578232524, -0.37174364013106725, 0.8746799851128227, 0.01530574132809894, -1.5607767191556627, 0.3083227911857838, -1.8757128537357166, -0.05906016862387303, 0.6244298300094971, 0.03480897073112098, -0.8132032260998618, 0.40371608126509506, -0.5250713115573913, -0.3599740532761306, 0.6436866021813002, 0.10040758411756084, 1.106344944184813, -1.164546239406862, -0.6021822918337024, 0.24359876936141814, -0.2115220974504064, 0.9546210335566907, -0.7064555912566168, 0.8642221033273032, 0.876847424360984, 1.6238480437140206, 0.004990774537376512, -0.14310145325778864, 0.4816044490155595, -0.46065909217859663, -0.30586794082918434, 0.8313503097531753, 0.6402120611320695, 0.026544256531318044, 0.04778410984681494, -0.39801425662921003, 0.16233095530239772, 1.0638768169666544, 1.0008761898429492], \"xaxis\": \"x10\", \"y\": [0.5094294545126851, 0.40320328228473257, -1.0451455220014838, 1.9383884793219393, -1.1195269397610115, 0.007417765090974777, 0.0588735676736962, 1.4486831838718595, 0.6033313242291225, 0.2749585077448684, -0.3975965848616199, 0.40541201204441385, -0.5847945348136395, 0.38849113522084433, 0.20767229072108584, -1.240562416080876, 0.039246829653464245, 0.05941618583021419, 0.9176614790601991, -0.35483232024577305, 0.5078628782915157, -1.011774105600354, -0.1293450085950983, -0.8864371882344126, 1.2943503030919112, -1.7673069248291902, 2.0831647828343014, -0.43477937286446927, 0.28146523719576355, 0.5578602649896739, -1.5223462483028096, 0.16964987149178934, -0.5500685263793943, 1.0823050503075229, -0.22916823192201077, -0.38720631890992024, 1.2661048221662239, 0.20356760909533797, 1.1423280831376215, -0.10808753431465522, -0.12024122233150104, -0.944575975802936, -0.013307573927293813, 1.6694692642302944, 0.6112119874177188, -0.3309763442652584, 0.9368716650440161, 0.23094685359448738, -1.0888193741475867, 0.8649949026507499, 0.07248175704709951, -1.3911871480567173, -0.41413527856674165, -0.35613451014051517, -0.37769709607996543, -0.9822669872550984, 0.23265688962331718, 0.4355067814591196, 0.37808281394776455, -0.1688005200796566, 0.16687394542556236, -1.3344462629664737, -1.775767484056754, -0.9198368168608252, -0.5866416401409374, 0.5244749909215155, -0.8994138871176848, -1.036763269847553, -1.0610017578895294, -0.8086138339601849, -0.8380710319350305, -0.3388386019672623, -0.7302582534654624, -0.43943545041860654, -1.5543587253904214, -0.06978371605542653, -0.7403279458242567, -0.5477329264089507, -1.610404914345042, 0.9036656673695966, -1.5524492653440827, -0.9325989144303676, -0.52836395382083, -0.23539265838494322, 1.5416965399965687, 1.5150559132967094, 2.5553518227156022, 0.9790630596152051, -0.14307144844543698, -0.5722196595441038, 1.9600896240619718, -0.7740683236724355, -0.10869666985505544, 1.0662098641450146, -1.6464091275492188, 0.416733138747755, 0.6633543695896578, -0.6354714080392322, 1.230985010227931, 1.4409767652468544], \"yaxis\": \"y10\"}, {\"histfunc\": \"count\", \"histnorm\": \"\", \"marker\": {\"color\": \"rgba(50, 171, 96, 1.0)\", \"line\": {\"color\": \"#4D5663\", \"width\": 1.3}}, \"name\": \"C\", \"nbinsx\": 10, \"opacity\": 0.8, \"orientation\": \"v\", \"type\": \"histogram\", \"x\": [0.5094294545126851, 0.40320328228473257, -1.0451455220014838, 1.9383884793219393, -1.1195269397610115, 0.007417765090974777, 0.0588735676736962, 1.4486831838718595, 0.6033313242291225, 0.2749585077448684, -0.3975965848616199, 0.40541201204441385, -0.5847945348136395, 0.38849113522084433, 0.20767229072108584, -1.240562416080876, 0.039246829653464245, 0.05941618583021419, 0.9176614790601991, -0.35483232024577305, 0.5078628782915157, -1.011774105600354, -0.1293450085950983, -0.8864371882344126, 1.2943503030919112, -1.7673069248291902, 2.0831647828343014, -0.43477937286446927, 0.28146523719576355, 0.5578602649896739, -1.5223462483028096, 0.16964987149178934, -0.5500685263793943, 1.0823050503075229, -0.22916823192201077, -0.38720631890992024, 1.2661048221662239, 0.20356760909533797, 1.1423280831376215, -0.10808753431465522, -0.12024122233150104, -0.944575975802936, -0.013307573927293813, 1.6694692642302944, 0.6112119874177188, -0.3309763442652584, 0.9368716650440161, 0.23094685359448738, -1.0888193741475867, 0.8649949026507499, 0.07248175704709951, -1.3911871480567173, -0.41413527856674165, -0.35613451014051517, -0.37769709607996543, -0.9822669872550984, 0.23265688962331718, 0.4355067814591196, 0.37808281394776455, -0.1688005200796566, 0.16687394542556236, -1.3344462629664737, -1.775767484056754, -0.9198368168608252, -0.5866416401409374, 0.5244749909215155, -0.8994138871176848, -1.036763269847553, -1.0610017578895294, -0.8086138339601849, -0.8380710319350305, -0.3388386019672623, -0.7302582534654624, -0.43943545041860654, -1.5543587253904214, -0.06978371605542653, -0.7403279458242567, -0.5477329264089507, -1.610404914345042, 0.9036656673695966, -1.5524492653440827, -0.9325989144303676, -0.52836395382083, -0.23539265838494322, 1.5416965399965687, 1.5150559132967094, 2.5553518227156022, 0.9790630596152051, -0.14307144844543698, -0.5722196595441038, 1.9600896240619718, -0.7740683236724355, -0.10869666985505544, 1.0662098641450146, -1.6464091275492188, 0.416733138747755, 0.6633543695896578, -0.6354714080392322, 1.230985010227931, 1.4409767652468544], \"xaxis\": \"x11\", \"yaxis\": \"y11\"}, {\"line\": {\"color\": \"rgba(128, 128, 128, 1.0)\", \"dash\": \"solid\", \"shape\": \"linear\", \"width\": 1.3}, \"marker\": {\"size\": 2, \"symbol\": \"circle\"}, \"mode\": \"markers\", \"name\": \"C\", \"text\": \"\", \"type\": \"scatter\", \"x\": [0.11067701414348054, 1.8995322956998326, -0.2458432394320379, 0.5377429220354326, 0.20514092068761897, -0.4514663180793488, -0.6610065764537998, -0.5946763351837933, 1.5876322949070458, -0.20862401058171826, 0.10297891792163133, -0.25281160262026575, 1.3249904488014876, -1.0303524275737623, 0.05413589918587864, 0.6514994639942188, 0.1315770990395898, -1.7768578130784867, 1.2519732468659475, 2.107801720963238, 0.6909674782691879, -1.0064250239305974, -1.9594991074877397, 0.44156126672412044, 1.1459098863063357, -1.5562322953726708, 0.4622382708065796, -1.6076151437644994, 0.023769686156858132, 0.04733610495736649, -1.533445919972331, -0.8636934273154958, 0.08484793871903562, -0.6801334318750999, 0.7680009659696321, -0.16175210609800422, 0.09195939858467177, -0.5517240236977996, -1.4050124530469743, 0.41037660662342135, -1.0066194398330242, -0.16519075830470628, 0.3455839201011954, -0.49648252813217847, 0.9893381965952037, 0.9202340449177022, -1.609088491013758, -1.1661792742014891, 1.5009193644049066, -1.8421251199077862, 0.846903260879262, 1.3998383755050907, -1.5369592967746193, -1.156017381011761, -1.1948483504514387, 1.2453651729889548, 0.4901348950358889, -0.6864804088570704, -1.7547217593509994, 1.46449983691902, -1.3709815046087923, 0.4945937199231569, 0.0038774672810933148, -0.7643456565843362, 1.3711319057385063, 2.075066204594895, -0.702239330904679, 0.32041187038173796, 0.19623915605715292, -1.2142958877036816, -0.4414355039880014, 0.3580277034823271, 0.6039910831803721, -0.47911249354579066, 0.8971916936619772, 2.503852279487358, 1.4154279334783628, 1.2899348808855755, 0.8726548065933118, -0.6015714943498202, -0.7296042880756058, 0.847591722445797, 0.2452950717858223, 0.3652032510685531, -0.989541015638144, -1.0671712267739, -1.6527190854808906, 0.2626568109183234, 0.34444372031564013, 0.2280548616843117, 0.40378538957093785, 1.1827357707762025, 1.4498233707993315, -0.36968230700697885, 0.833747934653397, 0.8522650270956144, -0.4270004960378985, 1.6668665772393771, -0.2928581882164255, -0.026452986206500582], \"xaxis\": \"x12\", \"y\": [0.5094294545126851, 0.40320328228473257, -1.0451455220014838, 1.9383884793219393, -1.1195269397610115, 0.007417765090974777, 0.0588735676736962, 1.4486831838718595, 0.6033313242291225, 0.2749585077448684, -0.3975965848616199, 0.40541201204441385, -0.5847945348136395, 0.38849113522084433, 0.20767229072108584, -1.240562416080876, 0.039246829653464245, 0.05941618583021419, 0.9176614790601991, -0.35483232024577305, 0.5078628782915157, -1.011774105600354, -0.1293450085950983, -0.8864371882344126, 1.2943503030919112, -1.7673069248291902, 2.0831647828343014, -0.43477937286446927, 0.28146523719576355, 0.5578602649896739, -1.5223462483028096, 0.16964987149178934, -0.5500685263793943, 1.0823050503075229, -0.22916823192201077, -0.38720631890992024, 1.2661048221662239, 0.20356760909533797, 1.1423280831376215, -0.10808753431465522, -0.12024122233150104, -0.944575975802936, -0.013307573927293813, 1.6694692642302944, 0.6112119874177188, -0.3309763442652584, 0.9368716650440161, 0.23094685359448738, -1.0888193741475867, 0.8649949026507499, 0.07248175704709951, -1.3911871480567173, -0.41413527856674165, -0.35613451014051517, -0.37769709607996543, -0.9822669872550984, 0.23265688962331718, 0.4355067814591196, 0.37808281394776455, -0.1688005200796566, 0.16687394542556236, -1.3344462629664737, -1.775767484056754, -0.9198368168608252, -0.5866416401409374, 0.5244749909215155, -0.8994138871176848, -1.036763269847553, -1.0610017578895294, -0.8086138339601849, -0.8380710319350305, -0.3388386019672623, -0.7302582534654624, -0.43943545041860654, -1.5543587253904214, -0.06978371605542653, -0.7403279458242567, -0.5477329264089507, -1.610404914345042, 0.9036656673695966, -1.5524492653440827, -0.9325989144303676, -0.52836395382083, -0.23539265838494322, 1.5416965399965687, 1.5150559132967094, 2.5553518227156022, 0.9790630596152051, -0.14307144844543698, -0.5722196595441038, 1.9600896240619718, -0.7740683236724355, -0.10869666985505544, 1.0662098641450146, -1.6464091275492188, 0.416733138747755, 0.6633543695896578, -0.6354714080392322, 1.230985010227931, 1.4409767652468544], \"yaxis\": \"y12\"}, {\"line\": {\"color\": \"rgba(128, 128, 128, 1.0)\", \"dash\": \"solid\", \"shape\": \"linear\", \"width\": 1.3}, \"marker\": {\"size\": 2, \"symbol\": \"circle\"}, \"mode\": \"markers\", \"name\": \"D\", \"text\": \"\", \"type\": \"scatter\", \"x\": [0.20504070623313753, 0.6286778475688474, -1.1946960815376417, -1.3183627315384152, 0.7287269751944572, 0.8722269481098422, -0.13166269309223982, -1.9357840606631018, 0.4145336921882121, -0.6069916193966661, 0.390215883251644, -0.45734674356014016, 1.193349051418664, 1.235556532466609, 1.6291582358653538, 1.1395764553378547, -0.010775928268597778, 1.206843095845801, -0.9600146154713587, -0.966140199254339, 0.19169949104174405, -0.14918790595603876, 0.5686543373940673, -0.24045778518832012, 0.6366295721983622, 1.1522381506685453, 1.9336345364130645, 2.006996624653642, -0.023025978960075136, 0.18993942931543212, -1.4296539266874184, 0.43382004511192135, -0.7306127696972191, -0.05578944403470869, -0.08472001405877864, -0.1149714121493137, 0.7358612175856649, -0.6923771671588429, -0.25387934755682223, -2.0722680287624553, -0.5165814241979004, 1.6736494345930495, -0.5336323351896277, 1.4616808532371586, 1.2048074779808589, -1.2840849645974888, -0.17814633696158727, 1.0474906379523012, 0.38688412823874413, 0.5918234597806681, -1.3531856261517683, 0.24341156761558463, -0.7017222749850373, 0.6123500849073915, -0.8479136012893379, 1.531831449493807, -0.08902284414868179, -1.8178227460471446, -0.5109149743900608, -0.019596110540417384, -0.6983446018771495, 2.1094904333757407, -0.6311966451758331, -0.7047558807060837, 0.14788823265526901, 1.3716817074401486, 0.014617163284772135, -0.8243567459465074, 0.3123554784595387, 0.006117282091226412, -0.44574685438333156, 0.19146184772892774, -0.510564268279504, 0.8130753024382118, 2.3632960388245143, 2.116807945200409, -0.7750854668514382, 1.1030058690899103, -1.0730902732448744, -0.7826004688457083, -0.19255772560734755, -1.6458945809351144, -1.149219201933772, 0.06545680442591104, 1.2970608422251297, 0.3995935105107383, 1.0046285769041494, 2.6049159767101853, 0.2648980896996127, -1.5712641398967868, -0.7776854787695353, 0.21347068389058088, 0.20585723656867927, 1.9571203104075063, -0.6410346456022266, -0.9414275827775105, 1.2276831536344308, -0.007015283300855964, 0.23646616205819243, -1.2406348171165948], \"xaxis\": \"x13\", \"y\": [0.11067701414348054, 1.8995322956998326, -0.2458432394320379, 0.5377429220354326, 0.20514092068761897, -0.4514663180793488, -0.6610065764537998, -0.5946763351837933, 1.5876322949070458, -0.20862401058171826, 0.10297891792163133, -0.25281160262026575, 1.3249904488014876, -1.0303524275737623, 0.05413589918587864, 0.6514994639942188, 0.1315770990395898, -1.7768578130784867, 1.2519732468659475, 2.107801720963238, 0.6909674782691879, -1.0064250239305974, -1.9594991074877397, 0.44156126672412044, 1.1459098863063357, -1.5562322953726708, 0.4622382708065796, -1.6076151437644994, 0.023769686156858132, 0.04733610495736649, -1.533445919972331, -0.8636934273154958, 0.08484793871903562, -0.6801334318750999, 0.7680009659696321, -0.16175210609800422, 0.09195939858467177, -0.5517240236977996, -1.4050124530469743, 0.41037660662342135, -1.0066194398330242, -0.16519075830470628, 0.3455839201011954, -0.49648252813217847, 0.9893381965952037, 0.9202340449177022, -1.609088491013758, -1.1661792742014891, 1.5009193644049066, -1.8421251199077862, 0.846903260879262, 1.3998383755050907, -1.5369592967746193, -1.156017381011761, -1.1948483504514387, 1.2453651729889548, 0.4901348950358889, -0.6864804088570704, -1.7547217593509994, 1.46449983691902, -1.3709815046087923, 0.4945937199231569, 0.0038774672810933148, -0.7643456565843362, 1.3711319057385063, 2.075066204594895, -0.702239330904679, 0.32041187038173796, 0.19623915605715292, -1.2142958877036816, -0.4414355039880014, 0.3580277034823271, 0.6039910831803721, -0.47911249354579066, 0.8971916936619772, 2.503852279487358, 1.4154279334783628, 1.2899348808855755, 0.8726548065933118, -0.6015714943498202, -0.7296042880756058, 0.847591722445797, 0.2452950717858223, 0.3652032510685531, -0.989541015638144, -1.0671712267739, -1.6527190854808906, 0.2626568109183234, 0.34444372031564013, 0.2280548616843117, 0.40378538957093785, 1.1827357707762025, 1.4498233707993315, -0.36968230700697885, 0.833747934653397, 0.8522650270956144, -0.4270004960378985, 1.6668665772393771, -0.2928581882164255, -0.026452986206500582], \"yaxis\": \"y13\"}, {\"line\": {\"color\": \"rgba(128, 128, 128, 1.0)\", \"dash\": \"solid\", \"shape\": \"linear\", \"width\": 1.3}, \"marker\": {\"size\": 2, \"symbol\": \"circle\"}, \"mode\": \"markers\", \"name\": \"D\", \"text\": \"\", \"type\": \"scatter\", \"x\": [-0.5439617119205455, -0.5704148841714516, -1.07662655822544, -0.8474093020614032, -0.4040721263713018, -0.22032162653824705, 0.984810825036386, 0.6459982295599839, 0.9625977558237383, 0.32961616491736717, -0.6383325120225408, 1.7682720359532031, -0.7006348852403254, -0.2562716741210957, -1.2177123975522377, -0.16734060804219206, 0.43907261092386024, -0.18906110667888334, 1.1993281288587738, -0.20811431926451315, -1.0049310034719965, -0.22976703532601245, -0.13894060084069174, 1.2275994471410943, 1.342734485378966, 1.1665077733710503, -0.5434498879083448, -0.4092649210874944, 0.33338528689970426, 0.7670594173207315, 0.7872973798422225, -0.1606048434279647, 0.2843664711766602, 0.571068693668149, -3.086080376151923, -0.4849501045316944, 0.7980458181885236, 0.5868466116667443, -0.9166483893763678, -0.1704246184052833, 0.22117865067943315, -1.3201080068609135, 0.7568133206374094, 2.4676468487452357, -1.068703071956845, -0.6291258641268789, 1.163415410221566, -0.12339604673539196, 0.9367836611456651, -0.24948621721976244, -1.1576699893858196, 1.5757959197628753, 0.27451804126694296, -0.3405120090081654, 0.5495521734370964, 1.0455429042100273, -1.132207339071681, 1.2103819750274107, -0.6528387602045533, 0.06822891946103009, 0.10930141977857291, -1.1210045578232524, -0.37174364013106725, 0.8746799851128227, 0.01530574132809894, -1.5607767191556627, 0.3083227911857838, -1.8757128537357166, -0.05906016862387303, 0.6244298300094971, 0.03480897073112098, -0.8132032260998618, 0.40371608126509506, -0.5250713115573913, -0.3599740532761306, 0.6436866021813002, 0.10040758411756084, 1.106344944184813, -1.164546239406862, -0.6021822918337024, 0.24359876936141814, -0.2115220974504064, 0.9546210335566907, -0.7064555912566168, 0.8642221033273032, 0.876847424360984, 1.6238480437140206, 0.004990774537376512, -0.14310145325778864, 0.4816044490155595, -0.46065909217859663, -0.30586794082918434, 0.8313503097531753, 0.6402120611320695, 0.026544256531318044, 0.04778410984681494, -0.39801425662921003, 0.16233095530239772, 1.0638768169666544, 1.0008761898429492], \"xaxis\": \"x14\", \"y\": [0.11067701414348054, 1.8995322956998326, -0.2458432394320379, 0.5377429220354326, 0.20514092068761897, -0.4514663180793488, -0.6610065764537998, -0.5946763351837933, 1.5876322949070458, -0.20862401058171826, 0.10297891792163133, -0.25281160262026575, 1.3249904488014876, -1.0303524275737623, 0.05413589918587864, 0.6514994639942188, 0.1315770990395898, -1.7768578130784867, 1.2519732468659475, 2.107801720963238, 0.6909674782691879, -1.0064250239305974, -1.9594991074877397, 0.44156126672412044, 1.1459098863063357, -1.5562322953726708, 0.4622382708065796, -1.6076151437644994, 0.023769686156858132, 0.04733610495736649, -1.533445919972331, -0.8636934273154958, 0.08484793871903562, -0.6801334318750999, 0.7680009659696321, -0.16175210609800422, 0.09195939858467177, -0.5517240236977996, -1.4050124530469743, 0.41037660662342135, -1.0066194398330242, -0.16519075830470628, 0.3455839201011954, -0.49648252813217847, 0.9893381965952037, 0.9202340449177022, -1.609088491013758, -1.1661792742014891, 1.5009193644049066, -1.8421251199077862, 0.846903260879262, 1.3998383755050907, -1.5369592967746193, -1.156017381011761, -1.1948483504514387, 1.2453651729889548, 0.4901348950358889, -0.6864804088570704, -1.7547217593509994, 1.46449983691902, -1.3709815046087923, 0.4945937199231569, 0.0038774672810933148, -0.7643456565843362, 1.3711319057385063, 2.075066204594895, -0.702239330904679, 0.32041187038173796, 0.19623915605715292, -1.2142958877036816, -0.4414355039880014, 0.3580277034823271, 0.6039910831803721, -0.47911249354579066, 0.8971916936619772, 2.503852279487358, 1.4154279334783628, 1.2899348808855755, 0.8726548065933118, -0.6015714943498202, -0.7296042880756058, 0.847591722445797, 0.2452950717858223, 0.3652032510685531, -0.989541015638144, -1.0671712267739, -1.6527190854808906, 0.2626568109183234, 0.34444372031564013, 0.2280548616843117, 0.40378538957093785, 1.1827357707762025, 1.4498233707993315, -0.36968230700697885, 0.833747934653397, 0.8522650270956144, -0.4270004960378985, 1.6668665772393771, -0.2928581882164255, -0.026452986206500582], \"yaxis\": \"y14\"}, {\"line\": {\"color\": \"rgba(128, 128, 128, 1.0)\", \"dash\": \"solid\", \"shape\": \"linear\", \"width\": 1.3}, \"marker\": {\"size\": 2, \"symbol\": \"circle\"}, \"mode\": \"markers\", \"name\": \"D\", \"text\": \"\", \"type\": \"scatter\", \"x\": [0.5094294545126851, 0.40320328228473257, -1.0451455220014838, 1.9383884793219393, -1.1195269397610115, 0.007417765090974777, 0.0588735676736962, 1.4486831838718595, 0.6033313242291225, 0.2749585077448684, -0.3975965848616199, 0.40541201204441385, -0.5847945348136395, 0.38849113522084433, 0.20767229072108584, -1.240562416080876, 0.039246829653464245, 0.05941618583021419, 0.9176614790601991, -0.35483232024577305, 0.5078628782915157, -1.011774105600354, -0.1293450085950983, -0.8864371882344126, 1.2943503030919112, -1.7673069248291902, 2.0831647828343014, -0.43477937286446927, 0.28146523719576355, 0.5578602649896739, -1.5223462483028096, 0.16964987149178934, -0.5500685263793943, 1.0823050503075229, -0.22916823192201077, -0.38720631890992024, 1.2661048221662239, 0.20356760909533797, 1.1423280831376215, -0.10808753431465522, -0.12024122233150104, -0.944575975802936, -0.013307573927293813, 1.6694692642302944, 0.6112119874177188, -0.3309763442652584, 0.9368716650440161, 0.23094685359448738, -1.0888193741475867, 0.8649949026507499, 0.07248175704709951, -1.3911871480567173, -0.41413527856674165, -0.35613451014051517, -0.37769709607996543, -0.9822669872550984, 0.23265688962331718, 0.4355067814591196, 0.37808281394776455, -0.1688005200796566, 0.16687394542556236, -1.3344462629664737, -1.775767484056754, -0.9198368168608252, -0.5866416401409374, 0.5244749909215155, -0.8994138871176848, -1.036763269847553, -1.0610017578895294, -0.8086138339601849, -0.8380710319350305, -0.3388386019672623, -0.7302582534654624, -0.43943545041860654, -1.5543587253904214, -0.06978371605542653, -0.7403279458242567, -0.5477329264089507, -1.610404914345042, 0.9036656673695966, -1.5524492653440827, -0.9325989144303676, -0.52836395382083, -0.23539265838494322, 1.5416965399965687, 1.5150559132967094, 2.5553518227156022, 0.9790630596152051, -0.14307144844543698, -0.5722196595441038, 1.9600896240619718, -0.7740683236724355, -0.10869666985505544, 1.0662098641450146, -1.6464091275492188, 0.416733138747755, 0.6633543695896578, -0.6354714080392322, 1.230985010227931, 1.4409767652468544], \"xaxis\": \"x15\", \"y\": [0.11067701414348054, 1.8995322956998326, -0.2458432394320379, 0.5377429220354326, 0.20514092068761897, -0.4514663180793488, -0.6610065764537998, -0.5946763351837933, 1.5876322949070458, -0.20862401058171826, 0.10297891792163133, -0.25281160262026575, 1.3249904488014876, -1.0303524275737623, 0.05413589918587864, 0.6514994639942188, 0.1315770990395898, -1.7768578130784867, 1.2519732468659475, 2.107801720963238, 0.6909674782691879, -1.0064250239305974, -1.9594991074877397, 0.44156126672412044, 1.1459098863063357, -1.5562322953726708, 0.4622382708065796, -1.6076151437644994, 0.023769686156858132, 0.04733610495736649, -1.533445919972331, -0.8636934273154958, 0.08484793871903562, -0.6801334318750999, 0.7680009659696321, -0.16175210609800422, 0.09195939858467177, -0.5517240236977996, -1.4050124530469743, 0.41037660662342135, -1.0066194398330242, -0.16519075830470628, 0.3455839201011954, -0.49648252813217847, 0.9893381965952037, 0.9202340449177022, -1.609088491013758, -1.1661792742014891, 1.5009193644049066, -1.8421251199077862, 0.846903260879262, 1.3998383755050907, -1.5369592967746193, -1.156017381011761, -1.1948483504514387, 1.2453651729889548, 0.4901348950358889, -0.6864804088570704, -1.7547217593509994, 1.46449983691902, -1.3709815046087923, 0.4945937199231569, 0.0038774672810933148, -0.7643456565843362, 1.3711319057385063, 2.075066204594895, -0.702239330904679, 0.32041187038173796, 0.19623915605715292, -1.2142958877036816, -0.4414355039880014, 0.3580277034823271, 0.6039910831803721, -0.47911249354579066, 0.8971916936619772, 2.503852279487358, 1.4154279334783628, 1.2899348808855755, 0.8726548065933118, -0.6015714943498202, -0.7296042880756058, 0.847591722445797, 0.2452950717858223, 0.3652032510685531, -0.989541015638144, -1.0671712267739, -1.6527190854808906, 0.2626568109183234, 0.34444372031564013, 0.2280548616843117, 0.40378538957093785, 1.1827357707762025, 1.4498233707993315, -0.36968230700697885, 0.833747934653397, 0.8522650270956144, -0.4270004960378985, 1.6668665772393771, -0.2928581882164255, -0.026452986206500582], \"yaxis\": \"y15\"}, {\"histfunc\": \"count\", \"histnorm\": \"\", \"marker\": {\"color\": \"rgba(128, 0, 128, 1.0)\", \"line\": {\"color\": \"#4D5663\", \"width\": 1.3}}, \"name\": \"D\", \"nbinsx\": 10, \"opacity\": 0.8, \"orientation\": \"v\", \"type\": \"histogram\", \"x\": [0.11067701414348054, 1.8995322956998326, -0.2458432394320379, 0.5377429220354326, 0.20514092068761897, -0.4514663180793488, -0.6610065764537998, -0.5946763351837933, 1.5876322949070458, -0.20862401058171826, 0.10297891792163133, -0.25281160262026575, 1.3249904488014876, -1.0303524275737623, 0.05413589918587864, 0.6514994639942188, 0.1315770990395898, -1.7768578130784867, 1.2519732468659475, 2.107801720963238, 0.6909674782691879, -1.0064250239305974, -1.9594991074877397, 0.44156126672412044, 1.1459098863063357, -1.5562322953726708, 0.4622382708065796, -1.6076151437644994, 0.023769686156858132, 0.04733610495736649, -1.533445919972331, -0.8636934273154958, 0.08484793871903562, -0.6801334318750999, 0.7680009659696321, -0.16175210609800422, 0.09195939858467177, -0.5517240236977996, -1.4050124530469743, 0.41037660662342135, -1.0066194398330242, -0.16519075830470628, 0.3455839201011954, -0.49648252813217847, 0.9893381965952037, 0.9202340449177022, -1.609088491013758, -1.1661792742014891, 1.5009193644049066, -1.8421251199077862, 0.846903260879262, 1.3998383755050907, -1.5369592967746193, -1.156017381011761, -1.1948483504514387, 1.2453651729889548, 0.4901348950358889, -0.6864804088570704, -1.7547217593509994, 1.46449983691902, -1.3709815046087923, 0.4945937199231569, 0.0038774672810933148, -0.7643456565843362, 1.3711319057385063, 2.075066204594895, -0.702239330904679, 0.32041187038173796, 0.19623915605715292, -1.2142958877036816, -0.4414355039880014, 0.3580277034823271, 0.6039910831803721, -0.47911249354579066, 0.8971916936619772, 2.503852279487358, 1.4154279334783628, 1.2899348808855755, 0.8726548065933118, -0.6015714943498202, -0.7296042880756058, 0.847591722445797, 0.2452950717858223, 0.3652032510685531, -0.989541015638144, -1.0671712267739, -1.6527190854808906, 0.2626568109183234, 0.34444372031564013, 0.2280548616843117, 0.40378538957093785, 1.1827357707762025, 1.4498233707993315, -0.36968230700697885, 0.833747934653397, 0.8522650270956144, -0.4270004960378985, 1.6668665772393771, -0.2928581882164255, -0.026452986206500582], \"xaxis\": \"x16\", \"yaxis\": \"y16\"}],                        {\"bargap\": 0.02, \"legend\": {\"bgcolor\": \"#F5F6F9\", \"font\": {\"color\": \"#4D5663\"}}, \"paper_bgcolor\": \"#F5F6F9\", \"plot_bgcolor\": \"#F5F6F9\", \"showlegend\": false, \"template\": {\"data\": {\"bar\": [{\"error_x\": {\"color\": \"#2a3f5f\"}, \"error_y\": {\"color\": \"#2a3f5f\"}, \"marker\": {\"line\": {\"color\": \"#E5ECF6\", \"width\": 0.5}}, \"type\": \"bar\"}], \"barpolar\": [{\"marker\": {\"line\": {\"color\": \"#E5ECF6\", \"width\": 0.5}}, \"type\": \"barpolar\"}], \"carpet\": [{\"aaxis\": {\"endlinecolor\": \"#2a3f5f\", \"gridcolor\": \"white\", \"linecolor\": \"white\", \"minorgridcolor\": \"white\", \"startlinecolor\": \"#2a3f5f\"}, \"baxis\": {\"endlinecolor\": \"#2a3f5f\", \"gridcolor\": \"white\", \"linecolor\": \"white\", \"minorgridcolor\": \"white\", \"startlinecolor\": \"#2a3f5f\"}, \"type\": \"carpet\"}], \"choropleth\": [{\"colorbar\": {\"outlinewidth\": 0, \"ticks\": \"\"}, \"type\": \"choropleth\"}], \"contour\": [{\"colorbar\": {\"outlinewidth\": 0, \"ticks\": \"\"}, \"colorscale\": [[0.0, \"#0d0887\"], [0.1111111111111111, \"#46039f\"], [0.2222222222222222, \"#7201a8\"], [0.3333333333333333, \"#9c179e\"], [0.4444444444444444, \"#bd3786\"], [0.5555555555555556, \"#d8576b\"], [0.6666666666666666, \"#ed7953\"], [0.7777777777777778, \"#fb9f3a\"], [0.8888888888888888, \"#fdca26\"], [1.0, \"#f0f921\"]], \"type\": \"contour\"}], \"contourcarpet\": [{\"colorbar\": {\"outlinewidth\": 0, \"ticks\": \"\"}, \"type\": \"contourcarpet\"}], \"heatmap\": [{\"colorbar\": {\"outlinewidth\": 0, \"ticks\": \"\"}, \"colorscale\": [[0.0, \"#0d0887\"], [0.1111111111111111, \"#46039f\"], [0.2222222222222222, \"#7201a8\"], [0.3333333333333333, \"#9c179e\"], [0.4444444444444444, \"#bd3786\"], [0.5555555555555556, \"#d8576b\"], [0.6666666666666666, \"#ed7953\"], [0.7777777777777778, \"#fb9f3a\"], [0.8888888888888888, \"#fdca26\"], [1.0, \"#f0f921\"]], \"type\": \"heatmap\"}], \"heatmapgl\": [{\"colorbar\": {\"outlinewidth\": 0, \"ticks\": \"\"}, \"colorscale\": [[0.0, \"#0d0887\"], [0.1111111111111111, \"#46039f\"], [0.2222222222222222, \"#7201a8\"], [0.3333333333333333, \"#9c179e\"], [0.4444444444444444, \"#bd3786\"], [0.5555555555555556, \"#d8576b\"], [0.6666666666666666, \"#ed7953\"], [0.7777777777777778, \"#fb9f3a\"], [0.8888888888888888, \"#fdca26\"], [1.0, \"#f0f921\"]], \"type\": \"heatmapgl\"}], \"histogram\": [{\"marker\": {\"colorbar\": {\"outlinewidth\": 0, \"ticks\": \"\"}}, \"type\": \"histogram\"}], \"histogram2d\": [{\"colorbar\": {\"outlinewidth\": 0, \"ticks\": \"\"}, \"colorscale\": [[0.0, \"#0d0887\"], [0.1111111111111111, \"#46039f\"], [0.2222222222222222, \"#7201a8\"], [0.3333333333333333, \"#9c179e\"], [0.4444444444444444, \"#bd3786\"], [0.5555555555555556, \"#d8576b\"], [0.6666666666666666, \"#ed7953\"], [0.7777777777777778, \"#fb9f3a\"], [0.8888888888888888, \"#fdca26\"], [1.0, \"#f0f921\"]], \"type\": \"histogram2d\"}], \"histogram2dcontour\": [{\"colorbar\": {\"outlinewidth\": 0, \"ticks\": \"\"}, \"colorscale\": [[0.0, \"#0d0887\"], [0.1111111111111111, \"#46039f\"], [0.2222222222222222, \"#7201a8\"], [0.3333333333333333, \"#9c179e\"], [0.4444444444444444, \"#bd3786\"], [0.5555555555555556, \"#d8576b\"], [0.6666666666666666, \"#ed7953\"], [0.7777777777777778, \"#fb9f3a\"], [0.8888888888888888, \"#fdca26\"], [1.0, \"#f0f921\"]], \"type\": \"histogram2dcontour\"}], \"mesh3d\": [{\"colorbar\": {\"outlinewidth\": 0, \"ticks\": \"\"}, \"type\": \"mesh3d\"}], \"parcoords\": [{\"line\": {\"colorbar\": {\"outlinewidth\": 0, \"ticks\": \"\"}}, \"type\": \"parcoords\"}], \"pie\": [{\"automargin\": true, \"type\": \"pie\"}], \"scatter\": [{\"marker\": {\"colorbar\": {\"outlinewidth\": 0, \"ticks\": \"\"}}, \"type\": \"scatter\"}], \"scatter3d\": [{\"line\": {\"colorbar\": {\"outlinewidth\": 0, \"ticks\": \"\"}}, \"marker\": {\"colorbar\": {\"outlinewidth\": 0, \"ticks\": \"\"}}, \"type\": \"scatter3d\"}], \"scattercarpet\": [{\"marker\": {\"colorbar\": {\"outlinewidth\": 0, \"ticks\": \"\"}}, \"type\": \"scattercarpet\"}], \"scattergeo\": [{\"marker\": {\"colorbar\": {\"outlinewidth\": 0, \"ticks\": \"\"}}, \"type\": \"scattergeo\"}], \"scattergl\": [{\"marker\": {\"colorbar\": {\"outlinewidth\": 0, \"ticks\": \"\"}}, \"type\": \"scattergl\"}], \"scattermapbox\": [{\"marker\": {\"colorbar\": {\"outlinewidth\": 0, \"ticks\": \"\"}}, \"type\": \"scattermapbox\"}], \"scatterpolar\": [{\"marker\": {\"colorbar\": {\"outlinewidth\": 0, \"ticks\": \"\"}}, \"type\": \"scatterpolar\"}], \"scatterpolargl\": [{\"marker\": {\"colorbar\": {\"outlinewidth\": 0, \"ticks\": \"\"}}, \"type\": \"scatterpolargl\"}], \"scatterternary\": [{\"marker\": {\"colorbar\": {\"outlinewidth\": 0, \"ticks\": \"\"}}, \"type\": \"scatterternary\"}], \"surface\": [{\"colorbar\": {\"outlinewidth\": 0, \"ticks\": \"\"}, \"colorscale\": [[0.0, \"#0d0887\"], [0.1111111111111111, \"#46039f\"], [0.2222222222222222, \"#7201a8\"], [0.3333333333333333, \"#9c179e\"], [0.4444444444444444, \"#bd3786\"], [0.5555555555555556, \"#d8576b\"], [0.6666666666666666, \"#ed7953\"], [0.7777777777777778, \"#fb9f3a\"], [0.8888888888888888, \"#fdca26\"], [1.0, \"#f0f921\"]], \"type\": \"surface\"}], \"table\": [{\"cells\": {\"fill\": {\"color\": \"#EBF0F8\"}, \"line\": {\"color\": \"white\"}}, \"header\": {\"fill\": {\"color\": \"#C8D4E3\"}, \"line\": {\"color\": \"white\"}}, \"type\": \"table\"}]}, \"layout\": {\"annotationdefaults\": {\"arrowcolor\": \"#2a3f5f\", \"arrowhead\": 0, \"arrowwidth\": 1}, \"autotypenumbers\": \"strict\", \"coloraxis\": {\"colorbar\": {\"outlinewidth\": 0, \"ticks\": \"\"}}, \"colorscale\": {\"diverging\": [[0, \"#8e0152\"], [0.1, \"#c51b7d\"], [0.2, \"#de77ae\"], [0.3, \"#f1b6da\"], [0.4, \"#fde0ef\"], [0.5, \"#f7f7f7\"], [0.6, \"#e6f5d0\"], [0.7, \"#b8e186\"], [0.8, \"#7fbc41\"], [0.9, \"#4d9221\"], [1, \"#276419\"]], \"sequential\": [[0.0, \"#0d0887\"], [0.1111111111111111, \"#46039f\"], [0.2222222222222222, \"#7201a8\"], [0.3333333333333333, \"#9c179e\"], [0.4444444444444444, \"#bd3786\"], [0.5555555555555556, \"#d8576b\"], [0.6666666666666666, \"#ed7953\"], [0.7777777777777778, \"#fb9f3a\"], [0.8888888888888888, \"#fdca26\"], [1.0, \"#f0f921\"]], \"sequentialminus\": [[0.0, \"#0d0887\"], [0.1111111111111111, \"#46039f\"], [0.2222222222222222, \"#7201a8\"], [0.3333333333333333, \"#9c179e\"], [0.4444444444444444, \"#bd3786\"], [0.5555555555555556, \"#d8576b\"], [0.6666666666666666, \"#ed7953\"], [0.7777777777777778, \"#fb9f3a\"], [0.8888888888888888, \"#fdca26\"], [1.0, \"#f0f921\"]]}, \"colorway\": [\"#636efa\", \"#EF553B\", \"#00cc96\", \"#ab63fa\", \"#FFA15A\", \"#19d3f3\", \"#FF6692\", \"#B6E880\", \"#FF97FF\", \"#FECB52\"], \"font\": {\"color\": \"#2a3f5f\"}, \"geo\": {\"bgcolor\": \"white\", \"lakecolor\": \"white\", \"landcolor\": \"#E5ECF6\", \"showlakes\": true, \"showland\": true, \"subunitcolor\": \"white\"}, \"hoverlabel\": {\"align\": \"left\"}, \"hovermode\": \"closest\", \"mapbox\": {\"style\": \"light\"}, \"paper_bgcolor\": \"white\", \"plot_bgcolor\": \"#E5ECF6\", \"polar\": {\"angularaxis\": {\"gridcolor\": \"white\", \"linecolor\": \"white\", \"ticks\": \"\"}, \"bgcolor\": \"#E5ECF6\", \"radialaxis\": {\"gridcolor\": \"white\", \"linecolor\": \"white\", \"ticks\": \"\"}}, \"scene\": {\"xaxis\": {\"backgroundcolor\": \"#E5ECF6\", \"gridcolor\": \"white\", \"gridwidth\": 2, \"linecolor\": \"white\", \"showbackground\": true, \"ticks\": \"\", \"zerolinecolor\": \"white\"}, \"yaxis\": {\"backgroundcolor\": \"#E5ECF6\", \"gridcolor\": \"white\", \"gridwidth\": 2, \"linecolor\": \"white\", \"showbackground\": true, \"ticks\": \"\", \"zerolinecolor\": \"white\"}, \"zaxis\": {\"backgroundcolor\": \"#E5ECF6\", \"gridcolor\": \"white\", \"gridwidth\": 2, \"linecolor\": \"white\", \"showbackground\": true, \"ticks\": \"\", \"zerolinecolor\": \"white\"}}, \"shapedefaults\": {\"line\": {\"color\": \"#2a3f5f\"}}, \"ternary\": {\"aaxis\": {\"gridcolor\": \"white\", \"linecolor\": \"white\", \"ticks\": \"\"}, \"baxis\": {\"gridcolor\": \"white\", \"linecolor\": \"white\", \"ticks\": \"\"}, \"bgcolor\": \"#E5ECF6\", \"caxis\": {\"gridcolor\": \"white\", \"linecolor\": \"white\", \"ticks\": \"\"}}, \"title\": {\"x\": 0.05}, \"xaxis\": {\"automargin\": true, \"gridcolor\": \"white\", \"linecolor\": \"white\", \"ticks\": \"\", \"title\": {\"standoff\": 15}, \"zerolinecolor\": \"white\", \"zerolinewidth\": 2}, \"yaxis\": {\"automargin\": true, \"gridcolor\": \"white\", \"linecolor\": \"white\", \"ticks\": \"\", \"title\": {\"standoff\": 15}, \"zerolinecolor\": \"white\", \"zerolinewidth\": 2}}}, \"title\": {\"font\": {\"color\": \"#4D5663\"}}, \"xaxis\": {\"anchor\": \"y\", \"domain\": [0.0, 0.2125], \"gridcolor\": \"#E1E5ED\", \"showgrid\": false, \"tickfont\": {\"color\": \"#4D5663\"}, \"title\": {\"font\": {\"color\": \"#4D5663\"}, \"text\": \"\"}, \"zerolinecolor\": \"#E1E5ED\"}, \"xaxis10\": {\"anchor\": \"y10\", \"domain\": [0.2625, 0.475], \"gridcolor\": \"#E1E5ED\", \"showgrid\": false, \"tickfont\": {\"color\": \"#4D5663\"}, \"title\": {\"font\": {\"color\": \"#4D5663\"}, \"text\": \"\"}, \"zerolinecolor\": \"#E1E5ED\"}, \"xaxis11\": {\"anchor\": \"y11\", \"domain\": [0.525, 0.7375], \"gridcolor\": \"#E1E5ED\", \"showgrid\": false, \"tickfont\": {\"color\": \"#4D5663\"}, \"title\": {\"font\": {\"color\": \"#4D5663\"}, \"text\": \"\"}, \"zerolinecolor\": \"#E1E5ED\"}, \"xaxis12\": {\"anchor\": \"y12\", \"domain\": [0.7875, 1.0], \"gridcolor\": \"#E1E5ED\", \"showgrid\": false, \"tickfont\": {\"color\": \"#4D5663\"}, \"title\": {\"font\": {\"color\": \"#4D5663\"}, \"text\": \"\"}, \"zerolinecolor\": \"#E1E5ED\"}, \"xaxis13\": {\"anchor\": \"y13\", \"domain\": [0.0, 0.2125], \"gridcolor\": \"#E1E5ED\", \"showgrid\": false, \"tickfont\": {\"color\": \"#4D5663\"}, \"title\": {\"font\": {\"color\": \"#4D5663\"}, \"text\": \"\"}, \"zerolinecolor\": \"#E1E5ED\"}, \"xaxis14\": {\"anchor\": \"y14\", \"domain\": [0.2625, 0.475], \"gridcolor\": \"#E1E5ED\", \"showgrid\": false, \"tickfont\": {\"color\": \"#4D5663\"}, \"title\": {\"font\": {\"color\": \"#4D5663\"}, \"text\": \"\"}, \"zerolinecolor\": \"#E1E5ED\"}, \"xaxis15\": {\"anchor\": \"y15\", \"domain\": [0.525, 0.7375], \"gridcolor\": \"#E1E5ED\", \"showgrid\": false, \"tickfont\": {\"color\": \"#4D5663\"}, \"title\": {\"font\": {\"color\": \"#4D5663\"}, \"text\": \"\"}, \"zerolinecolor\": \"#E1E5ED\"}, \"xaxis16\": {\"anchor\": \"y16\", \"domain\": [0.7875, 1.0], \"gridcolor\": \"#E1E5ED\", \"showgrid\": false, \"tickfont\": {\"color\": \"#4D5663\"}, \"title\": {\"font\": {\"color\": \"#4D5663\"}, \"text\": \"\"}, \"zerolinecolor\": \"#E1E5ED\"}, \"xaxis2\": {\"anchor\": \"y2\", \"domain\": [0.2625, 0.475], \"gridcolor\": \"#E1E5ED\", \"showgrid\": false, \"tickfont\": {\"color\": \"#4D5663\"}, \"title\": {\"font\": {\"color\": \"#4D5663\"}, \"text\": \"\"}, \"zerolinecolor\": \"#E1E5ED\"}, \"xaxis3\": {\"anchor\": \"y3\", \"domain\": [0.525, 0.7375], \"gridcolor\": \"#E1E5ED\", \"showgrid\": false, \"tickfont\": {\"color\": \"#4D5663\"}, \"title\": {\"font\": {\"color\": \"#4D5663\"}, \"text\": \"\"}, \"zerolinecolor\": \"#E1E5ED\"}, \"xaxis4\": {\"anchor\": \"y4\", \"domain\": [0.7875, 1.0], \"gridcolor\": \"#E1E5ED\", \"showgrid\": false, \"tickfont\": {\"color\": \"#4D5663\"}, \"title\": {\"font\": {\"color\": \"#4D5663\"}, \"text\": \"\"}, \"zerolinecolor\": \"#E1E5ED\"}, \"xaxis5\": {\"anchor\": \"y5\", \"domain\": [0.0, 0.2125], \"gridcolor\": \"#E1E5ED\", \"showgrid\": false, \"tickfont\": {\"color\": \"#4D5663\"}, \"title\": {\"font\": {\"color\": \"#4D5663\"}, \"text\": \"\"}, \"zerolinecolor\": \"#E1E5ED\"}, \"xaxis6\": {\"anchor\": \"y6\", \"domain\": [0.2625, 0.475], \"gridcolor\": \"#E1E5ED\", \"showgrid\": false, \"tickfont\": {\"color\": \"#4D5663\"}, \"title\": {\"font\": {\"color\": \"#4D5663\"}, \"text\": \"\"}, \"zerolinecolor\": \"#E1E5ED\"}, \"xaxis7\": {\"anchor\": \"y7\", \"domain\": [0.525, 0.7375], \"gridcolor\": \"#E1E5ED\", \"showgrid\": false, \"tickfont\": {\"color\": \"#4D5663\"}, \"title\": {\"font\": {\"color\": \"#4D5663\"}, \"text\": \"\"}, \"zerolinecolor\": \"#E1E5ED\"}, \"xaxis8\": {\"anchor\": \"y8\", \"domain\": [0.7875, 1.0], \"gridcolor\": \"#E1E5ED\", \"showgrid\": false, \"tickfont\": {\"color\": \"#4D5663\"}, \"title\": {\"font\": {\"color\": \"#4D5663\"}, \"text\": \"\"}, \"zerolinecolor\": \"#E1E5ED\"}, \"xaxis9\": {\"anchor\": \"y9\", \"domain\": [0.0, 0.2125], \"gridcolor\": \"#E1E5ED\", \"showgrid\": false, \"tickfont\": {\"color\": \"#4D5663\"}, \"title\": {\"font\": {\"color\": \"#4D5663\"}, \"text\": \"\"}, \"zerolinecolor\": \"#E1E5ED\"}, \"yaxis\": {\"anchor\": \"x\", \"domain\": [0.8025, 1.0], \"gridcolor\": \"#E1E5ED\", \"showgrid\": false, \"tickfont\": {\"color\": \"#4D5663\"}, \"title\": {\"font\": {\"color\": \"#4D5663\"}, \"text\": \"\"}, \"zerolinecolor\": \"#E1E5ED\"}, \"yaxis10\": {\"anchor\": \"x10\", \"domain\": [0.2675, 0.465], \"gridcolor\": \"#E1E5ED\", \"showgrid\": false, \"tickfont\": {\"color\": \"#4D5663\"}, \"title\": {\"font\": {\"color\": \"#4D5663\"}, \"text\": \"\"}, \"zerolinecolor\": \"#E1E5ED\"}, \"yaxis11\": {\"anchor\": \"x11\", \"domain\": [0.2675, 0.465], \"gridcolor\": \"#E1E5ED\", \"showgrid\": false, \"tickfont\": {\"color\": \"#4D5663\"}, \"title\": {\"font\": {\"color\": \"#4D5663\"}, \"text\": \"\"}, \"zerolinecolor\": \"#E1E5ED\"}, \"yaxis12\": {\"anchor\": \"x12\", \"domain\": [0.2675, 0.465], \"gridcolor\": \"#E1E5ED\", \"showgrid\": false, \"tickfont\": {\"color\": \"#4D5663\"}, \"title\": {\"font\": {\"color\": \"#4D5663\"}, \"text\": \"\"}, \"zerolinecolor\": \"#E1E5ED\"}, \"yaxis13\": {\"anchor\": \"x13\", \"domain\": [0.0, 0.1975], \"gridcolor\": \"#E1E5ED\", \"showgrid\": false, \"tickfont\": {\"color\": \"#4D5663\"}, \"title\": {\"font\": {\"color\": \"#4D5663\"}, \"text\": \"\"}, \"zerolinecolor\": \"#E1E5ED\"}, \"yaxis14\": {\"anchor\": \"x14\", \"domain\": [0.0, 0.1975], \"gridcolor\": \"#E1E5ED\", \"showgrid\": false, \"tickfont\": {\"color\": \"#4D5663\"}, \"title\": {\"font\": {\"color\": \"#4D5663\"}, \"text\": \"\"}, \"zerolinecolor\": \"#E1E5ED\"}, \"yaxis15\": {\"anchor\": \"x15\", \"domain\": [0.0, 0.1975], \"gridcolor\": \"#E1E5ED\", \"showgrid\": false, \"tickfont\": {\"color\": \"#4D5663\"}, \"title\": {\"font\": {\"color\": \"#4D5663\"}, \"text\": \"\"}, \"zerolinecolor\": \"#E1E5ED\"}, \"yaxis16\": {\"anchor\": \"x16\", \"domain\": [0.0, 0.1975], \"gridcolor\": \"#E1E5ED\", \"showgrid\": false, \"tickfont\": {\"color\": \"#4D5663\"}, \"title\": {\"font\": {\"color\": \"#4D5663\"}, \"text\": \"\"}, \"zerolinecolor\": \"#E1E5ED\"}, \"yaxis2\": {\"anchor\": \"x2\", \"domain\": [0.8025, 1.0], \"gridcolor\": \"#E1E5ED\", \"showgrid\": false, \"tickfont\": {\"color\": \"#4D5663\"}, \"title\": {\"font\": {\"color\": \"#4D5663\"}, \"text\": \"\"}, \"zerolinecolor\": \"#E1E5ED\"}, \"yaxis3\": {\"anchor\": \"x3\", \"domain\": [0.8025, 1.0], \"gridcolor\": \"#E1E5ED\", \"showgrid\": false, \"tickfont\": {\"color\": \"#4D5663\"}, \"title\": {\"font\": {\"color\": \"#4D5663\"}, \"text\": \"\"}, \"zerolinecolor\": \"#E1E5ED\"}, \"yaxis4\": {\"anchor\": \"x4\", \"domain\": [0.8025, 1.0], \"gridcolor\": \"#E1E5ED\", \"showgrid\": false, \"tickfont\": {\"color\": \"#4D5663\"}, \"title\": {\"font\": {\"color\": \"#4D5663\"}, \"text\": \"\"}, \"zerolinecolor\": \"#E1E5ED\"}, \"yaxis5\": {\"anchor\": \"x5\", \"domain\": [0.535, 0.7325], \"gridcolor\": \"#E1E5ED\", \"showgrid\": false, \"tickfont\": {\"color\": \"#4D5663\"}, \"title\": {\"font\": {\"color\": \"#4D5663\"}, \"text\": \"\"}, \"zerolinecolor\": \"#E1E5ED\"}, \"yaxis6\": {\"anchor\": \"x6\", \"domain\": [0.535, 0.7325], \"gridcolor\": \"#E1E5ED\", \"showgrid\": false, \"tickfont\": {\"color\": \"#4D5663\"}, \"title\": {\"font\": {\"color\": \"#4D5663\"}, \"text\": \"\"}, \"zerolinecolor\": \"#E1E5ED\"}, \"yaxis7\": {\"anchor\": \"x7\", \"domain\": [0.535, 0.7325], \"gridcolor\": \"#E1E5ED\", \"showgrid\": false, \"tickfont\": {\"color\": \"#4D5663\"}, \"title\": {\"font\": {\"color\": \"#4D5663\"}, \"text\": \"\"}, \"zerolinecolor\": \"#E1E5ED\"}, \"yaxis8\": {\"anchor\": \"x8\", \"domain\": [0.535, 0.7325], \"gridcolor\": \"#E1E5ED\", \"showgrid\": false, \"tickfont\": {\"color\": \"#4D5663\"}, \"title\": {\"font\": {\"color\": \"#4D5663\"}, \"text\": \"\"}, \"zerolinecolor\": \"#E1E5ED\"}, \"yaxis9\": {\"anchor\": \"x9\", \"domain\": [0.2675, 0.465], \"gridcolor\": \"#E1E5ED\", \"showgrid\": false, \"tickfont\": {\"color\": \"#4D5663\"}, \"title\": {\"font\": {\"color\": \"#4D5663\"}, \"text\": \"\"}, \"zerolinecolor\": \"#E1E5ED\"}},                        {\"showLink\": true, \"linkText\": \"Export to plot.ly\", \"plotlyServerURL\": \"https://plot.ly\", \"responsive\": true}                    ).then(function(){\n",
       "                            \n",
       "var gd = document.getElementById('3d98cf90-463c-44a0-83a4-31aa2370323b');\n",
       "var x = new MutationObserver(function (mutations, observer) {{\n",
       "        var display = window.getComputedStyle(gd).display;\n",
       "        if (!display || display === 'none') {{\n",
       "            console.log([gd, 'removed!']);\n",
       "            Plotly.purge(gd);\n",
       "            observer.disconnect();\n",
       "        }}\n",
       "}});\n",
       "\n",
       "// Listen for the removal of the full notebook cells\n",
       "var notebookContainer = gd.closest('#notebook-container');\n",
       "if (notebookContainer) {{\n",
       "    x.observe(notebookContainer, {childList: true});\n",
       "}}\n",
       "\n",
       "// Listen for the clearing of the current output cell\n",
       "var outputEl = gd.closest('.output');\n",
       "if (outputEl) {{\n",
       "    x.observe(outputEl, {childList: true});\n",
       "}}\n",
       "\n",
       "                        })                };                });            </script>        </div>"
      ]
     },
     "metadata": {},
     "output_type": "display_data"
    }
   ],
   "source": [
    "df.scatter_matrix()"
   ]
  },
  {
   "cell_type": "code",
   "execution_count": 47,
   "metadata": {},
   "outputs": [
    {
     "data": {
      "application/vnd.plotly.v1+json": {
       "config": {
        "linkText": "Export to plot.ly",
        "plotlyServerURL": "https://plot.ly",
        "showLink": true
       },
       "data": [
        {
         "line": {
          "color": "rgba(255, 153, 51, 1.0)",
          "dash": "solid",
          "shape": "linear",
          "width": 1.3
         },
         "mode": "lines",
         "name": "A",
         "text": "",
         "type": "scatter",
         "x": [
          0,
          1,
          2,
          3,
          4,
          5,
          6,
          7,
          8,
          9,
          10,
          11,
          12,
          13,
          14,
          15,
          16,
          17,
          18,
          19,
          20,
          21,
          22,
          23,
          24,
          25,
          26,
          27,
          28,
          29,
          30,
          31,
          32,
          33,
          34,
          35,
          36,
          37,
          38,
          39,
          40,
          41,
          42,
          43,
          44,
          45,
          46,
          47,
          48,
          49,
          50,
          51,
          52,
          53,
          54,
          55,
          56,
          57,
          58,
          59,
          60,
          61,
          62,
          63,
          64,
          65,
          66,
          67,
          68,
          69,
          70,
          71,
          72,
          73,
          74,
          75,
          76,
          77,
          78,
          79,
          80,
          81,
          82,
          83,
          84,
          85,
          86,
          87,
          88,
          89,
          90,
          91,
          92,
          93,
          94,
          95,
          96,
          97,
          98,
          99
         ],
         "y": [
          0.20504070623313753,
          0.6286778475688474,
          -1.1946960815376417,
          -1.3183627315384152,
          0.7287269751944572,
          0.8722269481098422,
          -0.13166269309223982,
          -1.9357840606631018,
          0.4145336921882121,
          -0.6069916193966661,
          0.390215883251644,
          -0.45734674356014016,
          1.193349051418664,
          1.235556532466609,
          1.6291582358653538,
          1.1395764553378547,
          -0.010775928268597778,
          1.206843095845801,
          -0.9600146154713587,
          -0.966140199254339,
          0.19169949104174405,
          -0.14918790595603876,
          0.5686543373940673,
          -0.24045778518832012,
          0.6366295721983622,
          1.1522381506685453,
          1.9336345364130645,
          2.006996624653642,
          -0.023025978960075136,
          0.18993942931543212,
          -1.4296539266874184,
          0.43382004511192135,
          -0.7306127696972191,
          -0.05578944403470869,
          -0.08472001405877864,
          -0.1149714121493137,
          0.7358612175856649,
          -0.6923771671588429,
          -0.25387934755682223,
          -2.0722680287624553,
          -0.5165814241979004,
          1.6736494345930495,
          -0.5336323351896277,
          1.4616808532371586,
          1.2048074779808589,
          -1.2840849645974888,
          -0.17814633696158727,
          1.0474906379523012,
          0.38688412823874413,
          0.5918234597806681,
          -1.3531856261517683,
          0.24341156761558463,
          -0.7017222749850373,
          0.6123500849073915,
          -0.8479136012893379,
          1.531831449493807,
          -0.08902284414868179,
          -1.8178227460471446,
          -0.5109149743900608,
          -0.019596110540417384,
          -0.6983446018771495,
          2.1094904333757407,
          -0.6311966451758331,
          -0.7047558807060837,
          0.14788823265526901,
          1.3716817074401486,
          0.014617163284772135,
          -0.8243567459465074,
          0.3123554784595387,
          0.006117282091226412,
          -0.44574685438333156,
          0.19146184772892774,
          -0.510564268279504,
          0.8130753024382118,
          2.3632960388245143,
          2.116807945200409,
          -0.7750854668514382,
          1.1030058690899103,
          -1.0730902732448744,
          -0.7826004688457083,
          -0.19255772560734755,
          -1.6458945809351144,
          -1.149219201933772,
          0.06545680442591104,
          1.2970608422251297,
          0.3995935105107383,
          1.0046285769041494,
          2.6049159767101853,
          0.2648980896996127,
          -1.5712641398967868,
          -0.7776854787695353,
          0.21347068389058088,
          0.20585723656867927,
          1.9571203104075063,
          -0.6410346456022266,
          -0.9414275827775105,
          1.2276831536344308,
          -0.007015283300855964,
          0.23646616205819243,
          -1.2406348171165948
         ]
        },
        {
         "line": {
          "color": "rgba(55, 128, 191, 1.0)",
          "dash": "solid",
          "shape": "linear",
          "width": 1.3
         },
         "mode": "lines",
         "name": "B",
         "text": "",
         "type": "scatter",
         "x": [
          0,
          1,
          2,
          3,
          4,
          5,
          6,
          7,
          8,
          9,
          10,
          11,
          12,
          13,
          14,
          15,
          16,
          17,
          18,
          19,
          20,
          21,
          22,
          23,
          24,
          25,
          26,
          27,
          28,
          29,
          30,
          31,
          32,
          33,
          34,
          35,
          36,
          37,
          38,
          39,
          40,
          41,
          42,
          43,
          44,
          45,
          46,
          47,
          48,
          49,
          50,
          51,
          52,
          53,
          54,
          55,
          56,
          57,
          58,
          59,
          60,
          61,
          62,
          63,
          64,
          65,
          66,
          67,
          68,
          69,
          70,
          71,
          72,
          73,
          74,
          75,
          76,
          77,
          78,
          79,
          80,
          81,
          82,
          83,
          84,
          85,
          86,
          87,
          88,
          89,
          90,
          91,
          92,
          93,
          94,
          95,
          96,
          97,
          98,
          99
         ],
         "y": [
          -0.338921005687408,
          0.058262963397395784,
          -2.2713226397630817,
          -2.1657720335998185,
          0.3246548488231554,
          0.6519053215715952,
          0.8531481319441461,
          -1.289785831103118,
          1.3771314480119505,
          -0.27737545447929896,
          -0.2481166287708968,
          1.310925292393063,
          0.49271416617833863,
          0.9792848583455132,
          0.4114458383131161,
          0.9722358472956626,
          0.42829668265526244,
          1.0177819891669175,
          0.23931351338741513,
          -1.1742545185188522,
          -0.8132315124302525,
          -0.3789549412820512,
          0.42971373655337564,
          0.9871416619527742,
          1.9793640575773281,
          2.318745924039596,
          1.3901846485047198,
          1.5977317035661478,
          0.3103593079396291,
          0.9569988466361636,
          -0.6423565468451959,
          0.27321520168395663,
          -0.4462462985205589,
          0.5152792496334404,
          -3.1708003902107014,
          -0.5999215166810081,
          1.5339070357741886,
          -0.10553055549209855,
          -1.1705277369331901,
          -2.2426926471677384,
          -0.2954027735184673,
          0.35354142773213604,
          0.22318098544778164,
          3.9293277019823942,
          0.13610440602401375,
          -1.9132108287243677,
          0.9852690732599787,
          0.9240945912169093,
          1.3236677893844093,
          0.34233724256090564,
          -2.510855615537588,
          1.8192074873784598,
          -0.4272042337180943,
          0.2718380758992261,
          -0.2983614278522415,
          2.577374353703834,
          -1.2212301832203627,
          -0.6074407710197338,
          -1.1637537345946143,
          0.048632808920612704,
          -0.5890431820985766,
          0.9884858755524883,
          -1.0029402853069003,
          0.169924104406739,
          0.16319397398336796,
          -0.18909501171551413,
          0.32293995447055596,
          -2.700069599682224,
          0.25329530983566567,
          0.6305471121007236,
          -0.41093788365221057,
          -0.6217413783709341,
          -0.1068481870144089,
          0.2880039908808205,
          2.003321985548384,
          2.7604945473817093,
          -0.6746778827338773,
          2.2093508132747233,
          -2.2376365126517364,
          -1.3847827606794108,
          0.05104104375407059,
          -1.8574166783855208,
          -0.19459816837708122,
          -0.6409987868307058,
          2.1612829455524327,
          1.2764409348717223,
          2.6284766206181702,
          2.609906751247562,
          0.12179663644182406,
          -1.0896596908812273,
          -1.238344570948132,
          -0.09239725693860346,
          1.0372075463218544,
          2.5973323715395757,
          -0.6144903890709085,
          -0.8936434729306956,
          0.8296688970052208,
          0.15531567200154175,
          1.3003429790248469,
          -0.2397586272736456
         ]
        },
        {
         "line": {
          "color": "rgba(50, 171, 96, 1.0)",
          "dash": "solid",
          "shape": "linear",
          "width": 1.3
         },
         "mode": "lines",
         "name": "C",
         "text": "",
         "type": "scatter",
         "x": [
          0,
          1,
          2,
          3,
          4,
          5,
          6,
          7,
          8,
          9,
          10,
          11,
          12,
          13,
          14,
          15,
          16,
          17,
          18,
          19,
          20,
          21,
          22,
          23,
          24,
          25,
          26,
          27,
          28,
          29,
          30,
          31,
          32,
          33,
          34,
          35,
          36,
          37,
          38,
          39,
          40,
          41,
          42,
          43,
          44,
          45,
          46,
          47,
          48,
          49,
          50,
          51,
          52,
          53,
          54,
          55,
          56,
          57,
          58,
          59,
          60,
          61,
          62,
          63,
          64,
          65,
          66,
          67,
          68,
          69,
          70,
          71,
          72,
          73,
          74,
          75,
          76,
          77,
          78,
          79,
          80,
          81,
          82,
          83,
          84,
          85,
          86,
          87,
          88,
          89,
          90,
          91,
          92,
          93,
          94,
          95,
          96,
          97,
          98,
          99
         ],
         "y": [
          0.17050844882527705,
          0.46146624568212835,
          -3.3164681617645657,
          -0.22738355427787926,
          -0.7948720909378562,
          0.65932308666257,
          0.9120216996178423,
          0.1588973527687414,
          1.980462772241073,
          -0.0024169467344305473,
          -0.6457132136325168,
          1.7163373044374768,
          -0.09208036863530089,
          1.3677759935663576,
          0.6191181290342019,
          -0.2683265687852133,
          0.4675435123087267,
          1.0771981749971318,
          1.1569749924476143,
          -1.5290868387646253,
          -0.3053686341387368,
          -1.3907290468824052,
          0.30036872795827735,
          0.10070447371836155,
          3.2737143606692394,
          0.5514389992104056,
          3.473349431339021,
          1.1629523307016785,
          0.5918245451353927,
          1.5148591116258374,
          -2.1647027951480053,
          0.44286507317574597,
          -0.9963148248999532,
          1.5975842999409633,
          -3.3999686221327123,
          -0.9871278355909283,
          2.8000118579404125,
          0.09803705360323942,
          -0.028199653795568658,
          -2.3507801814823934,
          -0.4156439958499683,
          -0.5910345480707999,
          0.20987341152048783,
          5.598796966212689,
          0.7473163934417325,
          -2.244187172989626,
          1.9221407383039948,
          1.1550414448113966,
          0.23484841523682265,
          1.2073321452116554,
          -2.4383738584904884,
          0.42802033932174255,
          -0.8413395122848359,
          -0.08429643424128908,
          -0.676058523932207,
          1.5951073664487356,
          -0.9885732935970455,
          -0.17193398956061423,
          -0.7856709206468497,
          -0.1201677111590439,
          -0.4221692366730143,
          -0.3459603874139854,
          -2.7787077693636544,
          -0.7499127124540862,
          -0.42344766615756946,
          0.3353799792060014,
          -0.5764739326471289,
          -3.736832869529777,
          -0.8077064480538638,
          -0.17806672185946137,
          -1.249008915587241,
          -0.9605799803381965,
          -0.8371064404798713,
          -0.15143145953778603,
          0.4489632601579625,
          2.6907108313262826,
          -1.415005828558134,
          1.6616178868657725,
          -3.8480414269967786,
          -0.4811170933098141,
          -1.5014082215900122,
          -2.7900155928158883,
          -0.7229621221979112,
          -0.8763914452156489,
          3.7029794855490015,
          2.791496848168432,
          5.1838284433337725,
          3.5889698108627672,
          -0.02127481200361292,
          -1.661879350425331,
          0.7217450531138399,
          -0.866465580611039,
          0.928510876466799,
          3.6635422356845906,
          -2.2608995166201273,
          -0.47691033418294054,
          1.4930232665948786,
          -0.48015573603769046,
          2.5313279892527776,
          1.2012181379732088
         ]
        },
        {
         "line": {
          "color": "rgba(128, 0, 128, 1.0)",
          "dash": "solid",
          "shape": "linear",
          "width": 1.3
         },
         "mode": "lines",
         "name": "D",
         "text": "",
         "type": "scatter",
         "x": [
          0,
          1,
          2,
          3,
          4,
          5,
          6,
          7,
          8,
          9,
          10,
          11,
          12,
          13,
          14,
          15,
          16,
          17,
          18,
          19,
          20,
          21,
          22,
          23,
          24,
          25,
          26,
          27,
          28,
          29,
          30,
          31,
          32,
          33,
          34,
          35,
          36,
          37,
          38,
          39,
          40,
          41,
          42,
          43,
          44,
          45,
          46,
          47,
          48,
          49,
          50,
          51,
          52,
          53,
          54,
          55,
          56,
          57,
          58,
          59,
          60,
          61,
          62,
          63,
          64,
          65,
          66,
          67,
          68,
          69,
          70,
          71,
          72,
          73,
          74,
          75,
          76,
          77,
          78,
          79,
          80,
          81,
          82,
          83,
          84,
          85,
          86,
          87,
          88,
          89,
          90,
          91,
          92,
          93,
          94,
          95,
          96,
          97,
          98,
          99
         ],
         "y": [
          0.28118546296875757,
          2.360998541381961,
          -3.5623114011966037,
          0.31035936775755335,
          -0.5897311702502372,
          0.20785676858322122,
          0.2510151231640425,
          -0.43577898241505186,
          3.5680950671481186,
          -0.2110409573161488,
          -0.5427342957108854,
          1.463525701817211,
          1.2329100801661868,
          0.33742356599259526,
          0.6732540282200806,
          0.38317289520900544,
          0.5991206113483165,
          -0.6996596380813549,
          2.4089482393135615,
          0.5787148821986126,
          0.3855988441304511,
          -2.3971540708130026,
          -1.6591303795294623,
          0.542265740442482,
          4.419624246975575,
          -1.0047932961622652,
          3.9355877021456007,
          -0.44466281306282096,
          0.6155942312922509,
          1.5621952165832038,
          -3.698148715120336,
          -0.42082835413974984,
          -0.9114668861809175,
          0.9174508680658634,
          -2.6319676561630803,
          -1.1488799416889326,
          2.891971256525084,
          -0.45368697009456016,
          -1.433212106842543,
          -1.940403574858972,
          -1.4222634356829924,
          -0.7562253063755062,
          0.5554573316216832,
          5.10231443808051,
          1.7366545900369363,
          -1.3239531280719237,
          0.31305224729023684,
          -0.011137829390092557,
          1.7357677796417292,
          -0.6347929746961307,
          -1.5914705976112264,
          1.8278587148268333,
          -2.378298809059455,
          -1.2403138152530502,
          -1.8709068743836457,
          2.84047253943769,
          -0.49843839856115657,
          -0.8584143984176846,
          -2.540392679997849,
          1.3443321257599763,
          -1.7931507412818066,
          0.14863333250917155,
          -2.774830302082561,
          -1.5142583690384224,
          0.9476842395809368,
          2.410446183800896,
          -1.278713263551808,
          -3.416420999148039,
          -0.6114672919967109,
          -1.392362609563143,
          -1.6904444195752424,
          -0.6025522768558693,
          -0.23311535729949917,
          -0.6305439530835767,
          1.3461549538199398,
          5.1945631108136405,
          0.0004221049202288718,
          2.9515527677513482,
          -2.9753866204034667,
          -1.0826885876596344,
          -2.231012509665618,
          -1.9424238703700913,
          -0.4776670504120889,
          -0.5111881941470958,
          2.7134384699108574,
          1.724325621394532,
          3.531109357852882,
          3.8516266217810906,
          0.3231689083120272,
          -1.4338244887410194,
          1.1255304426847776,
          0.31627019016516356,
          2.3783342472661304,
          3.2938599286776116,
          -1.4271515819667302,
          0.3753546929126738,
          1.06602277055698,
          1.1867108412016867,
          2.238469801036352,
          1.1747651517667081
         ]
        }
       ],
       "layout": {
        "legend": {
         "bgcolor": "#F5F6F9",
         "font": {
          "color": "#4D5663"
         }
        },
        "paper_bgcolor": "#F5F6F9",
        "plot_bgcolor": "#F5F6F9",
        "template": {
         "data": {
          "bar": [
           {
            "error_x": {
             "color": "#2a3f5f"
            },
            "error_y": {
             "color": "#2a3f5f"
            },
            "marker": {
             "line": {
              "color": "#E5ECF6",
              "width": 0.5
             }
            },
            "type": "bar"
           }
          ],
          "barpolar": [
           {
            "marker": {
             "line": {
              "color": "#E5ECF6",
              "width": 0.5
             }
            },
            "type": "barpolar"
           }
          ],
          "carpet": [
           {
            "aaxis": {
             "endlinecolor": "#2a3f5f",
             "gridcolor": "white",
             "linecolor": "white",
             "minorgridcolor": "white",
             "startlinecolor": "#2a3f5f"
            },
            "baxis": {
             "endlinecolor": "#2a3f5f",
             "gridcolor": "white",
             "linecolor": "white",
             "minorgridcolor": "white",
             "startlinecolor": "#2a3f5f"
            },
            "type": "carpet"
           }
          ],
          "choropleth": [
           {
            "colorbar": {
             "outlinewidth": 0,
             "ticks": ""
            },
            "type": "choropleth"
           }
          ],
          "contour": [
           {
            "colorbar": {
             "outlinewidth": 0,
             "ticks": ""
            },
            "colorscale": [
             [
              0,
              "#0d0887"
             ],
             [
              0.1111111111111111,
              "#46039f"
             ],
             [
              0.2222222222222222,
              "#7201a8"
             ],
             [
              0.3333333333333333,
              "#9c179e"
             ],
             [
              0.4444444444444444,
              "#bd3786"
             ],
             [
              0.5555555555555556,
              "#d8576b"
             ],
             [
              0.6666666666666666,
              "#ed7953"
             ],
             [
              0.7777777777777778,
              "#fb9f3a"
             ],
             [
              0.8888888888888888,
              "#fdca26"
             ],
             [
              1,
              "#f0f921"
             ]
            ],
            "type": "contour"
           }
          ],
          "contourcarpet": [
           {
            "colorbar": {
             "outlinewidth": 0,
             "ticks": ""
            },
            "type": "contourcarpet"
           }
          ],
          "heatmap": [
           {
            "colorbar": {
             "outlinewidth": 0,
             "ticks": ""
            },
            "colorscale": [
             [
              0,
              "#0d0887"
             ],
             [
              0.1111111111111111,
              "#46039f"
             ],
             [
              0.2222222222222222,
              "#7201a8"
             ],
             [
              0.3333333333333333,
              "#9c179e"
             ],
             [
              0.4444444444444444,
              "#bd3786"
             ],
             [
              0.5555555555555556,
              "#d8576b"
             ],
             [
              0.6666666666666666,
              "#ed7953"
             ],
             [
              0.7777777777777778,
              "#fb9f3a"
             ],
             [
              0.8888888888888888,
              "#fdca26"
             ],
             [
              1,
              "#f0f921"
             ]
            ],
            "type": "heatmap"
           }
          ],
          "heatmapgl": [
           {
            "colorbar": {
             "outlinewidth": 0,
             "ticks": ""
            },
            "colorscale": [
             [
              0,
              "#0d0887"
             ],
             [
              0.1111111111111111,
              "#46039f"
             ],
             [
              0.2222222222222222,
              "#7201a8"
             ],
             [
              0.3333333333333333,
              "#9c179e"
             ],
             [
              0.4444444444444444,
              "#bd3786"
             ],
             [
              0.5555555555555556,
              "#d8576b"
             ],
             [
              0.6666666666666666,
              "#ed7953"
             ],
             [
              0.7777777777777778,
              "#fb9f3a"
             ],
             [
              0.8888888888888888,
              "#fdca26"
             ],
             [
              1,
              "#f0f921"
             ]
            ],
            "type": "heatmapgl"
           }
          ],
          "histogram": [
           {
            "marker": {
             "colorbar": {
              "outlinewidth": 0,
              "ticks": ""
             }
            },
            "type": "histogram"
           }
          ],
          "histogram2d": [
           {
            "colorbar": {
             "outlinewidth": 0,
             "ticks": ""
            },
            "colorscale": [
             [
              0,
              "#0d0887"
             ],
             [
              0.1111111111111111,
              "#46039f"
             ],
             [
              0.2222222222222222,
              "#7201a8"
             ],
             [
              0.3333333333333333,
              "#9c179e"
             ],
             [
              0.4444444444444444,
              "#bd3786"
             ],
             [
              0.5555555555555556,
              "#d8576b"
             ],
             [
              0.6666666666666666,
              "#ed7953"
             ],
             [
              0.7777777777777778,
              "#fb9f3a"
             ],
             [
              0.8888888888888888,
              "#fdca26"
             ],
             [
              1,
              "#f0f921"
             ]
            ],
            "type": "histogram2d"
           }
          ],
          "histogram2dcontour": [
           {
            "colorbar": {
             "outlinewidth": 0,
             "ticks": ""
            },
            "colorscale": [
             [
              0,
              "#0d0887"
             ],
             [
              0.1111111111111111,
              "#46039f"
             ],
             [
              0.2222222222222222,
              "#7201a8"
             ],
             [
              0.3333333333333333,
              "#9c179e"
             ],
             [
              0.4444444444444444,
              "#bd3786"
             ],
             [
              0.5555555555555556,
              "#d8576b"
             ],
             [
              0.6666666666666666,
              "#ed7953"
             ],
             [
              0.7777777777777778,
              "#fb9f3a"
             ],
             [
              0.8888888888888888,
              "#fdca26"
             ],
             [
              1,
              "#f0f921"
             ]
            ],
            "type": "histogram2dcontour"
           }
          ],
          "mesh3d": [
           {
            "colorbar": {
             "outlinewidth": 0,
             "ticks": ""
            },
            "type": "mesh3d"
           }
          ],
          "parcoords": [
           {
            "line": {
             "colorbar": {
              "outlinewidth": 0,
              "ticks": ""
             }
            },
            "type": "parcoords"
           }
          ],
          "pie": [
           {
            "automargin": true,
            "type": "pie"
           }
          ],
          "scatter": [
           {
            "marker": {
             "colorbar": {
              "outlinewidth": 0,
              "ticks": ""
             }
            },
            "type": "scatter"
           }
          ],
          "scatter3d": [
           {
            "line": {
             "colorbar": {
              "outlinewidth": 0,
              "ticks": ""
             }
            },
            "marker": {
             "colorbar": {
              "outlinewidth": 0,
              "ticks": ""
             }
            },
            "type": "scatter3d"
           }
          ],
          "scattercarpet": [
           {
            "marker": {
             "colorbar": {
              "outlinewidth": 0,
              "ticks": ""
             }
            },
            "type": "scattercarpet"
           }
          ],
          "scattergeo": [
           {
            "marker": {
             "colorbar": {
              "outlinewidth": 0,
              "ticks": ""
             }
            },
            "type": "scattergeo"
           }
          ],
          "scattergl": [
           {
            "marker": {
             "colorbar": {
              "outlinewidth": 0,
              "ticks": ""
             }
            },
            "type": "scattergl"
           }
          ],
          "scattermapbox": [
           {
            "marker": {
             "colorbar": {
              "outlinewidth": 0,
              "ticks": ""
             }
            },
            "type": "scattermapbox"
           }
          ],
          "scatterpolar": [
           {
            "marker": {
             "colorbar": {
              "outlinewidth": 0,
              "ticks": ""
             }
            },
            "type": "scatterpolar"
           }
          ],
          "scatterpolargl": [
           {
            "marker": {
             "colorbar": {
              "outlinewidth": 0,
              "ticks": ""
             }
            },
            "type": "scatterpolargl"
           }
          ],
          "scatterternary": [
           {
            "marker": {
             "colorbar": {
              "outlinewidth": 0,
              "ticks": ""
             }
            },
            "type": "scatterternary"
           }
          ],
          "surface": [
           {
            "colorbar": {
             "outlinewidth": 0,
             "ticks": ""
            },
            "colorscale": [
             [
              0,
              "#0d0887"
             ],
             [
              0.1111111111111111,
              "#46039f"
             ],
             [
              0.2222222222222222,
              "#7201a8"
             ],
             [
              0.3333333333333333,
              "#9c179e"
             ],
             [
              0.4444444444444444,
              "#bd3786"
             ],
             [
              0.5555555555555556,
              "#d8576b"
             ],
             [
              0.6666666666666666,
              "#ed7953"
             ],
             [
              0.7777777777777778,
              "#fb9f3a"
             ],
             [
              0.8888888888888888,
              "#fdca26"
             ],
             [
              1,
              "#f0f921"
             ]
            ],
            "type": "surface"
           }
          ],
          "table": [
           {
            "cells": {
             "fill": {
              "color": "#EBF0F8"
             },
             "line": {
              "color": "white"
             }
            },
            "header": {
             "fill": {
              "color": "#C8D4E3"
             },
             "line": {
              "color": "white"
             }
            },
            "type": "table"
           }
          ]
         },
         "layout": {
          "annotationdefaults": {
           "arrowcolor": "#2a3f5f",
           "arrowhead": 0,
           "arrowwidth": 1
          },
          "autotypenumbers": "strict",
          "coloraxis": {
           "colorbar": {
            "outlinewidth": 0,
            "ticks": ""
           }
          },
          "colorscale": {
           "diverging": [
            [
             0,
             "#8e0152"
            ],
            [
             0.1,
             "#c51b7d"
            ],
            [
             0.2,
             "#de77ae"
            ],
            [
             0.3,
             "#f1b6da"
            ],
            [
             0.4,
             "#fde0ef"
            ],
            [
             0.5,
             "#f7f7f7"
            ],
            [
             0.6,
             "#e6f5d0"
            ],
            [
             0.7,
             "#b8e186"
            ],
            [
             0.8,
             "#7fbc41"
            ],
            [
             0.9,
             "#4d9221"
            ],
            [
             1,
             "#276419"
            ]
           ],
           "sequential": [
            [
             0,
             "#0d0887"
            ],
            [
             0.1111111111111111,
             "#46039f"
            ],
            [
             0.2222222222222222,
             "#7201a8"
            ],
            [
             0.3333333333333333,
             "#9c179e"
            ],
            [
             0.4444444444444444,
             "#bd3786"
            ],
            [
             0.5555555555555556,
             "#d8576b"
            ],
            [
             0.6666666666666666,
             "#ed7953"
            ],
            [
             0.7777777777777778,
             "#fb9f3a"
            ],
            [
             0.8888888888888888,
             "#fdca26"
            ],
            [
             1,
             "#f0f921"
            ]
           ],
           "sequentialminus": [
            [
             0,
             "#0d0887"
            ],
            [
             0.1111111111111111,
             "#46039f"
            ],
            [
             0.2222222222222222,
             "#7201a8"
            ],
            [
             0.3333333333333333,
             "#9c179e"
            ],
            [
             0.4444444444444444,
             "#bd3786"
            ],
            [
             0.5555555555555556,
             "#d8576b"
            ],
            [
             0.6666666666666666,
             "#ed7953"
            ],
            [
             0.7777777777777778,
             "#fb9f3a"
            ],
            [
             0.8888888888888888,
             "#fdca26"
            ],
            [
             1,
             "#f0f921"
            ]
           ]
          },
          "colorway": [
           "#636efa",
           "#EF553B",
           "#00cc96",
           "#ab63fa",
           "#FFA15A",
           "#19d3f3",
           "#FF6692",
           "#B6E880",
           "#FF97FF",
           "#FECB52"
          ],
          "font": {
           "color": "#2a3f5f"
          },
          "geo": {
           "bgcolor": "white",
           "lakecolor": "white",
           "landcolor": "#E5ECF6",
           "showlakes": true,
           "showland": true,
           "subunitcolor": "white"
          },
          "hoverlabel": {
           "align": "left"
          },
          "hovermode": "closest",
          "mapbox": {
           "style": "light"
          },
          "paper_bgcolor": "white",
          "plot_bgcolor": "#E5ECF6",
          "polar": {
           "angularaxis": {
            "gridcolor": "white",
            "linecolor": "white",
            "ticks": ""
           },
           "bgcolor": "#E5ECF6",
           "radialaxis": {
            "gridcolor": "white",
            "linecolor": "white",
            "ticks": ""
           }
          },
          "scene": {
           "xaxis": {
            "backgroundcolor": "#E5ECF6",
            "gridcolor": "white",
            "gridwidth": 2,
            "linecolor": "white",
            "showbackground": true,
            "ticks": "",
            "zerolinecolor": "white"
           },
           "yaxis": {
            "backgroundcolor": "#E5ECF6",
            "gridcolor": "white",
            "gridwidth": 2,
            "linecolor": "white",
            "showbackground": true,
            "ticks": "",
            "zerolinecolor": "white"
           },
           "zaxis": {
            "backgroundcolor": "#E5ECF6",
            "gridcolor": "white",
            "gridwidth": 2,
            "linecolor": "white",
            "showbackground": true,
            "ticks": "",
            "zerolinecolor": "white"
           }
          },
          "shapedefaults": {
           "line": {
            "color": "#2a3f5f"
           }
          },
          "ternary": {
           "aaxis": {
            "gridcolor": "white",
            "linecolor": "white",
            "ticks": ""
           },
           "baxis": {
            "gridcolor": "white",
            "linecolor": "white",
            "ticks": ""
           },
           "bgcolor": "#E5ECF6",
           "caxis": {
            "gridcolor": "white",
            "linecolor": "white",
            "ticks": ""
           }
          },
          "title": {
           "x": 0.05
          },
          "xaxis": {
           "automargin": true,
           "gridcolor": "white",
           "linecolor": "white",
           "ticks": "",
           "title": {
            "standoff": 15
           },
           "zerolinecolor": "white",
           "zerolinewidth": 2
          },
          "yaxis": {
           "automargin": true,
           "gridcolor": "white",
           "linecolor": "white",
           "ticks": "",
           "title": {
            "standoff": 15
           },
           "zerolinecolor": "white",
           "zerolinewidth": 2
          }
         }
        },
        "title": {
         "font": {
          "color": "#4D5663"
         }
        },
        "xaxis": {
         "gridcolor": "#E1E5ED",
         "showgrid": true,
         "tickfont": {
          "color": "#4D5663"
         },
         "title": {
          "font": {
           "color": "#4D5663"
          },
          "text": ""
         },
         "zerolinecolor": "#E1E5ED"
        },
        "yaxis": {
         "gridcolor": "#E1E5ED",
         "showgrid": true,
         "tickfont": {
          "color": "#4D5663"
         },
         "title": {
          "font": {
           "color": "#4D5663"
          },
          "text": ""
         },
         "zerolinecolor": "#E1E5ED"
        }
       }
      },
      "text/html": [
       "<div>                            <div id=\"57d16669-362b-416e-90e1-29c0dd9c4c05\" class=\"plotly-graph-div\" style=\"height:525px; width:100%;\"></div>            <script type=\"text/javascript\">                require([\"plotly\"], function(Plotly) {                    window.PLOTLYENV=window.PLOTLYENV || {};\n",
       "                    window.PLOTLYENV.BASE_URL='https://plot.ly';                                    if (document.getElementById(\"57d16669-362b-416e-90e1-29c0dd9c4c05\")) {                    Plotly.newPlot(                        \"57d16669-362b-416e-90e1-29c0dd9c4c05\",                        [{\"line\": {\"color\": \"rgba(255, 153, 51, 1.0)\", \"dash\": \"solid\", \"shape\": \"linear\", \"width\": 1.3}, \"mode\": \"lines\", \"name\": \"A\", \"text\": \"\", \"type\": \"scatter\", \"x\": [0, 1, 2, 3, 4, 5, 6, 7, 8, 9, 10, 11, 12, 13, 14, 15, 16, 17, 18, 19, 20, 21, 22, 23, 24, 25, 26, 27, 28, 29, 30, 31, 32, 33, 34, 35, 36, 37, 38, 39, 40, 41, 42, 43, 44, 45, 46, 47, 48, 49, 50, 51, 52, 53, 54, 55, 56, 57, 58, 59, 60, 61, 62, 63, 64, 65, 66, 67, 68, 69, 70, 71, 72, 73, 74, 75, 76, 77, 78, 79, 80, 81, 82, 83, 84, 85, 86, 87, 88, 89, 90, 91, 92, 93, 94, 95, 96, 97, 98, 99], \"y\": [0.20504070623313753, 0.6286778475688474, -1.1946960815376417, -1.3183627315384152, 0.7287269751944572, 0.8722269481098422, -0.13166269309223982, -1.9357840606631018, 0.4145336921882121, -0.6069916193966661, 0.390215883251644, -0.45734674356014016, 1.193349051418664, 1.235556532466609, 1.6291582358653538, 1.1395764553378547, -0.010775928268597778, 1.206843095845801, -0.9600146154713587, -0.966140199254339, 0.19169949104174405, -0.14918790595603876, 0.5686543373940673, -0.24045778518832012, 0.6366295721983622, 1.1522381506685453, 1.9336345364130645, 2.006996624653642, -0.023025978960075136, 0.18993942931543212, -1.4296539266874184, 0.43382004511192135, -0.7306127696972191, -0.05578944403470869, -0.08472001405877864, -0.1149714121493137, 0.7358612175856649, -0.6923771671588429, -0.25387934755682223, -2.0722680287624553, -0.5165814241979004, 1.6736494345930495, -0.5336323351896277, 1.4616808532371586, 1.2048074779808589, -1.2840849645974888, -0.17814633696158727, 1.0474906379523012, 0.38688412823874413, 0.5918234597806681, -1.3531856261517683, 0.24341156761558463, -0.7017222749850373, 0.6123500849073915, -0.8479136012893379, 1.531831449493807, -0.08902284414868179, -1.8178227460471446, -0.5109149743900608, -0.019596110540417384, -0.6983446018771495, 2.1094904333757407, -0.6311966451758331, -0.7047558807060837, 0.14788823265526901, 1.3716817074401486, 0.014617163284772135, -0.8243567459465074, 0.3123554784595387, 0.006117282091226412, -0.44574685438333156, 0.19146184772892774, -0.510564268279504, 0.8130753024382118, 2.3632960388245143, 2.116807945200409, -0.7750854668514382, 1.1030058690899103, -1.0730902732448744, -0.7826004688457083, -0.19255772560734755, -1.6458945809351144, -1.149219201933772, 0.06545680442591104, 1.2970608422251297, 0.3995935105107383, 1.0046285769041494, 2.6049159767101853, 0.2648980896996127, -1.5712641398967868, -0.7776854787695353, 0.21347068389058088, 0.20585723656867927, 1.9571203104075063, -0.6410346456022266, -0.9414275827775105, 1.2276831536344308, -0.007015283300855964, 0.23646616205819243, -1.2406348171165948]}, {\"line\": {\"color\": \"rgba(55, 128, 191, 1.0)\", \"dash\": \"solid\", \"shape\": \"linear\", \"width\": 1.3}, \"mode\": \"lines\", \"name\": \"B\", \"text\": \"\", \"type\": \"scatter\", \"x\": [0, 1, 2, 3, 4, 5, 6, 7, 8, 9, 10, 11, 12, 13, 14, 15, 16, 17, 18, 19, 20, 21, 22, 23, 24, 25, 26, 27, 28, 29, 30, 31, 32, 33, 34, 35, 36, 37, 38, 39, 40, 41, 42, 43, 44, 45, 46, 47, 48, 49, 50, 51, 52, 53, 54, 55, 56, 57, 58, 59, 60, 61, 62, 63, 64, 65, 66, 67, 68, 69, 70, 71, 72, 73, 74, 75, 76, 77, 78, 79, 80, 81, 82, 83, 84, 85, 86, 87, 88, 89, 90, 91, 92, 93, 94, 95, 96, 97, 98, 99], \"y\": [-0.338921005687408, 0.058262963397395784, -2.2713226397630817, -2.1657720335998185, 0.3246548488231554, 0.6519053215715952, 0.8531481319441461, -1.289785831103118, 1.3771314480119505, -0.27737545447929896, -0.2481166287708968, 1.310925292393063, 0.49271416617833863, 0.9792848583455132, 0.4114458383131161, 0.9722358472956626, 0.42829668265526244, 1.0177819891669175, 0.23931351338741513, -1.1742545185188522, -0.8132315124302525, -0.3789549412820512, 0.42971373655337564, 0.9871416619527742, 1.9793640575773281, 2.318745924039596, 1.3901846485047198, 1.5977317035661478, 0.3103593079396291, 0.9569988466361636, -0.6423565468451959, 0.27321520168395663, -0.4462462985205589, 0.5152792496334404, -3.1708003902107014, -0.5999215166810081, 1.5339070357741886, -0.10553055549209855, -1.1705277369331901, -2.2426926471677384, -0.2954027735184673, 0.35354142773213604, 0.22318098544778164, 3.9293277019823942, 0.13610440602401375, -1.9132108287243677, 0.9852690732599787, 0.9240945912169093, 1.3236677893844093, 0.34233724256090564, -2.510855615537588, 1.8192074873784598, -0.4272042337180943, 0.2718380758992261, -0.2983614278522415, 2.577374353703834, -1.2212301832203627, -0.6074407710197338, -1.1637537345946143, 0.048632808920612704, -0.5890431820985766, 0.9884858755524883, -1.0029402853069003, 0.169924104406739, 0.16319397398336796, -0.18909501171551413, 0.32293995447055596, -2.700069599682224, 0.25329530983566567, 0.6305471121007236, -0.41093788365221057, -0.6217413783709341, -0.1068481870144089, 0.2880039908808205, 2.003321985548384, 2.7604945473817093, -0.6746778827338773, 2.2093508132747233, -2.2376365126517364, -1.3847827606794108, 0.05104104375407059, -1.8574166783855208, -0.19459816837708122, -0.6409987868307058, 2.1612829455524327, 1.2764409348717223, 2.6284766206181702, 2.609906751247562, 0.12179663644182406, -1.0896596908812273, -1.238344570948132, -0.09239725693860346, 1.0372075463218544, 2.5973323715395757, -0.6144903890709085, -0.8936434729306956, 0.8296688970052208, 0.15531567200154175, 1.3003429790248469, -0.2397586272736456]}, {\"line\": {\"color\": \"rgba(50, 171, 96, 1.0)\", \"dash\": \"solid\", \"shape\": \"linear\", \"width\": 1.3}, \"mode\": \"lines\", \"name\": \"C\", \"text\": \"\", \"type\": \"scatter\", \"x\": [0, 1, 2, 3, 4, 5, 6, 7, 8, 9, 10, 11, 12, 13, 14, 15, 16, 17, 18, 19, 20, 21, 22, 23, 24, 25, 26, 27, 28, 29, 30, 31, 32, 33, 34, 35, 36, 37, 38, 39, 40, 41, 42, 43, 44, 45, 46, 47, 48, 49, 50, 51, 52, 53, 54, 55, 56, 57, 58, 59, 60, 61, 62, 63, 64, 65, 66, 67, 68, 69, 70, 71, 72, 73, 74, 75, 76, 77, 78, 79, 80, 81, 82, 83, 84, 85, 86, 87, 88, 89, 90, 91, 92, 93, 94, 95, 96, 97, 98, 99], \"y\": [0.17050844882527705, 0.46146624568212835, -3.3164681617645657, -0.22738355427787926, -0.7948720909378562, 0.65932308666257, 0.9120216996178423, 0.1588973527687414, 1.980462772241073, -0.0024169467344305473, -0.6457132136325168, 1.7163373044374768, -0.09208036863530089, 1.3677759935663576, 0.6191181290342019, -0.2683265687852133, 0.4675435123087267, 1.0771981749971318, 1.1569749924476143, -1.5290868387646253, -0.3053686341387368, -1.3907290468824052, 0.30036872795827735, 0.10070447371836155, 3.2737143606692394, 0.5514389992104056, 3.473349431339021, 1.1629523307016785, 0.5918245451353927, 1.5148591116258374, -2.1647027951480053, 0.44286507317574597, -0.9963148248999532, 1.5975842999409633, -3.3999686221327123, -0.9871278355909283, 2.8000118579404125, 0.09803705360323942, -0.028199653795568658, -2.3507801814823934, -0.4156439958499683, -0.5910345480707999, 0.20987341152048783, 5.598796966212689, 0.7473163934417325, -2.244187172989626, 1.9221407383039948, 1.1550414448113966, 0.23484841523682265, 1.2073321452116554, -2.4383738584904884, 0.42802033932174255, -0.8413395122848359, -0.08429643424128908, -0.676058523932207, 1.5951073664487356, -0.9885732935970455, -0.17193398956061423, -0.7856709206468497, -0.1201677111590439, -0.4221692366730143, -0.3459603874139854, -2.7787077693636544, -0.7499127124540862, -0.42344766615756946, 0.3353799792060014, -0.5764739326471289, -3.736832869529777, -0.8077064480538638, -0.17806672185946137, -1.249008915587241, -0.9605799803381965, -0.8371064404798713, -0.15143145953778603, 0.4489632601579625, 2.6907108313262826, -1.415005828558134, 1.6616178868657725, -3.8480414269967786, -0.4811170933098141, -1.5014082215900122, -2.7900155928158883, -0.7229621221979112, -0.8763914452156489, 3.7029794855490015, 2.791496848168432, 5.1838284433337725, 3.5889698108627672, -0.02127481200361292, -1.661879350425331, 0.7217450531138399, -0.866465580611039, 0.928510876466799, 3.6635422356845906, -2.2608995166201273, -0.47691033418294054, 1.4930232665948786, -0.48015573603769046, 2.5313279892527776, 1.2012181379732088]}, {\"line\": {\"color\": \"rgba(128, 0, 128, 1.0)\", \"dash\": \"solid\", \"shape\": \"linear\", \"width\": 1.3}, \"mode\": \"lines\", \"name\": \"D\", \"text\": \"\", \"type\": \"scatter\", \"x\": [0, 1, 2, 3, 4, 5, 6, 7, 8, 9, 10, 11, 12, 13, 14, 15, 16, 17, 18, 19, 20, 21, 22, 23, 24, 25, 26, 27, 28, 29, 30, 31, 32, 33, 34, 35, 36, 37, 38, 39, 40, 41, 42, 43, 44, 45, 46, 47, 48, 49, 50, 51, 52, 53, 54, 55, 56, 57, 58, 59, 60, 61, 62, 63, 64, 65, 66, 67, 68, 69, 70, 71, 72, 73, 74, 75, 76, 77, 78, 79, 80, 81, 82, 83, 84, 85, 86, 87, 88, 89, 90, 91, 92, 93, 94, 95, 96, 97, 98, 99], \"y\": [0.28118546296875757, 2.360998541381961, -3.5623114011966037, 0.31035936775755335, -0.5897311702502372, 0.20785676858322122, 0.2510151231640425, -0.43577898241505186, 3.5680950671481186, -0.2110409573161488, -0.5427342957108854, 1.463525701817211, 1.2329100801661868, 0.33742356599259526, 0.6732540282200806, 0.38317289520900544, 0.5991206113483165, -0.6996596380813549, 2.4089482393135615, 0.5787148821986126, 0.3855988441304511, -2.3971540708130026, -1.6591303795294623, 0.542265740442482, 4.419624246975575, -1.0047932961622652, 3.9355877021456007, -0.44466281306282096, 0.6155942312922509, 1.5621952165832038, -3.698148715120336, -0.42082835413974984, -0.9114668861809175, 0.9174508680658634, -2.6319676561630803, -1.1488799416889326, 2.891971256525084, -0.45368697009456016, -1.433212106842543, -1.940403574858972, -1.4222634356829924, -0.7562253063755062, 0.5554573316216832, 5.10231443808051, 1.7366545900369363, -1.3239531280719237, 0.31305224729023684, -0.011137829390092557, 1.7357677796417292, -0.6347929746961307, -1.5914705976112264, 1.8278587148268333, -2.378298809059455, -1.2403138152530502, -1.8709068743836457, 2.84047253943769, -0.49843839856115657, -0.8584143984176846, -2.540392679997849, 1.3443321257599763, -1.7931507412818066, 0.14863333250917155, -2.774830302082561, -1.5142583690384224, 0.9476842395809368, 2.410446183800896, -1.278713263551808, -3.416420999148039, -0.6114672919967109, -1.392362609563143, -1.6904444195752424, -0.6025522768558693, -0.23311535729949917, -0.6305439530835767, 1.3461549538199398, 5.1945631108136405, 0.0004221049202288718, 2.9515527677513482, -2.9753866204034667, -1.0826885876596344, -2.231012509665618, -1.9424238703700913, -0.4776670504120889, -0.5111881941470958, 2.7134384699108574, 1.724325621394532, 3.531109357852882, 3.8516266217810906, 0.3231689083120272, -1.4338244887410194, 1.1255304426847776, 0.31627019016516356, 2.3783342472661304, 3.2938599286776116, -1.4271515819667302, 0.3753546929126738, 1.06602277055698, 1.1867108412016867, 2.238469801036352, 1.1747651517667081]}],                        {\"legend\": {\"bgcolor\": \"#F5F6F9\", \"font\": {\"color\": \"#4D5663\"}}, \"paper_bgcolor\": \"#F5F6F9\", \"plot_bgcolor\": \"#F5F6F9\", \"template\": {\"data\": {\"bar\": [{\"error_x\": {\"color\": \"#2a3f5f\"}, \"error_y\": {\"color\": \"#2a3f5f\"}, \"marker\": {\"line\": {\"color\": \"#E5ECF6\", \"width\": 0.5}}, \"type\": \"bar\"}], \"barpolar\": [{\"marker\": {\"line\": {\"color\": \"#E5ECF6\", \"width\": 0.5}}, \"type\": \"barpolar\"}], \"carpet\": [{\"aaxis\": {\"endlinecolor\": \"#2a3f5f\", \"gridcolor\": \"white\", \"linecolor\": \"white\", \"minorgridcolor\": \"white\", \"startlinecolor\": \"#2a3f5f\"}, \"baxis\": {\"endlinecolor\": \"#2a3f5f\", \"gridcolor\": \"white\", \"linecolor\": \"white\", \"minorgridcolor\": \"white\", \"startlinecolor\": \"#2a3f5f\"}, \"type\": \"carpet\"}], \"choropleth\": [{\"colorbar\": {\"outlinewidth\": 0, \"ticks\": \"\"}, \"type\": \"choropleth\"}], \"contour\": [{\"colorbar\": {\"outlinewidth\": 0, \"ticks\": \"\"}, \"colorscale\": [[0.0, \"#0d0887\"], [0.1111111111111111, \"#46039f\"], [0.2222222222222222, \"#7201a8\"], [0.3333333333333333, \"#9c179e\"], [0.4444444444444444, \"#bd3786\"], [0.5555555555555556, \"#d8576b\"], [0.6666666666666666, \"#ed7953\"], [0.7777777777777778, \"#fb9f3a\"], [0.8888888888888888, \"#fdca26\"], [1.0, \"#f0f921\"]], \"type\": \"contour\"}], \"contourcarpet\": [{\"colorbar\": {\"outlinewidth\": 0, \"ticks\": \"\"}, \"type\": \"contourcarpet\"}], \"heatmap\": [{\"colorbar\": {\"outlinewidth\": 0, \"ticks\": \"\"}, \"colorscale\": [[0.0, \"#0d0887\"], [0.1111111111111111, \"#46039f\"], [0.2222222222222222, \"#7201a8\"], [0.3333333333333333, \"#9c179e\"], [0.4444444444444444, \"#bd3786\"], [0.5555555555555556, \"#d8576b\"], [0.6666666666666666, \"#ed7953\"], [0.7777777777777778, \"#fb9f3a\"], [0.8888888888888888, \"#fdca26\"], [1.0, \"#f0f921\"]], \"type\": \"heatmap\"}], \"heatmapgl\": [{\"colorbar\": {\"outlinewidth\": 0, \"ticks\": \"\"}, \"colorscale\": [[0.0, \"#0d0887\"], [0.1111111111111111, \"#46039f\"], [0.2222222222222222, \"#7201a8\"], [0.3333333333333333, \"#9c179e\"], [0.4444444444444444, \"#bd3786\"], [0.5555555555555556, \"#d8576b\"], [0.6666666666666666, \"#ed7953\"], [0.7777777777777778, \"#fb9f3a\"], [0.8888888888888888, \"#fdca26\"], [1.0, \"#f0f921\"]], \"type\": \"heatmapgl\"}], \"histogram\": [{\"marker\": {\"colorbar\": {\"outlinewidth\": 0, \"ticks\": \"\"}}, \"type\": \"histogram\"}], \"histogram2d\": [{\"colorbar\": {\"outlinewidth\": 0, \"ticks\": \"\"}, \"colorscale\": [[0.0, \"#0d0887\"], [0.1111111111111111, \"#46039f\"], [0.2222222222222222, \"#7201a8\"], [0.3333333333333333, \"#9c179e\"], [0.4444444444444444, \"#bd3786\"], [0.5555555555555556, \"#d8576b\"], [0.6666666666666666, \"#ed7953\"], [0.7777777777777778, \"#fb9f3a\"], [0.8888888888888888, \"#fdca26\"], [1.0, \"#f0f921\"]], \"type\": \"histogram2d\"}], \"histogram2dcontour\": [{\"colorbar\": {\"outlinewidth\": 0, \"ticks\": \"\"}, \"colorscale\": [[0.0, \"#0d0887\"], [0.1111111111111111, \"#46039f\"], [0.2222222222222222, \"#7201a8\"], [0.3333333333333333, \"#9c179e\"], [0.4444444444444444, \"#bd3786\"], [0.5555555555555556, \"#d8576b\"], [0.6666666666666666, \"#ed7953\"], [0.7777777777777778, \"#fb9f3a\"], [0.8888888888888888, \"#fdca26\"], [1.0, \"#f0f921\"]], \"type\": \"histogram2dcontour\"}], \"mesh3d\": [{\"colorbar\": {\"outlinewidth\": 0, \"ticks\": \"\"}, \"type\": \"mesh3d\"}], \"parcoords\": [{\"line\": {\"colorbar\": {\"outlinewidth\": 0, \"ticks\": \"\"}}, \"type\": \"parcoords\"}], \"pie\": [{\"automargin\": true, \"type\": \"pie\"}], \"scatter\": [{\"marker\": {\"colorbar\": {\"outlinewidth\": 0, \"ticks\": \"\"}}, \"type\": \"scatter\"}], \"scatter3d\": [{\"line\": {\"colorbar\": {\"outlinewidth\": 0, \"ticks\": \"\"}}, \"marker\": {\"colorbar\": {\"outlinewidth\": 0, \"ticks\": \"\"}}, \"type\": \"scatter3d\"}], \"scattercarpet\": [{\"marker\": {\"colorbar\": {\"outlinewidth\": 0, \"ticks\": \"\"}}, \"type\": \"scattercarpet\"}], \"scattergeo\": [{\"marker\": {\"colorbar\": {\"outlinewidth\": 0, \"ticks\": \"\"}}, \"type\": \"scattergeo\"}], \"scattergl\": [{\"marker\": {\"colorbar\": {\"outlinewidth\": 0, \"ticks\": \"\"}}, \"type\": \"scattergl\"}], \"scattermapbox\": [{\"marker\": {\"colorbar\": {\"outlinewidth\": 0, \"ticks\": \"\"}}, \"type\": \"scattermapbox\"}], \"scatterpolar\": [{\"marker\": {\"colorbar\": {\"outlinewidth\": 0, \"ticks\": \"\"}}, \"type\": \"scatterpolar\"}], \"scatterpolargl\": [{\"marker\": {\"colorbar\": {\"outlinewidth\": 0, \"ticks\": \"\"}}, \"type\": \"scatterpolargl\"}], \"scatterternary\": [{\"marker\": {\"colorbar\": {\"outlinewidth\": 0, \"ticks\": \"\"}}, \"type\": \"scatterternary\"}], \"surface\": [{\"colorbar\": {\"outlinewidth\": 0, \"ticks\": \"\"}, \"colorscale\": [[0.0, \"#0d0887\"], [0.1111111111111111, \"#46039f\"], [0.2222222222222222, \"#7201a8\"], [0.3333333333333333, \"#9c179e\"], [0.4444444444444444, \"#bd3786\"], [0.5555555555555556, \"#d8576b\"], [0.6666666666666666, \"#ed7953\"], [0.7777777777777778, \"#fb9f3a\"], [0.8888888888888888, \"#fdca26\"], [1.0, \"#f0f921\"]], \"type\": \"surface\"}], \"table\": [{\"cells\": {\"fill\": {\"color\": \"#EBF0F8\"}, \"line\": {\"color\": \"white\"}}, \"header\": {\"fill\": {\"color\": \"#C8D4E3\"}, \"line\": {\"color\": \"white\"}}, \"type\": \"table\"}]}, \"layout\": {\"annotationdefaults\": {\"arrowcolor\": \"#2a3f5f\", \"arrowhead\": 0, \"arrowwidth\": 1}, \"autotypenumbers\": \"strict\", \"coloraxis\": {\"colorbar\": {\"outlinewidth\": 0, \"ticks\": \"\"}}, \"colorscale\": {\"diverging\": [[0, \"#8e0152\"], [0.1, \"#c51b7d\"], [0.2, \"#de77ae\"], [0.3, \"#f1b6da\"], [0.4, \"#fde0ef\"], [0.5, \"#f7f7f7\"], [0.6, \"#e6f5d0\"], [0.7, \"#b8e186\"], [0.8, \"#7fbc41\"], [0.9, \"#4d9221\"], [1, \"#276419\"]], \"sequential\": [[0.0, \"#0d0887\"], [0.1111111111111111, \"#46039f\"], [0.2222222222222222, \"#7201a8\"], [0.3333333333333333, \"#9c179e\"], [0.4444444444444444, \"#bd3786\"], [0.5555555555555556, \"#d8576b\"], [0.6666666666666666, \"#ed7953\"], [0.7777777777777778, \"#fb9f3a\"], [0.8888888888888888, \"#fdca26\"], [1.0, \"#f0f921\"]], \"sequentialminus\": [[0.0, \"#0d0887\"], [0.1111111111111111, \"#46039f\"], [0.2222222222222222, \"#7201a8\"], [0.3333333333333333, \"#9c179e\"], [0.4444444444444444, \"#bd3786\"], [0.5555555555555556, \"#d8576b\"], [0.6666666666666666, \"#ed7953\"], [0.7777777777777778, \"#fb9f3a\"], [0.8888888888888888, \"#fdca26\"], [1.0, \"#f0f921\"]]}, \"colorway\": [\"#636efa\", \"#EF553B\", \"#00cc96\", \"#ab63fa\", \"#FFA15A\", \"#19d3f3\", \"#FF6692\", \"#B6E880\", \"#FF97FF\", \"#FECB52\"], \"font\": {\"color\": \"#2a3f5f\"}, \"geo\": {\"bgcolor\": \"white\", \"lakecolor\": \"white\", \"landcolor\": \"#E5ECF6\", \"showlakes\": true, \"showland\": true, \"subunitcolor\": \"white\"}, \"hoverlabel\": {\"align\": \"left\"}, \"hovermode\": \"closest\", \"mapbox\": {\"style\": \"light\"}, \"paper_bgcolor\": \"white\", \"plot_bgcolor\": \"#E5ECF6\", \"polar\": {\"angularaxis\": {\"gridcolor\": \"white\", \"linecolor\": \"white\", \"ticks\": \"\"}, \"bgcolor\": \"#E5ECF6\", \"radialaxis\": {\"gridcolor\": \"white\", \"linecolor\": \"white\", \"ticks\": \"\"}}, \"scene\": {\"xaxis\": {\"backgroundcolor\": \"#E5ECF6\", \"gridcolor\": \"white\", \"gridwidth\": 2, \"linecolor\": \"white\", \"showbackground\": true, \"ticks\": \"\", \"zerolinecolor\": \"white\"}, \"yaxis\": {\"backgroundcolor\": \"#E5ECF6\", \"gridcolor\": \"white\", \"gridwidth\": 2, \"linecolor\": \"white\", \"showbackground\": true, \"ticks\": \"\", \"zerolinecolor\": \"white\"}, \"zaxis\": {\"backgroundcolor\": \"#E5ECF6\", \"gridcolor\": \"white\", \"gridwidth\": 2, \"linecolor\": \"white\", \"showbackground\": true, \"ticks\": \"\", \"zerolinecolor\": \"white\"}}, \"shapedefaults\": {\"line\": {\"color\": \"#2a3f5f\"}}, \"ternary\": {\"aaxis\": {\"gridcolor\": \"white\", \"linecolor\": \"white\", \"ticks\": \"\"}, \"baxis\": {\"gridcolor\": \"white\", \"linecolor\": \"white\", \"ticks\": \"\"}, \"bgcolor\": \"#E5ECF6\", \"caxis\": {\"gridcolor\": \"white\", \"linecolor\": \"white\", \"ticks\": \"\"}}, \"title\": {\"x\": 0.05}, \"xaxis\": {\"automargin\": true, \"gridcolor\": \"white\", \"linecolor\": \"white\", \"ticks\": \"\", \"title\": {\"standoff\": 15}, \"zerolinecolor\": \"white\", \"zerolinewidth\": 2}, \"yaxis\": {\"automargin\": true, \"gridcolor\": \"white\", \"linecolor\": \"white\", \"ticks\": \"\", \"title\": {\"standoff\": 15}, \"zerolinecolor\": \"white\", \"zerolinewidth\": 2}}}, \"title\": {\"font\": {\"color\": \"#4D5663\"}}, \"xaxis\": {\"gridcolor\": \"#E1E5ED\", \"showgrid\": true, \"tickfont\": {\"color\": \"#4D5663\"}, \"title\": {\"font\": {\"color\": \"#4D5663\"}, \"text\": \"\"}, \"zerolinecolor\": \"#E1E5ED\"}, \"yaxis\": {\"gridcolor\": \"#E1E5ED\", \"showgrid\": true, \"tickfont\": {\"color\": \"#4D5663\"}, \"title\": {\"font\": {\"color\": \"#4D5663\"}, \"text\": \"\"}, \"zerolinecolor\": \"#E1E5ED\"}},                        {\"showLink\": true, \"linkText\": \"Export to plot.ly\", \"plotlyServerURL\": \"https://plot.ly\", \"responsive\": true}                    ).then(function(){\n",
       "                            \n",
       "var gd = document.getElementById('57d16669-362b-416e-90e1-29c0dd9c4c05');\n",
       "var x = new MutationObserver(function (mutations, observer) {{\n",
       "        var display = window.getComputedStyle(gd).display;\n",
       "        if (!display || display === 'none') {{\n",
       "            console.log([gd, 'removed!']);\n",
       "            Plotly.purge(gd);\n",
       "            observer.disconnect();\n",
       "        }}\n",
       "}});\n",
       "\n",
       "// Listen for the removal of the full notebook cells\n",
       "var notebookContainer = gd.closest('#notebook-container');\n",
       "if (notebookContainer) {{\n",
       "    x.observe(notebookContainer, {childList: true});\n",
       "}}\n",
       "\n",
       "// Listen for the clearing of the current output cell\n",
       "var outputEl = gd.closest('.output');\n",
       "if (outputEl) {{\n",
       "    x.observe(outputEl, {childList: true});\n",
       "}}\n",
       "\n",
       "                        })                };                });            </script>        </div>"
      ]
     },
     "metadata": {},
     "output_type": "display_data"
    }
   ],
   "source": [
    "df.iplot(kind='area')"
   ]
  },
  {
   "cell_type": "code",
   "execution_count": null,
   "metadata": {},
   "outputs": [],
   "source": []
  }
 ],
 "metadata": {
  "kernelspec": {
   "display_name": "Python 3",
   "language": "python",
   "name": "python3"
  },
  "language_info": {
   "codemirror_mode": {
    "name": "ipython",
    "version": 3
   },
   "file_extension": ".py",
   "mimetype": "text/x-python",
   "name": "python",
   "nbconvert_exporter": "python",
   "pygments_lexer": "ipython3",
   "version": "3.8.5"
  }
 },
 "nbformat": 4,
 "nbformat_minor": 4
}
